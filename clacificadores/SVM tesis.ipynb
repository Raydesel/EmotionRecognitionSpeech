{
 "cells": [
  {
   "cell_type": "code",
   "execution_count": 1,
   "metadata": {},
   "outputs": [],
   "source": [
    "import pandas as pd\n",
    "import numpy as np\n",
    "\n",
    "from sklearn.svm import SVC\n",
    "#from sklearn.svm import LinearSVC\n",
    "from sklearn.metrics import classification_report\n",
    "from sklearn.metrics import confusion_matrix\n",
    "\n",
    "from sklearn.preprocessing import LabelEncoder"
   ]
  },
  {
   "cell_type": "code",
   "execution_count": 2,
   "metadata": {},
   "outputs": [],
   "source": [
    "%store -r featuresdf_test_EMODB\n",
    "%store -r featuresdf_train_EMODB"
   ]
  },
  {
   "cell_type": "code",
   "execution_count": 3,
   "metadata": {},
   "outputs": [],
   "source": [
    "X_test = np.array(featuresdf_test_EMODB.feature.tolist())\n",
    "y_test = np.array(featuresdf_test_EMODB.class_label.tolist())\n",
    "\n",
    "le = LabelEncoder()\n",
    "y_test = le.fit_transform(y_test)\n",
    "\n",
    "X_train = np.array(featuresdf_train_EMODB.feature.tolist())\n",
    "y_train = np.array(featuresdf_train_EMODB.class_label.tolist())\n",
    "\n",
    "y_train = le.fit_transform(y_train)"
   ]
  },
  {
   "cell_type": "code",
   "execution_count": 5,
   "metadata": {},
   "outputs": [],
   "source": [
    "%store -r  featuresdf_test_emovo\n",
    "%store -r  featuresdf_train_emovo"
   ]
  },
  {
   "cell_type": "code",
   "execution_count": 6,
   "metadata": {},
   "outputs": [],
   "source": [
    "# Convert features and corresponding classification labels into numpy arrays\n",
    "X_test = np.array(featuresdf_test_emovo.feature.tolist())\n",
    "y_test = np.array(featuresdf_test_emovo.class_label.tolist())\n",
    "\n",
    "le = LabelEncoder()\n",
    "y_test = le.fit_transform(y_test)\n",
    "\n",
    "X_train = np.array(featuresdf_train_emovo.feature.tolist())\n",
    "y_train = np.array(featuresdf_train_emovo.class_label.tolist())\n",
    "\n",
    "y_train = le.fit_transform(y_train)"
   ]
  },
  {
   "cell_type": "code",
   "execution_count": 11,
   "metadata": {
    "scrolled": false
   },
   "outputs": [
    {
     "name": "stdout",
     "output_type": "stream",
     "text": [
      "0.48 ( linear )\n",
      "0.69 ( rbf )\n",
      "0.66 ( poly )\n",
      "0.14 ( sigmoid )\n",
      "linear\n",
      "Accuracy of SVM classifier on training set : 0.74\n",
      "Accuracy of SVM classifier on test set : 0.48\n",
      "[[12  2  0  9  1  1  0]\n",
      " [ 3 14  2  3  1  2  0]\n",
      " [ 2  5  7  6  3  1  1]\n",
      " [ 6  3  0 15  0  0  1]\n",
      " [ 3  4  3  5  8  1  1]\n",
      " [ 3  1  0  7  0 14  0]\n",
      " [ 2  2  3  2  2  0 14]]\n",
      "              precision    recall  f1-score   support\n",
      "\n",
      "           0       0.39      0.48      0.43        25\n",
      "           1       0.45      0.56      0.50        25\n",
      "           2       0.47      0.28      0.35        25\n",
      "           3       0.32      0.60      0.42        25\n",
      "           4       0.53      0.32      0.40        25\n",
      "           5       0.74      0.56      0.64        25\n",
      "           6       0.82      0.56      0.67        25\n",
      "\n",
      "    accuracy                           0.48       175\n",
      "   macro avg       0.53      0.48      0.49       175\n",
      "weighted avg       0.53      0.48      0.49       175\n",
      "\n",
      "rbf\n",
      "Accuracy of SVM classifier on training set : 0.99\n",
      "Accuracy of SVM classifier on test set : 0.69\n",
      "[[17  2  1  3  0  1  1]\n",
      " [ 0 21  0  2  0  1  1]\n",
      " [ 0  0 14  7  1  0  3]\n",
      " [ 1  2  2 19  0  0  1]\n",
      " [ 0  1  2  5 15  0  2]\n",
      " [ 4  1  1  4  0 15  0]\n",
      " [ 1  1  2  2  0  0 19]]\n",
      "              precision    recall  f1-score   support\n",
      "\n",
      "           0       0.74      0.68      0.71        25\n",
      "           1       0.75      0.84      0.79        25\n",
      "           2       0.64      0.56      0.60        25\n",
      "           3       0.45      0.76      0.57        25\n",
      "           4       0.94      0.60      0.73        25\n",
      "           5       0.88      0.60      0.71        25\n",
      "           6       0.70      0.76      0.73        25\n",
      "\n",
      "    accuracy                           0.69       175\n",
      "   macro avg       0.73      0.69      0.69       175\n",
      "weighted avg       0.73      0.69      0.69       175\n",
      "\n",
      "poly\n",
      "Accuracy of SVM classifier on training set : 1.00\n",
      "Accuracy of SVM classifier on test set : 0.66\n",
      "[[19  2  2  1  0  1  0]\n",
      " [ 2 19  0  3  0  0  1]\n",
      " [ 3  4 10  5  2  0  1]\n",
      " [ 2  3  2 18  0  0  0]\n",
      " [ 1  2  1  3 18  0  0]\n",
      " [ 4  2  0  2  0 17  0]\n",
      " [ 3  2  4  1  1  0 14]]\n",
      "              precision    recall  f1-score   support\n",
      "\n",
      "           0       0.56      0.76      0.64        25\n",
      "           1       0.56      0.76      0.64        25\n",
      "           2       0.53      0.40      0.45        25\n",
      "           3       0.55      0.72      0.62        25\n",
      "           4       0.86      0.72      0.78        25\n",
      "           5       0.94      0.68      0.79        25\n",
      "           6       0.88      0.56      0.68        25\n",
      "\n",
      "    accuracy                           0.66       175\n",
      "   macro avg       0.70      0.66      0.66       175\n",
      "weighted avg       0.70      0.66      0.66       175\n",
      "\n",
      "sigmoid\n",
      "Accuracy of SVM classifier on training set : 0.12\n",
      "Accuracy of SVM classifier on test set : 0.14\n",
      "[[ 0  2  2  1 11  8  1]\n",
      " [ 3  5  1  0 11  3  2]\n",
      " [ 0  4  1  0 15  3  2]\n",
      " [ 3  2  3  0  9  6  2]\n",
      " [ 2  4  4  0  8  3  4]\n",
      " [ 2  3  0  2 10  7  1]\n",
      " [ 2  1  1  2 14  2  3]]\n",
      "              precision    recall  f1-score   support\n",
      "\n",
      "           0       0.00      0.00      0.00        25\n",
      "           1       0.24      0.20      0.22        25\n",
      "           2       0.08      0.04      0.05        25\n",
      "           3       0.00      0.00      0.00        25\n",
      "           4       0.10      0.32      0.16        25\n",
      "           5       0.22      0.28      0.25        25\n",
      "           6       0.20      0.12      0.15        25\n",
      "\n",
      "    accuracy                           0.14       175\n",
      "   macro avg       0.12      0.14      0.12       175\n",
      "weighted avg       0.12      0.14      0.12       175\n",
      "\n"
     ]
    }
   ],
   "source": [
    "\"\"\"\n",
    "#usar con \"from sklearn.svm import LinearSVC\" descomentando arriba\n",
    "#svclassifier = LinearSVC(random_state=0, tol=1e-5,multi_class='crammer_singer',max_iter=100000,dual = True)\n",
    "\"\"\"\n",
    "\n",
    "#svclassifier = SVC(kernel='poly', degree=3)\n",
    "#svclassifier = SVC(kernel='sigmoid')\n",
    "#svclassifier = SVC(kernel='precomputed')\n",
    "#svclassifier = SVC(kernel='rbf')\n",
    "#svclassifier = SVC(kernel='linear')\n",
    "\n",
    "\n",
    "for kernel in ('linear', 'rbf', 'poly', 'sigmoid'):\n",
    "    svclassifier = SVC(kernel=kernel, gamma=1, degree=3)\n",
    "    svclassifier.fit(X_train, y_train)\n",
    "    print('{:.2f}'.format(svclassifier.score(X_test,y_test)),'(',kernel,')')\n",
    "    \n",
    "for kernel in ('linear', 'rbf', 'poly', 'sigmoid'):\n",
    "    svclassifier = SVC(kernel=kernel, gamma=1, degree=3)\n",
    "    svclassifier.fit(X_train, y_train)\n",
    "    print(kernel)\n",
    "    print('Accuracy of SVM classifier on training set : {:.2f}'.format(svclassifier.score(X_train,y_train)))\n",
    "    print('Accuracy of SVM classifier on test set : {:.2f}'.format(svclassifier.score(X_test,y_test)))\n",
    "    pred = svclassifier.predict(X_test)\n",
    "    print(confusion_matrix(y_test,pred))\n",
    "    print(classification_report(y_test,pred))\n",
    "    \n",
    "    \n",
    "    \n"
   ]
  },
  {
   "cell_type": "code",
   "execution_count": 115,
   "metadata": {},
   "outputs": [],
   "source": [
    "%store -r featuresdf_EMODB"
   ]
  },
  {
   "cell_type": "code",
   "execution_count": 8,
   "metadata": {},
   "outputs": [],
   "source": [
    "from sklearn.preprocessing import LabelEncoder\n",
    "from keras.utils import to_categorical\n",
    "from sklearn.model_selection import train_test_split \n",
    "\n",
    "# Convert features and corresponding classification labels into numpy arrays\n",
    "X = np.array(featuresdf_EMODB.feature.tolist())\n",
    "y = np.array(featuresdf_EMODB.class_label.tolist())\n",
    "\n",
    "# Encode the classification labels\n",
    "le = LabelEncoder()\n",
    "yy = le.fit_transform(y)\n",
    "\n",
    "X_train, X_test, y_train, y_test = train_test_split(X, yy, test_size=0.3, random_state = 42)"
   ]
  },
  {
   "cell_type": "code",
   "execution_count": 109,
   "metadata": {},
   "outputs": [],
   "source": [
    "%store -r  featuresdf_emovo"
   ]
  },
  {
   "cell_type": "code",
   "execution_count": 138,
   "metadata": {},
   "outputs": [],
   "source": [
    "from sklearn.preprocessing import LabelEncoder\n",
    "from keras.utils import to_categorical\n",
    "from sklearn.model_selection import train_test_split \n",
    "\n",
    "# Convert features and corresponding classification labels into numpy arrays\n",
    "X = np.array(featuresdf_emovo.feature.tolist())\n",
    "y = np.array(featuresdf_emovo.class_label.tolist())\n",
    "\n",
    "# Encode the classification labels\n",
    "le = LabelEncoder()\n",
    "yy = le.fit_transform(y)\n",
    "\n",
    "X_train, X_test, y_train, y_test = train_test_split(X, yy, test_size=0.4, random_state = 42)"
   ]
  },
  {
   "cell_type": "code",
   "execution_count": 123,
   "metadata": {
    "collapsed": true
   },
   "outputs": [
    {
     "name": "stdout",
     "output_type": "stream",
     "text": [
      "[[ 1.05350886 -1.42402972  1.88759231 ... -0.05544014  1.94579621\n",
      "  -0.6733853 ]\n",
      " [ 0.78410446  0.77594841  0.12109369 ...  0.11870067  1.33393016\n",
      "   0.52708638]\n",
      " [ 0.43657027  0.50739396  0.64315671 ... -0.02385506  0.82592542\n",
      "   0.45815247]\n",
      " ...\n",
      " [ 1.11396272 -0.11072533  0.58440554 ...  0.29411815  1.07472926\n",
      "  -0.13666378]\n",
      " [ 1.24599186  0.41924242 -0.01027561 ...  0.12321439 -0.40593105\n",
      "   0.93963247]\n",
      " [ 1.09291176 -0.08123305  0.63841025 ...  0.23636797  0.26532027\n",
      "   1.08654712]]\n",
      "[[ 0.9175803  -0.49139902  0.64278311 ...  0.36489207  0.24398483\n",
      "  -0.04402874]\n",
      " [ 0.72725537  0.28647801 -0.01189145 ...  0.1644106   0.95037322\n",
      "   0.60078656]\n",
      " [ 1.13386822 -0.50428006  0.59759616 ...  0.39989914  0.72464263\n",
      "   0.77688845]\n",
      " ...\n",
      " [ 0.53724076 -0.58692115  1.23401442 ... -0.10976449  0.18816868\n",
      "  -0.50186961]\n",
      " [ 0.85527155 -0.14969513  0.06638676 ...  0.30659506  0.97545801\n",
      "   0.56461936]\n",
      " [ 0.532708   -0.02528799  0.36805879 ... -0.03602712  0.32346575\n",
      "   0.41946789]]\n",
      "[5 3 0 1 0 3 4 5 0 2 3 5 0 0 2 0 2 6 2 3 6 3 2 6 2 1 3 2 2 2 0 0 5 4 4 0 0\n",
      " 6 6 0 5 4 4 3 0 2 0 3 0 1 3 6 3 5 4 3 5 6 5 0 2 3 6 5 3 1 2 2 5 4 1 6 0 4\n",
      " 6 1 4 4 5 3 4 4 2 4 6 4 0 1 2 2 4 0 1 5 6 2 6 2 1 2 6 0 4 2 3 6 1 6 1 4 2\n",
      " 5 1 5 1 1 3 4 1 2 2 2 0 1 3 3 2 3 4 5 5 4 6 4 1 4 3 4 0 3 1 6 4 5 6 4 5 4\n",
      " 2 5 5 6 1 3 5 5 5 4 2 1 6 3 2 4 1 2 1 3 6 2 3 1 1 6 4 4 3 6 5 4 1 6 2 6 0\n",
      " 1 5 5 1 5 0 3 0 2 1 3 3 6 1 0 0 0 3 1 3 5 5 3 6 1 0 3 5 4 6 3 6 0 6 6 3 4\n",
      " 2 4 4 2 3 0 2 6 6 5 1 3 5 6 3 4 3 1 2 3 0 4 0 0 4 2 2 3 1 0 6 3 5 2 4 2 4\n",
      " 1 4 6 6 1 0 5 1 6 1 6 0 2 4 0 2 0 1 0 5 4 3 3 0 4 2 2 5 5 5 2 3 1 4 5 1 4\n",
      " 0 6 0 3 0 6 5 5 4 1 4 4 3 0 2 4 2 1 5 5 6 6 3 3 5 6 0 5 6 2 0 2 5 1 2 3 4\n",
      " 4 5 4 2 1 1 4 1 5 2 3 5 1 0 0 1 2 5 1]\n",
      "[6 2 6 2 3 1 2 3 6 1 6 0 4 3 5 1 3 4 6 3 2 3 0 6 3 0 0 5 2 0 5 3 5 3 0 2 2\n",
      " 3 5 6 3 3 3 0 5 6 0 5 4 2 1 6 0 5 3 5 1 1 4 2 0 6 6 0 0 1 4 5 6 0 4 3 6 0\n",
      " 4 6 0 0 3 2 3 0 6 1 4 5 0 5 1 2 3 6 4 2 1 2 1 1 5 0 1 4 5 2 6 6 1 1 3 6 4\n",
      " 5 1 6 1 4 5 2 1 1 0 5 2 4 3 3 1 4 0 1 2 0 0 4 3 1 5 1 4 6 0 0 5 2 4 4 2 3\n",
      " 0 5 1 1 2 6 0 3 2 1 2 2 6 4 4 5 5 4 0 6 0 1 6 1 4 5 5 5 2 4 2 4 3 6 0 5 6\n",
      " 2 3 3 3 1 1 6 5 3 4 4 5 2 3 5 4 6 5 1 3 1 2 0 6 0 3 5 0 6 6 5 6 2 0 6 0 6\n",
      " 3 6 4 0 4 5 5 2 6 4 1 1 6 2]\n"
     ]
    }
   ],
   "source": [
    "print(X_train)\n",
    "print(X_test)\n",
    "print(y_train)\n",
    "print(y_test)"
   ]
  }
 ],
 "metadata": {
  "kernelspec": {
   "display_name": "Python 3",
   "language": "python",
   "name": "python3"
  },
  "language_info": {
   "codemirror_mode": {
    "name": "ipython",
    "version": 3
   },
   "file_extension": ".py",
   "mimetype": "text/x-python",
   "name": "python",
   "nbconvert_exporter": "python",
   "pygments_lexer": "ipython3",
   "version": "3.7.4"
  }
 },
 "nbformat": 4,
 "nbformat_minor": 4
}
