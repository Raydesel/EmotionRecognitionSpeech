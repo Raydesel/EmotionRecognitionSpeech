{
 "cells": [
  {
   "cell_type": "markdown",
   "metadata": {},
   "source": [
    "## emovo Experimento 1 \n",
    "\n",
    "### Cantidad de coeficientes 12, 24, 36, 48, Usando ventana tipo 2, sin preénfasis, ancho de band completo (fs/2), tamaño de frame de 30ms y traslape de 50\n",
    "\n",
    "### Window=2  preénfasis=0 f_max = fs/2  frame=0.03 overlap=50\n"
   ]
  },
  {
   "cell_type": "markdown",
   "metadata": {},
   "source": [
    "# MFCC"
   ]
  },
  {
   "cell_type": "code",
   "execution_count": 7,
   "metadata": {},
   "outputs": [
    {
     "name": "stdout",
     "output_type": "stream",
     "text": [
      "Finished feature extraction from  175  files\n",
      "Finished feature extraction from  413  files\n",
      "3.0674830366666663\n"
     ]
    }
   ],
   "source": [
    "inicio = default_timer()\n",
    "\n",
    "featuresdf_12_test_1=extract_features_test_emovo()#pau-f3-d1, tri-m1-d2, tri-f3-d1, tri-f3-d2, tri-f3-l3, tri-f3-l4, tri-f3-n3, tri-f3-n5 audio que generaba error\n",
    "\n",
    "featuresdf_12_train_1=extract_features_train_emovo()\n",
    "\n",
    "fin = default_timer()\n",
    "print((fin - inicio)/60) "
   ]
  },
  {
   "cell_type": "code",
   "execution_count": 9,
   "metadata": {},
   "outputs": [
    {
     "name": "stdout",
     "output_type": "stream",
     "text": [
      "Finished feature extraction from  175  files\n",
      "Finished feature extraction from  413  files\n",
      "3.8025962533333333\n"
     ]
    }
   ],
   "source": [
    "inicio = default_timer()\n",
    "\n",
    "featuresdf_24_test_1=extract_features_test_emovo()#pau-f3-d1, tri-m1-d2, tri-f3-d1, tri-f3-d2, tri-f3-l3, tri-f3-l4, tri-f3-n3, tri-f3-n5 audio que generaba error\n",
    "\n",
    "featuresdf_24_train_1=extract_features_train_emovo()\n",
    "\n",
    "fin = default_timer()\n",
    "print((fin - inicio)/60) "
   ]
  },
  {
   "cell_type": "code",
   "execution_count": 12,
   "metadata": {},
   "outputs": [
    {
     "name": "stdout",
     "output_type": "stream",
     "text": [
      "Finished feature extraction from  175  files\n",
      "Finished feature extraction from  413  files\n",
      "4.4307531566666665\n"
     ]
    }
   ],
   "source": [
    "inicio = default_timer()\n",
    "\n",
    "featuresdf_36_test_1=extract_features_test_emovo()#pau-f3-d1, tri-m1-d2, tri-f3-d1, tri-f3-d2, tri-f3-l3, tri-f3-l4, tri-f3-n3, tri-f3-n5 audio que generaba error\n",
    "\n",
    "featuresdf_36_train_1=extract_features_train_emovo() \n",
    "\n",
    "fin = default_timer()\n",
    "print((fin - inicio)/60)"
   ]
  },
  {
   "cell_type": "code",
   "execution_count": 17,
   "metadata": {},
   "outputs": [
    {
     "name": "stdout",
     "output_type": "stream",
     "text": [
      "Finished feature extraction from  175  files\n",
      "Finished feature extraction from  413  files\n",
      "5.015983758333334\n"
     ]
    }
   ],
   "source": [
    "inicio = default_timer()\n",
    "\n",
    "featuresdf_48_test_1=extract_features_test_emovo()#pau-f3-d1, tri-m1-d2, tri-f3-d1, tri-f3-d2, tri-f3-l3, tri-f3-l4, tri-f3-n3, tri-f3-n5 audio que generaba error\n",
    "\n",
    "featuresdf_48_train_1=extract_features_train_emovo()\n",
    "\n",
    "fin = default_timer()\n",
    "print((fin - inicio)/60) "
   ]
  },
  {
   "cell_type": "code",
   "execution_count": 20,
   "metadata": {},
   "outputs": [
    {
     "name": "stdout",
     "output_type": "stream",
     "text": [
      "Stored 'featuresdf_12_test_1' (DataFrame)\n",
      "Stored 'featuresdf_12_train_1' (DataFrame)\n",
      "Stored 'featuresdf_24_test_1' (DataFrame)\n",
      "Stored 'featuresdf_24_train_1' (DataFrame)\n",
      "Stored 'featuresdf_36_test_1' (DataFrame)\n",
      "Stored 'featuresdf_36_train_1' (DataFrame)\n",
      "Stored 'featuresdf_48_test_1' (DataFrame)\n",
      "Stored 'featuresdf_48_train_1' (DataFrame)\n"
     ]
    }
   ],
   "source": [
    "%store featuresdf_12_test_1\n",
    "%store featuresdf_12_train_1\n",
    "%store featuresdf_24_test_1\n",
    "%store featuresdf_24_train_1\n",
    "%store featuresdf_36_test_1\n",
    "%store featuresdf_36_train_1\n",
    "%store featuresdf_48_test_1\n",
    "%store featuresdf_48_train_1"
   ]
  },
  {
   "cell_type": "markdown",
   "metadata": {},
   "source": [
    "# RASTA-MFCC"
   ]
  },
  {
   "cell_type": "code",
   "execution_count": 23,
   "metadata": {},
   "outputs": [
    {
     "name": "stdout",
     "output_type": "stream",
     "text": [
      "Finished feature extraction from  175  files\n",
      "Finished feature extraction from  413  files\n",
      "3.9200971166666627\n"
     ]
    }
   ],
   "source": [
    "inicio = default_timer()\n",
    "\n",
    "featuresdf_12_test_2=extract_features_test_emovo()\n",
    "\n",
    "featuresdf_12_train_2=extract_features_train_emovo()\n",
    "\n",
    "fin = default_timer()\n",
    "print((fin - inicio)/60)"
   ]
  },
  {
   "cell_type": "code",
   "execution_count": 25,
   "metadata": {},
   "outputs": [
    {
     "name": "stdout",
     "output_type": "stream",
     "text": [
      "Finished feature extraction from  175  files\n",
      "Finished feature extraction from  413  files\n",
      "4.637391131666671\n"
     ]
    }
   ],
   "source": [
    "inicio = default_timer()\n",
    "\n",
    "featuresdf_24_test_2=extract_features_test_emovo()\n",
    "\n",
    "featuresdf_24_train_2=extract_features_train_emovo()\n",
    "\n",
    "fin = default_timer()\n",
    "print((fin - inicio)/60)"
   ]
  },
  {
   "cell_type": "code",
   "execution_count": 27,
   "metadata": {},
   "outputs": [
    {
     "name": "stdout",
     "output_type": "stream",
     "text": [
      "Finished feature extraction from  175  files\n",
      "Finished feature extraction from  413  files\n",
      "6.1179687983333375\n"
     ]
    }
   ],
   "source": [
    "inicio = default_timer()\n",
    "\n",
    "featuresdf_36_test_2=extract_features_test_emovo()\n",
    "\n",
    "featuresdf_36_train_2=extract_features_train_emovo()\n",
    "\n",
    "fin = default_timer()\n",
    "print((fin - inicio)/60)"
   ]
  },
  {
   "cell_type": "code",
   "execution_count": 29,
   "metadata": {},
   "outputs": [
    {
     "name": "stdout",
     "output_type": "stream",
     "text": [
      "Finished feature extraction from  175  files\n",
      "Finished feature extraction from  413  files\n",
      "7.394796518333321\n"
     ]
    }
   ],
   "source": [
    "inicio = default_timer()\n",
    "\n",
    "featuresdf_48_test_2=extract_features_test_emovo()\n",
    "\n",
    "featuresdf_48_train_2=extract_features_train_emovo()\n",
    "\n",
    "fin = default_timer()\n",
    "print((fin - inicio)/60)"
   ]
  },
  {
   "cell_type": "code",
   "execution_count": 30,
   "metadata": {},
   "outputs": [
    {
     "name": "stdout",
     "output_type": "stream",
     "text": [
      "Stored 'featuresdf_12_test_2' (DataFrame)\n",
      "Stored 'featuresdf_12_train_2' (DataFrame)\n",
      "Stored 'featuresdf_24_test_2' (DataFrame)\n",
      "Stored 'featuresdf_24_train_2' (DataFrame)\n",
      "Stored 'featuresdf_36_test_2' (DataFrame)\n",
      "Stored 'featuresdf_36_train_2' (DataFrame)\n",
      "Stored 'featuresdf_48_test_2' (DataFrame)\n",
      "Stored 'featuresdf_48_train_2' (DataFrame)\n"
     ]
    }
   ],
   "source": [
    "%store featuresdf_12_test_2\n",
    "%store featuresdf_12_train_2\n",
    "%store featuresdf_24_test_2\n",
    "%store featuresdf_24_train_2\n",
    "%store featuresdf_36_test_2\n",
    "%store featuresdf_36_train_2\n",
    "%store featuresdf_48_test_2\n",
    "%store featuresdf_48_train_2"
   ]
  },
  {
   "cell_type": "markdown",
   "metadata": {},
   "source": [
    "## emovo Experimento 1.5\n",
    "\n",
    "### Cantidad de coeficientes 12, 24, 36, 48, Usando ventana tipo 2, Con preénfasis 0.97, ancho de band completo (fs/2), tamaño de frame de 30ms y traslape de 50\n",
    "\n",
    "### Window=2 preénfasis=0.97 f_max = fs/2 frame=0.03 overlap=50"
   ]
  },
  {
   "cell_type": "markdown",
   "metadata": {},
   "source": [
    "# MFCC"
   ]
  },
  {
   "cell_type": "code",
   "execution_count": 6,
   "metadata": {},
   "outputs": [
    {
     "name": "stdout",
     "output_type": "stream",
     "text": [
      "Finished feature extraction from  175  files\n",
      "Finished feature extraction from  413  files\n",
      "5.666527261666666\n"
     ]
    }
   ],
   "source": [
    "inicio = default_timer()\n",
    "\n",
    "featuresdf_12_test_3=extract_features_test_emovo()\n",
    "\n",
    "featuresdf_12_train_3=extract_features_train_emovo()\n",
    "\n",
    "fin = default_timer()\n",
    "print((fin - inicio)/60)"
   ]
  },
  {
   "cell_type": "code",
   "execution_count": 10,
   "metadata": {},
   "outputs": [
    {
     "name": "stdout",
     "output_type": "stream",
     "text": [
      "Finished feature extraction from  175  files\n",
      "Finished feature extraction from  413  files\n",
      "9.062171205\n"
     ]
    }
   ],
   "source": [
    "inicio = default_timer()\n",
    "\n",
    "featuresdf_24_test_3=extract_features_test_emovo()\n",
    "\n",
    "featuresdf_24_train_3=extract_features_train_emovo()\n",
    "\n",
    "fin = default_timer()\n",
    "print((fin - inicio)/60) "
   ]
  },
  {
   "cell_type": "code",
   "execution_count": 13,
   "metadata": {},
   "outputs": [
    {
     "name": "stdout",
     "output_type": "stream",
     "text": [
      "Finished feature extraction from  175  files\n",
      "Finished feature extraction from  413  files\n",
      "8.90674430666667\n"
     ]
    }
   ],
   "source": [
    "inicio = default_timer()\n",
    "\n",
    "featuresdf_36_test_3=extract_features_test_emovo()\n",
    "\n",
    "featuresdf_36_train_3=extract_features_train_emovo()\n",
    "\n",
    "fin = default_timer()\n",
    "print((fin - inicio)/60) "
   ]
  },
  {
   "cell_type": "code",
   "execution_count": 17,
   "metadata": {},
   "outputs": [
    {
     "name": "stdout",
     "output_type": "stream",
     "text": [
      "Finished feature extraction from  175  files\n",
      "Finished feature extraction from  413  files\n",
      "10.783587415000003\n"
     ]
    }
   ],
   "source": [
    "inicio = default_timer()\n",
    "\n",
    "featuresdf_48_test_3=extract_features_test_emovo()\n",
    "\n",
    "featuresdf_48_train_3=extract_features_train_emovo()\n",
    "\n",
    "fin = default_timer()\n",
    "print((fin - inicio)/60) "
   ]
  },
  {
   "cell_type": "code",
   "execution_count": 37,
   "metadata": {},
   "outputs": [
    {
     "name": "stdout",
     "output_type": "stream",
     "text": [
      "Stored 'featuresdf_12_test_3' (DataFrame)\n",
      "Stored 'featuresdf_12_train_3' (DataFrame)\n",
      "Stored 'featuresdf_24_test_3' (DataFrame)\n",
      "Stored 'featuresdf_24_train_3' (DataFrame)\n",
      "Stored 'featuresdf_36_test_3' (DataFrame)\n",
      "Stored 'featuresdf_36_train_3' (DataFrame)\n",
      "Stored 'featuresdf_48_test_3' (DataFrame)\n",
      "Stored 'featuresdf_48_train_3' (DataFrame)\n"
     ]
    }
   ],
   "source": [
    "%store featuresdf_12_test_3\n",
    "%store featuresdf_12_train_3\n",
    "%store featuresdf_24_test_3\n",
    "%store featuresdf_24_train_3\n",
    "%store featuresdf_36_test_3\n",
    "%store featuresdf_36_train_3\n",
    "%store featuresdf_48_test_3\n",
    "%store featuresdf_48_train_3"
   ]
  },
  {
   "cell_type": "markdown",
   "metadata": {},
   "source": [
    "# RASTA-MFCC"
   ]
  },
  {
   "cell_type": "code",
   "execution_count": 23,
   "metadata": {},
   "outputs": [
    {
     "name": "stdout",
     "output_type": "stream",
     "text": [
      "Finished feature extraction from  175  files\n",
      "Finished feature extraction from  413  files\n",
      "8.392151786666666\n"
     ]
    }
   ],
   "source": [
    "inicio = default_timer()\n",
    "\n",
    "featuresdf_12_test_4=extract_features_test_emovo()\n",
    "\n",
    "featuresdf_12_train_4=extract_features_train_emovo()\n",
    "\n",
    "fin = default_timer()\n",
    "print((fin - inicio)/60) "
   ]
  },
  {
   "cell_type": "code",
   "execution_count": 26,
   "metadata": {},
   "outputs": [
    {
     "name": "stdout",
     "output_type": "stream",
     "text": [
      "Finished feature extraction from  175  files\n",
      "Finished feature extraction from  413  files\n",
      "21.68987799666667\n"
     ]
    }
   ],
   "source": [
    "iinicio = default_timer()\n",
    "\n",
    "featuresdf_24_test_4=extract_features_test_emovo()\n",
    "\n",
    "featuresdf_24_train_4=extract_features_train_emovo()\n",
    "\n",
    "fin = default_timer()\n",
    "print((fin - inicio)/60) "
   ]
  },
  {
   "cell_type": "code",
   "execution_count": 29,
   "metadata": {},
   "outputs": [
    {
     "name": "stdout",
     "output_type": "stream",
     "text": [
      "Finished feature extraction from  175  files\n",
      "Finished feature extraction from  413  files\n",
      "11.508061616666676\n"
     ]
    }
   ],
   "source": [
    "inicio = default_timer()\n",
    "\n",
    "featuresdf_36_test_4=extract_features_test_emovo()\n",
    "\n",
    "featuresdf_36_train_4=extract_features_train_emovo()\n",
    "\n",
    "fin = default_timer()\n",
    "print((fin - inicio)/60)"
   ]
  },
  {
   "cell_type": "code",
   "execution_count": 32,
   "metadata": {},
   "outputs": [
    {
     "name": "stdout",
     "output_type": "stream",
     "text": [
      "Finished feature extraction from  175  files\n",
      "Finished feature extraction from  413  files\n",
      "11.463826010000002\n"
     ]
    }
   ],
   "source": [
    "inicio = default_timer()\n",
    "\n",
    "featuresdf_48_test_4=extract_features_test_emovo()\n",
    "\n",
    "featuresdf_48_train_4=extract_features_train_emovo()\n",
    "\n",
    "fin = default_timer()\n",
    "print((fin - inicio)/60) "
   ]
  },
  {
   "cell_type": "code",
   "execution_count": 38,
   "metadata": {},
   "outputs": [
    {
     "name": "stdout",
     "output_type": "stream",
     "text": [
      "Stored 'featuresdf_12_test_4' (DataFrame)\n",
      "Stored 'featuresdf_12_train_4' (DataFrame)\n",
      "Stored 'featuresdf_24_test_4' (DataFrame)\n",
      "Stored 'featuresdf_24_train_4' (DataFrame)\n",
      "Stored 'featuresdf_36_test_4' (DataFrame)\n",
      "Stored 'featuresdf_36_train_4' (DataFrame)\n",
      "Stored 'featuresdf_48_test_4' (DataFrame)\n",
      "Stored 'featuresdf_48_train_4' (DataFrame)\n"
     ]
    }
   ],
   "source": [
    "%store featuresdf_12_test_4\n",
    "%store featuresdf_12_train_4\n",
    "%store featuresdf_24_test_4\n",
    "%store featuresdf_24_train_4\n",
    "%store featuresdf_36_test_4\n",
    "%store featuresdf_36_train_4\n",
    "%store featuresdf_48_test_4\n",
    "%store featuresdf_48_train_4"
   ]
  },
  {
   "cell_type": "markdown",
   "metadata": {},
   "source": [
    "## emovo Experimento 2\n",
    "\n",
    "### Cantidad de coeficientes el mejor resultado de los dos experimentos anteriores, Usando ventana tipo 2, sin y con preénfasis, ancho de banda completo (fs/2), tamaño de frame desde 10ms hasta 100 ms y traslape de 50%\n",
    "\n",
    "### n_coef=24  Window=2  preénfasis=0.0 f_max = fs/2  frame=10-100 overlap=50\n",
    "\n",
    "## MFCC"
   ]
  },
  {
   "cell_type": "code",
   "execution_count": 7,
   "metadata": {},
   "outputs": [
    {
     "name": "stdout",
     "output_type": "stream",
     "text": [
      "Finished feature extraction from  175  files\n",
      "Finished feature extraction from  413  files\n",
      "6.176071313333335\n"
     ]
    }
   ],
   "source": [
    "inicio = default_timer()\n",
    "\n",
    "featuresdf_10_test_5=extract_features_test_emovo()\n",
    "\n",
    "featuresdf_10_train_5=extract_features_train_emovo()\n",
    "\n",
    "fin = default_timer()\n",
    "print((fin - inicio)/60) "
   ]
  },
  {
   "cell_type": "code",
   "execution_count": 9,
   "metadata": {},
   "outputs": [
    {
     "name": "stdout",
     "output_type": "stream",
     "text": [
      "Finished feature extraction from  175  files\n",
      "Finished feature extraction from  413  files\n",
      "4.453684184999999\n"
     ]
    }
   ],
   "source": [
    "inicio = default_timer()\n",
    "\n",
    "featuresdf_20_test_5=extract_features_test_emovo()\n",
    "\n",
    "featuresdf_20_train_5=extract_features_train_emovo()\n",
    "\n",
    "fin = default_timer()\n",
    "print((fin - inicio)/60) "
   ]
  },
  {
   "cell_type": "code",
   "execution_count": 11,
   "metadata": {},
   "outputs": [
    {
     "name": "stdout",
     "output_type": "stream",
     "text": [
      "Finished feature extraction from  175  files\n",
      "Finished feature extraction from  413  files\n",
      "3.996446286666666\n"
     ]
    }
   ],
   "source": [
    "inicio = default_timer()\n",
    "\n",
    "featuresdf_30_test_5=extract_features_test_emovo()\n",
    "\n",
    "featuresdf_30_train_5=extract_features_train_emovo()\n",
    "\n",
    "fin = default_timer()\n",
    "print((fin - inicio)/60)"
   ]
  },
  {
   "cell_type": "code",
   "execution_count": 13,
   "metadata": {},
   "outputs": [
    {
     "name": "stdout",
     "output_type": "stream",
     "text": [
      "Finished feature extraction from  175  files\n",
      "Finished feature extraction from  413  files\n",
      "4.24450579333333\n"
     ]
    }
   ],
   "source": [
    "inicio = default_timer()\n",
    "\n",
    "featuresdf_40_test_5=extract_features_test_emovo()\n",
    "\n",
    "featuresdf_40_train_5=extract_features_train_emovo()\n",
    "\n",
    "fin = default_timer()\n",
    "print((fin - inicio)/60)"
   ]
  },
  {
   "cell_type": "code",
   "execution_count": 15,
   "metadata": {},
   "outputs": [
    {
     "name": "stdout",
     "output_type": "stream",
     "text": [
      "Finished feature extraction from  175  files\n",
      "Finished feature extraction from  413  files\n",
      "4.472160133333333\n"
     ]
    }
   ],
   "source": [
    "inicio = default_timer()\n",
    "\n",
    "featuresdf_50_test_5=extract_features_test_emovo()\n",
    "\n",
    "featuresdf_50_train_5=extract_features_train_emovo()\n",
    "\n",
    "fin = default_timer()\n",
    "print((fin - inicio)/60)"
   ]
  },
  {
   "cell_type": "code",
   "execution_count": 17,
   "metadata": {},
   "outputs": [
    {
     "name": "stdout",
     "output_type": "stream",
     "text": [
      "Finished feature extraction from  175  files\n",
      "Finished feature extraction from  413  files\n",
      "5.177048238333335\n"
     ]
    }
   ],
   "source": [
    "inicio = default_timer()\n",
    "\n",
    "featuresdf_60_test_5=extract_features_test_emovo()\n",
    "\n",
    "featuresdf_60_train_5=extract_features_train_emovo()\n",
    "\n",
    "fin = default_timer()\n",
    "print((fin - inicio)/60)"
   ]
  },
  {
   "cell_type": "code",
   "execution_count": 19,
   "metadata": {},
   "outputs": [
    {
     "name": "stdout",
     "output_type": "stream",
     "text": [
      "Finished feature extraction from  175  files\n",
      "Finished feature extraction from  413  files\n",
      "6.045469184999994\n"
     ]
    }
   ],
   "source": [
    "inicio = default_timer()\n",
    "\n",
    "featuresdf_70_test_5=extract_features_test_emovo()\n",
    "\n",
    "featuresdf_70_train_5=extract_features_train_emovo()\n",
    "\n",
    "fin = default_timer()\n",
    "print((fin - inicio)/60)"
   ]
  },
  {
   "cell_type": "code",
   "execution_count": 21,
   "metadata": {},
   "outputs": [
    {
     "name": "stdout",
     "output_type": "stream",
     "text": [
      "Finished feature extraction from  175  files\n",
      "Finished feature extraction from  413  files\n",
      "5.243197449999995\n"
     ]
    }
   ],
   "source": [
    "inicio = default_timer()\n",
    "\n",
    "featuresdf_80_test_5=extract_features_test_emovo()\n",
    "\n",
    "featuresdf_80_train_5=extract_features_train_emovo()\n",
    "\n",
    "fin = default_timer()\n",
    "print((fin - inicio)/60)"
   ]
  },
  {
   "cell_type": "code",
   "execution_count": 24,
   "metadata": {},
   "outputs": [
    {
     "name": "stdout",
     "output_type": "stream",
     "text": [
      "Finished feature extraction from  175  files\n",
      "Finished feature extraction from  413  files\n",
      "7.559404021666675\n"
     ]
    }
   ],
   "source": [
    "inicio = default_timer()\n",
    "\n",
    "featuresdf_90_test_5=extract_features_test_emovo()\n",
    "\n",
    "featuresdf_90_train_5=extract_features_train_emovo()\n",
    "\n",
    "fin = default_timer()\n",
    "print((fin - inicio)/60)"
   ]
  },
  {
   "cell_type": "code",
   "execution_count": 26,
   "metadata": {},
   "outputs": [
    {
     "name": "stdout",
     "output_type": "stream",
     "text": [
      "Finished feature extraction from  175  files\n",
      "Finished feature extraction from  413  files\n",
      "8.611492281666672\n"
     ]
    }
   ],
   "source": [
    "inicio = default_timer()\n",
    "\n",
    "featuresdf_100_test_5=extract_features_test_emovo()\n",
    "\n",
    "featuresdf_100_train_5=extract_features_train_emovo()\n",
    "\n",
    "fin = default_timer()\n",
    "print((fin - inicio)/60)"
   ]
  },
  {
   "cell_type": "code",
   "execution_count": 27,
   "metadata": {},
   "outputs": [
    {
     "name": "stdout",
     "output_type": "stream",
     "text": [
      "Stored 'featuresdf_10_test_5' (DataFrame)\n",
      "Stored 'featuresdf_10_train_5' (DataFrame)\n",
      "Stored 'featuresdf_20_test_5' (DataFrame)\n",
      "Stored 'featuresdf_20_train_5' (DataFrame)\n",
      "Stored 'featuresdf_30_test_5' (DataFrame)\n",
      "Stored 'featuresdf_30_train_5' (DataFrame)\n",
      "Stored 'featuresdf_40_test_5' (DataFrame)\n",
      "Stored 'featuresdf_40_train_5' (DataFrame)\n",
      "Stored 'featuresdf_50_test_5' (DataFrame)\n",
      "Stored 'featuresdf_50_train_5' (DataFrame)\n",
      "Stored 'featuresdf_60_test_5' (DataFrame)\n",
      "Stored 'featuresdf_60_train_5' (DataFrame)\n",
      "Stored 'featuresdf_70_test_5' (DataFrame)\n",
      "Stored 'featuresdf_70_train_5' (DataFrame)\n",
      "Stored 'featuresdf_80_test_5' (DataFrame)\n",
      "Stored 'featuresdf_80_train_5' (DataFrame)\n",
      "Stored 'featuresdf_90_test_5' (DataFrame)\n",
      "Stored 'featuresdf_90_train_5' (DataFrame)\n",
      "Stored 'featuresdf_100_test_5' (DataFrame)\n",
      "Stored 'featuresdf_100_train_5' (DataFrame)\n"
     ]
    }
   ],
   "source": [
    "%store featuresdf_10_test_5\n",
    "%store featuresdf_10_train_5\n",
    "%store featuresdf_20_test_5\n",
    "%store featuresdf_20_train_5\n",
    "%store featuresdf_30_test_5\n",
    "%store featuresdf_30_train_5\n",
    "%store featuresdf_40_test_5\n",
    "%store featuresdf_40_train_5\n",
    "%store featuresdf_50_test_5\n",
    "%store featuresdf_50_train_5\n",
    "%store featuresdf_60_test_5\n",
    "%store featuresdf_60_train_5\n",
    "%store featuresdf_70_test_5\n",
    "%store featuresdf_70_train_5\n",
    "%store featuresdf_80_test_5\n",
    "%store featuresdf_80_train_5\n",
    "%store featuresdf_90_test_5\n",
    "%store featuresdf_90_train_5\n",
    "%store featuresdf_100_test_5\n",
    "%store featuresdf_100_train_5"
   ]
  },
  {
   "cell_type": "markdown",
   "metadata": {},
   "source": [
    "## RASTA-MFCC"
   ]
  },
  {
   "cell_type": "code",
   "execution_count": 29,
   "metadata": {},
   "outputs": [
    {
     "name": "stdout",
     "output_type": "stream",
     "text": [
      "Finished feature extraction from  175  files\n",
      "Finished feature extraction from  413  files\n",
      "9.039298405\n"
     ]
    }
   ],
   "source": [
    "inicio = default_timer()\n",
    "\n",
    "featuresdf_10_test_6=extract_features_test_emovo()\n",
    "\n",
    "featuresdf_10_train_6=extract_features_train_emovo()\n",
    "\n",
    "fin = default_timer()\n",
    "print((fin - inicio)/60) "
   ]
  },
  {
   "cell_type": "code",
   "execution_count": 31,
   "metadata": {},
   "outputs": [
    {
     "name": "stdout",
     "output_type": "stream",
     "text": [
      "Finished feature extraction from  175  files\n",
      "Finished feature extraction from  413  files\n",
      "6.838720228333326\n"
     ]
    }
   ],
   "source": [
    "inicio = default_timer()\n",
    "\n",
    "featuresdf_20_test_6=extract_features_test_emovo()\n",
    "\n",
    "featuresdf_20_train_6=extract_features_train_emovo()\n",
    "\n",
    "fin = default_timer()\n",
    "print((fin - inicio)/60)"
   ]
  },
  {
   "cell_type": "code",
   "execution_count": 33,
   "metadata": {},
   "outputs": [
    {
     "name": "stdout",
     "output_type": "stream",
     "text": [
      "Finished feature extraction from  175  files\n",
      "Finished feature extraction from  413  files\n",
      "5.592010736666665\n"
     ]
    }
   ],
   "source": [
    "inicio = default_timer()\n",
    "\n",
    "featuresdf_30_test_6=extract_features_test_emovo()\n",
    "\n",
    "featuresdf_30_train_6=extract_features_train_emovo()\n",
    "\n",
    "fin = default_timer()\n",
    "print((fin - inicio)/60)"
   ]
  },
  {
   "cell_type": "code",
   "execution_count": 35,
   "metadata": {},
   "outputs": [
    {
     "name": "stdout",
     "output_type": "stream",
     "text": [
      "Finished feature extraction from  175  files\n",
      "Finished feature extraction from  413  files\n",
      "5.684681225000001\n"
     ]
    }
   ],
   "source": [
    "inicio = default_timer()\n",
    "\n",
    "featuresdf_40_test_6=extract_features_test_emovo()\n",
    "\n",
    "featuresdf_40_train_6=extract_features_train_emovo()\n",
    "\n",
    "fin = default_timer()\n",
    "print((fin - inicio)/60)"
   ]
  },
  {
   "cell_type": "code",
   "execution_count": 37,
   "metadata": {},
   "outputs": [
    {
     "name": "stdout",
     "output_type": "stream",
     "text": [
      "Finished feature extraction from  175  files\n",
      "Finished feature extraction from  413  files\n",
      "6.418165606666677\n"
     ]
    }
   ],
   "source": [
    "inicio = default_timer()\n",
    "\n",
    "featuresdf_50_test_6=extract_features_test_emovo()\n",
    "\n",
    "featuresdf_50_train_6=extract_features_train_emovo()\n",
    "\n",
    "fin = default_timer()\n",
    "print((fin - inicio)/60)"
   ]
  },
  {
   "cell_type": "code",
   "execution_count": 39,
   "metadata": {},
   "outputs": [
    {
     "name": "stdout",
     "output_type": "stream",
     "text": [
      "Finished feature extraction from  175  files\n",
      "Finished feature extraction from  413  files\n",
      "6.256973518333355\n"
     ]
    }
   ],
   "source": [
    "inicio = default_timer()\n",
    "\n",
    "featuresdf_60_test_6=extract_features_test_emovo()\n",
    "\n",
    "featuresdf_60_train_6=extract_features_train_emovo()\n",
    "\n",
    "fin = default_timer()\n",
    "print((fin - inicio)/60)"
   ]
  },
  {
   "cell_type": "code",
   "execution_count": 41,
   "metadata": {},
   "outputs": [
    {
     "name": "stdout",
     "output_type": "stream",
     "text": [
      "Finished feature extraction from  175  files\n",
      "Finished feature extraction from  413  files\n",
      "7.261254631666664\n"
     ]
    }
   ],
   "source": [
    "inicio = default_timer()\n",
    "\n",
    "featuresdf_70_test_6=extract_features_test_emovo()\n",
    "\n",
    "featuresdf_70_train_6=extract_features_train_emovo()\n",
    "\n",
    "fin = default_timer()\n",
    "print((fin - inicio)/60)"
   ]
  },
  {
   "cell_type": "code",
   "execution_count": 43,
   "metadata": {},
   "outputs": [
    {
     "name": "stdout",
     "output_type": "stream",
     "text": [
      "Finished feature extraction from  175  files\n",
      "Finished feature extraction from  413  files\n",
      "7.589819251666662\n"
     ]
    }
   ],
   "source": [
    "inicio = default_timer()\n",
    "\n",
    "featuresdf_80_test_6=extract_features_test_emovo()\n",
    "\n",
    "featuresdf_80_train_6=extract_features_train_emovo()\n",
    "\n",
    "fin = default_timer()\n",
    "print((fin - inicio)/60)"
   ]
  },
  {
   "cell_type": "code",
   "execution_count": 45,
   "metadata": {},
   "outputs": [
    {
     "name": "stdout",
     "output_type": "stream",
     "text": [
      "Finished feature extraction from  175  files\n",
      "Finished feature extraction from  413  files\n",
      "10.247316106666677\n"
     ]
    }
   ],
   "source": [
    "inicio = default_timer()\n",
    "\n",
    "featuresdf_90_test_6=extract_features_test_emovo()\n",
    "\n",
    "featuresdf_90_train_6=extract_features_train_emovo()\n",
    "\n",
    "fin = default_timer()\n",
    "print((fin - inicio)/60)"
   ]
  },
  {
   "cell_type": "code",
   "execution_count": 47,
   "metadata": {},
   "outputs": [
    {
     "name": "stdout",
     "output_type": "stream",
     "text": [
      "Finished feature extraction from  175  files\n",
      "Finished feature extraction from  413  files\n",
      "11.063896036666666\n"
     ]
    }
   ],
   "source": [
    "inicio = default_timer()\n",
    "\n",
    "featuresdf_100_test_6=extract_features_test_emovo()\n",
    "\n",
    "featuresdf_100_train_6=extract_features_train_emovo()\n",
    "\n",
    "fin = default_timer()\n",
    "print((fin - inicio)/60)"
   ]
  },
  {
   "cell_type": "code",
   "execution_count": 48,
   "metadata": {},
   "outputs": [
    {
     "name": "stdout",
     "output_type": "stream",
     "text": [
      "Stored 'featuresdf_10_test_6' (DataFrame)\n",
      "Stored 'featuresdf_10_train_6' (DataFrame)\n",
      "Stored 'featuresdf_20_test_6' (DataFrame)\n",
      "Stored 'featuresdf_20_train_6' (DataFrame)\n",
      "Stored 'featuresdf_30_test_6' (DataFrame)\n",
      "Stored 'featuresdf_30_train_6' (DataFrame)\n",
      "Stored 'featuresdf_40_test_6' (DataFrame)\n",
      "Stored 'featuresdf_40_train_6' (DataFrame)\n",
      "Stored 'featuresdf_50_test_6' (DataFrame)\n",
      "Stored 'featuresdf_50_train_6' (DataFrame)\n",
      "Stored 'featuresdf_60_test_6' (DataFrame)\n",
      "Stored 'featuresdf_60_train_6' (DataFrame)\n",
      "Stored 'featuresdf_70_test_6' (DataFrame)\n",
      "Stored 'featuresdf_70_train_6' (DataFrame)\n",
      "Stored 'featuresdf_80_test_6' (DataFrame)\n",
      "Stored 'featuresdf_80_train_6' (DataFrame)\n",
      "Stored 'featuresdf_90_test_6' (DataFrame)\n",
      "Stored 'featuresdf_90_train_6' (DataFrame)\n",
      "Stored 'featuresdf_100_test_6' (DataFrame)\n",
      "Stored 'featuresdf_100_train_6' (DataFrame)\n"
     ]
    }
   ],
   "source": [
    "%store featuresdf_10_test_6\n",
    "%store featuresdf_10_train_6\n",
    "%store featuresdf_20_test_6\n",
    "%store featuresdf_20_train_6\n",
    "%store featuresdf_30_test_6\n",
    "%store featuresdf_30_train_6\n",
    "%store featuresdf_40_test_6\n",
    "%store featuresdf_40_train_6\n",
    "%store featuresdf_50_test_6\n",
    "%store featuresdf_50_train_6\n",
    "%store featuresdf_60_test_6\n",
    "%store featuresdf_60_train_6\n",
    "%store featuresdf_70_test_6\n",
    "%store featuresdf_70_train_6\n",
    "%store featuresdf_80_test_6\n",
    "%store featuresdf_80_train_6\n",
    "%store featuresdf_90_test_6\n",
    "%store featuresdf_90_train_6\n",
    "%store featuresdf_100_test_6\n",
    "%store featuresdf_100_train_6"
   ]
  },
  {
   "cell_type": "code",
   "execution_count": 6,
   "metadata": {},
   "outputs": [
    {
     "name": "stdout",
     "output_type": "stream",
     "text": [
      "Finished feature extraction from  175  files\n",
      "Finished feature extraction from  413  files\n",
      "6.01956759\n"
     ]
    }
   ],
   "source": [
    "inicio = default_timer()\n",
    "\n",
    "featuresdf_10_test_7=extract_features_test_emovo()\n",
    "\n",
    "featuresdf_10_train_7=extract_features_train_emovo()\n",
    "\n",
    "fin = default_timer()\n",
    "print((fin - inicio)/60)"
   ]
  },
  {
   "cell_type": "code",
   "execution_count": 8,
   "metadata": {},
   "outputs": [
    {
     "name": "stdout",
     "output_type": "stream",
     "text": [
      "Finished feature extraction from  175  files\n",
      "Finished feature extraction from  413  files\n",
      "4.934080298333333\n"
     ]
    }
   ],
   "source": [
    "inicio = default_timer()\n",
    "\n",
    "featuresdf_20_test_7=extract_features_test_emovo()\n",
    "\n",
    "featuresdf_20_train_7=extract_features_train_emovo()\n",
    "\n",
    "fin = default_timer()\n",
    "print((fin - inicio)/60)"
   ]
  },
  {
   "cell_type": "code",
   "execution_count": 10,
   "metadata": {},
   "outputs": [
    {
     "name": "stdout",
     "output_type": "stream",
     "text": [
      "Finished feature extraction from  175  files\n",
      "Finished feature extraction from  413  files\n",
      "5.06407661166667\n"
     ]
    }
   ],
   "source": [
    "inicio = default_timer()\n",
    "\n",
    "featuresdf_30_test_7=extract_features_test_emovo()\n",
    "\n",
    "featuresdf_30_train_7=extract_features_train_emovo()\n",
    "\n",
    "fin = default_timer()\n",
    "print((fin - inicio)/60)"
   ]
  },
  {
   "cell_type": "code",
   "execution_count": 12,
   "metadata": {},
   "outputs": [
    {
     "name": "stdout",
     "output_type": "stream",
     "text": [
      "Finished feature extraction from  175  files\n",
      "Finished feature extraction from  413  files\n",
      "5.113193349999999\n"
     ]
    }
   ],
   "source": [
    "inicio = default_timer()\n",
    "\n",
    "featuresdf_40_test_7=extract_features_test_emovo()\n",
    "\n",
    "featuresdf_40_train_7=extract_features_train_emovo()\n",
    "\n",
    "fin = default_timer()\n",
    "print((fin - inicio)/60)"
   ]
  },
  {
   "cell_type": "code",
   "execution_count": 14,
   "metadata": {},
   "outputs": [
    {
     "name": "stdout",
     "output_type": "stream",
     "text": [
      "Finished feature extraction from  175  files\n",
      "Finished feature extraction from  413  files\n",
      "5.990544510000003\n"
     ]
    }
   ],
   "source": [
    "inicio = default_timer()\n",
    "\n",
    "featuresdf_50_test_7=extract_features_test_emovo()\n",
    "\n",
    "featuresdf_50_train_7=extract_features_train_emovo()\n",
    "\n",
    "fin = default_timer()\n",
    "print((fin - inicio)/60)"
   ]
  },
  {
   "cell_type": "code",
   "execution_count": 16,
   "metadata": {},
   "outputs": [
    {
     "name": "stdout",
     "output_type": "stream",
     "text": [
      "Finished feature extraction from  175  files\n",
      "Finished feature extraction from  413  files\n",
      "6.964015833333337\n"
     ]
    }
   ],
   "source": [
    "inicio = default_timer()\n",
    "\n",
    "featuresdf_60_test_7=extract_features_test_emovo()\n",
    "\n",
    "featuresdf_60_train_7=extract_features_train_emovo()\n",
    "\n",
    "fin = default_timer()\n",
    "print((fin - inicio)/60)"
   ]
  },
  {
   "cell_type": "code",
   "execution_count": 18,
   "metadata": {},
   "outputs": [
    {
     "name": "stdout",
     "output_type": "stream",
     "text": [
      "Finished feature extraction from  175  files\n",
      "Finished feature extraction from  413  files\n",
      "7.3332917183333315\n"
     ]
    }
   ],
   "source": [
    "inicio = default_timer()\n",
    "\n",
    "featuresdf_70_test_7=extract_features_test_emovo()\n",
    "\n",
    "featuresdf_70_train_7=extract_features_train_emovo()\n",
    "\n",
    "fin = default_timer()\n",
    "print((fin - inicio)/60)"
   ]
  },
  {
   "cell_type": "code",
   "execution_count": 20,
   "metadata": {},
   "outputs": [
    {
     "name": "stdout",
     "output_type": "stream",
     "text": [
      "Finished feature extraction from  175  files\n",
      "Finished feature extraction from  413  files\n",
      "7.520027066666656\n"
     ]
    }
   ],
   "source": [
    "inicio = default_timer()\n",
    "\n",
    "featuresdf_80_test_7=extract_features_test_emovo()\n",
    "\n",
    "featuresdf_80_train_7=extract_features_train_emovo()\n",
    "\n",
    "fin = default_timer()\n",
    "print((fin - inicio)/60)"
   ]
  },
  {
   "cell_type": "code",
   "execution_count": 22,
   "metadata": {},
   "outputs": [
    {
     "name": "stdout",
     "output_type": "stream",
     "text": [
      "Finished feature extraction from  175  files\n",
      "Finished feature extraction from  413  files\n",
      "9.704697168333329\n"
     ]
    }
   ],
   "source": [
    "inicio = default_timer()\n",
    "\n",
    "featuresdf_90_test_7=extract_features_test_emovo()\n",
    "\n",
    "featuresdf_90_train_7=extract_features_train_emovo()\n",
    "\n",
    "fin = default_timer()\n",
    "print((fin - inicio)/60)"
   ]
  },
  {
   "cell_type": "code",
   "execution_count": 24,
   "metadata": {},
   "outputs": [
    {
     "name": "stdout",
     "output_type": "stream",
     "text": [
      "Finished feature extraction from  175  files\n",
      "Finished feature extraction from  413  files\n",
      "11.047234340000008\n"
     ]
    }
   ],
   "source": [
    "inicio = default_timer()\n",
    "\n",
    "featuresdf_100_test_7=extract_features_test_emovo()\n",
    "\n",
    "featuresdf_100_train_7=extract_features_train_emovo()\n",
    "\n",
    "fin = default_timer()\n",
    "print((fin - inicio)/60)"
   ]
  },
  {
   "cell_type": "code",
   "execution_count": 25,
   "metadata": {},
   "outputs": [
    {
     "name": "stdout",
     "output_type": "stream",
     "text": [
      "Stored 'featuresdf_10_test_7' (DataFrame)\n",
      "Stored 'featuresdf_10_train_7' (DataFrame)\n",
      "Stored 'featuresdf_20_test_7' (DataFrame)\n",
      "Stored 'featuresdf_20_train_7' (DataFrame)\n",
      "Stored 'featuresdf_30_test_7' (DataFrame)\n",
      "Stored 'featuresdf_30_train_7' (DataFrame)\n",
      "Stored 'featuresdf_40_test_7' (DataFrame)\n",
      "Stored 'featuresdf_40_train_7' (DataFrame)\n",
      "Stored 'featuresdf_50_test_7' (DataFrame)\n",
      "Stored 'featuresdf_50_train_7' (DataFrame)\n",
      "Stored 'featuresdf_60_test_7' (DataFrame)\n",
      "Stored 'featuresdf_60_train_7' (DataFrame)\n",
      "Stored 'featuresdf_70_test_7' (DataFrame)\n",
      "Stored 'featuresdf_70_train_7' (DataFrame)\n",
      "Stored 'featuresdf_80_test_7' (DataFrame)\n",
      "Stored 'featuresdf_80_train_7' (DataFrame)\n",
      "Stored 'featuresdf_90_test_7' (DataFrame)\n",
      "Stored 'featuresdf_90_train_7' (DataFrame)\n",
      "Stored 'featuresdf_100_test_7' (DataFrame)\n",
      "Stored 'featuresdf_100_train_7' (DataFrame)\n"
     ]
    }
   ],
   "source": [
    "%store featuresdf_10_test_7\n",
    "%store featuresdf_10_train_7\n",
    "%store featuresdf_20_test_7\n",
    "%store featuresdf_20_train_7\n",
    "%store featuresdf_30_test_7\n",
    "%store featuresdf_30_train_7\n",
    "%store featuresdf_40_test_7\n",
    "%store featuresdf_40_train_7\n",
    "%store featuresdf_50_test_7\n",
    "%store featuresdf_50_train_7\n",
    "%store featuresdf_60_test_7\n",
    "%store featuresdf_60_train_7\n",
    "%store featuresdf_70_test_7\n",
    "%store featuresdf_70_train_7\n",
    "%store featuresdf_80_test_7\n",
    "%store featuresdf_80_train_7\n",
    "%store featuresdf_90_test_7\n",
    "%store featuresdf_90_train_7\n",
    "%store featuresdf_100_test_7\n",
    "%store featuresdf_100_train_7"
   ]
  },
  {
   "cell_type": "code",
   "execution_count": 27,
   "metadata": {},
   "outputs": [
    {
     "name": "stdout",
     "output_type": "stream",
     "text": [
      "Finished feature extraction from  175  files\n",
      "Finished feature extraction from  413  files\n",
      "7.365314419999989\n"
     ]
    }
   ],
   "source": [
    "inicio = default_timer()\n",
    "\n",
    "featuresdf_10_test_8=extract_features_test_emovo()\n",
    "\n",
    "featuresdf_10_train_8=extract_features_train_emovo()\n",
    "\n",
    "fin = default_timer()\n",
    "print((fin - inicio)/60)"
   ]
  },
  {
   "cell_type": "code",
   "execution_count": 29,
   "metadata": {},
   "outputs": [
    {
     "name": "stdout",
     "output_type": "stream",
     "text": [
      "Finished feature extraction from  175  files\n",
      "Finished feature extraction from  413  files\n",
      "6.18701074999999\n"
     ]
    }
   ],
   "source": [
    "inicio = default_timer()\n",
    "\n",
    "featuresdf_20_test_8=extract_features_test_emovo()\n",
    "\n",
    "featuresdf_20_train_8=extract_features_train_emovo()\n",
    "\n",
    "fin = default_timer()\n",
    "print((fin - inicio)/60)"
   ]
  },
  {
   "cell_type": "code",
   "execution_count": 31,
   "metadata": {},
   "outputs": [
    {
     "name": "stdout",
     "output_type": "stream",
     "text": [
      "Finished feature extraction from  175  files\n",
      "Finished feature extraction from  413  files\n",
      "6.70380315333335\n"
     ]
    }
   ],
   "source": [
    "inicio = default_timer()\n",
    "\n",
    "featuresdf_30_test_8=extract_features_test_emovo()\n",
    "\n",
    "featuresdf_30_train_8=extract_features_train_emovo()\n",
    "\n",
    "fin = default_timer()\n",
    "print((fin - inicio)/60)"
   ]
  },
  {
   "cell_type": "code",
   "execution_count": 33,
   "metadata": {},
   "outputs": [
    {
     "name": "stdout",
     "output_type": "stream",
     "text": [
      "Finished feature extraction from  175  files\n",
      "Finished feature extraction from  413  files\n",
      "7.217682073333314\n"
     ]
    }
   ],
   "source": [
    "inicio = default_timer()\n",
    "\n",
    "featuresdf_40_test_8=extract_features_test_emovo()\n",
    "\n",
    "featuresdf_40_train_8=extract_features_train_emovo()\n",
    "\n",
    "fin = default_timer()\n",
    "print((fin - inicio)/60)"
   ]
  },
  {
   "cell_type": "code",
   "execution_count": 35,
   "metadata": {},
   "outputs": [
    {
     "name": "stdout",
     "output_type": "stream",
     "text": [
      "Finished feature extraction from  175  files\n",
      "Finished feature extraction from  413  files\n",
      "7.541893560000002\n"
     ]
    }
   ],
   "source": [
    "inicio = default_timer()\n",
    "\n",
    "featuresdf_50_test_8=extract_features_test_emovo()\n",
    "\n",
    "featuresdf_50_train_8=extract_features_train_emovo()\n",
    "\n",
    "fin = default_timer()\n",
    "print((fin - inicio)/60)"
   ]
  },
  {
   "cell_type": "code",
   "execution_count": 37,
   "metadata": {},
   "outputs": [
    {
     "name": "stdout",
     "output_type": "stream",
     "text": [
      "Finished feature extraction from  175  files\n",
      "Finished feature extraction from  413  files\n",
      "7.7673098066666775\n"
     ]
    }
   ],
   "source": [
    "inicio = default_timer()\n",
    "\n",
    "featuresdf_60_test_8=extract_features_test_emovo()\n",
    "\n",
    "featuresdf_60_train_8=extract_features_train_emovo()\n",
    "\n",
    "fin = default_timer()\n",
    "print((fin - inicio)/60)"
   ]
  },
  {
   "cell_type": "code",
   "execution_count": 39,
   "metadata": {},
   "outputs": [
    {
     "name": "stdout",
     "output_type": "stream",
     "text": [
      "Finished feature extraction from  175  files\n",
      "Finished feature extraction from  413  files\n",
      "7.804974131666646\n"
     ]
    }
   ],
   "source": [
    "inicio = default_timer()\n",
    "\n",
    "featuresdf_70_test_8=extract_features_test_emovo()\n",
    "\n",
    "featuresdf_70_train_8=extract_features_train_emovo()\n",
    "\n",
    "fin = default_timer()\n",
    "print((fin - inicio)/60)"
   ]
  },
  {
   "cell_type": "code",
   "execution_count": 41,
   "metadata": {},
   "outputs": [
    {
     "name": "stdout",
     "output_type": "stream",
     "text": [
      "Finished feature extraction from  175  files\n",
      "Finished feature extraction from  413  files\n",
      "8.167665886666631\n"
     ]
    }
   ],
   "source": [
    "inicio = default_timer()\n",
    "\n",
    "featuresdf_80_test_8=extract_features_test_emovo()\n",
    "\n",
    "featuresdf_80_train_8=extract_features_train_emovo()\n",
    "\n",
    "fin = default_timer()\n",
    "print((fin - inicio)/60)"
   ]
  },
  {
   "cell_type": "code",
   "execution_count": 43,
   "metadata": {},
   "outputs": [
    {
     "name": "stdout",
     "output_type": "stream",
     "text": [
      "Finished feature extraction from  175  files\n",
      "Finished feature extraction from  413  files\n",
      "10.908958964999995\n"
     ]
    }
   ],
   "source": [
    "inicio = default_timer()\n",
    "\n",
    "featuresdf_90_test_8=extract_features_test_emovo()\n",
    "\n",
    "featuresdf_90_train_8=extract_features_train_emovo()\n",
    "\n",
    "fin = default_timer()\n",
    "print((fin - inicio)/60)"
   ]
  },
  {
   "cell_type": "code",
   "execution_count": 45,
   "metadata": {},
   "outputs": [
    {
     "name": "stdout",
     "output_type": "stream",
     "text": [
      "Finished feature extraction from  175  files\n",
      "Finished feature extraction from  413  files\n",
      "11.521218271666658\n"
     ]
    }
   ],
   "source": [
    "inicio = default_timer()\n",
    "\n",
    "featuresdf_100_test_8=extract_features_test_emovo()\n",
    "\n",
    "featuresdf_100_train_8=extract_features_train_emovo()\n",
    "\n",
    "fin = default_timer()\n",
    "print((fin - inicio)/60)"
   ]
  },
  {
   "cell_type": "code",
   "execution_count": 46,
   "metadata": {},
   "outputs": [
    {
     "name": "stdout",
     "output_type": "stream",
     "text": [
      "Stored 'featuresdf_10_test_8' (DataFrame)\n",
      "Stored 'featuresdf_10_train_8' (DataFrame)\n",
      "Stored 'featuresdf_20_test_8' (DataFrame)\n",
      "Stored 'featuresdf_20_train_8' (DataFrame)\n",
      "Stored 'featuresdf_30_test_8' (DataFrame)\n",
      "Stored 'featuresdf_30_train_8' (DataFrame)\n",
      "Stored 'featuresdf_40_test_8' (DataFrame)\n",
      "Stored 'featuresdf_40_train_8' (DataFrame)\n",
      "Stored 'featuresdf_50_test_8' (DataFrame)\n",
      "Stored 'featuresdf_50_train_8' (DataFrame)\n",
      "Stored 'featuresdf_60_test_8' (DataFrame)\n",
      "Stored 'featuresdf_60_train_8' (DataFrame)\n",
      "Stored 'featuresdf_70_test_8' (DataFrame)\n",
      "Stored 'featuresdf_70_train_8' (DataFrame)\n",
      "Stored 'featuresdf_80_test_8' (DataFrame)\n",
      "Stored 'featuresdf_80_train_8' (DataFrame)\n",
      "Stored 'featuresdf_90_test_8' (DataFrame)\n",
      "Stored 'featuresdf_90_train_8' (DataFrame)\n",
      "Stored 'featuresdf_100_test_8' (DataFrame)\n",
      "Stored 'featuresdf_100_train_8' (DataFrame)\n"
     ]
    }
   ],
   "source": [
    "%store featuresdf_10_test_8\n",
    "%store featuresdf_10_train_8\n",
    "%store featuresdf_20_test_8\n",
    "%store featuresdf_20_train_8\n",
    "%store featuresdf_30_test_8\n",
    "%store featuresdf_30_train_8\n",
    "%store featuresdf_40_test_8\n",
    "%store featuresdf_40_train_8\n",
    "%store featuresdf_50_test_8\n",
    "%store featuresdf_50_train_8\n",
    "%store featuresdf_60_test_8\n",
    "%store featuresdf_60_train_8\n",
    "%store featuresdf_70_test_8\n",
    "%store featuresdf_70_train_8\n",
    "%store featuresdf_80_test_8\n",
    "%store featuresdf_80_train_8\n",
    "%store featuresdf_90_test_8\n",
    "%store featuresdf_90_train_8\n",
    "%store featuresdf_100_test_8\n",
    "%store featuresdf_100_train_8"
   ]
  },
  {
   "cell_type": "code",
   "execution_count": 44,
   "metadata": {},
   "outputs": [],
   "source": [
    "class mel_freq_ceps_coef:\n",
    "    def __init__(self,file_name,volumen,volumen2):\n",
    "        try:    \n",
    "            #Lee archivo de audio\n",
    "            #self.signal, self.fs = librosa.load(file_name)\n",
    "            self.fs, self.signal = rd.read(file_name)\n",
    "            self.signal = volumen * self.signal\n",
    "            self.volumen2 = volumen2\n",
    "            #Frecuencia máxima\n",
    "            self.f_max = self.fs/2.0\n",
    "            #Constante de preénfasis\n",
    "            self.preemphasis = 0.97\n",
    "            #Tamaño de frame en segundos\n",
    "            self.frame=0.1\n",
    "            #Porcentaje de traslape\n",
    "            self.overlap = 50        \n",
    "            #Tipo de ventana\n",
    "            self.window = 2\n",
    "            #Frecuencia mínima\n",
    "            self.f_min = 0\n",
    "            #número de filtros en el banco\n",
    "            self.n_filters = 22#escala de bark 22.05KHz\n",
    "            #Número de coeficientes mfcc\n",
    "            self.n_mfcc = 24\n",
    "            #Normalización\n",
    "            self.norm = 1\n",
    "            #RASTA análisis\n",
    "            self.rasta = 1\n",
    "            self.audio = self.signal/32767\n",
    "            self.audio_length = len(self.signal)\n",
    "            self.frame_size = np.fix(self.frame*self.fs)\n",
    "            self.overlap_size = np.fix(self.frame_size - self.frame_size*(self.overlap/100.0))\n",
    "            self.n_frames = self.__Frames()\n",
    "            self.audio_avg = self.__Stereo()\n",
    "            self.half_n = np.fix(self.frame_size/2.0)\n",
    "            self.window_data = self.__Window()\n",
    "            self.freqs = self.__Freqs()\n",
    "            self.mel_freqs = self.__Mel_Freqs()\n",
    "            self.mel_filter_bank = self.__Mel_Filter()\n",
    "            self.coef, self.nl = self.__MFCC_Coef()\n",
    "            self.coef = self.coef[:,0:self.nl]\n",
    "            self.mfccsscalade = np.mean(self.coef.T, axis=0)\n",
    "        except Exception as e:\n",
    "            print(\"Error encoutered while parsing file: \", file_name)\n",
    "            return None\n",
    "        #np.savetxt(\"A51.txt\", np.column_stack(self.coef[:,0:self.nl]),  delimiter=\",\", fmt=\"%f\")\n",
    "#np.savetxt('myfile.txt', np.c_[x,y,z])     \n",
    "    #Convierte señales estereofónicas a monoaurales\n",
    "    def __Stereo(self):\n",
    "        n_channel = len(np.shape(self.audio))\n",
    "        if n_channel > 1:\n",
    "            temp_1 = self.audio[:,0]\n",
    "            temp_2 = self.audio[:,1]\n",
    "            avg = (temp_1 + temp_2)/2\n",
    "        else:\n",
    "            avg = self.audio\n",
    "       \n",
    "        #Aplica filtro de preénfasis\n",
    "        if self.preemphasis != 0.0:\n",
    "            Avg = np.zeros(len(avg))    \n",
    "            Avg[0] = avg[0]\n",
    "            for n in range(1,len(avg)):\n",
    "                Avg[n] = avg[n] - self.preemphasis*avg[n-1]            \n",
    "            return Avg*self.volumen2\n",
    "        else:\n",
    "            return avg\n",
    "            \n",
    "    #Determina número de frames para analizar\n",
    "    def __Frames(self):\n",
    "        i = 0\n",
    "        j = 0\n",
    "        while(j < self.audio_length):\n",
    "            j = i*self.overlap_size + self.frame_size\n",
    "            i = i + 1\n",
    "        return i - 1\n",
    "    \n",
    "    #Aplica ventana (Hann, Hamming, Box) a frame de la señal\n",
    "    def __Window(self):\n",
    "        n = np.arange(-self.half_n,self.half_n)\n",
    "        if len(n) != self.frame_size:\n",
    "            n = np.arange(-self.half_n,self.half_n+1)\n",
    "        \n",
    "        #Ventana Box\n",
    "        if self.window == 0:\n",
    "            W = np.ones(len(n))\n",
    "        \n",
    "        #Ventana Hamming\n",
    "        if self.window == 1:\n",
    "            a = 0.53836\n",
    "            b = 0.46164\n",
    "            W = np.array([])\n",
    "            for i in n:\n",
    "                W =np.append(W, a + b*math.cos((2*math.pi*i)/(self.frame_size - 1.0))) \n",
    "        \n",
    "        #Ventana Hann\n",
    "        if self.window == 2:\n",
    "            a = 0.5\n",
    "            b = 0.5\n",
    "            W = np.array([])\n",
    "            for i in n:\n",
    "                W = np.append(W, a + b*math.cos((2*math.pi*i)/(self.frame_size - 1.0)))        \n",
    "        return W\n",
    "    \n",
    "    #Calcula frecuencias en Hertz\n",
    "    def __Freqs(self):\n",
    "        n = np.arange(0,self.half_n)\n",
    "        f = np.array([])\n",
    "        for i in n:\n",
    "            f = np.append(f,(i*self.fs)/self.frame_size)\n",
    "        return f\n",
    "    \n",
    "    #Calcula frecuencias en escala de Mel\n",
    "    def __Mel_Freqs(self):\n",
    "        n = np.arange(0,self.half_n)\n",
    "        f = np.array([])\n",
    "        for i in n:\n",
    "            f = np.append(f,2595*np.log10(self.freqs[int(i)]/700+1))\n",
    "        return f\n",
    "    \n",
    "    #Genera banco de filtros triangulares \n",
    "    def __Mel_Filter(self):\n",
    "        try:\n",
    "            phi_min = 2595*math.log10(self.f_min/700+1)\n",
    "            phi_max = 2595*math.log10(self.f_max/700+1)\n",
    "            dphi = (phi_max - phi_min)/(self.n_filters+1)\n",
    "            fc = np.zeros(self.n_filters+2)\n",
    "            fc[0] = self.f_min\n",
    "            for i in range(1,len(fc)):\n",
    "                phic = (i-1)*dphi\n",
    "                fc[i-1] = 700*(math.pow(10,(phic + phi_min)/2595)-1)\n",
    "            fc[self.n_filters+1] = self.f_max\n",
    "            Hkm = np.zeros((int(self.half_n),self.n_filters))\n",
    "            n = np.arange(0,self.half_n)\n",
    "            for i in range(1,self.n_filters+1):\n",
    "                for k in n:\n",
    "                    kk = int(k)\n",
    "                    if self.freqs[kk] < fc[i-1]:\n",
    "                        Hkm[kk,i-1] = 0\n",
    "                    if (self.freqs[kk] >= fc[i-1]) and (self.freqs[kk] < fc[i]):\n",
    "                        Hkm[kk,i-1] = (self.freqs[kk] - fc[i-1])/(fc[i] - fc[i-1])\n",
    "                    if (self.freqs[kk] >= fc[i]) and (self.freqs[kk] < fc[i+1]):\n",
    "                        Hkm[kk,i-1] = (self.freqs[kk] - fc[i+1])/(fc[i] - fc[i+1])\n",
    "                    if self.freqs[kk] >= fc[i+1]:\n",
    "                        Hkm[kk,i-1] = 0\n",
    "            return Hkm\n",
    "        except Exception as e:\n",
    "            print(\"Error encoutered while parsing file: \", file_name)\n",
    "            return None    \n",
    "    #Determina coeficientes cepstrales de frecuencia de mel    \n",
    "    def __MFCC_Coef(self):\n",
    "        try:\n",
    "            frame = np.zeros(int(self.frame_size))\n",
    "            self.energy = np.zeros((int(self.half_n),self.n_frames))\n",
    "            self.cepstrum = np.zeros((self.n_filters,self.n_frames))\n",
    "            Xm = np.zeros(self.n_filters)\n",
    "            mfcc = np.zeros(self.n_mfcc) \n",
    "            wi = np.zeros(2*self.n_mfcc)\n",
    "            MFCC = np.zeros((self.n_mfcc,self.n_frames))\n",
    "\n",
    "            #Pesos para el proceso de liftering\n",
    "            for i in range(0,2*self.n_mfcc):\n",
    "                wi[i] = 1 + self.n_mfcc*np.sin(math.pi*i/(2*self.n_mfcc-1))\n",
    "\n",
    "            #Coeficientes del filtro RASTA\n",
    "            numer = np.arange(-2,3)\n",
    "            numer = -numer/np.sum(numer*numer)\n",
    "            denom = np.array([1,-0.98])\n",
    "\n",
    "            l = 0\n",
    "            #Análisis de frames\n",
    "            for i in range(0,int(self.n_frames)):\n",
    "                #Extrae frame de la señal\n",
    "                frame = self.audio_avg[i*int(self.overlap_size):i*int(self.overlap_size)+int(self.frame_size)]\n",
    "\n",
    "                #función de autocorrelación\n",
    "                acorr = np.correlate(frame,frame,mode='full')\n",
    "                m = np.amax(acorr[20:len(acorr)])\n",
    "\n",
    "                if m > 0.1:\n",
    "\n",
    "                    #Multiplica frame por ventana\n",
    "                    frame = frame*self.window_data\n",
    "                    #Extrae espectro de potencia \n",
    "                    P = np.abs(fourier.fft(frame))\n",
    "                    #Determina espectrograma de la señal\n",
    "                    self.energy[:,l] = 10*np.log10(P[0:int(self.half_n)]) \n",
    "\n",
    "                    for j in range(0,self.n_filters):\n",
    "                        #Multiplica espectro de potencia por filtros triangulares\n",
    "                        Ps = P[0:int(self.half_n)]*self.mel_filter_bank[:,j]\n",
    "                        #Aplica el proceso RASTA a cada banda de frecuencia\n",
    "                        if self.rasta == 1:\n",
    "                            Ps = np.log(1+Ps)\n",
    "                            Ps = sg.lfilter(numer,denom, Ps)\n",
    "                            Ps = np.exp(Ps)-1\n",
    "                        Xm[j] = np.log(np.sum(Ps))\n",
    "                    #Determina cepstrum de la señal\n",
    "                    self.cepstrum[:,l] = Xm\n",
    "\n",
    "                    #Aplica transformada coseno\n",
    "                    for j in range(1,self.n_mfcc+1):\n",
    "                        suma = 0\n",
    "                        for k in range(1,self.n_filters+1):\n",
    "                            suma = suma + Xm[k-1]*np.cos(math.pi*j*(k-(1/2))/self.n_filters)\n",
    "                        mfcc[j-1] = suma \n",
    "                    #Aplica proceso de liftering\n",
    "                    mfcc = mfcc*wi[0:self.n_mfcc]\n",
    "                    #Genera matriz de coeficientes mfcc\n",
    "                    MFCC[:,l] = mfcc\n",
    "                    l = l + 1\n",
    "\n",
    "\n",
    "            #Normaliza matriz de coeficientes mfcc\n",
    "            if self.norm == 1:\n",
    "                '''\n",
    "                for i in range(0,self.n_mfcc):\n",
    "                    MFCC[i,:] = (MFCC[i,:]-np.mean(MFCC[i,:]))/np.std(MFCC[i,:]) \n",
    "                '''\n",
    "                MFCC = (MFCC-np.mean(MFCC))/np.std(MFCC)\n",
    "                \n",
    "            return MFCC, l\n",
    "        except Exception as e:\n",
    "            print(\"Error encoutered while parsing file: \", file_name)\n",
    "            return None"
   ]
  },
  {
   "cell_type": "code",
   "execution_count": 2,
   "metadata": {},
   "outputs": [],
   "source": [
    "def extract_features_test_emovo():\n",
    "    \n",
    "    try:\n",
    "        fulldatasetpath = r'C:\\Users\\SACKRAY7\\Desktop\\Uni\\8vo\\TESIS\\retomando la tesis 23-06-2020\\Udacity-ML-Capstone-master\\Udacity-ML-Capstone-master\\emovo - testSize 0.3\\audio'\n",
    "\n",
    "        metadata = pd.read_csv(r'C:\\Users\\SACKRAY7\\Desktop\\Uni\\8vo\\TESIS\\retomando la tesis 23-06-2020\\Udacity-ML-Capstone-master\\Udacity-ML-Capstone-master\\UrbanSound Dataset sample\\metadata\\emovo2 - testSize 0.3.csv')\n",
    "\n",
    "        features_emovo = []\n",
    "\n",
    "        # Iterate through each sound file and extract the features \n",
    "        for index, row in metadata.iterrows():\n",
    "\n",
    "            file_name = os.path.join(os.path.abspath(fulldatasetpath),str(row[\"fold\"])+'/',str(row[\"slice_file_name\"]))\n",
    "\n",
    "            class_label = row[\"class_name\"]\n",
    "            volumen = row[\"volumen\"]\n",
    "            volumen2 = row[\"volumen2\"]\n",
    "            if row[\"if\"] == \"test\": \n",
    "                data = mel_freq_ceps_coef(file_name, volumen, volumen2)\n",
    "                features_emovo.append([data.mfccsscalade, class_label])\n",
    "\n",
    "        # Convert into a Panda dataframe \n",
    "        featuresdf_emovo = pd.DataFrame(features_emovo, columns=['feature','class_label'])\n",
    "\n",
    "        print('Finished feature extraction from ', len(featuresdf_emovo), ' files') \n",
    "\n",
    "    except Exception as e:\n",
    "        print(\"Error encoutered while parsing file: \", file_name)\n",
    "        return None\n",
    "\n",
    "    return featuresdf_emovo"
   ]
  },
  {
   "cell_type": "code",
   "execution_count": 3,
   "metadata": {},
   "outputs": [],
   "source": [
    "def extract_features_train_emovo():\n",
    "    \n",
    "    try:\n",
    "        fulldatasetpath = r'C:\\Users\\SACKRAY7\\Desktop\\Uni\\8vo\\TESIS\\retomando la tesis 23-06-2020\\Udacity-ML-Capstone-master\\Udacity-ML-Capstone-master\\emovo - testSize 0.3\\audio'\n",
    "\n",
    "        metadata = pd.read_csv(r'C:\\Users\\SACKRAY7\\Desktop\\Uni\\8vo\\TESIS\\retomando la tesis 23-06-2020\\Udacity-ML-Capstone-master\\Udacity-ML-Capstone-master\\UrbanSound Dataset sample\\metadata\\emovo2 - testSize 0.3.csv')\n",
    "\n",
    "        features_emovo = []\n",
    "\n",
    "        # Iterate through each sound file and extract the features \n",
    "        for index, row in metadata.iterrows():\n",
    "\n",
    "            file_name = os.path.join(os.path.abspath(fulldatasetpath),str(row[\"fold\"])+'/',str(row[\"slice_file_name\"]))\n",
    "\n",
    "            class_label = row[\"class_name\"]\n",
    "            volumen = row[\"volumen\"]\n",
    "            volumen2 = row[\"volumen2\"]\n",
    "            if row[\"if\"] == \"train\": \n",
    "                data = mel_freq_ceps_coef(file_name, volumen, volumen2)\n",
    "                features_emovo.append([data.mfccsscalade, class_label])\n",
    "\n",
    "        # Convert into a Panda dataframe \n",
    "        featuresdf_emovo = pd.DataFrame(features_emovo, columns=['feature','class_label'])\n",
    "\n",
    "        print('Finished feature extraction from ', len(featuresdf_emovo), ' files') \n",
    "\n",
    "    except Exception as e:\n",
    "        print(\"Error encoutered while parsing file: \", file_name)\n",
    "        return None\n",
    "\n",
    "    return featuresdf_emovo"
   ]
  },
  {
   "cell_type": "code",
   "execution_count": 5,
   "metadata": {},
   "outputs": [],
   "source": [
    "import matplotlib.pyplot as plt\n",
    "import scipy.io.wavfile as rd\n",
    "import scipy.fftpack as fourier\n",
    "import scipy.signal as sg\n",
    "import numpy as np\n",
    "import math \n",
    "\n",
    "import pandas as pd\n",
    "import os\n",
    "import librosa\n",
    "from timeit import default_timer"
   ]
  }
 ],
 "metadata": {
  "kernelspec": {
   "display_name": "Python 3",
   "language": "python",
   "name": "python3"
  },
  "language_info": {
   "codemirror_mode": {
    "name": "ipython",
    "version": 3
   },
   "file_extension": ".py",
   "mimetype": "text/x-python",
   "name": "python",
   "nbconvert_exporter": "python",
   "pygments_lexer": "ipython3",
   "version": "3.7.4"
  }
 },
 "nbformat": 4,
 "nbformat_minor": 4
}
