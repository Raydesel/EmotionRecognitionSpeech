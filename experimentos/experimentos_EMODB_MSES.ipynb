{
 "cells": [
  {
   "cell_type": "markdown",
   "metadata": {},
   "source": [
    "## EMODB Experimento 1 \n",
    "\n",
    "### Cantidad de coeficientes 12, 24, 36, 48, Usando ventana tipo 2, sin preénfasis, ancho de band completo (fs/2), tamaño de frame de 30ms y traslape de 50\n",
    "\n",
    "### Window=2  preénfasis=0 f_max = fs/2  frame=0.03 overlap=50\n"
   ]
  },
  {
   "cell_type": "markdown",
   "metadata": {},
   "source": [
    "# MFCC"
   ]
  },
  {
   "cell_type": "code",
   "execution_count": 7,
   "metadata": {},
   "outputs": [
    {
     "ename": "KeyboardInterrupt",
     "evalue": "",
     "output_type": "error",
     "traceback": [
      "\u001b[1;31m---------------------------------------------------------------------------\u001b[0m",
      "\u001b[1;31mKeyboardInterrupt\u001b[0m                         Traceback (most recent call last)",
      "\u001b[1;32m<ipython-input-7-9209503b15c3>\u001b[0m in \u001b[0;36m<module>\u001b[1;34m\u001b[0m\n\u001b[0;32m      1\u001b[0m \u001b[0minicio\u001b[0m \u001b[1;33m=\u001b[0m \u001b[0mdefault_timer\u001b[0m\u001b[1;33m(\u001b[0m\u001b[1;33m)\u001b[0m\u001b[1;33m\u001b[0m\u001b[1;33m\u001b[0m\u001b[0m\n\u001b[0;32m      2\u001b[0m \u001b[1;33m\u001b[0m\u001b[0m\n\u001b[1;32m----> 3\u001b[1;33m \u001b[0mfeaturesdf_EMODB_12_test_01\u001b[0m\u001b[1;33m=\u001b[0m\u001b[0mextract_features_test_EMODB\u001b[0m\u001b[1;33m(\u001b[0m\u001b[1;33m)\u001b[0m\u001b[1;31m#pau-f3-d1, tri-m1-d2, tri-f3-d1, tri-f3-d2, tri-f3-l3, tri-f3-l4, tri-f3-n3, tri-f3-n5 audio que generaba error\u001b[0m\u001b[1;33m\u001b[0m\u001b[1;33m\u001b[0m\u001b[0m\n\u001b[0m\u001b[0;32m      4\u001b[0m \u001b[1;33m\u001b[0m\u001b[0m\n\u001b[0;32m      5\u001b[0m \u001b[0mfeaturesdf_EMODB_12_train_01\u001b[0m\u001b[1;33m=\u001b[0m\u001b[0mextract_features_train_EMODB\u001b[0m\u001b[1;33m(\u001b[0m\u001b[1;33m)\u001b[0m\u001b[1;33m\u001b[0m\u001b[1;33m\u001b[0m\u001b[0m\n",
      "\u001b[1;32m<ipython-input-3-a1823a7e80da>\u001b[0m in \u001b[0;36mextract_features_test_EMODB\u001b[1;34m()\u001b[0m\n\u001b[0;32m     17\u001b[0m             \u001b[0mclass_label\u001b[0m \u001b[1;33m=\u001b[0m \u001b[0mrow\u001b[0m\u001b[1;33m[\u001b[0m\u001b[1;34m\"class_name\"\u001b[0m\u001b[1;33m]\u001b[0m\u001b[1;33m\u001b[0m\u001b[1;33m\u001b[0m\u001b[0m\n\u001b[0;32m     18\u001b[0m             \u001b[1;32mif\u001b[0m \u001b[0mrow\u001b[0m\u001b[1;33m[\u001b[0m\u001b[1;34m\"if\"\u001b[0m\u001b[1;33m]\u001b[0m \u001b[1;33m==\u001b[0m \u001b[1;34m\"test\"\u001b[0m \u001b[1;33m:\u001b[0m\u001b[1;33m\u001b[0m\u001b[1;33m\u001b[0m\u001b[0m\n\u001b[1;32m---> 19\u001b[1;33m                 \u001b[0mdata\u001b[0m \u001b[1;33m=\u001b[0m \u001b[0mmult_spect_ent_coef_corr\u001b[0m\u001b[1;33m(\u001b[0m\u001b[0mfile_name\u001b[0m\u001b[1;33m)\u001b[0m\u001b[1;33m\u001b[0m\u001b[1;33m\u001b[0m\u001b[0m\n\u001b[0m\u001b[0;32m     20\u001b[0m                 \u001b[0mfeatures\u001b[0m\u001b[1;33m.\u001b[0m\u001b[0mappend\u001b[0m\u001b[1;33m(\u001b[0m\u001b[1;33m[\u001b[0m\u001b[0mdata\u001b[0m\u001b[1;33m.\u001b[0m\u001b[0mmsesscalade\u001b[0m\u001b[1;33m,\u001b[0m \u001b[0mclass_label\u001b[0m\u001b[1;33m]\u001b[0m\u001b[1;33m)\u001b[0m\u001b[1;33m\u001b[0m\u001b[1;33m\u001b[0m\u001b[0m\n\u001b[0;32m     21\u001b[0m \u001b[1;33m\u001b[0m\u001b[0m\n",
      "\u001b[1;32m<ipython-input-6-ccbb33b6ea5e>\u001b[0m in \u001b[0;36m__init__\u001b[1;34m(self, filename)\u001b[0m\n\u001b[0;32m     58\u001b[0m         \u001b[0mself\u001b[0m\u001b[1;33m.\u001b[0m\u001b[0mmel_freqs\u001b[0m \u001b[1;33m=\u001b[0m \u001b[0mself\u001b[0m\u001b[1;33m.\u001b[0m\u001b[0m__Mel_Freqs\u001b[0m\u001b[1;33m(\u001b[0m\u001b[1;33m)\u001b[0m\u001b[1;33m\u001b[0m\u001b[1;33m\u001b[0m\u001b[0m\n\u001b[0;32m     59\u001b[0m         \u001b[0mself\u001b[0m\u001b[1;33m.\u001b[0m\u001b[0mmel_filter_bank\u001b[0m \u001b[1;33m=\u001b[0m \u001b[0mself\u001b[0m\u001b[1;33m.\u001b[0m\u001b[0m__Mel_Filter\u001b[0m\u001b[1;33m(\u001b[0m\u001b[1;33m)\u001b[0m\u001b[1;33m\u001b[0m\u001b[1;33m\u001b[0m\u001b[0m\n\u001b[1;32m---> 60\u001b[1;33m         \u001b[0mself\u001b[0m\u001b[1;33m.\u001b[0m\u001b[0mcoef\u001b[0m\u001b[1;33m,\u001b[0m \u001b[0mself\u001b[0m\u001b[1;33m.\u001b[0m\u001b[0mnl\u001b[0m \u001b[1;33m=\u001b[0m \u001b[0mself\u001b[0m\u001b[1;33m.\u001b[0m\u001b[0m__MSES_Coef\u001b[0m\u001b[1;33m(\u001b[0m\u001b[1;33m)\u001b[0m\u001b[1;33m\u001b[0m\u001b[1;33m\u001b[0m\u001b[0m\n\u001b[0m\u001b[0;32m     61\u001b[0m         \u001b[0mself\u001b[0m\u001b[1;33m.\u001b[0m\u001b[0mmsesscalade\u001b[0m \u001b[1;33m=\u001b[0m \u001b[0mnp\u001b[0m\u001b[1;33m.\u001b[0m\u001b[0mmean\u001b[0m\u001b[1;33m(\u001b[0m\u001b[0mself\u001b[0m\u001b[1;33m.\u001b[0m\u001b[0mcoef\u001b[0m\u001b[1;33m.\u001b[0m\u001b[0mT\u001b[0m\u001b[1;33m,\u001b[0m \u001b[0maxis\u001b[0m\u001b[1;33m=\u001b[0m\u001b[1;36m0\u001b[0m\u001b[1;33m)\u001b[0m\u001b[1;33m\u001b[0m\u001b[1;33m\u001b[0m\u001b[0m\n\u001b[0;32m     62\u001b[0m         \u001b[1;31m#np.savetxt(\"mfcc_features.txt\", self.coef[:,0:self.nl],  delimiter=\",\", fmt=\"%f\")\u001b[0m\u001b[1;33m\u001b[0m\u001b[1;33m\u001b[0m\u001b[1;33m\u001b[0m\u001b[0m\n",
      "\u001b[1;32m<ipython-input-6-ccbb33b6ea5e>\u001b[0m in \u001b[0;36m__MSES_Coef\u001b[1;34m(self)\u001b[0m\n\u001b[0;32m    292\u001b[0m                 \u001b[0mmses\u001b[0m \u001b[1;33m=\u001b[0m \u001b[0mmses\u001b[0m\u001b[1;33m*\u001b[0m\u001b[0mwi\u001b[0m\u001b[1;33m[\u001b[0m\u001b[1;36m0\u001b[0m\u001b[1;33m:\u001b[0m\u001b[0mself\u001b[0m\u001b[1;33m.\u001b[0m\u001b[0mn_mses\u001b[0m\u001b[1;33m]\u001b[0m\u001b[1;33m\u001b[0m\u001b[1;33m\u001b[0m\u001b[0m\n\u001b[0;32m    293\u001b[0m                 \u001b[1;31m#Genera matriz de coeficientes mses\u001b[0m\u001b[1;33m\u001b[0m\u001b[1;33m\u001b[0m\u001b[1;33m\u001b[0m\u001b[0m\n\u001b[1;32m--> 294\u001b[1;33m                 \u001b[0mMSES\u001b[0m\u001b[1;33m[\u001b[0m\u001b[1;33m:\u001b[0m\u001b[1;33m,\u001b[0m\u001b[0ml\u001b[0m\u001b[1;33m]\u001b[0m \u001b[1;33m=\u001b[0m \u001b[0mmses\u001b[0m\u001b[1;33m\u001b[0m\u001b[1;33m\u001b[0m\u001b[0m\n\u001b[0m\u001b[0;32m    295\u001b[0m                 \u001b[0ml\u001b[0m \u001b[1;33m=\u001b[0m \u001b[0ml\u001b[0m \u001b[1;33m+\u001b[0m \u001b[1;36m1\u001b[0m\u001b[1;33m\u001b[0m\u001b[1;33m\u001b[0m\u001b[0m\n\u001b[0;32m    296\u001b[0m \u001b[1;33m\u001b[0m\u001b[0m\n",
      "\u001b[1;31mKeyboardInterrupt\u001b[0m: "
     ]
    }
   ],
   "source": [
    "inicio = default_timer()\n",
    "\n",
    "featuresdf_EMODB_12_test_01=extract_features_test_EMODB()#pau-f3-d1, tri-m1-d2, tri-f3-d1, tri-f3-d2, tri-f3-l3, tri-f3-l4, tri-f3-n3, tri-f3-n5 audio que generaba error\n",
    "\n",
    "featuresdf_EMODB_12_train_01=extract_features_train_EMODB()\n",
    "\n",
    "fin = default_timer()\n",
    "print((fin - inicio)/60) "
   ]
  },
  {
   "cell_type": "code",
   "execution_count": 10,
   "metadata": {},
   "outputs": [
    {
     "name": "stdout",
     "output_type": "stream",
     "text": [
      "Finished feature extraction from  161  files\n"
     ]
    },
    {
     "name": "stderr",
     "output_type": "stream",
     "text": [
      "C:\\ProgramData\\Anaconda3\\lib\\site-packages\\ipykernel_launcher.py:43: WavFileWarning: Chunk (non-data) not understood, skipping it.\n"
     ]
    },
    {
     "name": "stdout",
     "output_type": "stream",
     "text": [
      "Finished feature extraction from  374  files\n",
      "8.41946595666667\n"
     ]
    }
   ],
   "source": [
    "inicio = default_timer()\n",
    "\n",
    "featuresdf_EMODB_24_test_01=extract_features_test_EMODB()#pau-f3-d1, tri-m1-d2, tri-f3-d1, tri-f3-d2, tri-f3-l3, tri-f3-l4, tri-f3-n3, tri-f3-n5 audio que generaba error\n",
    "\n",
    "featuresdf_EMODB_24_train_01=extract_features_train_EMODB()\n",
    "\n",
    "fin = default_timer()\n",
    "print((fin - inicio)/60)"
   ]
  },
  {
   "cell_type": "code",
   "execution_count": 15,
   "metadata": {},
   "outputs": [
    {
     "name": "stdout",
     "output_type": "stream",
     "text": [
      "Finished feature extraction from  161  files\n"
     ]
    },
    {
     "name": "stderr",
     "output_type": "stream",
     "text": [
      "C:\\ProgramData\\Anaconda3\\lib\\site-packages\\ipykernel_launcher.py:43: WavFileWarning: Chunk (non-data) not understood, skipping it.\n"
     ]
    },
    {
     "name": "stdout",
     "output_type": "stream",
     "text": [
      "Finished feature extraction from  374  files\n",
      "8.83887183833333\n"
     ]
    }
   ],
   "source": [
    "inicio = default_timer()\n",
    "\n",
    "featuresdf_EMODB_36_test_01=extract_features_test_EMODB()#pau-f3-d1, tri-m1-d2, tri-f3-d1, tri-f3-d2, tri-f3-l3, tri-f3-l4, tri-f3-n3, tri-f3-n5 audio que generaba error\n",
    "\n",
    "featuresdf_EMODB_36_train_01=extract_features_train_EMODB()\n",
    "\n",
    "fin = default_timer()\n",
    "print((fin - inicio)/60)"
   ]
  },
  {
   "cell_type": "code",
   "execution_count": 17,
   "metadata": {},
   "outputs": [
    {
     "name": "stdout",
     "output_type": "stream",
     "text": [
      "Finished feature extraction from  161  files\n"
     ]
    },
    {
     "name": "stderr",
     "output_type": "stream",
     "text": [
      "C:\\ProgramData\\Anaconda3\\lib\\site-packages\\ipykernel_launcher.py:43: WavFileWarning: Chunk (non-data) not understood, skipping it.\n"
     ]
    },
    {
     "name": "stdout",
     "output_type": "stream",
     "text": [
      "Finished feature extraction from  374  files\n",
      "9.113000976666672\n"
     ]
    }
   ],
   "source": [
    "inicio = default_timer()\n",
    "\n",
    "featuresdf_EMODB_48_test_01=extract_features_test_EMODB()#pau-f3-d1, tri-m1-d2, tri-f3-d1, tri-f3-d2, tri-f3-l3, tri-f3-l4, tri-f3-n3, tri-f3-n5 audio que generaba error\n",
    "\n",
    "featuresdf_EMODB_48_train_01=extract_features_train_EMODB()\n",
    "\n",
    "fin = default_timer()\n",
    "print((fin - inicio)/60)"
   ]
  },
  {
   "cell_type": "code",
   "execution_count": 20,
   "metadata": {},
   "outputs": [
    {
     "name": "stdout",
     "output_type": "stream",
     "text": [
      "Stored 'featuresdf_EMODB_12_test_01' (DataFrame)\n",
      "Stored 'featuresdf_EMODB_12_train_01' (DataFrame)\n",
      "Stored 'featuresdf_EMODB_24_test_01' (DataFrame)\n",
      "Stored 'featuresdf_EMODB_24_train_01' (DataFrame)\n",
      "Stored 'featuresdf_EMODB_36_test_01' (DataFrame)\n",
      "Stored 'featuresdf_EMODB_36_train_01' (DataFrame)\n",
      "Stored 'featuresdf_EMODB_48_test_01' (DataFrame)\n",
      "Stored 'featuresdf_EMODB_48_train_01' (DataFrame)\n"
     ]
    }
   ],
   "source": [
    "%store featuresdf_EMODB_12_test_01\n",
    "%store featuresdf_EMODB_12_train_01\n",
    "%store featuresdf_EMODB_24_test_01\n",
    "%store featuresdf_EMODB_24_train_01\n",
    "%store featuresdf_EMODB_36_test_01\n",
    "%store featuresdf_EMODB_36_train_01\n",
    "%store featuresdf_EMODB_48_test_01\n",
    "%store featuresdf_EMODB_48_train_01"
   ]
  },
  {
   "cell_type": "markdown",
   "metadata": {},
   "source": [
    "# RASTA-MFCC"
   ]
  },
  {
   "cell_type": "code",
   "execution_count": 19,
   "metadata": {},
   "outputs": [
    {
     "name": "stdout",
     "output_type": "stream",
     "text": [
      "Finished feature extraction from  161  files\n"
     ]
    },
    {
     "name": "stderr",
     "output_type": "stream",
     "text": [
      "C:\\ProgramData\\Anaconda3\\lib\\site-packages\\ipykernel_launcher.py:43: WavFileWarning: Chunk (non-data) not understood, skipping it.\n"
     ]
    },
    {
     "name": "stdout",
     "output_type": "stream",
     "text": [
      "Finished feature extraction from  374  files\n",
      "10.17211209666666\n"
     ]
    }
   ],
   "source": [
    "inicio = default_timer()\n",
    "\n",
    "featuresdf_EMODB_12_test_02=extract_features_test_EMODB()\n",
    "\n",
    "featuresdf_EMODB_12_train_02=extract_features_train_EMODB()\n",
    "\n",
    "fin = default_timer()\n",
    "print((fin - inicio)/60)  "
   ]
  },
  {
   "cell_type": "code",
   "execution_count": 23,
   "metadata": {},
   "outputs": [
    {
     "name": "stdout",
     "output_type": "stream",
     "text": [
      "Finished feature extraction from  161  files\n"
     ]
    },
    {
     "name": "stderr",
     "output_type": "stream",
     "text": [
      "C:\\ProgramData\\Anaconda3\\lib\\site-packages\\ipykernel_launcher.py:43: WavFileWarning: Chunk (non-data) not understood, skipping it.\n"
     ]
    },
    {
     "name": "stdout",
     "output_type": "stream",
     "text": [
      "Finished feature extraction from  374  files\n",
      "9.925071063333341\n"
     ]
    }
   ],
   "source": [
    "inicio = default_timer()\n",
    "\n",
    "featuresdf_EMODB_24_test_02=extract_features_test_EMODB()\n",
    "\n",
    "featuresdf_EMODB_24_train_02=extract_features_train_EMODB()\n",
    "\n",
    "fin = default_timer()\n",
    "print((fin - inicio)/60) "
   ]
  },
  {
   "cell_type": "code",
   "execution_count": 25,
   "metadata": {},
   "outputs": [
    {
     "name": "stdout",
     "output_type": "stream",
     "text": [
      "Finished feature extraction from  161  files\n"
     ]
    },
    {
     "name": "stderr",
     "output_type": "stream",
     "text": [
      "C:\\ProgramData\\Anaconda3\\lib\\site-packages\\ipykernel_launcher.py:43: WavFileWarning: Chunk (non-data) not understood, skipping it.\n"
     ]
    },
    {
     "name": "stdout",
     "output_type": "stream",
     "text": [
      "Finished feature extraction from  374  files\n",
      "10.830818425000007\n"
     ]
    }
   ],
   "source": [
    "inicio = default_timer()\n",
    "\n",
    "featuresdf_EMODB_36_test_02=extract_features_test_EMODB()\n",
    "\n",
    "featuresdf_EMODB_36_train_02=extract_features_train_EMODB()\n",
    "\n",
    "fin = default_timer()\n",
    "print((fin - inicio)/60) "
   ]
  },
  {
   "cell_type": "code",
   "execution_count": 27,
   "metadata": {},
   "outputs": [
    {
     "name": "stdout",
     "output_type": "stream",
     "text": [
      "Finished feature extraction from  161  files\n"
     ]
    },
    {
     "name": "stderr",
     "output_type": "stream",
     "text": [
      "C:\\ProgramData\\Anaconda3\\lib\\site-packages\\ipykernel_launcher.py:43: WavFileWarning: Chunk (non-data) not understood, skipping it.\n"
     ]
    },
    {
     "name": "stdout",
     "output_type": "stream",
     "text": [
      "Finished feature extraction from  374  files\n",
      "11.023670221666665\n"
     ]
    }
   ],
   "source": [
    "inicio = default_timer()\n",
    "\n",
    "featuresdf_EMODB_48_test_02=extract_features_test_EMODB()\n",
    "\n",
    "featuresdf_EMODB_48_train_02=extract_features_train_EMODB()\n",
    "\n",
    "fin = default_timer()\n",
    "print((fin - inicio)/60) "
   ]
  },
  {
   "cell_type": "code",
   "execution_count": 39,
   "metadata": {},
   "outputs": [
    {
     "name": "stdout",
     "output_type": "stream",
     "text": [
      "Stored 'featuresdf_EMODB_12_test_02' (DataFrame)\n",
      "Stored 'featuresdf_EMODB_12_train_02' (DataFrame)\n",
      "Stored 'featuresdf_EMODB_24_test_02' (DataFrame)\n",
      "Stored 'featuresdf_EMODB_24_train_02' (DataFrame)\n",
      "Stored 'featuresdf_EMODB_36_test_02' (DataFrame)\n",
      "Stored 'featuresdf_EMODB_36_train_02' (DataFrame)\n",
      "Stored 'featuresdf_EMODB_48_test_02' (DataFrame)\n",
      "Stored 'featuresdf_EMODB_48_train_02' (DataFrame)\n"
     ]
    }
   ],
   "source": [
    "%store featuresdf_EMODB_12_test_02\n",
    "%store featuresdf_EMODB_12_train_02\n",
    "%store featuresdf_EMODB_24_test_02\n",
    "%store featuresdf_EMODB_24_train_02\n",
    "%store featuresdf_EMODB_36_test_02\n",
    "%store featuresdf_EMODB_36_train_02\n",
    "%store featuresdf_EMODB_48_test_02\n",
    "%store featuresdf_EMODB_48_train_02"
   ]
  },
  {
   "cell_type": "markdown",
   "metadata": {},
   "source": [
    "## EMODB Experimento 1.5\n",
    "\n",
    "### Cantidad de coeficientes 12, 24, 36, 48, Usando ventana tipo 2, Con preénfasis 0.97, ancho de band completo (fs/2), tamaño de frame de 30ms y traslape de 50\n",
    "\n",
    "### Window=2 preénfasis=0.97 f_max = fs/2 frame=0.03 overlap=50"
   ]
  },
  {
   "cell_type": "markdown",
   "metadata": {},
   "source": [
    "# MFCC"
   ]
  },
  {
   "cell_type": "code",
   "execution_count": 38,
   "metadata": {},
   "outputs": [
    {
     "name": "stdout",
     "output_type": "stream",
     "text": [
      "Finished feature extraction from  161  files\n"
     ]
    },
    {
     "name": "stderr",
     "output_type": "stream",
     "text": [
      "C:\\ProgramData\\Anaconda3\\lib\\site-packages\\ipykernel_launcher.py:43: WavFileWarning: Chunk (non-data) not understood, skipping it.\n"
     ]
    },
    {
     "name": "stdout",
     "output_type": "stream",
     "text": [
      "Finished feature extraction from  374  files\n",
      "5.130635914999994\n"
     ]
    }
   ],
   "source": [
    "inicio = default_timer()\n",
    "\n",
    "featuresdf_EMODB_12_test_03=extract_features_test_EMODB()\n",
    "\n",
    "featuresdf_EMODB_12_train_03=extract_features_train_EMODB()\n",
    "\n",
    "fin = default_timer()\n",
    "print((fin - inicio)/60) "
   ]
  },
  {
   "cell_type": "code",
   "execution_count": 41,
   "metadata": {},
   "outputs": [
    {
     "name": "stdout",
     "output_type": "stream",
     "text": [
      "Finished feature extraction from  161  files\n"
     ]
    },
    {
     "name": "stderr",
     "output_type": "stream",
     "text": [
      "C:\\ProgramData\\Anaconda3\\lib\\site-packages\\ipykernel_launcher.py:43: WavFileWarning: Chunk (non-data) not understood, skipping it.\n"
     ]
    },
    {
     "name": "stdout",
     "output_type": "stream",
     "text": [
      "Finished feature extraction from  374  files\n",
      "6.598268536666668\n"
     ]
    }
   ],
   "source": [
    "inicio = default_timer()\n",
    "\n",
    "featuresdf_EMODB_24_test_03=extract_features_test_EMODB()\n",
    "\n",
    "featuresdf_EMODB_24_train_03=extract_features_train_EMODB()\n",
    "\n",
    "fin = default_timer()\n",
    "print((fin - inicio)/60)  "
   ]
  },
  {
   "cell_type": "code",
   "execution_count": 43,
   "metadata": {},
   "outputs": [
    {
     "name": "stdout",
     "output_type": "stream",
     "text": [
      "Finished feature extraction from  161  files\n"
     ]
    },
    {
     "name": "stderr",
     "output_type": "stream",
     "text": [
      "C:\\ProgramData\\Anaconda3\\lib\\site-packages\\ipykernel_launcher.py:43: WavFileWarning: Chunk (non-data) not understood, skipping it.\n"
     ]
    },
    {
     "name": "stdout",
     "output_type": "stream",
     "text": [
      "Finished feature extraction from  374  files\n",
      "6.867225581666662\n"
     ]
    }
   ],
   "source": [
    "inicio = default_timer()\n",
    "\n",
    "featuresdf_EMODB_36_test_03=extract_features_test_EMODB()\n",
    "\n",
    "featuresdf_EMODB_36_train_03=extract_features_train_EMODB()\n",
    "\n",
    "fin = default_timer()\n",
    "print((fin - inicio)/60) "
   ]
  },
  {
   "cell_type": "code",
   "execution_count": 45,
   "metadata": {},
   "outputs": [
    {
     "name": "stdout",
     "output_type": "stream",
     "text": [
      "Finished feature extraction from  161  files\n"
     ]
    },
    {
     "name": "stderr",
     "output_type": "stream",
     "text": [
      "C:\\ProgramData\\Anaconda3\\lib\\site-packages\\ipykernel_launcher.py:43: WavFileWarning: Chunk (non-data) not understood, skipping it.\n"
     ]
    },
    {
     "name": "stdout",
     "output_type": "stream",
     "text": [
      "Finished feature extraction from  374  files\n",
      "7.3847820283333325\n"
     ]
    }
   ],
   "source": [
    "inicio = default_timer()\n",
    "\n",
    "featuresdf_EMODB_48_test_03=extract_features_test_EMODB()\n",
    "\n",
    "featuresdf_EMODB_48_train_03=extract_features_train_EMODB()\n",
    "\n",
    "fin = default_timer()\n",
    "print((fin - inicio)/60) "
   ]
  },
  {
   "cell_type": "code",
   "execution_count": 46,
   "metadata": {},
   "outputs": [
    {
     "name": "stdout",
     "output_type": "stream",
     "text": [
      "Stored 'featuresdf_EMODB_12_test_03' (DataFrame)\n",
      "Stored 'featuresdf_EMODB_12_train_03' (DataFrame)\n",
      "Stored 'featuresdf_EMODB_24_test_03' (DataFrame)\n",
      "Stored 'featuresdf_EMODB_24_train_03' (DataFrame)\n",
      "Stored 'featuresdf_EMODB_36_test_03' (DataFrame)\n",
      "Stored 'featuresdf_EMODB_36_train_03' (DataFrame)\n",
      "Stored 'featuresdf_EMODB_48_test_03' (DataFrame)\n",
      "Stored 'featuresdf_EMODB_48_train_03' (DataFrame)\n"
     ]
    }
   ],
   "source": [
    "%store featuresdf_EMODB_12_test_03\n",
    "%store featuresdf_EMODB_12_train_03\n",
    "%store featuresdf_EMODB_24_test_03\n",
    "%store featuresdf_EMODB_24_train_03\n",
    "%store featuresdf_EMODB_36_test_03\n",
    "%store featuresdf_EMODB_36_train_03\n",
    "%store featuresdf_EMODB_48_test_03\n",
    "%store featuresdf_EMODB_48_train_03"
   ]
  },
  {
   "cell_type": "markdown",
   "metadata": {},
   "source": [
    "# RASTA-MFCC"
   ]
  },
  {
   "cell_type": "code",
   "execution_count": 48,
   "metadata": {},
   "outputs": [
    {
     "name": "stdout",
     "output_type": "stream",
     "text": [
      "Finished feature extraction from  161  files\n"
     ]
    },
    {
     "name": "stderr",
     "output_type": "stream",
     "text": [
      "C:\\ProgramData\\Anaconda3\\lib\\site-packages\\ipykernel_launcher.py:43: WavFileWarning: Chunk (non-data) not understood, skipping it.\n"
     ]
    },
    {
     "name": "stdout",
     "output_type": "stream",
     "text": [
      "Finished feature extraction from  374  files\n",
      "7.535426729999987\n"
     ]
    }
   ],
   "source": [
    "inicio = default_timer()\n",
    "\n",
    "featuresdf_EMODB_12_test_04=extract_features_test_EMODB()\n",
    "\n",
    "featuresdf_EMODB_12_train_04=extract_features_train_EMODB()\n",
    "\n",
    "fin = default_timer()\n",
    "print((fin - inicio)/60) "
   ]
  },
  {
   "cell_type": "code",
   "execution_count": 50,
   "metadata": {},
   "outputs": [
    {
     "name": "stdout",
     "output_type": "stream",
     "text": [
      "Finished feature extraction from  161  files\n"
     ]
    },
    {
     "name": "stderr",
     "output_type": "stream",
     "text": [
      "C:\\ProgramData\\Anaconda3\\lib\\site-packages\\ipykernel_launcher.py:43: WavFileWarning: Chunk (non-data) not understood, skipping it.\n"
     ]
    },
    {
     "name": "stdout",
     "output_type": "stream",
     "text": [
      "Finished feature extraction from  374  files\n",
      "7.0749877750000145\n"
     ]
    }
   ],
   "source": [
    "inicio = default_timer()\n",
    "\n",
    "featuresdf_EMODB_24_test_04=extract_features_test_EMODB()\n",
    "\n",
    "featuresdf_EMODB_24_train_04=extract_features_train_EMODB()\n",
    "\n",
    "fin = default_timer()\n",
    "print((fin - inicio)/60) "
   ]
  },
  {
   "cell_type": "code",
   "execution_count": 53,
   "metadata": {},
   "outputs": [
    {
     "name": "stdout",
     "output_type": "stream",
     "text": [
      "Finished feature extraction from  161  files\n"
     ]
    },
    {
     "name": "stderr",
     "output_type": "stream",
     "text": [
      "C:\\ProgramData\\Anaconda3\\lib\\site-packages\\ipykernel_launcher.py:43: WavFileWarning: Chunk (non-data) not understood, skipping it.\n"
     ]
    },
    {
     "name": "stdout",
     "output_type": "stream",
     "text": [
      "Finished feature extraction from  374  files\n",
      "9.017659686666654\n"
     ]
    }
   ],
   "source": [
    "inicio = default_timer()\n",
    "\n",
    "featuresdf_EMODB_36_test_04=extract_features_test_EMODB()\n",
    "\n",
    "featuresdf_EMODB_36_train_04=extract_features_train_EMODB()\n",
    "\n",
    "fin = default_timer()\n",
    "print((fin - inicio)/60) "
   ]
  },
  {
   "cell_type": "code",
   "execution_count": 55,
   "metadata": {},
   "outputs": [
    {
     "name": "stdout",
     "output_type": "stream",
     "text": [
      "Finished feature extraction from  161  files\n"
     ]
    },
    {
     "name": "stderr",
     "output_type": "stream",
     "text": [
      "C:\\ProgramData\\Anaconda3\\lib\\site-packages\\ipykernel_launcher.py:43: WavFileWarning: Chunk (non-data) not understood, skipping it.\n"
     ]
    },
    {
     "name": "stdout",
     "output_type": "stream",
     "text": [
      "Finished feature extraction from  374  files\n",
      "9.59332453666666\n"
     ]
    }
   ],
   "source": [
    "inicio = default_timer()\n",
    "\n",
    "featuresdf_EMODB_48_test_04=extract_features_test_EMODB()\n",
    "\n",
    "featuresdf_EMODB_48_train_04=extract_features_train_EMODB()\n",
    "\n",
    "fin = default_timer()\n",
    "print((fin - inicio)/60) "
   ]
  },
  {
   "cell_type": "code",
   "execution_count": 56,
   "metadata": {},
   "outputs": [
    {
     "name": "stdout",
     "output_type": "stream",
     "text": [
      "Stored 'featuresdf_EMODB_12_test_04' (DataFrame)\n",
      "Stored 'featuresdf_EMODB_12_train_04' (DataFrame)\n",
      "Stored 'featuresdf_EMODB_24_test_04' (DataFrame)\n",
      "Stored 'featuresdf_EMODB_24_train_04' (DataFrame)\n",
      "Stored 'featuresdf_EMODB_36_test_04' (DataFrame)\n",
      "Stored 'featuresdf_EMODB_36_train_04' (DataFrame)\n",
      "Stored 'featuresdf_EMODB_48_test_04' (DataFrame)\n",
      "Stored 'featuresdf_EMODB_48_train_04' (DataFrame)\n"
     ]
    }
   ],
   "source": [
    "%store featuresdf_EMODB_12_test_04\n",
    "%store featuresdf_EMODB_12_train_04\n",
    "%store featuresdf_EMODB_24_test_04\n",
    "%store featuresdf_EMODB_24_train_04\n",
    "%store featuresdf_EMODB_36_test_04\n",
    "%store featuresdf_EMODB_36_train_04\n",
    "%store featuresdf_EMODB_48_test_04\n",
    "%store featuresdf_EMODB_48_train_04"
   ]
  },
  {
   "cell_type": "markdown",
   "metadata": {},
   "source": [
    "## EMODB Experimento 2\n",
    "\n",
    "### Cantidad de coeficientes el mejor resultado de los dos experimentos anteriores, Usando ventana tipo 2, sin y con preénfasis, ancho de banda completo (fs/2), tamaño de frame desde 10ms hasta 100 ms y traslape de 50%\n",
    "\n",
    "### n_coef=24  Window=2  preénfasis=0.0 f_max = fs/2  frame=10-100 overlap=50\n",
    "\n",
    "## MFCC"
   ]
  },
  {
   "cell_type": "code",
   "execution_count": 23,
   "metadata": {
    "collapsed": true
   },
   "outputs": [
    {
     "name": "stdout",
     "output_type": "stream",
     "text": [
      "03a04Ad.wav\n"
     ]
    },
    {
     "name": "stderr",
     "output_type": "stream",
     "text": [
      "C:\\ProgramData\\Anaconda3\\lib\\site-packages\\ipykernel_launcher.py:246: RuntimeWarning: invalid value encountered in true_divide\n"
     ]
    },
    {
     "name": "stdout",
     "output_type": "stream",
     "text": [
      "08a01Ab.wav\n",
      "08a02Ab.wav\n",
      "10a01Ac.wav\n",
      "10a02Ab.wav\n",
      "11a01Aa.wav\n"
     ]
    },
    {
     "ename": "KeyboardInterrupt",
     "evalue": "",
     "output_type": "error",
     "traceback": [
      "\u001b[1;31m---------------------------------------------------------------------------\u001b[0m",
      "\u001b[1;31mKeyboardInterrupt\u001b[0m                         Traceback (most recent call last)",
      "\u001b[1;32m<ipython-input-23-7aed0e63d457>\u001b[0m in \u001b[0;36m<module>\u001b[1;34m\u001b[0m\n\u001b[0;32m      1\u001b[0m \u001b[0minicio\u001b[0m \u001b[1;33m=\u001b[0m \u001b[0mdefault_timer\u001b[0m\u001b[1;33m(\u001b[0m\u001b[1;33m)\u001b[0m\u001b[1;33m\u001b[0m\u001b[1;33m\u001b[0m\u001b[0m\n\u001b[0;32m      2\u001b[0m \u001b[1;33m\u001b[0m\u001b[0m\n\u001b[1;32m----> 3\u001b[1;33m \u001b[0mfeaturesdf_EMODB_10_test_05\u001b[0m\u001b[1;33m=\u001b[0m\u001b[0mextract_features_test_EMODB\u001b[0m\u001b[1;33m(\u001b[0m\u001b[1;33m)\u001b[0m\u001b[1;33m\u001b[0m\u001b[1;33m\u001b[0m\u001b[0m\n\u001b[0m\u001b[0;32m      4\u001b[0m \u001b[1;33m\u001b[0m\u001b[0m\n\u001b[0;32m      5\u001b[0m \u001b[0mfeaturesdf_EMODB_10_train_05\u001b[0m\u001b[1;33m=\u001b[0m\u001b[0mextract_features_train_EMODB\u001b[0m\u001b[1;33m(\u001b[0m\u001b[1;33m)\u001b[0m\u001b[1;33m\u001b[0m\u001b[1;33m\u001b[0m\u001b[0m\n",
      "\u001b[1;32m<ipython-input-1-2efcb57128c4>\u001b[0m in \u001b[0;36mextract_features_test_EMODB\u001b[1;34m()\u001b[0m\n\u001b[0;32m     19\u001b[0m             \u001b[1;32mif\u001b[0m \u001b[0mrow\u001b[0m\u001b[1;33m[\u001b[0m\u001b[1;34m\"if\"\u001b[0m\u001b[1;33m]\u001b[0m \u001b[1;33m==\u001b[0m \u001b[1;34m\"test\"\u001b[0m \u001b[1;33m:\u001b[0m\u001b[1;33m\u001b[0m\u001b[1;33m\u001b[0m\u001b[0m\n\u001b[0;32m     20\u001b[0m                 \u001b[0mprint\u001b[0m\u001b[1;33m(\u001b[0m\u001b[0mname\u001b[0m\u001b[1;33m)\u001b[0m\u001b[1;33m\u001b[0m\u001b[1;33m\u001b[0m\u001b[0m\n\u001b[1;32m---> 21\u001b[1;33m                 \u001b[0mdata\u001b[0m \u001b[1;33m=\u001b[0m \u001b[0mmult_spect_ent_coef_corr\u001b[0m\u001b[1;33m(\u001b[0m\u001b[0mfile_name\u001b[0m\u001b[1;33m)\u001b[0m\u001b[1;33m\u001b[0m\u001b[1;33m\u001b[0m\u001b[0m\n\u001b[0m\u001b[0;32m     22\u001b[0m                 \u001b[0mfeatures\u001b[0m\u001b[1;33m.\u001b[0m\u001b[0mappend\u001b[0m\u001b[1;33m(\u001b[0m\u001b[1;33m[\u001b[0m\u001b[0mdata\u001b[0m\u001b[1;33m.\u001b[0m\u001b[0mmsesscalade\u001b[0m\u001b[1;33m,\u001b[0m \u001b[0mclass_label\u001b[0m\u001b[1;33m]\u001b[0m\u001b[1;33m)\u001b[0m\u001b[1;33m\u001b[0m\u001b[1;33m\u001b[0m\u001b[0m\n\u001b[0;32m     23\u001b[0m \u001b[1;33m\u001b[0m\u001b[0m\n",
      "\u001b[1;32m<ipython-input-22-aa6cd8c9c87a>\u001b[0m in \u001b[0;36m__init__\u001b[1;34m(self, filename)\u001b[0m\n\u001b[0;32m     58\u001b[0m         \u001b[0mself\u001b[0m\u001b[1;33m.\u001b[0m\u001b[0mmel_freqs\u001b[0m \u001b[1;33m=\u001b[0m \u001b[0mself\u001b[0m\u001b[1;33m.\u001b[0m\u001b[0m__Mel_Freqs\u001b[0m\u001b[1;33m(\u001b[0m\u001b[1;33m)\u001b[0m\u001b[1;33m\u001b[0m\u001b[1;33m\u001b[0m\u001b[0m\n\u001b[0;32m     59\u001b[0m         \u001b[0mself\u001b[0m\u001b[1;33m.\u001b[0m\u001b[0mmel_filter_bank\u001b[0m \u001b[1;33m=\u001b[0m \u001b[0mself\u001b[0m\u001b[1;33m.\u001b[0m\u001b[0m__Mel_Filter\u001b[0m\u001b[1;33m(\u001b[0m\u001b[1;33m)\u001b[0m\u001b[1;33m\u001b[0m\u001b[1;33m\u001b[0m\u001b[0m\n\u001b[1;32m---> 60\u001b[1;33m         \u001b[0mself\u001b[0m\u001b[1;33m.\u001b[0m\u001b[0mcoef\u001b[0m\u001b[1;33m,\u001b[0m \u001b[0mself\u001b[0m\u001b[1;33m.\u001b[0m\u001b[0mnl\u001b[0m \u001b[1;33m=\u001b[0m \u001b[0mself\u001b[0m\u001b[1;33m.\u001b[0m\u001b[0m__MSES_Coef\u001b[0m\u001b[1;33m(\u001b[0m\u001b[1;33m)\u001b[0m\u001b[1;33m\u001b[0m\u001b[1;33m\u001b[0m\u001b[0m\n\u001b[0m\u001b[0;32m     61\u001b[0m         \u001b[0mself\u001b[0m\u001b[1;33m.\u001b[0m\u001b[0mmsesscalade\u001b[0m \u001b[1;33m=\u001b[0m \u001b[0mnp\u001b[0m\u001b[1;33m.\u001b[0m\u001b[0mmean\u001b[0m\u001b[1;33m(\u001b[0m\u001b[0mself\u001b[0m\u001b[1;33m.\u001b[0m\u001b[0mcoef\u001b[0m\u001b[1;33m.\u001b[0m\u001b[0mT\u001b[0m\u001b[1;33m,\u001b[0m \u001b[0maxis\u001b[0m\u001b[1;33m=\u001b[0m\u001b[1;36m0\u001b[0m\u001b[1;33m)\u001b[0m\u001b[1;33m\u001b[0m\u001b[1;33m\u001b[0m\u001b[0m\n\u001b[0;32m     62\u001b[0m         \u001b[1;31m#np.savetxt(\"mfcc_features.txt\", self.coef[:,0:self.nl],  delimiter=\",\", fmt=\"%f\")\u001b[0m\u001b[1;33m\u001b[0m\u001b[1;33m\u001b[0m\u001b[1;33m\u001b[0m\u001b[0m\n",
      "\u001b[1;32m<ipython-input-22-aa6cd8c9c87a>\u001b[0m in \u001b[0;36m__MSES_Coef\u001b[1;34m(self)\u001b[0m\n\u001b[0;32m    200\u001b[0m \u001b[1;33m\u001b[0m\u001b[0m\n\u001b[0;32m    201\u001b[0m             \u001b[1;31m#función de autocorrelación\u001b[0m\u001b[1;33m\u001b[0m\u001b[1;33m\u001b[0m\u001b[1;33m\u001b[0m\u001b[0m\n\u001b[1;32m--> 202\u001b[1;33m             \u001b[0macorr\u001b[0m \u001b[1;33m=\u001b[0m \u001b[0mnp\u001b[0m\u001b[1;33m.\u001b[0m\u001b[0mcorrelate\u001b[0m\u001b[1;33m(\u001b[0m\u001b[0mframe\u001b[0m\u001b[1;33m,\u001b[0m\u001b[0mframe\u001b[0m\u001b[1;33m,\u001b[0m\u001b[0mmode\u001b[0m\u001b[1;33m=\u001b[0m\u001b[1;34m'full'\u001b[0m\u001b[1;33m)\u001b[0m\u001b[1;33m\u001b[0m\u001b[1;33m\u001b[0m\u001b[0m\n\u001b[0m\u001b[0;32m    203\u001b[0m             \u001b[0mm\u001b[0m \u001b[1;33m=\u001b[0m \u001b[0mnp\u001b[0m\u001b[1;33m.\u001b[0m\u001b[0mamax\u001b[0m\u001b[1;33m(\u001b[0m\u001b[0macorr\u001b[0m\u001b[1;33m[\u001b[0m\u001b[1;36m20\u001b[0m\u001b[1;33m:\u001b[0m\u001b[0mlen\u001b[0m\u001b[1;33m(\u001b[0m\u001b[0macorr\u001b[0m\u001b[1;33m)\u001b[0m\u001b[1;33m]\u001b[0m\u001b[1;33m)\u001b[0m\u001b[1;33m\u001b[0m\u001b[1;33m\u001b[0m\u001b[0m\n\u001b[0;32m    204\u001b[0m \u001b[1;33m\u001b[0m\u001b[0m\n",
      "\u001b[1;32m<__array_function__ internals>\u001b[0m in \u001b[0;36mcorrelate\u001b[1;34m(*args, **kwargs)\u001b[0m\n",
      "\u001b[1;32mC:\\ProgramData\\Anaconda3\\lib\\site-packages\\numpy\\core\\numeric.py\u001b[0m in \u001b[0;36mcorrelate\u001b[1;34m(a, v, mode)\u001b[0m\n\u001b[0;32m    711\u001b[0m     \"\"\"\n\u001b[0;32m    712\u001b[0m     \u001b[0mmode\u001b[0m \u001b[1;33m=\u001b[0m \u001b[0m_mode_from_name\u001b[0m\u001b[1;33m(\u001b[0m\u001b[0mmode\u001b[0m\u001b[1;33m)\u001b[0m\u001b[1;33m\u001b[0m\u001b[1;33m\u001b[0m\u001b[0m\n\u001b[1;32m--> 713\u001b[1;33m     \u001b[1;32mreturn\u001b[0m \u001b[0mmultiarray\u001b[0m\u001b[1;33m.\u001b[0m\u001b[0mcorrelate2\u001b[0m\u001b[1;33m(\u001b[0m\u001b[0ma\u001b[0m\u001b[1;33m,\u001b[0m \u001b[0mv\u001b[0m\u001b[1;33m,\u001b[0m \u001b[0mmode\u001b[0m\u001b[1;33m)\u001b[0m\u001b[1;33m\u001b[0m\u001b[1;33m\u001b[0m\u001b[0m\n\u001b[0m\u001b[0;32m    714\u001b[0m \u001b[1;33m\u001b[0m\u001b[0m\n\u001b[0;32m    715\u001b[0m \u001b[1;33m\u001b[0m\u001b[0m\n",
      "\u001b[1;31mKeyboardInterrupt\u001b[0m: "
     ]
    }
   ],
   "source": [
    "inicio = default_timer()\n",
    "\n",
    "featuresdf_EMODB_10_test_05=extract_features_test_EMODB()\n",
    "corr\n",
    "featuresdf_EMODB_10_train_05=extract_features_train_EMODB()\n",
    "\n",
    "fin = default_timer()\n",
    "print((fin - inicio)/60) "
   ]
  },
  {
   "cell_type": "code",
   "execution_count": 8,
   "metadata": {},
   "outputs": [
    {
     "name": "stdout",
     "output_type": "stream",
     "text": [
      "Finished feature extraction from  161  files\n"
     ]
    },
    {
     "name": "stderr",
     "output_type": "stream",
     "text": [
      "C:\\ProgramData\\Anaconda3\\lib\\site-packages\\ipykernel_launcher.py:43: WavFileWarning: Chunk (non-data) not understood, skipping it.\n"
     ]
    },
    {
     "name": "stdout",
     "output_type": "stream",
     "text": [
      "Finished feature extraction from  374  files\n",
      "9.285833640000025\n"
     ]
    }
   ],
   "source": [
    "inicio = default_timer()\n",
    "\n",
    "featuresdf_EMODB_20_test_05=extract_features_test_EMODB()\n",
    "\n",
    "featuresdf_EMODB_20_train_05=extract_features_train_EMODB()\n",
    "\n",
    "fin = default_timer()\n",
    "print((fin - inicio)/60) "
   ]
  },
  {
   "cell_type": "code",
   "execution_count": 10,
   "metadata": {},
   "outputs": [
    {
     "name": "stdout",
     "output_type": "stream",
     "text": [
      "Finished feature extraction from  161  files\n"
     ]
    },
    {
     "name": "stderr",
     "output_type": "stream",
     "text": [
      "C:\\ProgramData\\Anaconda3\\lib\\site-packages\\ipykernel_launcher.py:43: WavFileWarning: Chunk (non-data) not understood, skipping it.\n"
     ]
    },
    {
     "name": "stdout",
     "output_type": "stream",
     "text": [
      "Finished feature extraction from  374  files\n",
      "6.821008521666681\n"
     ]
    }
   ],
   "source": [
    "inicio = default_timer()\n",
    "\n",
    "featuresdf_EMODB_30_test_05=extract_features_test_EMODB()\n",
    "\n",
    "featuresdf_EMODB_30_train_05=extract_features_train_EMODB()\n",
    "\n",
    "fin = default_timer()\n",
    "print((fin - inicio)/60) "
   ]
  },
  {
   "cell_type": "code",
   "execution_count": 13,
   "metadata": {},
   "outputs": [
    {
     "name": "stdout",
     "output_type": "stream",
     "text": [
      "Finished feature extraction from  161  files\n"
     ]
    },
    {
     "name": "stderr",
     "output_type": "stream",
     "text": [
      "C:\\ProgramData\\Anaconda3\\lib\\site-packages\\ipykernel_launcher.py:43: WavFileWarning: Chunk (non-data) not understood, skipping it.\n"
     ]
    },
    {
     "name": "stdout",
     "output_type": "stream",
     "text": [
      "Finished feature extraction from  374  files\n",
      "8.020397668333317\n"
     ]
    }
   ],
   "source": [
    "inicio = default_timer()\n",
    "\n",
    "featuresdf_EMODB_40_test_05=extract_features_test_EMODB()\n",
    "\n",
    "featuresdf_EMODB_40_train_05=extract_features_train_EMODB()\n",
    "\n",
    "fin = default_timer()\n",
    "print((fin - inicio)/60) "
   ]
  },
  {
   "cell_type": "code",
   "execution_count": 15,
   "metadata": {},
   "outputs": [
    {
     "name": "stdout",
     "output_type": "stream",
     "text": [
      "Finished feature extraction from  161  files\n"
     ]
    },
    {
     "name": "stderr",
     "output_type": "stream",
     "text": [
      "C:\\ProgramData\\Anaconda3\\lib\\site-packages\\ipykernel_launcher.py:43: WavFileWarning: Chunk (non-data) not understood, skipping it.\n"
     ]
    },
    {
     "name": "stdout",
     "output_type": "stream",
     "text": [
      "Finished feature extraction from  374  files\n",
      "8.34179592833334\n"
     ]
    }
   ],
   "source": [
    "inicio = default_timer()\n",
    "\n",
    "featuresdf_EMODB_50_test_05=extract_features_test_EMODB()\n",
    "\n",
    "featuresdf_EMODB_50_train_05=extract_features_train_EMODB()\n",
    "\n",
    "fin = default_timer()\n",
    "print((fin - inicio)/60) "
   ]
  },
  {
   "cell_type": "code",
   "execution_count": 18,
   "metadata": {},
   "outputs": [
    {
     "name": "stdout",
     "output_type": "stream",
     "text": [
      "Finished feature extraction from  161  files\n"
     ]
    },
    {
     "name": "stderr",
     "output_type": "stream",
     "text": [
      "C:\\ProgramData\\Anaconda3\\lib\\site-packages\\ipykernel_launcher.py:43: WavFileWarning: Chunk (non-data) not understood, skipping it.\n"
     ]
    },
    {
     "name": "stdout",
     "output_type": "stream",
     "text": [
      "Finished feature extraction from  374  files\n",
      "7.146340181666649\n"
     ]
    }
   ],
   "source": [
    "inicio = default_timer()\n",
    "\n",
    "featuresdf_EMODB_60_test_05=extract_features_test_EMODB()\n",
    "\n",
    "featuresdf_EMODB_60_train_05=extract_features_train_EMODB()\n",
    "\n",
    "fin = default_timer()\n",
    "print((fin - inicio)/60) "
   ]
  },
  {
   "cell_type": "code",
   "execution_count": 20,
   "metadata": {},
   "outputs": [
    {
     "name": "stdout",
     "output_type": "stream",
     "text": [
      "Finished feature extraction from  161  files\n"
     ]
    },
    {
     "name": "stderr",
     "output_type": "stream",
     "text": [
      "C:\\ProgramData\\Anaconda3\\lib\\site-packages\\ipykernel_launcher.py:43: WavFileWarning: Chunk (non-data) not understood, skipping it.\n"
     ]
    },
    {
     "name": "stdout",
     "output_type": "stream",
     "text": [
      "Finished feature extraction from  374  files\n",
      "7.137059721666659\n"
     ]
    }
   ],
   "source": [
    "inicio = default_timer()\n",
    "\n",
    "featuresdf_EMODB_70_test_05=extract_features_test_EMODB()\n",
    "\n",
    "featuresdf_EMODB_70_train_05=extract_features_train_EMODB()\n",
    "\n",
    "fin = default_timer()\n",
    "print((fin - inicio)/60) "
   ]
  },
  {
   "cell_type": "code",
   "execution_count": 22,
   "metadata": {},
   "outputs": [
    {
     "name": "stdout",
     "output_type": "stream",
     "text": [
      "Finished feature extraction from  161  files\n"
     ]
    },
    {
     "name": "stderr",
     "output_type": "stream",
     "text": [
      "C:\\ProgramData\\Anaconda3\\lib\\site-packages\\ipykernel_launcher.py:43: WavFileWarning: Chunk (non-data) not understood, skipping it.\n"
     ]
    },
    {
     "name": "stdout",
     "output_type": "stream",
     "text": [
      "Finished feature extraction from  374  files\n",
      "6.5144229099999995\n"
     ]
    }
   ],
   "source": [
    "inicio = default_timer()\n",
    "\n",
    "featuresdf_EMODB_80_test_05=extract_features_test_EMODB()\n",
    "\n",
    "featuresdf_EMODB_80_train_05=extract_features_train_EMODB()\n",
    "\n",
    "fin = default_timer()\n",
    "print((fin - inicio)/60) "
   ]
  },
  {
   "cell_type": "code",
   "execution_count": 24,
   "metadata": {},
   "outputs": [
    {
     "name": "stdout",
     "output_type": "stream",
     "text": [
      "Finished feature extraction from  161  files\n"
     ]
    },
    {
     "name": "stderr",
     "output_type": "stream",
     "text": [
      "C:\\ProgramData\\Anaconda3\\lib\\site-packages\\ipykernel_launcher.py:43: WavFileWarning: Chunk (non-data) not understood, skipping it.\n"
     ]
    },
    {
     "name": "stdout",
     "output_type": "stream",
     "text": [
      "Finished feature extraction from  374  files\n",
      "6.489189533333319\n"
     ]
    }
   ],
   "source": [
    "inicio = default_timer()\n",
    "\n",
    "featuresdf_EMODB_90_test_05=extract_features_test_EMODB()\n",
    "\n",
    "featuresdf_EMODB_90_train_05=extract_features_train_EMODB()\n",
    "\n",
    "fin = default_timer()\n",
    "print((fin - inicio)/60) "
   ]
  },
  {
   "cell_type": "code",
   "execution_count": 26,
   "metadata": {},
   "outputs": [
    {
     "name": "stdout",
     "output_type": "stream",
     "text": [
      "Finished feature extraction from  161  files\n"
     ]
    },
    {
     "name": "stderr",
     "output_type": "stream",
     "text": [
      "C:\\ProgramData\\Anaconda3\\lib\\site-packages\\ipykernel_launcher.py:43: WavFileWarning: Chunk (non-data) not understood, skipping it.\n"
     ]
    },
    {
     "name": "stdout",
     "output_type": "stream",
     "text": [
      "Finished feature extraction from  374  files\n",
      "6.593087384999975\n"
     ]
    }
   ],
   "source": [
    "inicio = default_timer()\n",
    "\n",
    "featuresdf_EMODB_100_test_05=extract_features_test_EMODB()\n",
    "\n",
    "featuresdf_EMODB_100_train_05=extract_features_train_EMODB()\n",
    "\n",
    "fin = default_timer()\n",
    "print((fin - inicio)/60) "
   ]
  },
  {
   "cell_type": "code",
   "execution_count": 27,
   "metadata": {},
   "outputs": [
    {
     "name": "stdout",
     "output_type": "stream",
     "text": [
      "Stored 'featuresdf_EMODB_10_test_05' (DataFrame)\n",
      "Stored 'featuresdf_EMODB_10_train_05' (DataFrame)\n",
      "Stored 'featuresdf_EMODB_20_test_05' (DataFrame)\n",
      "Stored 'featuresdf_EMODB_20_train_05' (DataFrame)\n",
      "Stored 'featuresdf_EMODB_30_test_05' (DataFrame)\n",
      "Stored 'featuresdf_EMODB_30_train_05' (DataFrame)\n",
      "Stored 'featuresdf_EMODB_40_test_05' (DataFrame)\n",
      "Stored 'featuresdf_EMODB_40_train_05' (DataFrame)\n",
      "Stored 'featuresdf_EMODB_50_test_05' (DataFrame)\n",
      "Stored 'featuresdf_EMODB_50_train_05' (DataFrame)\n",
      "Stored 'featuresdf_EMODB_60_test_05' (DataFrame)\n",
      "Stored 'featuresdf_EMODB_60_train_05' (DataFrame)\n",
      "Stored 'featuresdf_EMODB_70_test_05' (DataFrame)\n",
      "Stored 'featuresdf_EMODB_70_train_05' (DataFrame)\n",
      "Stored 'featuresdf_EMODB_80_test_05' (DataFrame)\n",
      "Stored 'featuresdf_EMODB_80_train_05' (DataFrame)\n",
      "Stored 'featuresdf_EMODB_90_test_05' (DataFrame)\n",
      "Stored 'featuresdf_EMODB_90_train_05' (DataFrame)\n",
      "Stored 'featuresdf_EMODB_100_test_05' (DataFrame)\n",
      "Stored 'featuresdf_EMODB_100_train_05' (DataFrame)\n"
     ]
    }
   ],
   "source": [
    "%store featuresdf_EMODB_10_test_05\n",
    "%store featuresdf_EMODB_10_train_05\n",
    "%store featuresdf_EMODB_20_test_05\n",
    "%store featuresdf_EMODB_20_train_05\n",
    "%store featuresdf_EMODB_30_test_05\n",
    "%store featuresdf_EMODB_30_train_05\n",
    "%store featuresdf_EMODB_40_test_05\n",
    "%store featuresdf_EMODB_40_train_05\n",
    "%store featuresdf_EMODB_50_test_05\n",
    "%store featuresdf_EMODB_50_train_05\n",
    "%store featuresdf_EMODB_60_test_05\n",
    "%store featuresdf_EMODB_60_train_05\n",
    "%store featuresdf_EMODB_70_test_05\n",
    "%store featuresdf_EMODB_70_train_05\n",
    "%store featuresdf_EMODB_80_test_05\n",
    "%store featuresdf_EMODB_80_train_05\n",
    "%store featuresdf_EMODB_90_test_05\n",
    "%store featuresdf_EMODB_90_train_05\n",
    "%store featuresdf_EMODB_100_test_05\n",
    "%store featuresdf_EMODB_100_train_05"
   ]
  },
  {
   "cell_type": "code",
   "execution_count": 8,
   "metadata": {},
   "outputs": [
    {
     "name": "stdout",
     "output_type": "stream",
     "text": [
      "Finished feature extraction from  161  files\n"
     ]
    },
    {
     "name": "stderr",
     "output_type": "stream",
     "text": [
      "C:\\ProgramData\\Anaconda3\\lib\\site-packages\\ipykernel_launcher.py:43: WavFileWarning: Chunk (non-data) not understood, skipping it.\n"
     ]
    },
    {
     "name": "stdout",
     "output_type": "stream",
     "text": [
      "Finished feature extraction from  374  files\n",
      "12.716991908333332\n"
     ]
    }
   ],
   "source": [
    "inicio = default_timer()\n",
    "\n",
    "featuresdf_EMODB_10_test_06=extract_features_test_EMODB()\n",
    "\n",
    "featuresdf_EMODB_10_train_06=extract_features_train_EMODB()\n",
    "\n",
    "fin = default_timer()\n",
    "print((fin - inicio)/60) "
   ]
  },
  {
   "cell_type": "code",
   "execution_count": 10,
   "metadata": {},
   "outputs": [
    {
     "name": "stdout",
     "output_type": "stream",
     "text": [
      "Finished feature extraction from  161  files\n"
     ]
    },
    {
     "name": "stderr",
     "output_type": "stream",
     "text": [
      "C:\\ProgramData\\Anaconda3\\lib\\site-packages\\ipykernel_launcher.py:43: WavFileWarning: Chunk (non-data) not understood, skipping it.\n"
     ]
    },
    {
     "name": "stdout",
     "output_type": "stream",
     "text": [
      "Finished feature extraction from  374  files\n",
      "10.805002996666667\n"
     ]
    }
   ],
   "source": [
    "inicio = default_timer()\n",
    "\n",
    "featuresdf_EMODB_20_test_06=extract_features_test_EMODB()\n",
    "\n",
    "featuresdf_EMODB_20_train_06=extract_features_train_EMODB()\n",
    "\n",
    "fin = default_timer()\n",
    "print((fin - inicio)/60) "
   ]
  },
  {
   "cell_type": "code",
   "execution_count": 12,
   "metadata": {},
   "outputs": [
    {
     "name": "stdout",
     "output_type": "stream",
     "text": [
      "Finished feature extraction from  161  files\n"
     ]
    },
    {
     "name": "stderr",
     "output_type": "stream",
     "text": [
      "C:\\ProgramData\\Anaconda3\\lib\\site-packages\\ipykernel_launcher.py:43: WavFileWarning: Chunk (non-data) not understood, skipping it.\n"
     ]
    },
    {
     "name": "stdout",
     "output_type": "stream",
     "text": [
      "Finished feature extraction from  374  files\n",
      "9.614348785\n"
     ]
    }
   ],
   "source": [
    "inicio = default_timer()\n",
    "\n",
    "featuresdf_EMODB_30_test_06=extract_features_test_EMODB()\n",
    "\n",
    "featuresdf_EMODB_30_train_06=extract_features_train_EMODB()\n",
    "\n",
    "fin = default_timer()\n",
    "print((fin - inicio)/60) "
   ]
  },
  {
   "cell_type": "code",
   "execution_count": 14,
   "metadata": {},
   "outputs": [
    {
     "name": "stdout",
     "output_type": "stream",
     "text": [
      "Finished feature extraction from  161  files\n"
     ]
    },
    {
     "name": "stderr",
     "output_type": "stream",
     "text": [
      "C:\\ProgramData\\Anaconda3\\lib\\site-packages\\ipykernel_launcher.py:43: WavFileWarning: Chunk (non-data) not understood, skipping it.\n"
     ]
    },
    {
     "name": "stdout",
     "output_type": "stream",
     "text": [
      "Finished feature extraction from  374  files\n",
      "10.079579088333336\n"
     ]
    }
   ],
   "source": [
    "inicio = default_timer()\n",
    "\n",
    "featuresdf_EMODB_40_test_06=extract_features_test_EMODB()\n",
    "\n",
    "featuresdf_EMODB_40_train_06=extract_features_train_EMODB()\n",
    "\n",
    "fin = default_timer()\n",
    "print((fin - inicio)/60) "
   ]
  },
  {
   "cell_type": "code",
   "execution_count": 16,
   "metadata": {},
   "outputs": [
    {
     "name": "stdout",
     "output_type": "stream",
     "text": [
      "Finished feature extraction from  161  files\n"
     ]
    },
    {
     "name": "stderr",
     "output_type": "stream",
     "text": [
      "C:\\ProgramData\\Anaconda3\\lib\\site-packages\\ipykernel_launcher.py:43: WavFileWarning: Chunk (non-data) not understood, skipping it.\n"
     ]
    },
    {
     "name": "stdout",
     "output_type": "stream",
     "text": [
      "Finished feature extraction from  374  files\n",
      "10.554314375000013\n"
     ]
    }
   ],
   "source": [
    "inicio = default_timer()\n",
    "\n",
    "featuresdf_EMODB_50_test_06=extract_features_test_EMODB()\n",
    "\n",
    "featuresdf_EMODB_50_train_06=extract_features_train_EMODB()\n",
    "\n",
    "fin = default_timer()\n",
    "print((fin - inicio)/60) "
   ]
  },
  {
   "cell_type": "code",
   "execution_count": 18,
   "metadata": {},
   "outputs": [
    {
     "name": "stdout",
     "output_type": "stream",
     "text": [
      "Finished feature extraction from  161  files\n"
     ]
    },
    {
     "name": "stderr",
     "output_type": "stream",
     "text": [
      "C:\\ProgramData\\Anaconda3\\lib\\site-packages\\ipykernel_launcher.py:43: WavFileWarning: Chunk (non-data) not understood, skipping it.\n"
     ]
    },
    {
     "name": "stdout",
     "output_type": "stream",
     "text": [
      "Finished feature extraction from  374  files\n",
      "8.93243908000001\n"
     ]
    }
   ],
   "source": [
    "inicio = default_timer()\n",
    "\n",
    "featuresdf_EMODB_60_test_06=extract_features_test_EMODB()\n",
    "\n",
    "featuresdf_EMODB_60_train_06=extract_features_train_EMODB()\n",
    "\n",
    "fin = default_timer()\n",
    "print((fin - inicio)/60) "
   ]
  },
  {
   "cell_type": "code",
   "execution_count": 20,
   "metadata": {},
   "outputs": [
    {
     "name": "stdout",
     "output_type": "stream",
     "text": [
      "Finished feature extraction from  161  files\n"
     ]
    },
    {
     "name": "stderr",
     "output_type": "stream",
     "text": [
      "C:\\ProgramData\\Anaconda3\\lib\\site-packages\\ipykernel_launcher.py:43: WavFileWarning: Chunk (non-data) not understood, skipping it.\n"
     ]
    },
    {
     "name": "stdout",
     "output_type": "stream",
     "text": [
      "Finished feature extraction from  374  files\n",
      "9.275189575000013\n"
     ]
    }
   ],
   "source": [
    "inicio = default_timer()\n",
    "\n",
    "featuresdf_EMODB_70_test_06=extract_features_test_EMODB()\n",
    "\n",
    "featuresdf_EMODB_70_train_06=extract_features_train_EMODB()\n",
    "\n",
    "fin = default_timer()\n",
    "print((fin - inicio)/60) "
   ]
  },
  {
   "cell_type": "code",
   "execution_count": 22,
   "metadata": {},
   "outputs": [
    {
     "name": "stdout",
     "output_type": "stream",
     "text": [
      "Finished feature extraction from  161  files\n"
     ]
    },
    {
     "name": "stderr",
     "output_type": "stream",
     "text": [
      "C:\\ProgramData\\Anaconda3\\lib\\site-packages\\ipykernel_launcher.py:43: WavFileWarning: Chunk (non-data) not understood, skipping it.\n"
     ]
    },
    {
     "name": "stdout",
     "output_type": "stream",
     "text": [
      "Finished feature extraction from  374  files\n",
      "10.340162526666639\n"
     ]
    }
   ],
   "source": [
    "inicio = default_timer()\n",
    "\n",
    "featuresdf_EMODB_80_test_06=extract_features_test_EMODB()\n",
    "\n",
    "featuresdf_EMODB_80_train_06=extract_features_train_EMODB()\n",
    "\n",
    "fin = default_timer()\n",
    "print((fin - inicio)/60) "
   ]
  },
  {
   "cell_type": "code",
   "execution_count": 24,
   "metadata": {},
   "outputs": [
    {
     "name": "stdout",
     "output_type": "stream",
     "text": [
      "Finished feature extraction from  161  files\n"
     ]
    },
    {
     "name": "stderr",
     "output_type": "stream",
     "text": [
      "C:\\ProgramData\\Anaconda3\\lib\\site-packages\\ipykernel_launcher.py:43: WavFileWarning: Chunk (non-data) not understood, skipping it.\n"
     ]
    },
    {
     "name": "stdout",
     "output_type": "stream",
     "text": [
      "Finished feature extraction from  374  files\n",
      "9.123212676666663\n"
     ]
    }
   ],
   "source": [
    "inicio = default_timer()\n",
    "\n",
    "featuresdf_EMODB_90_test_06=extract_features_test_EMODB()\n",
    "\n",
    "featuresdf_EMODB_90_train_06=extract_features_train_EMODB()\n",
    "\n",
    "fin = default_timer()\n",
    "print((fin - inicio)/60) "
   ]
  },
  {
   "cell_type": "code",
   "execution_count": 26,
   "metadata": {},
   "outputs": [
    {
     "name": "stdout",
     "output_type": "stream",
     "text": [
      "Finished feature extraction from  161  files\n"
     ]
    },
    {
     "name": "stderr",
     "output_type": "stream",
     "text": [
      "C:\\ProgramData\\Anaconda3\\lib\\site-packages\\ipykernel_launcher.py:43: WavFileWarning: Chunk (non-data) not understood, skipping it.\n"
     ]
    },
    {
     "name": "stdout",
     "output_type": "stream",
     "text": [
      "Finished feature extraction from  374  files\n",
      "9.609993094999997\n"
     ]
    }
   ],
   "source": [
    "inicio = default_timer()\n",
    "\n",
    "featuresdf_EMODB_100_test_06=extract_features_test_EMODB()\n",
    "\n",
    "featuresdf_EMODB_100_train_06=extract_features_train_EMODB()\n",
    "\n",
    "fin = default_timer()\n",
    "print((fin - inicio)/60) "
   ]
  },
  {
   "cell_type": "code",
   "execution_count": 27,
   "metadata": {},
   "outputs": [
    {
     "name": "stdout",
     "output_type": "stream",
     "text": [
      "Stored 'featuresdf_EMODB_10_test_06' (DataFrame)\n",
      "Stored 'featuresdf_EMODB_10_train_06' (DataFrame)\n",
      "Stored 'featuresdf_EMODB_20_test_06' (DataFrame)\n",
      "Stored 'featuresdf_EMODB_20_train_06' (DataFrame)\n",
      "Stored 'featuresdf_EMODB_30_test_06' (DataFrame)\n",
      "Stored 'featuresdf_EMODB_30_train_06' (DataFrame)\n",
      "Stored 'featuresdf_EMODB_40_test_06' (DataFrame)\n",
      "Stored 'featuresdf_EMODB_40_train_06' (DataFrame)\n",
      "Stored 'featuresdf_EMODB_50_test_06' (DataFrame)\n",
      "Stored 'featuresdf_EMODB_50_train_06' (DataFrame)\n",
      "Stored 'featuresdf_EMODB_60_test_06' (DataFrame)\n",
      "Stored 'featuresdf_EMODB_60_train_06' (DataFrame)\n",
      "Stored 'featuresdf_EMODB_70_test_06' (DataFrame)\n",
      "Stored 'featuresdf_EMODB_70_train_06' (DataFrame)\n",
      "Stored 'featuresdf_EMODB_80_test_06' (DataFrame)\n",
      "Stored 'featuresdf_EMODB_80_train_06' (DataFrame)\n",
      "Stored 'featuresdf_EMODB_90_test_06' (DataFrame)\n",
      "Stored 'featuresdf_EMODB_90_train_06' (DataFrame)\n",
      "Stored 'featuresdf_EMODB_100_test_06' (DataFrame)\n",
      "Stored 'featuresdf_EMODB_100_train_06' (DataFrame)\n"
     ]
    }
   ],
   "source": [
    "%store featuresdf_EMODB_10_test_06\n",
    "%store featuresdf_EMODB_10_train_06\n",
    "%store featuresdf_EMODB_20_test_06\n",
    "%store featuresdf_EMODB_20_train_06\n",
    "%store featuresdf_EMODB_30_test_06\n",
    "%store featuresdf_EMODB_30_train_06\n",
    "%store featuresdf_EMODB_40_test_06\n",
    "%store featuresdf_EMODB_40_train_06\n",
    "%store featuresdf_EMODB_50_test_06\n",
    "%store featuresdf_EMODB_50_train_06\n",
    "%store featuresdf_EMODB_60_test_06\n",
    "%store featuresdf_EMODB_60_train_06\n",
    "%store featuresdf_EMODB_70_test_06\n",
    "%store featuresdf_EMODB_70_train_06\n",
    "%store featuresdf_EMODB_80_test_06\n",
    "%store featuresdf_EMODB_80_train_06\n",
    "%store featuresdf_EMODB_90_test_06\n",
    "%store featuresdf_EMODB_90_train_06\n",
    "%store featuresdf_EMODB_100_test_06\n",
    "%store featuresdf_EMODB_100_train_06"
   ]
  },
  {
   "cell_type": "code",
   "execution_count": 31,
   "metadata": {},
   "outputs": [
    {
     "name": "stderr",
     "output_type": "stream",
     "text": [
      "C:\\ProgramData\\Anaconda3\\lib\\site-packages\\ipykernel_launcher.py:246: RuntimeWarning: invalid value encountered in true_divide\n"
     ]
    },
    {
     "name": "stdout",
     "output_type": "stream",
     "text": [
      "Finished feature extraction from  161  files\n"
     ]
    },
    {
     "name": "stderr",
     "output_type": "stream",
     "text": [
      "C:\\ProgramData\\Anaconda3\\lib\\site-packages\\ipykernel_launcher.py:43: WavFileWarning: Chunk (non-data) not understood, skipping it.\n"
     ]
    },
    {
     "name": "stdout",
     "output_type": "stream",
     "text": [
      "Finished feature extraction from  374  files\n",
      "6.918531443333328\n"
     ]
    }
   ],
   "source": [
    "inicio = default_timer()\n",
    "\n",
    "featuresdf_EMODB_10_test_07=extract_features_test_EMODB()\n",
    "\n",
    "featuresdf_EMODB_10_train_07=extract_features_train_EMODB()\n",
    "\n",
    "fin = default_timer()\n",
    "print((fin - inicio)/60)"
   ]
  },
  {
   "cell_type": "code",
   "execution_count": 33,
   "metadata": {},
   "outputs": [
    {
     "name": "stdout",
     "output_type": "stream",
     "text": [
      "Finished feature extraction from  161  files\n"
     ]
    },
    {
     "name": "stderr",
     "output_type": "stream",
     "text": [
      "C:\\ProgramData\\Anaconda3\\lib\\site-packages\\ipykernel_launcher.py:43: WavFileWarning: Chunk (non-data) not understood, skipping it.\n"
     ]
    },
    {
     "name": "stdout",
     "output_type": "stream",
     "text": [
      "Finished feature extraction from  374  files\n",
      "5.465085295000002\n"
     ]
    }
   ],
   "source": [
    "inicio = default_timer()\n",
    "\n",
    "featuresdf_EMODB_20_test_07=extract_features_test_EMODB()\n",
    "\n",
    "featuresdf_EMODB_20_train_07=extract_features_train_EMODB()\n",
    "\n",
    "fin = default_timer()\n",
    "print((fin - inicio)/60)"
   ]
  },
  {
   "cell_type": "code",
   "execution_count": 35,
   "metadata": {},
   "outputs": [
    {
     "name": "stdout",
     "output_type": "stream",
     "text": [
      "Finished feature extraction from  161  files\n"
     ]
    },
    {
     "name": "stderr",
     "output_type": "stream",
     "text": [
      "C:\\ProgramData\\Anaconda3\\lib\\site-packages\\ipykernel_launcher.py:43: WavFileWarning: Chunk (non-data) not understood, skipping it.\n"
     ]
    },
    {
     "name": "stdout",
     "output_type": "stream",
     "text": [
      "Finished feature extraction from  374  files\n",
      "5.9044658699999975\n"
     ]
    }
   ],
   "source": [
    "inicio = default_timer()\n",
    "\n",
    "featuresdf_EMODB_30_test_07=extract_features_test_EMODB()\n",
    "\n",
    "featuresdf_EMODB_30_train_07=extract_features_train_EMODB()\n",
    "\n",
    "fin = default_timer()\n",
    "print((fin - inicio)/60)"
   ]
  },
  {
   "cell_type": "code",
   "execution_count": 37,
   "metadata": {},
   "outputs": [
    {
     "name": "stdout",
     "output_type": "stream",
     "text": [
      "Finished feature extraction from  161  files\n"
     ]
    },
    {
     "name": "stderr",
     "output_type": "stream",
     "text": [
      "C:\\ProgramData\\Anaconda3\\lib\\site-packages\\ipykernel_launcher.py:43: WavFileWarning: Chunk (non-data) not understood, skipping it.\n"
     ]
    },
    {
     "name": "stdout",
     "output_type": "stream",
     "text": [
      "Finished feature extraction from  374  files\n",
      "5.587892198333338\n"
     ]
    }
   ],
   "source": [
    "inicio = default_timer()\n",
    "\n",
    "featuresdf_EMODB_40_test_07=extract_features_test_EMODB()\n",
    "\n",
    "featuresdf_EMODB_40_train_07=extract_features_train_EMODB()\n",
    "\n",
    "fin = default_timer()\n",
    "print((fin - inicio)/60)"
   ]
  },
  {
   "cell_type": "code",
   "execution_count": 39,
   "metadata": {},
   "outputs": [
    {
     "name": "stdout",
     "output_type": "stream",
     "text": [
      "Finished feature extraction from  161  files\n"
     ]
    },
    {
     "name": "stderr",
     "output_type": "stream",
     "text": [
      "C:\\ProgramData\\Anaconda3\\lib\\site-packages\\ipykernel_launcher.py:43: WavFileWarning: Chunk (non-data) not understood, skipping it.\n"
     ]
    },
    {
     "name": "stdout",
     "output_type": "stream",
     "text": [
      "Finished feature extraction from  374  files\n",
      "5.582084423333344\n"
     ]
    }
   ],
   "source": [
    "inicio = default_timer()\n",
    "\n",
    "featuresdf_EMODB_50_test_07=extract_features_test_EMODB()\n",
    "\n",
    "featuresdf_EMODB_50_train_07=extract_features_train_EMODB()\n",
    "\n",
    "fin = default_timer()\n",
    "print((fin - inicio)/60)"
   ]
  },
  {
   "cell_type": "code",
   "execution_count": 41,
   "metadata": {},
   "outputs": [
    {
     "name": "stdout",
     "output_type": "stream",
     "text": [
      "Finished feature extraction from  161  files\n"
     ]
    },
    {
     "name": "stderr",
     "output_type": "stream",
     "text": [
      "C:\\ProgramData\\Anaconda3\\lib\\site-packages\\ipykernel_launcher.py:43: WavFileWarning: Chunk (non-data) not understood, skipping it.\n"
     ]
    },
    {
     "name": "stdout",
     "output_type": "stream",
     "text": [
      "Finished feature extraction from  374  files\n",
      "5.828429945000001\n"
     ]
    }
   ],
   "source": [
    "inicio = default_timer()\n",
    "\n",
    "featuresdf_EMODB_60_test_07=extract_features_test_EMODB()\n",
    "\n",
    "featuresdf_EMODB_60_train_07=extract_features_train_EMODB()\n",
    "\n",
    "fin = default_timer()\n",
    "print((fin - inicio)/60)"
   ]
  },
  {
   "cell_type": "code",
   "execution_count": 43,
   "metadata": {},
   "outputs": [
    {
     "name": "stdout",
     "output_type": "stream",
     "text": [
      "Finished feature extraction from  161  files\n"
     ]
    },
    {
     "name": "stderr",
     "output_type": "stream",
     "text": [
      "C:\\ProgramData\\Anaconda3\\lib\\site-packages\\ipykernel_launcher.py:43: WavFileWarning: Chunk (non-data) not understood, skipping it.\n"
     ]
    },
    {
     "name": "stdout",
     "output_type": "stream",
     "text": [
      "Finished feature extraction from  374  files\n",
      "5.9995920183333205\n"
     ]
    }
   ],
   "source": [
    "inicio = default_timer()\n",
    "\n",
    "featuresdf_EMODB_70_test_07=extract_features_test_EMODB()\n",
    "\n",
    "featuresdf_EMODB_70_train_07=extract_features_train_EMODB()\n",
    "\n",
    "fin = default_timer()\n",
    "print((fin - inicio)/60)"
   ]
  },
  {
   "cell_type": "code",
   "execution_count": 45,
   "metadata": {},
   "outputs": [
    {
     "name": "stdout",
     "output_type": "stream",
     "text": [
      "Finished feature extraction from  161  files\n"
     ]
    },
    {
     "name": "stderr",
     "output_type": "stream",
     "text": [
      "C:\\ProgramData\\Anaconda3\\lib\\site-packages\\ipykernel_launcher.py:43: WavFileWarning: Chunk (non-data) not understood, skipping it.\n"
     ]
    },
    {
     "name": "stdout",
     "output_type": "stream",
     "text": [
      "Finished feature extraction from  374  files\n",
      "6.322444188333338\n"
     ]
    }
   ],
   "source": [
    "inicio = default_timer()\n",
    "\n",
    "featuresdf_EMODB_80_test_07=extract_features_test_EMODB()\n",
    "\n",
    "featuresdf_EMODB_80_train_07=extract_features_train_EMODB()\n",
    "\n",
    "fin = default_timer()\n",
    "print((fin - inicio)/60)"
   ]
  },
  {
   "cell_type": "code",
   "execution_count": 47,
   "metadata": {},
   "outputs": [
    {
     "name": "stdout",
     "output_type": "stream",
     "text": [
      "Finished feature extraction from  161  files\n"
     ]
    },
    {
     "name": "stderr",
     "output_type": "stream",
     "text": [
      "C:\\ProgramData\\Anaconda3\\lib\\site-packages\\ipykernel_launcher.py:43: WavFileWarning: Chunk (non-data) not understood, skipping it.\n"
     ]
    },
    {
     "name": "stdout",
     "output_type": "stream",
     "text": [
      "Finished feature extraction from  374  files\n",
      "6.736621853333327\n"
     ]
    }
   ],
   "source": [
    "inicio = default_timer()\n",
    "\n",
    "featuresdf_EMODB_90_test_07=extract_features_test_EMODB()\n",
    "\n",
    "featuresdf_EMODB_90_train_07=extract_features_train_EMODB()\n",
    "\n",
    "fin = default_timer()\n",
    "print((fin - inicio)/60)"
   ]
  },
  {
   "cell_type": "code",
   "execution_count": 49,
   "metadata": {},
   "outputs": [
    {
     "name": "stdout",
     "output_type": "stream",
     "text": [
      "Finished feature extraction from  161  files\n"
     ]
    },
    {
     "name": "stderr",
     "output_type": "stream",
     "text": [
      "C:\\ProgramData\\Anaconda3\\lib\\site-packages\\ipykernel_launcher.py:43: WavFileWarning: Chunk (non-data) not understood, skipping it.\n"
     ]
    },
    {
     "name": "stdout",
     "output_type": "stream",
     "text": [
      "Finished feature extraction from  374  files\n",
      "7.209929270000005\n"
     ]
    }
   ],
   "source": [
    "inicio = default_timer()\n",
    "\n",
    "featuresdf_EMODB_100_test_07=extract_features_test_EMODB()\n",
    "\n",
    "featuresdf_EMODB_100_train_07=extract_features_train_EMODB()\n",
    "\n",
    "fin = default_timer()\n",
    "print((fin - inicio)/60)"
   ]
  },
  {
   "cell_type": "code",
   "execution_count": 50,
   "metadata": {},
   "outputs": [
    {
     "name": "stdout",
     "output_type": "stream",
     "text": [
      "Stored 'featuresdf_EMODB_10_test_07' (DataFrame)\n",
      "Stored 'featuresdf_EMODB_10_train_07' (DataFrame)\n",
      "Stored 'featuresdf_EMODB_20_test_07' (DataFrame)\n",
      "Stored 'featuresdf_EMODB_20_train_07' (DataFrame)\n",
      "Stored 'featuresdf_EMODB_30_test_07' (DataFrame)\n",
      "Stored 'featuresdf_EMODB_30_train_07' (DataFrame)\n",
      "Stored 'featuresdf_EMODB_40_test_07' (DataFrame)\n",
      "Stored 'featuresdf_EMODB_40_train_07' (DataFrame)\n",
      "Stored 'featuresdf_EMODB_50_test_07' (DataFrame)\n",
      "Stored 'featuresdf_EMODB_50_train_07' (DataFrame)\n",
      "Stored 'featuresdf_EMODB_60_test_07' (DataFrame)\n",
      "Stored 'featuresdf_EMODB_60_train_07' (DataFrame)\n",
      "Stored 'featuresdf_EMODB_70_test_07' (DataFrame)\n",
      "Stored 'featuresdf_EMODB_70_train_07' (DataFrame)\n",
      "Stored 'featuresdf_EMODB_80_test_07' (DataFrame)\n",
      "Stored 'featuresdf_EMODB_80_train_07' (DataFrame)\n",
      "Stored 'featuresdf_EMODB_90_test_07' (DataFrame)\n",
      "Stored 'featuresdf_EMODB_90_train_07' (DataFrame)\n",
      "Stored 'featuresdf_EMODB_100_test_07' (DataFrame)\n",
      "Stored 'featuresdf_EMODB_100_train_07' (DataFrame)\n"
     ]
    }
   ],
   "source": [
    "%store featuresdf_EMODB_10_test_07\n",
    "%store featuresdf_EMODB_10_train_07\n",
    "%store featuresdf_EMODB_20_test_07\n",
    "%store featuresdf_EMODB_20_train_07\n",
    "%store featuresdf_EMODB_30_test_07\n",
    "%store featuresdf_EMODB_30_train_07\n",
    "%store featuresdf_EMODB_40_test_07\n",
    "%store featuresdf_EMODB_40_train_07\n",
    "%store featuresdf_EMODB_50_test_07\n",
    "%store featuresdf_EMODB_50_train_07\n",
    "%store featuresdf_EMODB_60_test_07\n",
    "%store featuresdf_EMODB_60_train_07\n",
    "%store featuresdf_EMODB_70_test_07\n",
    "%store featuresdf_EMODB_70_train_07\n",
    "%store featuresdf_EMODB_80_test_07\n",
    "%store featuresdf_EMODB_80_train_07\n",
    "%store featuresdf_EMODB_90_test_07\n",
    "%store featuresdf_EMODB_90_train_07\n",
    "%store featuresdf_EMODB_100_test_07\n",
    "%store featuresdf_EMODB_100_train_07"
   ]
  },
  {
   "cell_type": "code",
   "execution_count": 53,
   "metadata": {},
   "outputs": [
    {
     "name": "stdout",
     "output_type": "stream",
     "text": [
      "Finished feature extraction from  161  files\n"
     ]
    },
    {
     "name": "stderr",
     "output_type": "stream",
     "text": [
      "C:\\ProgramData\\Anaconda3\\lib\\site-packages\\ipykernel_launcher.py:43: WavFileWarning: Chunk (non-data) not understood, skipping it.\n"
     ]
    },
    {
     "name": "stdout",
     "output_type": "stream",
     "text": [
      "Finished feature extraction from  374  files\n",
      "7.718403158333361\n"
     ]
    }
   ],
   "source": [
    "inicio = default_timer()\n",
    "\n",
    "featuresdf_EMODB_10_test_08=extract_features_test_EMODB()\n",
    "\n",
    "featuresdf_EMODB_10_train_08=extract_features_train_EMODB()\n",
    "\n",
    "fin = default_timer()\n",
    "print((fin - inicio)/60)"
   ]
  },
  {
   "cell_type": "code",
   "execution_count": 55,
   "metadata": {},
   "outputs": [
    {
     "name": "stdout",
     "output_type": "stream",
     "text": [
      "Finished feature extraction from  161  files\n"
     ]
    },
    {
     "name": "stderr",
     "output_type": "stream",
     "text": [
      "C:\\ProgramData\\Anaconda3\\lib\\site-packages\\ipykernel_launcher.py:43: WavFileWarning: Chunk (non-data) not understood, skipping it.\n"
     ]
    },
    {
     "name": "stdout",
     "output_type": "stream",
     "text": [
      "Finished feature extraction from  374  files\n",
      "7.61372293000004\n"
     ]
    }
   ],
   "source": [
    "inicio = default_timer()\n",
    "\n",
    "featuresdf_EMODB_20_test_08=extract_features_test_EMODB()\n",
    "\n",
    "featuresdf_EMODB_20_train_08=extract_features_train_EMODB()\n",
    "\n",
    "fin = default_timer()\n",
    "print((fin - inicio)/60)"
   ]
  },
  {
   "cell_type": "code",
   "execution_count": 58,
   "metadata": {},
   "outputs": [
    {
     "name": "stdout",
     "output_type": "stream",
     "text": [
      "Finished feature extraction from  161  files\n"
     ]
    },
    {
     "name": "stderr",
     "output_type": "stream",
     "text": [
      "C:\\ProgramData\\Anaconda3\\lib\\site-packages\\ipykernel_launcher.py:43: WavFileWarning: Chunk (non-data) not understood, skipping it.\n"
     ]
    },
    {
     "name": "stdout",
     "output_type": "stream",
     "text": [
      "Finished feature extraction from  374  files\n",
      "7.348809156666721\n"
     ]
    }
   ],
   "source": [
    "inicio = default_timer()\n",
    "\n",
    "featuresdf_EMODB_30_test_08=extract_features_test_EMODB()\n",
    "\n",
    "featuresdf_EMODB_30_train_08=extract_features_train_EMODB()\n",
    "\n",
    "fin = default_timer()\n",
    "print((fin - inicio)/60)"
   ]
  },
  {
   "cell_type": "code",
   "execution_count": 61,
   "metadata": {},
   "outputs": [
    {
     "name": "stdout",
     "output_type": "stream",
     "text": [
      "Finished feature extraction from  161  files\n"
     ]
    },
    {
     "name": "stderr",
     "output_type": "stream",
     "text": [
      "C:\\ProgramData\\Anaconda3\\lib\\site-packages\\ipykernel_launcher.py:43: WavFileWarning: Chunk (non-data) not understood, skipping it.\n"
     ]
    },
    {
     "name": "stdout",
     "output_type": "stream",
     "text": [
      "Finished feature extraction from  374  files\n",
      "7.620800081666675\n"
     ]
    }
   ],
   "source": [
    "inicio = default_timer()\n",
    "\n",
    "featuresdf_EMODB_40_test_08=extract_features_test_EMODB()\n",
    "\n",
    "featuresdf_EMODB_40_train_08=extract_features_train_EMODB()\n",
    "\n",
    "fin = default_timer()\n",
    "print((fin - inicio)/60)"
   ]
  },
  {
   "cell_type": "code",
   "execution_count": 63,
   "metadata": {},
   "outputs": [
    {
     "name": "stdout",
     "output_type": "stream",
     "text": [
      "Finished feature extraction from  161  files\n"
     ]
    },
    {
     "name": "stderr",
     "output_type": "stream",
     "text": [
      "C:\\ProgramData\\Anaconda3\\lib\\site-packages\\ipykernel_launcher.py:43: WavFileWarning: Chunk (non-data) not understood, skipping it.\n"
     ]
    },
    {
     "name": "stdout",
     "output_type": "stream",
     "text": [
      "Finished feature extraction from  374  files\n",
      "7.954156384999988\n"
     ]
    }
   ],
   "source": [
    "inicio = default_timer()\n",
    "\n",
    "featuresdf_EMODB_50_test_08=extract_features_test_EMODB()\n",
    "\n",
    "featuresdf_EMODB_50_train_08=extract_features_train_EMODB()\n",
    "\n",
    "fin = default_timer()\n",
    "print((fin - inicio)/60)"
   ]
  },
  {
   "cell_type": "code",
   "execution_count": 65,
   "metadata": {},
   "outputs": [
    {
     "name": "stdout",
     "output_type": "stream",
     "text": [
      "Finished feature extraction from  161  files\n"
     ]
    },
    {
     "name": "stderr",
     "output_type": "stream",
     "text": [
      "C:\\ProgramData\\Anaconda3\\lib\\site-packages\\ipykernel_launcher.py:43: WavFileWarning: Chunk (non-data) not understood, skipping it.\n"
     ]
    },
    {
     "name": "stdout",
     "output_type": "stream",
     "text": [
      "Finished feature extraction from  374  files\n",
      "8.579399860000013\n"
     ]
    }
   ],
   "source": [
    "inicio = default_timer()\n",
    "\n",
    "featuresdf_EMODB_60_test_08=extract_features_test_EMODB()\n",
    "\n",
    "featuresdf_EMODB_60_train_08=extract_features_train_EMODB()\n",
    "\n",
    "fin = default_timer()\n",
    "print((fin - inicio)/60)"
   ]
  },
  {
   "cell_type": "code",
   "execution_count": 67,
   "metadata": {},
   "outputs": [
    {
     "name": "stdout",
     "output_type": "stream",
     "text": [
      "Finished feature extraction from  161  files\n"
     ]
    },
    {
     "name": "stderr",
     "output_type": "stream",
     "text": [
      "C:\\ProgramData\\Anaconda3\\lib\\site-packages\\ipykernel_launcher.py:43: WavFileWarning: Chunk (non-data) not understood, skipping it.\n"
     ]
    },
    {
     "name": "stdout",
     "output_type": "stream",
     "text": [
      "Finished feature extraction from  374  files\n",
      "8.643145391666682\n"
     ]
    }
   ],
   "source": [
    "inicio = default_timer()\n",
    "\n",
    "featuresdf_EMODB_70_test_08=extract_features_test_EMODB()\n",
    "\n",
    "featuresdf_EMODB_70_train_08=extract_features_train_EMODB()\n",
    "\n",
    "fin = default_timer()\n",
    "print((fin - inicio)/60)"
   ]
  },
  {
   "cell_type": "code",
   "execution_count": 69,
   "metadata": {},
   "outputs": [
    {
     "name": "stdout",
     "output_type": "stream",
     "text": [
      "Finished feature extraction from  161  files\n"
     ]
    },
    {
     "name": "stderr",
     "output_type": "stream",
     "text": [
      "C:\\ProgramData\\Anaconda3\\lib\\site-packages\\ipykernel_launcher.py:43: WavFileWarning: Chunk (non-data) not understood, skipping it.\n"
     ]
    },
    {
     "name": "stdout",
     "output_type": "stream",
     "text": [
      "Finished feature extraction from  374  files\n",
      "8.977054543333361\n"
     ]
    }
   ],
   "source": [
    "inicio = default_timer()\n",
    "\n",
    "featuresdf_EMODB_80_test_08=extract_features_test_EMODB()\n",
    "\n",
    "featuresdf_EMODB_80_train_08=extract_features_train_EMODB()\n",
    "\n",
    "fin = default_timer()\n",
    "print((fin - inicio)/60)"
   ]
  },
  {
   "cell_type": "code",
   "execution_count": 71,
   "metadata": {},
   "outputs": [
    {
     "name": "stdout",
     "output_type": "stream",
     "text": [
      "Finished feature extraction from  161  files\n"
     ]
    },
    {
     "name": "stderr",
     "output_type": "stream",
     "text": [
      "C:\\ProgramData\\Anaconda3\\lib\\site-packages\\ipykernel_launcher.py:43: WavFileWarning: Chunk (non-data) not understood, skipping it.\n"
     ]
    },
    {
     "name": "stdout",
     "output_type": "stream",
     "text": [
      "Finished feature extraction from  374  files\n",
      "9.290919103333362\n"
     ]
    }
   ],
   "source": [
    "inicio = default_timer()\n",
    "\n",
    "featuresdf_EMODB_90_test_08=extract_features_test_EMODB()\n",
    "\n",
    "featuresdf_EMODB_90_train_08=extract_features_train_EMODB()\n",
    "\n",
    "fin = default_timer()\n",
    "print((fin - inicio)/60)"
   ]
  },
  {
   "cell_type": "code",
   "execution_count": 73,
   "metadata": {},
   "outputs": [
    {
     "name": "stdout",
     "output_type": "stream",
     "text": [
      "Finished feature extraction from  161  files\n"
     ]
    },
    {
     "name": "stderr",
     "output_type": "stream",
     "text": [
      "C:\\ProgramData\\Anaconda3\\lib\\site-packages\\ipykernel_launcher.py:43: WavFileWarning: Chunk (non-data) not understood, skipping it.\n"
     ]
    },
    {
     "name": "stdout",
     "output_type": "stream",
     "text": [
      "Finished feature extraction from  374  files\n",
      "9.202726564999951\n"
     ]
    }
   ],
   "source": [
    "inicio = default_timer()\n",
    "\n",
    "featuresdf_EMODB_100_test_08=extract_features_test_EMODB()\n",
    "\n",
    "featuresdf_EMODB_100_train_08=extract_features_train_EMODB()\n",
    "\n",
    "fin = default_timer()\n",
    "print((fin - inicio)/60)"
   ]
  },
  {
   "cell_type": "code",
   "execution_count": 74,
   "metadata": {},
   "outputs": [
    {
     "name": "stdout",
     "output_type": "stream",
     "text": [
      "Stored 'featuresdf_EMODB_10_test_08' (DataFrame)\n",
      "Stored 'featuresdf_EMODB_10_train_08' (DataFrame)\n",
      "Stored 'featuresdf_EMODB_20_test_08' (DataFrame)\n",
      "Stored 'featuresdf_EMODB_20_train_08' (DataFrame)\n",
      "Stored 'featuresdf_EMODB_30_test_08' (DataFrame)\n",
      "Stored 'featuresdf_EMODB_30_train_08' (DataFrame)\n",
      "Stored 'featuresdf_EMODB_40_test_08' (DataFrame)\n",
      "Stored 'featuresdf_EMODB_40_train_08' (DataFrame)\n",
      "Stored 'featuresdf_EMODB_50_test_08' (DataFrame)\n",
      "Stored 'featuresdf_EMODB_50_train_08' (DataFrame)\n",
      "Stored 'featuresdf_EMODB_60_test_08' (DataFrame)\n",
      "Stored 'featuresdf_EMODB_60_train_08' (DataFrame)\n",
      "Stored 'featuresdf_EMODB_70_test_08' (DataFrame)\n",
      "Stored 'featuresdf_EMODB_70_train_08' (DataFrame)\n",
      "Stored 'featuresdf_EMODB_80_test_08' (DataFrame)\n",
      "Stored 'featuresdf_EMODB_80_train_08' (DataFrame)\n",
      "Stored 'featuresdf_EMODB_90_test_08' (DataFrame)\n",
      "Stored 'featuresdf_EMODB_90_train_08' (DataFrame)\n",
      "Stored 'featuresdf_EMODB_100_test_08' (DataFrame)\n",
      "Stored 'featuresdf_EMODB_100_train_08' (DataFrame)\n"
     ]
    }
   ],
   "source": [
    "%store featuresdf_EMODB_10_test_08\n",
    "%store featuresdf_EMODB_10_train_08\n",
    "%store featuresdf_EMODB_20_test_08\n",
    "%store featuresdf_EMODB_20_train_08\n",
    "%store featuresdf_EMODB_30_test_08\n",
    "%store featuresdf_EMODB_30_train_08\n",
    "%store featuresdf_EMODB_40_test_08\n",
    "%store featuresdf_EMODB_40_train_08\n",
    "%store featuresdf_EMODB_50_test_08\n",
    "%store featuresdf_EMODB_50_train_08\n",
    "%store featuresdf_EMODB_60_test_08\n",
    "%store featuresdf_EMODB_60_train_08\n",
    "%store featuresdf_EMODB_70_test_08\n",
    "%store featuresdf_EMODB_70_train_08\n",
    "%store featuresdf_EMODB_80_test_08\n",
    "%store featuresdf_EMODB_80_train_08\n",
    "%store featuresdf_EMODB_90_test_08\n",
    "%store featuresdf_EMODB_90_train_08\n",
    "%store featuresdf_EMODB_100_test_08\n",
    "%store featuresdf_EMODB_100_train_08"
   ]
  },
  {
   "cell_type": "code",
   "execution_count": 24,
   "metadata": {},
   "outputs": [],
   "source": [
    "# -*- coding: utf-8 -*-\n",
    "\"\"\"\n",
    "Programa para extraer las firmas de audio de archivos contenidos en un directorio\n",
    "Created on Mon Jul 27 12:56:21 2020\n",
    "@author: alain\n",
    "\"\"\"\n",
    "\n",
    "import os\n",
    "import matplotlib.pyplot as plt\n",
    "import scipy.io.wavfile as rd\n",
    "import scipy.fftpack as fourier\n",
    "import scipy.signal as sg\n",
    "import numpy as np\n",
    "import math \n",
    "import csv\n",
    "\n",
    "\n",
    "###############################################################################\n",
    "\n",
    "###############################################################################\n",
    "class mult_spect_ent_coef_corr:\n",
    "    def __init__(self,filename):\n",
    "        #---------------------------CONFIGURACIÓN DEL EXPERIMENTO----------------------------\n",
    "        #Tamaño de frame en segundos\n",
    "        frame = 0.01\n",
    "        #Porcentaje de traslape\n",
    "        overlap = 50\n",
    "        #Constante de preénfasis\n",
    "        self.preemphasis = 0.0\n",
    "        #Tipo de ventana\n",
    "        self.window = 2\n",
    "        #Frecuencia mínima\n",
    "        self.f_min = 0\n",
    "        #número de filtros en el banco\n",
    "        self.n_filters = 22\n",
    "        #Número de coeficientes mfcc\n",
    "        self.n_mses = 24\n",
    "        #Normalización\n",
    "        self.norm = 1\n",
    "        #Tipo de Análisis\n",
    "        self.type_ent = 0\n",
    "        #Lee archivo de audio\n",
    "        self.fs, signal = rd.read(filename)\n",
    "        #Volumen\n",
    "        #signal = signal * volumen\n",
    "        #Frecuencia máxima\n",
    "        self.f_max = self.fs/2.0\n",
    "        \n",
    "        self.audio = signal/32767\n",
    "        self.audio_length = len(signal)\n",
    "        self.frame_size = np.fix(frame*self.fs)\n",
    "        self.overlap_size = np.fix(self.frame_size - self.frame_size*(overlap/100.0))\n",
    "        self.n_frames = self.__Frames()\n",
    "        self.audio_avg = self.__Stereo()\n",
    "        self.half_n = np.fix(self.frame_size/2.0)\n",
    "        self.window_data = self.__Window()\n",
    "        self.freqs = self.__Freqs()\n",
    "        self.mel_freqs = self.__Mel_Freqs()\n",
    "        self.mel_filter_bank = self.__Mel_Filter()\n",
    "        self.coef, self.nl = self.__MSES_Coef()\n",
    "        self.msesscalade = np.mean(self.coef.T, axis=0)\n",
    "        #np.savetxt(\"mfcc_features.txt\", self.coef[:,0:self.nl],  delimiter=\",\", fmt=\"%f\")\n",
    "    \n",
    "    #Convierte señales estereofónicas a monoaurales\n",
    "    def __Stereo(self):\n",
    "        n_channel = len(np.shape(self.audio))\n",
    "        if n_channel > 1:\n",
    "            temp_1 = self.audio[:,0]\n",
    "            temp_2 = self.audio[:,1]\n",
    "            avg = (temp_1 + temp_2)/2\n",
    "        else:\n",
    "            avg = self.audio\n",
    "       \n",
    "        #Aplica filtro de preénfasis\n",
    "        if self.preemphasis != 0.0:\n",
    "            Avg = np.zeros(len(avg))    \n",
    "            Avg[0] = avg[0]\n",
    "            for n in range(1,len(avg)):\n",
    "                Avg[n] = avg[n] - self.preemphasis*avg[n-1]\n",
    "            return Avg\n",
    "        else:\n",
    "            return avg\n",
    "            \n",
    "    #Determina número de frames para analizar\n",
    "    def __Frames(self):\n",
    "        i = 0\n",
    "        j = 0\n",
    "        while(j < self.audio_length):\n",
    "            j = i*self.overlap_size + self.frame_size\n",
    "            i = i + 1\n",
    "        return i - 1\n",
    "    \n",
    "    #Aplica ventana (Hann, Hamming, Box) a frame de la señal\n",
    "    def __Window(self):\n",
    "        n = np.arange(-self.half_n,self.half_n)\n",
    "        if len(n) != self.frame_size:\n",
    "            n = np.arange(-self.half_n,self.half_n+1)\n",
    "        \n",
    "        #Ventana Box\n",
    "        if self.window == 0:\n",
    "            W = np.ones(len(n))\n",
    "        \n",
    "        #Ventana Hamming\n",
    "        if self.window == 1:\n",
    "            a = 0.53836\n",
    "            b = 0.46164\n",
    "            W = np.array([])\n",
    "            for i in n:\n",
    "                W =np.append(W, a + b*math.cos((2*math.pi*i)/(self.frame_size - 1.0))) \n",
    "        \n",
    "        #Ventana Hann\n",
    "        if self.window == 2:\n",
    "            a = 0.5\n",
    "            b = 0.5\n",
    "            W = np.array([])\n",
    "            for i in n:\n",
    "                W = np.append(W, a + b*math.cos((2*math.pi*i)/(self.frame_size - 1.0)))        \n",
    "        return W\n",
    "    \n",
    "    #Calcula frecuencias en Hertz\n",
    "    def __Freqs(self):\n",
    "        n = np.arange(0,self.half_n)\n",
    "        f = np.array([])\n",
    "        for i in n:\n",
    "            f = np.append(f,(i*self.fs)/self.frame_size)\n",
    "        return f\n",
    "    \n",
    "    #Calcula frecuencias en escala de Mel\n",
    "    def __Mel_Freqs(self):\n",
    "        n = np.arange(0,self.half_n)\n",
    "        f = np.array([])\n",
    "        for i in n:\n",
    "            f = np.append(f,2595*np.log10(self.freqs[int(i)]/700+1))\n",
    "        return f\n",
    "    \n",
    "    #Genera banco de filtros triangulares \n",
    "    def __Mel_Filter(self):\n",
    "        Hkm = np.zeros((int(self.half_n),self.n_filters))\n",
    "        if self.type_ent == 0:\n",
    "            t_bin = int(np.round(int(self.half_n)/self.n_filters))\n",
    "            for i in range(0,self.n_filters):\n",
    "                j = i*t_bin\n",
    "                if i == self.n_filters-1:\n",
    "                    k = int(self.half_n)\n",
    "                else:\n",
    "                    k = i*t_bin + t_bin\n",
    "                \n",
    "                Hkm[j:k,i] = 1\n",
    "        \n",
    "        if self.type_ent == 1:\n",
    "            phi_min = 2595*math.log10(self.f_min/700+1)\n",
    "            phi_max = 2595*math.log10(self.f_max/700+1)\n",
    "            dphi = (phi_max - phi_min)/(self.n_filters+1)\n",
    "            fc = np.zeros(self.n_filters+2)\n",
    "            fc[0] = self.f_min\n",
    "            for i in range(1,len(fc)):\n",
    "                phic = (i-1)*dphi\n",
    "                fc[i-1] = 700*(math.pow(10,(phic + phi_min)/2595)-1)\n",
    "            fc[self.n_filters+1] = self.f_max\n",
    "            n = np.arange(0,self.half_n)\n",
    "            for i in range(1,self.n_filters+1):\n",
    "                for k in n:\n",
    "                    kk = int(k)\n",
    "                    if self.freqs[kk] < fc[i-1]:\n",
    "                        Hkm[kk,i-1] = 0\n",
    "                    if (self.freqs[kk] >= fc[i-1]) and (self.freqs[kk] < fc[i]):\n",
    "                        Hkm[kk,i-1] = (self.freqs[kk] - fc[i-1])/(fc[i] - fc[i-1])\n",
    "                    if (self.freqs[kk] >= fc[i]) and (self.freqs[kk] < fc[i+1]):\n",
    "                        Hkm[kk,i-1] = (self.freqs[kk] - fc[i+1])/(fc[i] - fc[i+1])\n",
    "                    if self.freqs[kk] >= fc[i+1]:\n",
    "                        Hkm[kk,i-1] = 0\n",
    "        return Hkm\n",
    "    \n",
    "    #Determina coeficientes de entropia    \n",
    "    def __MSES_Coef(self):\n",
    "        frame = np.zeros(int(self.frame_size))\n",
    "        self.energy = np.zeros((int(self.half_n),self.n_frames))\n",
    "        self.entropygram = np.zeros((self.n_filters,self.n_frames))\n",
    "        Xm = np.zeros(self.n_filters)\n",
    "        mses = np.zeros(self.n_mses) \n",
    "        wi = np.zeros(2*self.n_mses)\n",
    "        MSES = np.zeros((self.n_mses,self.n_frames))\n",
    "        band_real = np.zeros((self.n_filters,int(self.half_n)))\n",
    "        band_imag = np.zeros((self.n_filters,int(self.half_n))) \n",
    "        bands = np.zeros((self.n_filters,int(self.half_n)))   \n",
    "        pdf = np.zeros((self.n_filters,int(self.half_n)))  \n",
    "        \n",
    "        #Pesos para el proceso de liftering\n",
    "        for i in range(0,2*self.n_mses):\n",
    "            wi[i] = 1 + self.n_mses*np.sin(math.pi*i/(2*self.n_mses-1))\n",
    "            \n",
    "\n",
    "        \n",
    "        l = 0\n",
    "        #Análisis de frames\n",
    "        for i in range(0,int(self.n_frames)):\n",
    "            #Extrae frame de la señal\n",
    "            frame = self.audio_avg[i*int(self.overlap_size):i*int(self.overlap_size)+int(self.frame_size)]\n",
    "            \n",
    "            \n",
    "            #función de autocorrelación\n",
    "            acorr = np.correlate(frame,frame,mode='full')\n",
    "            m = np.amax(acorr[20:len(acorr)])\n",
    "            \n",
    "            if m > 0.1:\n",
    "            #if np.sum(frame)!=0:\n",
    "            \n",
    "\n",
    "                #Multiplica frame por ventana\n",
    "                frame = frame*self.window_data\n",
    "                #Extrae espectro de potencia \n",
    "                FFT = fourier.fft(frame)\n",
    "                P = np.abs(FFT)\n",
    "                #Determina espectrograma de la señal\n",
    "                self.energy[:,l] = 10*np.log10(P[0:int(self.half_n)]) \n",
    "                \n",
    "                #Separa parte real e imaginaria\n",
    "                if self.type_ent == 1:\n",
    "                    real = np.real(FFT)\n",
    "                    imag = np.imag(FFT)\n",
    "                        \n",
    "                \n",
    "                for j in range(0,self.n_filters):\n",
    "                    #Multiplica espectro de potencia por filtros triangulares\n",
    "                    if self.type_ent == 1:\n",
    "                        Ps_real = real[0:int(self.half_n)]*self.mel_filter_bank[:,j]\n",
    "                        Ps_imag = imag[0:int(self.half_n)]*self.mel_filter_bank[:,j]\n",
    "                    \n",
    "                    if self.type_ent == 0:\n",
    "                        Ps = P[0:int(self.half_n)]*self.mel_filter_bank[:,j]\n",
    "                    \n",
    "                    \n",
    "                    \n",
    "                    #Separa componentes espectrales por bandas\n",
    "                    if self.type_ent == 1:\n",
    "                        band_real[j,:] = Ps_real\n",
    "                        band_imag[j,:] = Ps_imag\n",
    "                    \n",
    "                    if self.type_ent == 0:\n",
    "                        bands[j,:] = Ps\n",
    "    \n",
    "                #Selecciona tipo de cómputo de entropía            \n",
    "                if self.type_ent == 0:\n",
    "                    sum_band = bands.sum(1)\n",
    "                    for j in range(0,self.n_filters):\n",
    "                        pdf[j,:] = bands[j,:]/sum_band[j]\n",
    "                        suma = 0\n",
    "                        for k in range(0,int(self.half_n)):\n",
    "                            if pdf[j,k] != 0:\n",
    "                                suma = suma + pdf[j,k]*np.log(pdf[j,k])\n",
    "                        Xm[j] = -suma\n",
    "                \n",
    "                if self.type_ent == 1:\n",
    "                    #Cuenta elementos por banda de frecuencia\n",
    "                    rows_count = (band_real != 0).sum(1)\n",
    "                    #Obtiene medias por bandas\n",
    "                    Mean_real = band_real.sum(1) / rows_count\n",
    "                    Mean_imag = band_imag.sum(1) / rows_count\n",
    "                    #Determina varianza, covarianza y entropía    \n",
    "                    for j in range(0,self.n_filters):\n",
    "                        suma_r = 0\n",
    "                        suma_i = 0\n",
    "                        suma = 0\n",
    "                        for k in range(0,int(self.half_n)):\n",
    "                            if band_real[j,k] != 0 and band_imag[j,k] != 0:\n",
    "                                suma_r = suma_r + (band_real[j,k]-Mean_real[j])*(band_real[j,k]-Mean_real[j])\n",
    "                                suma_i = suma_i + (band_imag[j,k]-Mean_imag[j])*(band_imag[j,k]-Mean_imag[j])\n",
    "                                suma = suma + (band_real[j,k]-Mean_real[j])*(band_imag[j,k]-Mean_imag[j])\n",
    "                        var_real = suma_r/rows_count[j]\n",
    "                        var_imag = suma_i/rows_count[j]\n",
    "                        cova = suma/rows_count[j]\n",
    "                                        \n",
    "                        Det = (var_real*var_imag) - (cova*cova)\n",
    "                        \n",
    "                        if Det <= 0:\n",
    "                            Det = 0\n",
    "                        else:\n",
    "                            Det = np.log(Det)\n",
    "                        Xm[j] = np.log(2*math.pi*np.exp(1)) + Det/2.0    \n",
    "                         \n",
    "                    \n",
    "                #Determina entropigrama de la señal\n",
    "                self.entropygram[:,l] = Xm\n",
    "                \n",
    "                #Aplica transformada coseno\n",
    "                for j in range(1,self.n_mses+1):\n",
    "                    suma = 0\n",
    "                    for k in range(1,self.n_filters+1):\n",
    "                        suma = suma + Xm[k-1]*np.cos(math.pi*j*(k-(1/2))/self.n_filters)\n",
    "                    mses[j-1] = suma \n",
    "                #Aplica proceso de liftering\n",
    "                mses = mses*wi[0:self.n_mses]\n",
    "                #Genera matriz de coeficientes mses\n",
    "                MSES[:,l] = mses\n",
    "                l = l + 1\n",
    "        \n",
    "        #Normaliza matriz de coeficientes mses\n",
    "        if self.norm == 1:            \n",
    "            MSES = (MSES - np.mean(MSES))/np.std(MSES)\n",
    "        return MSES,l"
   ]
  },
  {
   "cell_type": "code",
   "execution_count": 25,
   "metadata": {},
   "outputs": [],
   "source": [
    "def extract_features_train_EMODB():\n",
    "    \n",
    "    try:\n",
    "        # Set the path to the full EMODB dataset\n",
    "\n",
    "        fulldatasetpath = r'C:\\Users\\SACKRAY7\\Desktop\\Uni\\8vo\\TESIS\\retomando la tesis 23-06-2020\\Udacity-ML-Capstone-master\\Udacity-ML-Capstone-master\\EMODB - testSize 0.3\\audio'\n",
    "\n",
    "        metadata = pd.read_csv(r'C:\\Users\\SACKRAY7\\Desktop\\Uni\\8vo\\TESIS\\retomando la tesis 23-06-2020\\Udacity-ML-Capstone-master\\Udacity-ML-Capstone-master\\UrbanSound Dataset sample\\metadata\\EMODB4 - testSize 0.3.csv')\n",
    "\n",
    "        features = []\n",
    "\n",
    "        # Iterate through each sound file and extract the features \n",
    "        for index, row in metadata.iterrows():\n",
    "\n",
    "            file_name = os.path.join(os.path.abspath(fulldatasetpath),str(row[\"fold\"])+'/',str(row[\"slice_file_name\"]))\n",
    "\n",
    "            class_label = row[\"class_name\"]\n",
    "            if row[\"if\"] == \"train\" :\n",
    "                data = mult_spect_ent_coef_corr(file_name)\n",
    "                features.append([data.msesscalade, class_label])\n",
    "\n",
    "        # Convert into a Panda dataframe \n",
    "        featuresdf = pd.DataFrame(features, columns=['feature','class_label'])\n",
    "\n",
    "        print('Finished feature extraction from ', len(featuresdf), ' files') \n",
    "    except Exception as e:\n",
    "        print(\"Error encoutered while parsing file: \", file_name)\n",
    "        return None\n",
    "\n",
    "    return featuresdf"
   ]
  },
  {
   "cell_type": "code",
   "execution_count": 26,
   "metadata": {},
   "outputs": [],
   "source": [
    "def extract_features_test_EMODB():\n",
    "    \n",
    "    try:\n",
    "        # Set the path to the full EMODB dataset\n",
    "\n",
    "        fulldatasetpath = r'C:\\Users\\SACKRAY7\\Desktop\\Uni\\8vo\\TESIS\\retomando la tesis 23-06-2020\\Udacity-ML-Capstone-master\\Udacity-ML-Capstone-master\\EMODB - testSize 0.3\\audio'\n",
    "\n",
    "        metadata = pd.read_csv(r'C:\\Users\\SACKRAY7\\Desktop\\Uni\\8vo\\TESIS\\retomando la tesis 23-06-2020\\Udacity-ML-Capstone-master\\Udacity-ML-Capstone-master\\UrbanSound Dataset sample\\metadata\\EMODB4 - testSize 0.3.csv')\n",
    "\n",
    "        features = []\n",
    "\n",
    "        # Iterate through each sound file and extract the features \n",
    "        for index, row in metadata.iterrows():\n",
    "\n",
    "            file_name = os.path.join(os.path.abspath(fulldatasetpath),str(row[\"fold\"])+'/',str(row[\"slice_file_name\"]))\n",
    "\n",
    "            class_label = row[\"class_name\"]\n",
    "            if row[\"if\"] == \"test\" :\n",
    "                data = mult_spect_ent_coef_corr(file_name)\n",
    "                features.append([data.msesscalade, class_label])\n",
    "\n",
    "        # Convert into a Panda dataframe \n",
    "        featuresdf = pd.DataFrame(features, columns=['feature','class_label'])\n",
    "\n",
    "        print('Finished feature extraction from ', len(featuresdf), ' files') \n",
    "    except Exception as e:\n",
    "        print(\"Error encoutered while parsing file: \", file_name)\n",
    "        return None\n",
    "\n",
    "    return featuresdf"
   ]
  },
  {
   "cell_type": "code",
   "execution_count": 2,
   "metadata": {},
   "outputs": [
    {
     "name": "stderr",
     "output_type": "stream",
     "text": [
      "C:\\ProgramData\\Anaconda3\\lib\\site-packages\\librosa\\util\\decorators.py:9: NumbaDeprecationWarning: \u001b[1mAn import was requested from a module that has moved location.\n",
      "Import requested from: 'numba.decorators', please update to use 'numba.core.decorators' or pin to Numba version 0.48.0. This alias will not be present in Numba version 0.50.0.\u001b[0m\n",
      "  from numba.decorators import jit as optional_jit\n",
      "C:\\ProgramData\\Anaconda3\\lib\\site-packages\\librosa\\util\\decorators.py:9: NumbaDeprecationWarning: \u001b[1mAn import was requested from a module that has moved location.\n",
      "Import of 'jit' requested from: 'numba.decorators', please update to use 'numba.core.decorators' or pin to Numba version 0.48.0. This alias will not be present in Numba version 0.50.0.\u001b[0m\n",
      "  from numba.decorators import jit as optional_jit\n"
     ]
    }
   ],
   "source": [
    "import matplotlib.pyplot as plt\n",
    "import scipy.io.wavfile as rd\n",
    "import scipy.fftpack as fourier\n",
    "import scipy.signal as sg\n",
    "import numpy as np\n",
    "import math \n",
    "\n",
    "import pandas as pd\n",
    "import os\n",
    "import librosa\n",
    "from timeit import default_timer"
   ]
  }
 ],
 "metadata": {
  "kernelspec": {
   "display_name": "Python 3",
   "language": "python",
   "name": "python3"
  },
  "language_info": {
   "codemirror_mode": {
    "name": "ipython",
    "version": 3
   },
   "file_extension": ".py",
   "mimetype": "text/x-python",
   "name": "python",
   "nbconvert_exporter": "python",
   "pygments_lexer": "ipython3",
   "version": "3.7.4"
  }
 },
 "nbformat": 4,
 "nbformat_minor": 4
}
