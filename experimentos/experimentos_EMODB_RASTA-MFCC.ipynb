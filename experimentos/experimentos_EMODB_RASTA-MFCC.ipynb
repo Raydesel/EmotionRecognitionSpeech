{
 "cells": [
  {
   "cell_type": "markdown",
   "metadata": {},
   "source": [
    "## EMODB Experimento 1 \n",
    "\n",
    "### Cantidad de coeficientes 12, 24, 36, 48, Usando ventana tipo 2, sin preénfasis, ancho de band completo (fs/2), tamaño de frame de 30ms y traslape de 50\n",
    "\n",
    "### Window=2  preénfasis=0 f_max = fs/2  frame=0.03 overlap=50\n"
   ]
  },
  {
   "cell_type": "markdown",
   "metadata": {},
   "source": [
    "# MFCC"
   ]
  },
  {
   "cell_type": "code",
   "execution_count": 6,
   "metadata": {
    "scrolled": true
   },
   "outputs": [
    {
     "name": "stdout",
     "output_type": "stream",
     "text": [
      "Error encoutered while parsing file:  \\Users\\SACKRAY7\\Desktop\\Tesis\\emovo\\EMOVO\\f1\\gio-f1-b1.wav\n"
     ]
    },
    {
     "ename": "AttributeError",
     "evalue": "'mel_freq_ceps_coef' object has no attribute 'cepstrum'",
     "output_type": "error",
     "traceback": [
      "\u001b[1;31m---------------------------------------------------------------------------\u001b[0m",
      "\u001b[1;31mAttributeError\u001b[0m                            Traceback (most recent call last)",
      "\u001b[1;32m<ipython-input-6-0ddab6842fd8>\u001b[0m in \u001b[0;36m<module>\u001b[1;34m\u001b[0m\n\u001b[0;32m     11\u001b[0m \u001b[1;33m\u001b[0m\u001b[0m\n\u001b[0;32m     12\u001b[0m \u001b[0mplt\u001b[0m\u001b[1;33m.\u001b[0m\u001b[0mfigure\u001b[0m\u001b[1;33m(\u001b[0m\u001b[1;36m4\u001b[0m\u001b[1;33m)\u001b[0m\u001b[1;33m\u001b[0m\u001b[1;33m\u001b[0m\u001b[0m\n\u001b[1;32m---> 13\u001b[1;33m \u001b[0mcepst\u001b[0m \u001b[1;33m=\u001b[0m \u001b[0mmfcc\u001b[0m\u001b[1;33m.\u001b[0m\u001b[0mcepstrum\u001b[0m\u001b[1;33m\u001b[0m\u001b[1;33m\u001b[0m\u001b[0m\n\u001b[0m\u001b[0;32m     14\u001b[0m \u001b[0mplt\u001b[0m\u001b[1;33m.\u001b[0m\u001b[0mimshow\u001b[0m\u001b[1;33m(\u001b[0m\u001b[0mcepst\u001b[0m\u001b[1;33m[\u001b[0m\u001b[1;33m:\u001b[0m\u001b[1;33m:\u001b[0m\u001b[1;33m-\u001b[0m\u001b[1;36m1\u001b[0m\u001b[1;33m]\u001b[0m\u001b[1;33m,\u001b[0m\u001b[0mcmap\u001b[0m\u001b[1;33m=\u001b[0m\u001b[0mplt\u001b[0m\u001b[1;33m.\u001b[0m\u001b[0mget_cmap\u001b[0m\u001b[1;33m(\u001b[0m\u001b[1;34m'jet'\u001b[0m\u001b[1;33m)\u001b[0m\u001b[1;33m,\u001b[0m\u001b[0mextent\u001b[0m \u001b[1;33m=\u001b[0m \u001b[1;33m[\u001b[0m\u001b[1;36m0\u001b[0m\u001b[1;33m,\u001b[0m\u001b[0mmfcc\u001b[0m\u001b[1;33m.\u001b[0m\u001b[0mn_frames\u001b[0m\u001b[1;33m,\u001b[0m\u001b[1;36m1\u001b[0m\u001b[1;33m,\u001b[0m\u001b[0mmfcc\u001b[0m\u001b[1;33m.\u001b[0m\u001b[0mn_filters\u001b[0m\u001b[1;33m]\u001b[0m\u001b[1;33m,\u001b[0m\u001b[0maspect\u001b[0m\u001b[1;33m=\u001b[0m\u001b[1;34m\"auto\"\u001b[0m\u001b[1;33m)\u001b[0m\u001b[1;33m\u001b[0m\u001b[1;33m\u001b[0m\u001b[0m\n\u001b[0;32m     15\u001b[0m \u001b[1;33m\u001b[0m\u001b[0m\n",
      "\u001b[1;31mAttributeError\u001b[0m: 'mel_freq_ceps_coef' object has no attribute 'cepstrum'"
     ]
    },
    {
     "data": {
      "text/plain": [
       "<Figure size 432x288 with 0 Axes>"
      ]
     },
     "metadata": {},
     "output_type": "display_data"
    }
   ],
   "source": [
    "\n",
    "import matplotlib.pyplot as plt\n",
    "\n",
    "mfcc = mel_freq_ceps_coef(r'\\Users\\SACKRAY7\\Desktop\\Tesis\\emovo\\EMOVO\\f1\\gio-f1-b1.wav')\n",
    "'''\n",
    "plt.figure(5)\n",
    "plt.plot(mfcc.coef[11,:])\n",
    "plt.figure(6)\n",
    "plt.plot(mfcc.mfccsscalade)\n",
    "'''\n",
    "\n",
    "\n",
    "plt.figure(4)\n",
    "cepst = mfcc.cepstrum\n",
    "plt.imshow(cepst[::-1],cmap=plt.get_cmap('jet'),extent = [0,mfcc.n_frames,1,mfcc.n_filters],aspect=\"auto\")\n",
    "\n",
    "plt.figure(3)\n",
    "espectrogram = mfcc.energy\n",
    "plt.imshow(espectrogram[::-1],cmap=plt.get_cmap('jet'),extent = [0,mfcc.n_frames,mfcc.f_min,mfcc.f_max],aspect=\"auto\")\n",
    "\n",
    "plt.figure(1)\n",
    "plt.plot(mfcc.frame)\n",
    "\n",
    "plt.figure(2)\n",
    "plt.plot(mfcc.audio_avg)\n",
    "\n",
    "\n",
    "audio_w = mfcc.frame * mfcc.window_data\n",
    "plt.figure(4)\n",
    "plt.plot(audio_w)\n",
    "\n",
    "plt.figure(9)\n",
    "cepst = mfcc.cepstrum\n",
    "plt.imshow(cepst[::-1],cmap=plt.get_cmap('jet'),extent = [0,mfcc.n_frames,1,mfcc.n_filters],aspect=\"auto\")\n",
    "\n",
    "'''\n",
    "plt.figure(5)\n",
    "plt.plot(mfcc.frame)\n",
    "\n",
    "plt.figure(6)\n",
    "plt.plot(mfcc.acorr)\n",
    "\n",
    "plt.figure(3)\n",
    "plt.plot(mfcc.window_data)\n",
    "\n",
    "audio_w = mfcc.frame * mfcc.window_data\n",
    "plt.figure(4)\n",
    "plt.plot(audio_w)\n",
    "'''\n",
    "\n",
    "\n",
    "\n",
    "'''\n",
    "print(mfcc.audio_length)\n",
    "print(mfcc.frame_size)\n",
    "print(mfcc.overlap_size)\n",
    "print(mfcc.n_frames)\n",
    "plt.figure(2)\n",
    "plt.plot(mfcc.audio_avg)\n",
    "print(mfcc.half_n)\n",
    "print(mfcc.window_data)\n",
    "print(mfcc.freqs)\n",
    "print(mfcc.mel_freqs)\n",
    "print(mfcc.mel_filter_bank)\n",
    "plt.figure(3)\n",
    "espectrogram = mfcc.energy\n",
    "plt.imshow(espectrogram[::-1],cmap=plt.get_cmap('jet'),extent = [0,mfcc.n_frames,mfcc.f_min,mfcc.f_max],aspect=\"auto\")\n",
    "plt.figure(4)\n",
    "cepst = mfcc.cepstrum\n",
    "plt.imshow(cepst[::-1],cmap=plt.get_cmap('jet'),extent = [0,mfcc.n_frames,1,mfcc.n_filters],aspect=\"auto\")\n",
    "plt.figure(5)\n",
    "plt.plot(mfcc.coef[11,:])\n",
    "plt.figure(6)\n",
    "plt.plot(mfcc.mfccsscalade)\n",
    "'''\n",
    "\n",
    "'''\n",
    "signal=[];\n",
    "for i in range(0,mfcc.audio_length): \n",
    "    if mfcc.signal[i]!=0:\n",
    "        signal = np.append(signal, mfcc.signal[i])\n",
    "'''"
   ]
  },
  {
   "cell_type": "code",
   "execution_count": 22,
   "metadata": {},
   "outputs": [
    {
     "name": "stdout",
     "output_type": "stream",
     "text": [
      "Finished feature extraction from  161  files\n"
     ]
    },
    {
     "name": "stderr",
     "output_type": "stream",
     "text": [
      "C:\\ProgramData\\Anaconda3\\lib\\site-packages\\ipykernel_launcher.py:6: WavFileWarning: Chunk (non-data) not understood, skipping it.\n",
      "  \n"
     ]
    },
    {
     "name": "stdout",
     "output_type": "stream",
     "text": [
      "Finished feature extraction from  374  files\n",
      "2.2796141716666702\n"
     ]
    }
   ],
   "source": [
    "inicio = default_timer()\n",
    "\n",
    "featuresdf_EMODB_12_test_1=extract_features_test_EMODB()\n",
    "\n",
    "featuresdf_EMODB_12_train_1=extract_features_train_EMODB()\n",
    "\n",
    "fin = default_timer()\n",
    "print((fin - inicio)/60) "
   ]
  },
  {
   "cell_type": "code",
   "execution_count": 25,
   "metadata": {},
   "outputs": [
    {
     "name": "stdout",
     "output_type": "stream",
     "text": [
      "Finished feature extraction from  161  files\n"
     ]
    },
    {
     "name": "stderr",
     "output_type": "stream",
     "text": [
      "C:\\ProgramData\\Anaconda3\\lib\\site-packages\\ipykernel_launcher.py:6: WavFileWarning: Chunk (non-data) not understood, skipping it.\n",
      "  \n"
     ]
    },
    {
     "name": "stdout",
     "output_type": "stream",
     "text": [
      "Finished feature extraction from  374  files\n",
      "2.7185224516666646\n"
     ]
    }
   ],
   "source": [
    "inicio = default_timer()\n",
    "\n",
    "featuresdf_EMODB_24_test_1=extract_features_test_EMODB()#pau-f3-d1, tri-m1-d2, tri-f3-d1, tri-f3-d2, tri-f3-l3, tri-f3-l4, tri-f3-n3, tri-f3-n5 audio que generaba error\n",
    "\n",
    "featuresdf_EMODB_24_train_1=extract_features_train_EMODB()\n",
    "\n",
    "fin = default_timer()\n",
    "print((fin - inicio)/60)"
   ]
  },
  {
   "cell_type": "code",
   "execution_count": 28,
   "metadata": {},
   "outputs": [
    {
     "name": "stdout",
     "output_type": "stream",
     "text": [
      "Finished feature extraction from  161  files\n"
     ]
    },
    {
     "name": "stderr",
     "output_type": "stream",
     "text": [
      "C:\\ProgramData\\Anaconda3\\lib\\site-packages\\ipykernel_launcher.py:6: WavFileWarning: Chunk (non-data) not understood, skipping it.\n",
      "  \n"
     ]
    },
    {
     "name": "stdout",
     "output_type": "stream",
     "text": [
      "Finished feature extraction from  374  files\n",
      "4.431599521666673\n"
     ]
    }
   ],
   "source": [
    "inicio = default_timer()\n",
    "\n",
    "featuresdf_EMODB_36_test_1=extract_features_test_EMODB()#pau-f3-d1, tri-m1-d2, tri-f3-d1, tri-f3-d2, tri-f3-l3, tri-f3-l4, tri-f3-n3, tri-f3-n5 audio que generaba error\n",
    "\n",
    "featuresdf_EMODB_36_train_1=extract_features_train_EMODB()\n",
    "\n",
    "fin = default_timer()\n",
    "print((fin - inicio)/60)"
   ]
  },
  {
   "cell_type": "code",
   "execution_count": 31,
   "metadata": {},
   "outputs": [
    {
     "name": "stdout",
     "output_type": "stream",
     "text": [
      "Finished feature extraction from  161  files\n"
     ]
    },
    {
     "name": "stderr",
     "output_type": "stream",
     "text": [
      "C:\\ProgramData\\Anaconda3\\lib\\site-packages\\ipykernel_launcher.py:6: WavFileWarning: Chunk (non-data) not understood, skipping it.\n",
      "  \n"
     ]
    },
    {
     "name": "stdout",
     "output_type": "stream",
     "text": [
      "Finished feature extraction from  374  files\n",
      "3.964647650000006\n"
     ]
    }
   ],
   "source": [
    "inicio = default_timer()\n",
    "\n",
    "featuresdf_EMODB_48_test_1=extract_features_test_EMODB()#pau-f3-d1, tri-m1-d2, tri-f3-d1, tri-f3-d2, tri-f3-l3, tri-f3-l4, tri-f3-n3, tri-f3-n5 audio que generaba error\n",
    "\n",
    "featuresdf_EMODB_48_train_1=extract_features_train_EMODB()\n",
    "\n",
    "fin = default_timer()\n",
    "print((fin - inicio)/60)"
   ]
  },
  {
   "cell_type": "code",
   "execution_count": 32,
   "metadata": {},
   "outputs": [
    {
     "name": "stdout",
     "output_type": "stream",
     "text": [
      "Stored 'featuresdf_EMODB_12_test_1' (DataFrame)\n",
      "Stored 'featuresdf_EMODB_12_train_1' (DataFrame)\n",
      "Stored 'featuresdf_EMODB_24_test_1' (DataFrame)\n",
      "Stored 'featuresdf_EMODB_24_train_1' (DataFrame)\n",
      "Stored 'featuresdf_EMODB_36_test_1' (DataFrame)\n",
      "Stored 'featuresdf_EMODB_36_train_1' (DataFrame)\n",
      "Stored 'featuresdf_EMODB_48_test_1' (DataFrame)\n",
      "Stored 'featuresdf_EMODB_48_train_1' (DataFrame)\n"
     ]
    }
   ],
   "source": [
    "%store featuresdf_EMODB_12_test_1\n",
    "%store featuresdf_EMODB_12_train_1\n",
    "%store featuresdf_EMODB_24_test_1\n",
    "%store featuresdf_EMODB_24_train_1\n",
    "%store featuresdf_EMODB_36_test_1\n",
    "%store featuresdf_EMODB_36_train_1\n",
    "%store featuresdf_EMODB_48_test_1\n",
    "%store featuresdf_EMODB_48_train_1"
   ]
  },
  {
   "cell_type": "markdown",
   "metadata": {},
   "source": [
    "# RASTA-MFCC"
   ]
  },
  {
   "cell_type": "code",
   "execution_count": 35,
   "metadata": {},
   "outputs": [
    {
     "name": "stdout",
     "output_type": "stream",
     "text": [
      "Finished feature extraction from  161  files\n"
     ]
    },
    {
     "name": "stderr",
     "output_type": "stream",
     "text": [
      "C:\\ProgramData\\Anaconda3\\lib\\site-packages\\ipykernel_launcher.py:6: WavFileWarning: Chunk (non-data) not understood, skipping it.\n",
      "  \n"
     ]
    },
    {
     "name": "stdout",
     "output_type": "stream",
     "text": [
      "Finished feature extraction from  374  files\n",
      "2.24153046499999\n"
     ]
    }
   ],
   "source": [
    "inicio = default_timer()\n",
    "\n",
    "featuresdf_EMODB_12_test_2=extract_features_test_EMODB()\n",
    "\n",
    "featuresdf_EMODB_12_train_2=extract_features_train_EMODB()\n",
    "\n",
    "fin = default_timer()\n",
    "print((fin - inicio)/60)  "
   ]
  },
  {
   "cell_type": "code",
   "execution_count": 37,
   "metadata": {},
   "outputs": [
    {
     "name": "stdout",
     "output_type": "stream",
     "text": [
      "Finished feature extraction from  161  files\n"
     ]
    },
    {
     "name": "stderr",
     "output_type": "stream",
     "text": [
      "C:\\ProgramData\\Anaconda3\\lib\\site-packages\\ipykernel_launcher.py:6: WavFileWarning: Chunk (non-data) not understood, skipping it.\n",
      "  \n"
     ]
    },
    {
     "name": "stdout",
     "output_type": "stream",
     "text": [
      "Finished feature extraction from  374  files\n",
      "2.957500318333329\n"
     ]
    }
   ],
   "source": [
    "inicio = default_timer()\n",
    "\n",
    "featuresdf_EMODB_24_test_2=extract_features_test_EMODB()\n",
    "\n",
    "featuresdf_EMODB_24_train_2=extract_features_train_EMODB()\n",
    "\n",
    "fin = default_timer()\n",
    "print((fin - inicio)/60) "
   ]
  },
  {
   "cell_type": "code",
   "execution_count": 39,
   "metadata": {},
   "outputs": [
    {
     "name": "stdout",
     "output_type": "stream",
     "text": [
      "Finished feature extraction from  161  files\n"
     ]
    },
    {
     "name": "stderr",
     "output_type": "stream",
     "text": [
      "C:\\ProgramData\\Anaconda3\\lib\\site-packages\\ipykernel_launcher.py:6: WavFileWarning: Chunk (non-data) not understood, skipping it.\n",
      "  \n"
     ]
    },
    {
     "name": "stdout",
     "output_type": "stream",
     "text": [
      "Finished feature extraction from  374  files\n",
      "3.9714828549999917\n"
     ]
    }
   ],
   "source": [
    "inicio = default_timer()\n",
    "\n",
    "featuresdf_EMODB_36_test_2=extract_features_test_EMODB()\n",
    "\n",
    "featuresdf_EMODB_36_train_2=extract_features_train_EMODB()\n",
    "\n",
    "fin = default_timer()\n",
    "print((fin - inicio)/60) "
   ]
  },
  {
   "cell_type": "code",
   "execution_count": 42,
   "metadata": {},
   "outputs": [
    {
     "name": "stdout",
     "output_type": "stream",
     "text": [
      "Finished feature extraction from  161  files\n"
     ]
    },
    {
     "name": "stderr",
     "output_type": "stream",
     "text": [
      "C:\\ProgramData\\Anaconda3\\lib\\site-packages\\ipykernel_launcher.py:6: WavFileWarning: Chunk (non-data) not understood, skipping it.\n",
      "  \n"
     ]
    },
    {
     "name": "stdout",
     "output_type": "stream",
     "text": [
      "Finished feature extraction from  374  files\n",
      "4.924330186666672\n"
     ]
    }
   ],
   "source": [
    "inicio = default_timer()\n",
    "\n",
    "featuresdf_EMODB_48_test_2=extract_features_test_EMODB()\n",
    "\n",
    "featuresdf_EMODB_48_train_2=extract_features_train_EMODB()\n",
    "\n",
    "fin = default_timer()\n",
    "print((fin - inicio)/60) "
   ]
  },
  {
   "cell_type": "code",
   "execution_count": 54,
   "metadata": {},
   "outputs": [
    {
     "name": "stdout",
     "output_type": "stream",
     "text": [
      "Stored 'featuresdf_EMODB_12_test_2' (DataFrame)\n",
      "Stored 'featuresdf_EMODB_12_train_2' (DataFrame)\n",
      "Stored 'featuresdf_EMODB_24_test_2' (DataFrame)\n",
      "Stored 'featuresdf_EMODB_24_train_2' (DataFrame)\n",
      "Stored 'featuresdf_EMODB_36_test_2' (DataFrame)\n",
      "Stored 'featuresdf_EMODB_36_train_2' (DataFrame)\n",
      "Stored 'featuresdf_EMODB_48_test_2' (DataFrame)\n",
      "Stored 'featuresdf_EMODB_48_train_2' (DataFrame)\n"
     ]
    }
   ],
   "source": [
    "%store featuresdf_EMODB_12_test_2\n",
    "%store featuresdf_EMODB_12_train_2\n",
    "%store featuresdf_EMODB_24_test_2\n",
    "%store featuresdf_EMODB_24_train_2\n",
    "%store featuresdf_EMODB_36_test_2\n",
    "%store featuresdf_EMODB_36_train_2\n",
    "%store featuresdf_EMODB_48_test_2\n",
    "%store featuresdf_EMODB_48_train_2"
   ]
  },
  {
   "cell_type": "markdown",
   "metadata": {},
   "source": [
    "## EMODB Experimento 1.5\n",
    "\n",
    "### Cantidad de coeficientes 12, 24, 36, 48, Usando ventana tipo 2, Con preénfasis 0.97, ancho de band completo (fs/2), tamaño de frame de 30ms y traslape de 50\n",
    "\n",
    "### Window=2 preénfasis=0.97 f_max = fs/2 frame=0.03 overlap=50"
   ]
  },
  {
   "cell_type": "markdown",
   "metadata": {},
   "source": [
    "# MFCC"
   ]
  },
  {
   "cell_type": "code",
   "execution_count": 46,
   "metadata": {},
   "outputs": [
    {
     "name": "stdout",
     "output_type": "stream",
     "text": [
      "Finished feature extraction from  161  files\n"
     ]
    },
    {
     "name": "stderr",
     "output_type": "stream",
     "text": [
      "C:\\ProgramData\\Anaconda3\\lib\\site-packages\\ipykernel_launcher.py:6: WavFileWarning: Chunk (non-data) not understood, skipping it.\n",
      "  \n"
     ]
    },
    {
     "name": "stdout",
     "output_type": "stream",
     "text": [
      "Finished feature extraction from  374  files\n",
      "1.601913376666668\n"
     ]
    }
   ],
   "source": [
    "inicio = default_timer()\n",
    "\n",
    "featuresdf_EMODB_12_test_3=extract_features_test_EMODB()\n",
    "\n",
    "featuresdf_EMODB_12_train_3=extract_features_train_EMODB()\n",
    "\n",
    "fin = default_timer()\n",
    "print((fin - inicio)/60) "
   ]
  },
  {
   "cell_type": "code",
   "execution_count": 48,
   "metadata": {},
   "outputs": [
    {
     "name": "stdout",
     "output_type": "stream",
     "text": [
      "Finished feature extraction from  161  files\n"
     ]
    },
    {
     "name": "stderr",
     "output_type": "stream",
     "text": [
      "C:\\ProgramData\\Anaconda3\\lib\\site-packages\\ipykernel_launcher.py:6: WavFileWarning: Chunk (non-data) not understood, skipping it.\n",
      "  \n"
     ]
    },
    {
     "name": "stdout",
     "output_type": "stream",
     "text": [
      "Finished feature extraction from  374  files\n",
      "2.1670134699999988\n"
     ]
    }
   ],
   "source": [
    "inicio = default_timer()\n",
    "\n",
    "featuresdf_EMODB_24_test_3=extract_features_test_EMODB()\n",
    "\n",
    "featuresdf_EMODB_24_train_3=extract_features_train_EMODB()\n",
    "\n",
    "fin = default_timer()\n",
    "print((fin - inicio)/60)  "
   ]
  },
  {
   "cell_type": "code",
   "execution_count": 50,
   "metadata": {},
   "outputs": [
    {
     "name": "stdout",
     "output_type": "stream",
     "text": [
      "Finished feature extraction from  161  files\n"
     ]
    },
    {
     "name": "stderr",
     "output_type": "stream",
     "text": [
      "C:\\ProgramData\\Anaconda3\\lib\\site-packages\\ipykernel_launcher.py:6: WavFileWarning: Chunk (non-data) not understood, skipping it.\n",
      "  \n"
     ]
    },
    {
     "name": "stdout",
     "output_type": "stream",
     "text": [
      "Finished feature extraction from  374  files\n",
      "2.6100585616666647\n"
     ]
    }
   ],
   "source": [
    "inicio = default_timer()\n",
    "\n",
    "featuresdf_EMODB_36_test_3=extract_features_test_EMODB()\n",
    "\n",
    "featuresdf_EMODB_36_train_3=extract_features_train_EMODB()\n",
    "\n",
    "fin = default_timer()\n",
    "print((fin - inicio)/60) "
   ]
  },
  {
   "cell_type": "code",
   "execution_count": 52,
   "metadata": {},
   "outputs": [
    {
     "name": "stdout",
     "output_type": "stream",
     "text": [
      "Finished feature extraction from  161  files\n"
     ]
    },
    {
     "name": "stderr",
     "output_type": "stream",
     "text": [
      "C:\\ProgramData\\Anaconda3\\lib\\site-packages\\ipykernel_launcher.py:6: WavFileWarning: Chunk (non-data) not understood, skipping it.\n",
      "  \n"
     ]
    },
    {
     "name": "stdout",
     "output_type": "stream",
     "text": [
      "Finished feature extraction from  374  files\n",
      "3.227505680000013\n"
     ]
    }
   ],
   "source": [
    "inicio = default_timer()\n",
    "\n",
    "featuresdf_EMODB_48_test_3=extract_features_test_EMODB()\n",
    "\n",
    "featuresdf_EMODB_48_train_3=extract_features_train_EMODB()\n",
    "\n",
    "fin = default_timer()\n",
    "print((fin - inicio)/60) "
   ]
  },
  {
   "cell_type": "code",
   "execution_count": 53,
   "metadata": {},
   "outputs": [
    {
     "name": "stdout",
     "output_type": "stream",
     "text": [
      "Stored 'featuresdf_EMODB_12_test_3' (DataFrame)\n",
      "Stored 'featuresdf_EMODB_12_train_3' (DataFrame)\n",
      "Stored 'featuresdf_EMODB_24_test_3' (DataFrame)\n",
      "Stored 'featuresdf_EMODB_24_train_3' (DataFrame)\n",
      "Stored 'featuresdf_EMODB_36_test_3' (DataFrame)\n",
      "Stored 'featuresdf_EMODB_36_train_3' (DataFrame)\n",
      "Stored 'featuresdf_EMODB_48_test_3' (DataFrame)\n",
      "Stored 'featuresdf_EMODB_48_train_3' (DataFrame)\n"
     ]
    }
   ],
   "source": [
    "%store featuresdf_EMODB_12_test_3\n",
    "%store featuresdf_EMODB_12_train_3\n",
    "%store featuresdf_EMODB_24_test_3\n",
    "%store featuresdf_EMODB_24_train_3\n",
    "%store featuresdf_EMODB_36_test_3\n",
    "%store featuresdf_EMODB_36_train_3\n",
    "%store featuresdf_EMODB_48_test_3\n",
    "%store featuresdf_EMODB_48_train_3"
   ]
  },
  {
   "cell_type": "markdown",
   "metadata": {},
   "source": [
    "# RASTA-MFCC"
   ]
  },
  {
   "cell_type": "code",
   "execution_count": 56,
   "metadata": {},
   "outputs": [
    {
     "name": "stdout",
     "output_type": "stream",
     "text": [
      "Finished feature extraction from  161  files\n"
     ]
    },
    {
     "name": "stderr",
     "output_type": "stream",
     "text": [
      "C:\\ProgramData\\Anaconda3\\lib\\site-packages\\ipykernel_launcher.py:6: WavFileWarning: Chunk (non-data) not understood, skipping it.\n",
      "  \n"
     ]
    },
    {
     "name": "stdout",
     "output_type": "stream",
     "text": [
      "Finished feature extraction from  374  files\n",
      "2.0521546250000027\n"
     ]
    }
   ],
   "source": [
    "inicio = default_timer()\n",
    "\n",
    "featuresdf_EMODB_12_test_4=extract_features_test_EMODB()\n",
    "\n",
    "featuresdf_EMODB_12_train_4=extract_features_train_EMODB()\n",
    "\n",
    "fin = default_timer()\n",
    "print((fin - inicio)/60) "
   ]
  },
  {
   "cell_type": "code",
   "execution_count": 59,
   "metadata": {},
   "outputs": [
    {
     "name": "stdout",
     "output_type": "stream",
     "text": [
      "Finished feature extraction from  161  files\n"
     ]
    },
    {
     "name": "stderr",
     "output_type": "stream",
     "text": [
      "C:\\ProgramData\\Anaconda3\\lib\\site-packages\\ipykernel_launcher.py:6: WavFileWarning: Chunk (non-data) not understood, skipping it.\n",
      "  \n"
     ]
    },
    {
     "name": "stdout",
     "output_type": "stream",
     "text": [
      "Finished feature extraction from  374  files\n",
      "2.580267441666668\n"
     ]
    }
   ],
   "source": [
    "inicio = default_timer()\n",
    "\n",
    "featuresdf_EMODB_24_test_4=extract_features_test_EMODB()\n",
    "\n",
    "featuresdf_EMODB_24_train_4=extract_features_train_EMODB()\n",
    "\n",
    "fin = default_timer()\n",
    "print((fin - inicio)/60) "
   ]
  },
  {
   "cell_type": "code",
   "execution_count": 61,
   "metadata": {},
   "outputs": [
    {
     "name": "stdout",
     "output_type": "stream",
     "text": [
      "Finished feature extraction from  161  files\n"
     ]
    },
    {
     "name": "stderr",
     "output_type": "stream",
     "text": [
      "C:\\ProgramData\\Anaconda3\\lib\\site-packages\\ipykernel_launcher.py:6: WavFileWarning: Chunk (non-data) not understood, skipping it.\n",
      "  \n"
     ]
    },
    {
     "name": "stdout",
     "output_type": "stream",
     "text": [
      "Finished feature extraction from  374  files\n",
      "3.107128111666649\n"
     ]
    }
   ],
   "source": [
    "inicio = default_timer()\n",
    "\n",
    "featuresdf_EMODB_36_test_4=extract_features_test_EMODB()\n",
    "\n",
    "featuresdf_EMODB_36_train_4=extract_features_train_EMODB()\n",
    "\n",
    "fin = default_timer()\n",
    "print((fin - inicio)/60) "
   ]
  },
  {
   "cell_type": "code",
   "execution_count": 63,
   "metadata": {},
   "outputs": [
    {
     "name": "stdout",
     "output_type": "stream",
     "text": [
      "Finished feature extraction from  161  files\n"
     ]
    },
    {
     "name": "stderr",
     "output_type": "stream",
     "text": [
      "C:\\ProgramData\\Anaconda3\\lib\\site-packages\\ipykernel_launcher.py:6: WavFileWarning: Chunk (non-data) not understood, skipping it.\n",
      "  \n"
     ]
    },
    {
     "name": "stdout",
     "output_type": "stream",
     "text": [
      "Finished feature extraction from  374  files\n",
      "3.58937471666668\n"
     ]
    }
   ],
   "source": [
    "inicio = default_timer()\n",
    "\n",
    "featuresdf_EMODB_48_test_4=extract_features_test_EMODB()\n",
    "\n",
    "featuresdf_EMODB_48_train_4=extract_features_train_EMODB()\n",
    "\n",
    "fin = default_timer()\n",
    "print((fin - inicio)/60) "
   ]
  },
  {
   "cell_type": "code",
   "execution_count": 64,
   "metadata": {},
   "outputs": [
    {
     "name": "stdout",
     "output_type": "stream",
     "text": [
      "Stored 'featuresdf_EMODB_12_test_4' (DataFrame)\n",
      "Stored 'featuresdf_EMODB_12_train_4' (DataFrame)\n",
      "Stored 'featuresdf_EMODB_24_test_4' (DataFrame)\n",
      "Stored 'featuresdf_EMODB_24_train_4' (DataFrame)\n",
      "Stored 'featuresdf_EMODB_36_test_4' (DataFrame)\n",
      "Stored 'featuresdf_EMODB_36_train_4' (DataFrame)\n",
      "Stored 'featuresdf_EMODB_48_test_4' (DataFrame)\n",
      "Stored 'featuresdf_EMODB_48_train_4' (DataFrame)\n"
     ]
    }
   ],
   "source": [
    "%store featuresdf_EMODB_12_test_4\n",
    "%store featuresdf_EMODB_12_train_4\n",
    "%store featuresdf_EMODB_24_test_4\n",
    "%store featuresdf_EMODB_24_train_4\n",
    "%store featuresdf_EMODB_36_test_4\n",
    "%store featuresdf_EMODB_36_train_4\n",
    "%store featuresdf_EMODB_48_test_4\n",
    "%store featuresdf_EMODB_48_train_4"
   ]
  },
  {
   "cell_type": "markdown",
   "metadata": {},
   "source": [
    "## EMODB Experimento 2\n",
    "\n",
    "### Cantidad de coeficientes el mejor resultado de los dos experimentos anteriores, Usando ventana tipo 2, sin y con preénfasis, ancho de banda completo (fs/2), tamaño de frame desde 10ms hasta 100 ms y traslape de 50%\n",
    "\n",
    "### n_coef=24  Window=2  preénfasis=0.0 f_max = fs/2  frame=10-100 overlap=50\n",
    "\n",
    "## MFCC"
   ]
  },
  {
   "cell_type": "code",
   "execution_count": 5,
   "metadata": {},
   "outputs": [
    {
     "name": "stdout",
     "output_type": "stream",
     "text": [
      "Finished feature extraction from  161  files\n"
     ]
    },
    {
     "name": "stderr",
     "output_type": "stream",
     "text": [
      "C:\\ProgramData\\Anaconda3\\lib\\site-packages\\ipykernel_launcher.py:6: WavFileWarning: Chunk (non-data) not understood, skipping it.\n",
      "  \n"
     ]
    },
    {
     "name": "stdout",
     "output_type": "stream",
     "text": [
      "Finished feature extraction from  374  files\n",
      "6.674737341666666\n"
     ]
    }
   ],
   "source": [
    "inicio = default_timer()\n",
    "\n",
    "featuresdf_EMODB_10_test_5=extract_features_test_EMODB()\n",
    "\n",
    "featuresdf_EMODB_10_train_5=extract_features_train_EMODB()\n",
    "\n",
    "fin = default_timer()\n",
    "print((fin - inicio)/60) "
   ]
  },
  {
   "cell_type": "code",
   "execution_count": 7,
   "metadata": {},
   "outputs": [
    {
     "name": "stdout",
     "output_type": "stream",
     "text": [
      "Finished feature extraction from  161  files\n"
     ]
    },
    {
     "name": "stderr",
     "output_type": "stream",
     "text": [
      "C:\\ProgramData\\Anaconda3\\lib\\site-packages\\ipykernel_launcher.py:6: WavFileWarning: Chunk (non-data) not understood, skipping it.\n",
      "  \n"
     ]
    },
    {
     "name": "stdout",
     "output_type": "stream",
     "text": [
      "Finished feature extraction from  374  files\n",
      "2.9537583699999987\n"
     ]
    }
   ],
   "source": [
    "inicio = default_timer()\n",
    "\n",
    "featuresdf_EMODB_20_test_5=extract_features_test_EMODB()\n",
    "\n",
    "featuresdf_EMODB_20_train_5=extract_features_train_EMODB()\n",
    "\n",
    "fin = default_timer()\n",
    "print((fin - inicio)/60) "
   ]
  },
  {
   "cell_type": "code",
   "execution_count": 9,
   "metadata": {},
   "outputs": [
    {
     "name": "stdout",
     "output_type": "stream",
     "text": [
      "Finished feature extraction from  161  files\n"
     ]
    },
    {
     "name": "stderr",
     "output_type": "stream",
     "text": [
      "C:\\ProgramData\\Anaconda3\\lib\\site-packages\\ipykernel_launcher.py:6: WavFileWarning: Chunk (non-data) not understood, skipping it.\n",
      "  \n"
     ]
    },
    {
     "name": "stdout",
     "output_type": "stream",
     "text": [
      "Finished feature extraction from  374  files\n",
      "2.7066541949999987\n"
     ]
    }
   ],
   "source": [
    "inicio = default_timer()\n",
    "\n",
    "featuresdf_EMODB_30_test_5=extract_features_test_EMODB()\n",
    "\n",
    "featuresdf_EMODB_30_train_5=extract_features_train_EMODB()\n",
    "\n",
    "fin = default_timer()\n",
    "print((fin - inicio)/60) "
   ]
  },
  {
   "cell_type": "code",
   "execution_count": 11,
   "metadata": {},
   "outputs": [
    {
     "name": "stdout",
     "output_type": "stream",
     "text": [
      "Finished feature extraction from  161  files\n"
     ]
    },
    {
     "name": "stderr",
     "output_type": "stream",
     "text": [
      "C:\\ProgramData\\Anaconda3\\lib\\site-packages\\ipykernel_launcher.py:6: WavFileWarning: Chunk (non-data) not understood, skipping it.\n",
      "  \n"
     ]
    },
    {
     "name": "stdout",
     "output_type": "stream",
     "text": [
      "Finished feature extraction from  374  files\n",
      "2.4622113300000024\n"
     ]
    }
   ],
   "source": [
    "inicio = default_timer()\n",
    "\n",
    "featuresdf_EMODB_40_test_5=extract_features_test_EMODB()\n",
    "\n",
    "featuresdf_EMODB_40_train_5=extract_features_train_EMODB()\n",
    "\n",
    "fin = default_timer()\n",
    "print((fin - inicio)/60) "
   ]
  },
  {
   "cell_type": "code",
   "execution_count": 13,
   "metadata": {},
   "outputs": [
    {
     "name": "stdout",
     "output_type": "stream",
     "text": [
      "Finished feature extraction from  161  files\n"
     ]
    },
    {
     "name": "stderr",
     "output_type": "stream",
     "text": [
      "C:\\ProgramData\\Anaconda3\\lib\\site-packages\\ipykernel_launcher.py:6: WavFileWarning: Chunk (non-data) not understood, skipping it.\n",
      "  \n"
     ]
    },
    {
     "name": "stdout",
     "output_type": "stream",
     "text": [
      "Finished feature extraction from  374  files\n",
      "2.146713043333337\n"
     ]
    }
   ],
   "source": [
    "inicio = default_timer()\n",
    "\n",
    "featuresdf_EMODB_50_test_5=extract_features_test_EMODB()\n",
    "\n",
    "featuresdf_EMODB_50_train_5=extract_features_train_EMODB()\n",
    "\n",
    "fin = default_timer()\n",
    "print((fin - inicio)/60) "
   ]
  },
  {
   "cell_type": "code",
   "execution_count": 15,
   "metadata": {},
   "outputs": [
    {
     "name": "stdout",
     "output_type": "stream",
     "text": [
      "Finished feature extraction from  161  files\n"
     ]
    },
    {
     "name": "stderr",
     "output_type": "stream",
     "text": [
      "C:\\ProgramData\\Anaconda3\\lib\\site-packages\\ipykernel_launcher.py:6: WavFileWarning: Chunk (non-data) not understood, skipping it.\n",
      "  \n"
     ]
    },
    {
     "name": "stdout",
     "output_type": "stream",
     "text": [
      "Finished feature extraction from  374  files\n",
      "2.2036627616666693\n"
     ]
    }
   ],
   "source": [
    "inicio = default_timer()\n",
    "\n",
    "featuresdf_EMODB_60_test_5=extract_features_test_EMODB()\n",
    "\n",
    "featuresdf_EMODB_60_train_5=extract_features_train_EMODB()\n",
    "\n",
    "fin = default_timer()\n",
    "print((fin - inicio)/60) "
   ]
  },
  {
   "cell_type": "code",
   "execution_count": 17,
   "metadata": {},
   "outputs": [
    {
     "name": "stdout",
     "output_type": "stream",
     "text": [
      "Finished feature extraction from  161  files\n"
     ]
    },
    {
     "name": "stderr",
     "output_type": "stream",
     "text": [
      "C:\\ProgramData\\Anaconda3\\lib\\site-packages\\ipykernel_launcher.py:6: WavFileWarning: Chunk (non-data) not understood, skipping it.\n",
      "  \n"
     ]
    },
    {
     "name": "stdout",
     "output_type": "stream",
     "text": [
      "Finished feature extraction from  374  files\n",
      "2.6556485616666654\n"
     ]
    }
   ],
   "source": [
    "inicio = default_timer()\n",
    "\n",
    "featuresdf_EMODB_70_test_5=extract_features_test_EMODB()\n",
    "\n",
    "featuresdf_EMODB_70_train_5=extract_features_train_EMODB()\n",
    "\n",
    "fin = default_timer()\n",
    "print((fin - inicio)/60) "
   ]
  },
  {
   "cell_type": "code",
   "execution_count": 19,
   "metadata": {},
   "outputs": [
    {
     "name": "stdout",
     "output_type": "stream",
     "text": [
      "Finished feature extraction from  161  files\n"
     ]
    },
    {
     "name": "stderr",
     "output_type": "stream",
     "text": [
      "C:\\ProgramData\\Anaconda3\\lib\\site-packages\\ipykernel_launcher.py:6: WavFileWarning: Chunk (non-data) not understood, skipping it.\n",
      "  \n"
     ]
    },
    {
     "name": "stdout",
     "output_type": "stream",
     "text": [
      "Finished feature extraction from  374  files\n",
      "2.0058633266666677\n"
     ]
    }
   ],
   "source": [
    "inicio = default_timer()\n",
    "\n",
    "featuresdf_EMODB_80_test_5=extract_features_test_EMODB()\n",
    "\n",
    "featuresdf_EMODB_80_train_5=extract_features_train_EMODB()\n",
    "\n",
    "fin = default_timer()\n",
    "print((fin - inicio)/60) "
   ]
  },
  {
   "cell_type": "code",
   "execution_count": 21,
   "metadata": {},
   "outputs": [
    {
     "name": "stdout",
     "output_type": "stream",
     "text": [
      "Finished feature extraction from  161  files\n"
     ]
    },
    {
     "name": "stderr",
     "output_type": "stream",
     "text": [
      "C:\\ProgramData\\Anaconda3\\lib\\site-packages\\ipykernel_launcher.py:6: WavFileWarning: Chunk (non-data) not understood, skipping it.\n",
      "  \n"
     ]
    },
    {
     "name": "stdout",
     "output_type": "stream",
     "text": [
      "Finished feature extraction from  374  files\n",
      "2.8580104650000067\n"
     ]
    }
   ],
   "source": [
    "inicio = default_timer()\n",
    "\n",
    "featuresdf_EMODB_90_test_5=extract_features_test_EMODB()\n",
    "\n",
    "featuresdf_EMODB_90_train_5=extract_features_train_EMODB()\n",
    "\n",
    "fin = default_timer()\n",
    "print((fin - inicio)/60) "
   ]
  },
  {
   "cell_type": "code",
   "execution_count": 23,
   "metadata": {},
   "outputs": [
    {
     "name": "stdout",
     "output_type": "stream",
     "text": [
      "Finished feature extraction from  161  files\n"
     ]
    },
    {
     "name": "stderr",
     "output_type": "stream",
     "text": [
      "C:\\ProgramData\\Anaconda3\\lib\\site-packages\\ipykernel_launcher.py:6: WavFileWarning: Chunk (non-data) not understood, skipping it.\n",
      "  \n"
     ]
    },
    {
     "name": "stdout",
     "output_type": "stream",
     "text": [
      "Finished feature extraction from  374  files\n",
      "2.5978080899999894\n"
     ]
    }
   ],
   "source": [
    "inicio = default_timer()\n",
    "\n",
    "featuresdf_EMODB_100_test_5=extract_features_test_EMODB()\n",
    "\n",
    "featuresdf_EMODB_100_train_5=extract_features_train_EMODB()\n",
    "\n",
    "fin = default_timer()\n",
    "print((fin - inicio)/60) "
   ]
  },
  {
   "cell_type": "code",
   "execution_count": 24,
   "metadata": {},
   "outputs": [
    {
     "name": "stdout",
     "output_type": "stream",
     "text": [
      "Stored 'featuresdf_EMODB_10_test_5' (DataFrame)\n",
      "Stored 'featuresdf_EMODB_10_train_5' (DataFrame)\n",
      "Stored 'featuresdf_EMODB_20_test_5' (DataFrame)\n",
      "Stored 'featuresdf_EMODB_20_train_5' (DataFrame)\n",
      "Stored 'featuresdf_EMODB_30_test_5' (DataFrame)\n",
      "Stored 'featuresdf_EMODB_30_train_5' (DataFrame)\n",
      "Stored 'featuresdf_EMODB_40_test_5' (DataFrame)\n",
      "Stored 'featuresdf_EMODB_40_train_5' (DataFrame)\n",
      "Stored 'featuresdf_EMODB_50_test_5' (DataFrame)\n",
      "Stored 'featuresdf_EMODB_50_train_5' (DataFrame)\n",
      "Stored 'featuresdf_EMODB_60_test_5' (DataFrame)\n",
      "Stored 'featuresdf_EMODB_60_train_5' (DataFrame)\n",
      "Stored 'featuresdf_EMODB_70_test_5' (DataFrame)\n",
      "Stored 'featuresdf_EMODB_70_train_5' (DataFrame)\n",
      "Stored 'featuresdf_EMODB_80_test_5' (DataFrame)\n",
      "Stored 'featuresdf_EMODB_80_train_5' (DataFrame)\n",
      "Stored 'featuresdf_EMODB_90_test_5' (DataFrame)\n",
      "Stored 'featuresdf_EMODB_90_train_5' (DataFrame)\n",
      "Stored 'featuresdf_EMODB_100_test_5' (DataFrame)\n",
      "Stored 'featuresdf_EMODB_100_train_5' (DataFrame)\n"
     ]
    }
   ],
   "source": [
    "%store featuresdf_EMODB_10_test_5\n",
    "%store featuresdf_EMODB_10_train_5\n",
    "%store featuresdf_EMODB_20_test_5\n",
    "%store featuresdf_EMODB_20_train_5\n",
    "%store featuresdf_EMODB_30_test_5\n",
    "%store featuresdf_EMODB_30_train_5\n",
    "%store featuresdf_EMODB_40_test_5\n",
    "%store featuresdf_EMODB_40_train_5\n",
    "%store featuresdf_EMODB_50_test_5\n",
    "%store featuresdf_EMODB_50_train_5\n",
    "%store featuresdf_EMODB_60_test_5\n",
    "%store featuresdf_EMODB_60_train_5\n",
    "%store featuresdf_EMODB_70_test_5\n",
    "%store featuresdf_EMODB_70_train_5\n",
    "%store featuresdf_EMODB_80_test_5\n",
    "%store featuresdf_EMODB_80_train_5\n",
    "%store featuresdf_EMODB_90_test_5\n",
    "%store featuresdf_EMODB_90_train_5\n",
    "%store featuresdf_EMODB_100_test_5\n",
    "%store featuresdf_EMODB_100_train_5"
   ]
  },
  {
   "cell_type": "code",
   "execution_count": 26,
   "metadata": {},
   "outputs": [
    {
     "name": "stdout",
     "output_type": "stream",
     "text": [
      "Finished feature extraction from  161  files\n"
     ]
    },
    {
     "name": "stderr",
     "output_type": "stream",
     "text": [
      "C:\\ProgramData\\Anaconda3\\lib\\site-packages\\ipykernel_launcher.py:6: WavFileWarning: Chunk (non-data) not understood, skipping it.\n",
      "  \n"
     ]
    },
    {
     "name": "stdout",
     "output_type": "stream",
     "text": [
      "Finished feature extraction from  374  files\n",
      "9.207429484999997\n"
     ]
    }
   ],
   "source": [
    "inicio = default_timer()\n",
    "\n",
    "featuresdf_EMODB_10_test_6=extract_features_test_EMODB()\n",
    "\n",
    "featuresdf_EMODB_10_train_6=extract_features_train_EMODB()\n",
    "\n",
    "fin = default_timer()\n",
    "print((fin - inicio)/60) "
   ]
  },
  {
   "cell_type": "code",
   "execution_count": 28,
   "metadata": {},
   "outputs": [
    {
     "name": "stdout",
     "output_type": "stream",
     "text": [
      "Finished feature extraction from  161  files\n"
     ]
    },
    {
     "name": "stderr",
     "output_type": "stream",
     "text": [
      "C:\\ProgramData\\Anaconda3\\lib\\site-packages\\ipykernel_launcher.py:6: WavFileWarning: Chunk (non-data) not understood, skipping it.\n",
      "  \n"
     ]
    },
    {
     "name": "stdout",
     "output_type": "stream",
     "text": [
      "Finished feature extraction from  374  files\n",
      "5.885887821666666\n"
     ]
    }
   ],
   "source": [
    "inicio = default_timer()\n",
    "\n",
    "featuresdf_EMODB_20_test_6=extract_features_test_EMODB()\n",
    "\n",
    "featuresdf_EMODB_20_train_6=extract_features_train_EMODB()\n",
    "\n",
    "fin = default_timer()\n",
    "print((fin - inicio)/60) "
   ]
  },
  {
   "cell_type": "code",
   "execution_count": 30,
   "metadata": {},
   "outputs": [
    {
     "name": "stdout",
     "output_type": "stream",
     "text": [
      "Finished feature extraction from  161  files\n"
     ]
    },
    {
     "name": "stderr",
     "output_type": "stream",
     "text": [
      "C:\\ProgramData\\Anaconda3\\lib\\site-packages\\ipykernel_launcher.py:6: WavFileWarning: Chunk (non-data) not understood, skipping it.\n",
      "  \n"
     ]
    },
    {
     "name": "stdout",
     "output_type": "stream",
     "text": [
      "Finished feature extraction from  374  files\n",
      "3.8644576566666577\n"
     ]
    }
   ],
   "source": [
    "inicio = default_timer()\n",
    "\n",
    "featuresdf_EMODB_30_test_6=extract_features_test_EMODB()\n",
    "\n",
    "featuresdf_EMODB_30_train_6=extract_features_train_EMODB()\n",
    "\n",
    "fin = default_timer()\n",
    "print((fin - inicio)/60) "
   ]
  },
  {
   "cell_type": "code",
   "execution_count": 32,
   "metadata": {},
   "outputs": [
    {
     "name": "stdout",
     "output_type": "stream",
     "text": [
      "Finished feature extraction from  161  files\n"
     ]
    },
    {
     "name": "stderr",
     "output_type": "stream",
     "text": [
      "C:\\ProgramData\\Anaconda3\\lib\\site-packages\\ipykernel_launcher.py:6: WavFileWarning: Chunk (non-data) not understood, skipping it.\n",
      "  \n"
     ]
    },
    {
     "name": "stdout",
     "output_type": "stream",
     "text": [
      "Finished feature extraction from  374  files\n",
      "3.4026154900000014\n"
     ]
    }
   ],
   "source": [
    "inicio = default_timer()\n",
    "\n",
    "featuresdf_EMODB_40_test_6=extract_features_test_EMODB()\n",
    "\n",
    "featuresdf_EMODB_40_train_6=extract_features_train_EMODB()\n",
    "\n",
    "fin = default_timer()\n",
    "print((fin - inicio)/60) "
   ]
  },
  {
   "cell_type": "code",
   "execution_count": 34,
   "metadata": {},
   "outputs": [
    {
     "name": "stdout",
     "output_type": "stream",
     "text": [
      "Finished feature extraction from  161  files\n"
     ]
    },
    {
     "name": "stderr",
     "output_type": "stream",
     "text": [
      "C:\\ProgramData\\Anaconda3\\lib\\site-packages\\ipykernel_launcher.py:6: WavFileWarning: Chunk (non-data) not understood, skipping it.\n",
      "  \n"
     ]
    },
    {
     "name": "stdout",
     "output_type": "stream",
     "text": [
      "Finished feature extraction from  374  files\n",
      "3.654034201666673\n"
     ]
    }
   ],
   "source": [
    "inicio = default_timer()\n",
    "\n",
    "featuresdf_EMODB_50_test_6=extract_features_test_EMODB()\n",
    "\n",
    "featuresdf_EMODB_50_train_6=extract_features_train_EMODB()\n",
    "\n",
    "fin = default_timer()\n",
    "print((fin - inicio)/60) "
   ]
  },
  {
   "cell_type": "code",
   "execution_count": 36,
   "metadata": {},
   "outputs": [
    {
     "name": "stdout",
     "output_type": "stream",
     "text": [
      "Finished feature extraction from  161  files\n"
     ]
    },
    {
     "name": "stderr",
     "output_type": "stream",
     "text": [
      "C:\\ProgramData\\Anaconda3\\lib\\site-packages\\ipykernel_launcher.py:6: WavFileWarning: Chunk (non-data) not understood, skipping it.\n",
      "  \n"
     ]
    },
    {
     "name": "stdout",
     "output_type": "stream",
     "text": [
      "Finished feature extraction from  374  files\n",
      "2.3456351033333247\n"
     ]
    }
   ],
   "source": [
    "inicio = default_timer()\n",
    "\n",
    "featuresdf_EMODB_60_test_6=extract_features_test_EMODB()\n",
    "\n",
    "featuresdf_EMODB_60_train_6=extract_features_train_EMODB()\n",
    "\n",
    "fin = default_timer()\n",
    "print((fin - inicio)/60) "
   ]
  },
  {
   "cell_type": "code",
   "execution_count": 38,
   "metadata": {},
   "outputs": [
    {
     "name": "stdout",
     "output_type": "stream",
     "text": [
      "Finished feature extraction from  161  files\n"
     ]
    },
    {
     "name": "stderr",
     "output_type": "stream",
     "text": [
      "C:\\ProgramData\\Anaconda3\\lib\\site-packages\\ipykernel_launcher.py:6: WavFileWarning: Chunk (non-data) not understood, skipping it.\n",
      "  \n"
     ]
    },
    {
     "name": "stdout",
     "output_type": "stream",
     "text": [
      "Finished feature extraction from  374  files\n",
      "3.4033445400000044\n"
     ]
    }
   ],
   "source": [
    "inicio = default_timer()\n",
    "\n",
    "featuresdf_EMODB_70_test_6=extract_features_test_EMODB()\n",
    "\n",
    "featuresdf_EMODB_70_train_6=extract_features_train_EMODB()\n",
    "\n",
    "fin = default_timer()\n",
    "print((fin - inicio)/60) "
   ]
  },
  {
   "cell_type": "code",
   "execution_count": 40,
   "metadata": {},
   "outputs": [
    {
     "name": "stdout",
     "output_type": "stream",
     "text": [
      "Finished feature extraction from  161  files\n"
     ]
    },
    {
     "name": "stderr",
     "output_type": "stream",
     "text": [
      "C:\\ProgramData\\Anaconda3\\lib\\site-packages\\ipykernel_launcher.py:6: WavFileWarning: Chunk (non-data) not understood, skipping it.\n",
      "  \n"
     ]
    },
    {
     "name": "stdout",
     "output_type": "stream",
     "text": [
      "Finished feature extraction from  374  files\n",
      "3.328020631666671\n"
     ]
    }
   ],
   "source": [
    "inicio = default_timer()\n",
    "\n",
    "featuresdf_EMODB_80_test_6=extract_features_test_EMODB()\n",
    "\n",
    "featuresdf_EMODB_80_train_6=extract_features_train_EMODB()\n",
    "\n",
    "fin = default_timer()\n",
    "print((fin - inicio)/60) "
   ]
  },
  {
   "cell_type": "code",
   "execution_count": 42,
   "metadata": {},
   "outputs": [
    {
     "name": "stdout",
     "output_type": "stream",
     "text": [
      "Finished feature extraction from  161  files\n"
     ]
    },
    {
     "name": "stderr",
     "output_type": "stream",
     "text": [
      "C:\\ProgramData\\Anaconda3\\lib\\site-packages\\ipykernel_launcher.py:6: WavFileWarning: Chunk (non-data) not understood, skipping it.\n",
      "  \n"
     ]
    },
    {
     "name": "stdout",
     "output_type": "stream",
     "text": [
      "Finished feature extraction from  374  files\n",
      "3.6462283333333594\n"
     ]
    }
   ],
   "source": [
    "inicio = default_timer()\n",
    "\n",
    "featuresdf_EMODB_90_test_6=extract_features_test_EMODB()\n",
    "\n",
    "featuresdf_EMODB_90_train_6=extract_features_train_EMODB()\n",
    "\n",
    "fin = default_timer()\n",
    "print((fin - inicio)/60) "
   ]
  },
  {
   "cell_type": "code",
   "execution_count": 44,
   "metadata": {},
   "outputs": [
    {
     "name": "stdout",
     "output_type": "stream",
     "text": [
      "Finished feature extraction from  161  files\n"
     ]
    },
    {
     "name": "stderr",
     "output_type": "stream",
     "text": [
      "C:\\ProgramData\\Anaconda3\\lib\\site-packages\\ipykernel_launcher.py:6: WavFileWarning: Chunk (non-data) not understood, skipping it.\n",
      "  \n"
     ]
    },
    {
     "name": "stdout",
     "output_type": "stream",
     "text": [
      "Finished feature extraction from  374  files\n",
      "3.7668468566666586\n"
     ]
    }
   ],
   "source": [
    "inicio = default_timer()\n",
    "\n",
    "featuresdf_EMODB_100_test_6=extract_features_test_EMODB()\n",
    "\n",
    "featuresdf_EMODB_100_train_6=extract_features_train_EMODB()\n",
    "\n",
    "fin = default_timer()\n",
    "print((fin - inicio)/60) "
   ]
  },
  {
   "cell_type": "code",
   "execution_count": 45,
   "metadata": {},
   "outputs": [
    {
     "name": "stdout",
     "output_type": "stream",
     "text": [
      "Stored 'featuresdf_EMODB_10_test_6' (DataFrame)\n",
      "Stored 'featuresdf_EMODB_10_train_6' (DataFrame)\n",
      "Stored 'featuresdf_EMODB_20_test_6' (DataFrame)\n",
      "Stored 'featuresdf_EMODB_20_train_6' (DataFrame)\n",
      "Stored 'featuresdf_EMODB_30_test_6' (DataFrame)\n",
      "Stored 'featuresdf_EMODB_30_train_6' (DataFrame)\n",
      "Stored 'featuresdf_EMODB_40_test_6' (DataFrame)\n",
      "Stored 'featuresdf_EMODB_40_train_6' (DataFrame)\n",
      "Stored 'featuresdf_EMODB_50_test_6' (DataFrame)\n",
      "Stored 'featuresdf_EMODB_50_train_6' (DataFrame)\n",
      "Stored 'featuresdf_EMODB_60_test_6' (DataFrame)\n",
      "Stored 'featuresdf_EMODB_60_train_6' (DataFrame)\n",
      "Stored 'featuresdf_EMODB_70_test_6' (DataFrame)\n",
      "Stored 'featuresdf_EMODB_70_train_6' (DataFrame)\n",
      "Stored 'featuresdf_EMODB_80_test_6' (DataFrame)\n",
      "Stored 'featuresdf_EMODB_80_train_6' (DataFrame)\n",
      "Stored 'featuresdf_EMODB_90_test_6' (DataFrame)\n",
      "Stored 'featuresdf_EMODB_90_train_6' (DataFrame)\n",
      "Stored 'featuresdf_EMODB_100_test_6' (DataFrame)\n",
      "Stored 'featuresdf_EMODB_100_train_6' (DataFrame)\n"
     ]
    }
   ],
   "source": [
    "%store featuresdf_EMODB_10_test_6\n",
    "%store featuresdf_EMODB_10_train_6\n",
    "%store featuresdf_EMODB_20_test_6\n",
    "%store featuresdf_EMODB_20_train_6\n",
    "%store featuresdf_EMODB_30_test_6\n",
    "%store featuresdf_EMODB_30_train_6\n",
    "%store featuresdf_EMODB_40_test_6\n",
    "%store featuresdf_EMODB_40_train_6\n",
    "%store featuresdf_EMODB_50_test_6\n",
    "%store featuresdf_EMODB_50_train_6\n",
    "%store featuresdf_EMODB_60_test_6\n",
    "%store featuresdf_EMODB_60_train_6\n",
    "%store featuresdf_EMODB_70_test_6\n",
    "%store featuresdf_EMODB_70_train_6\n",
    "%store featuresdf_EMODB_80_test_6\n",
    "%store featuresdf_EMODB_80_train_6\n",
    "%store featuresdf_EMODB_90_test_6\n",
    "%store featuresdf_EMODB_90_train_6\n",
    "%store featuresdf_EMODB_100_test_6\n",
    "%store featuresdf_EMODB_100_train_6"
   ]
  },
  {
   "cell_type": "code",
   "execution_count": 8,
   "metadata": {},
   "outputs": [
    {
     "name": "stdout",
     "output_type": "stream",
     "text": [
      "Finished feature extraction from  161  files\n"
     ]
    },
    {
     "name": "stderr",
     "output_type": "stream",
     "text": [
      "C:\\ProgramData\\Anaconda3\\lib\\site-packages\\ipykernel_launcher.py:6: WavFileWarning: Chunk (non-data) not understood, skipping it.\n",
      "  \n"
     ]
    },
    {
     "name": "stdout",
     "output_type": "stream",
     "text": [
      "Finished feature extraction from  374  files\n",
      "4.400668294999999\n"
     ]
    }
   ],
   "source": [
    "inicio = default_timer()\n",
    "\n",
    "featuresdf_EMODB_10_test_7=extract_features_test_EMODB()\n",
    "\n",
    "featuresdf_EMODB_10_train_7=extract_features_train_EMODB()\n",
    "\n",
    "fin = default_timer()\n",
    "print((fin - inicio)/60)"
   ]
  },
  {
   "cell_type": "code",
   "execution_count": 10,
   "metadata": {},
   "outputs": [
    {
     "name": "stdout",
     "output_type": "stream",
     "text": [
      "Finished feature extraction from  161  files\n"
     ]
    },
    {
     "name": "stderr",
     "output_type": "stream",
     "text": [
      "C:\\ProgramData\\Anaconda3\\lib\\site-packages\\ipykernel_launcher.py:6: WavFileWarning: Chunk (non-data) not understood, skipping it.\n",
      "  \n"
     ]
    },
    {
     "name": "stdout",
     "output_type": "stream",
     "text": [
      "Finished feature extraction from  374  files\n",
      "3.0013610733333356\n"
     ]
    }
   ],
   "source": [
    "inicio = default_timer()\n",
    "\n",
    "featuresdf_EMODB_20_test_7=extract_features_test_EMODB()\n",
    "\n",
    "featuresdf_EMODB_20_train_7=extract_features_train_EMODB()\n",
    "\n",
    "fin = default_timer()\n",
    "print((fin - inicio)/60)"
   ]
  },
  {
   "cell_type": "code",
   "execution_count": 12,
   "metadata": {},
   "outputs": [
    {
     "name": "stdout",
     "output_type": "stream",
     "text": [
      "Finished feature extraction from  161  files\n"
     ]
    },
    {
     "name": "stderr",
     "output_type": "stream",
     "text": [
      "C:\\ProgramData\\Anaconda3\\lib\\site-packages\\ipykernel_launcher.py:6: WavFileWarning: Chunk (non-data) not understood, skipping it.\n",
      "  \n"
     ]
    },
    {
     "name": "stdout",
     "output_type": "stream",
     "text": [
      "Finished feature extraction from  374  files\n",
      "2.6848540799999987\n"
     ]
    }
   ],
   "source": [
    "inicio = default_timer()\n",
    "\n",
    "featuresdf_EMODB_30_test_7=extract_features_test_EMODB()\n",
    "\n",
    "featuresdf_EMODB_30_train_7=extract_features_train_EMODB()\n",
    "\n",
    "fin = default_timer()\n",
    "print((fin - inicio)/60)"
   ]
  },
  {
   "cell_type": "code",
   "execution_count": 14,
   "metadata": {},
   "outputs": [
    {
     "name": "stdout",
     "output_type": "stream",
     "text": [
      "Finished feature extraction from  161  files\n"
     ]
    },
    {
     "name": "stderr",
     "output_type": "stream",
     "text": [
      "C:\\ProgramData\\Anaconda3\\lib\\site-packages\\ipykernel_launcher.py:6: WavFileWarning: Chunk (non-data) not understood, skipping it.\n",
      "  \n"
     ]
    },
    {
     "name": "stdout",
     "output_type": "stream",
     "text": [
      "Finished feature extraction from  374  files\n",
      "2.4385716816666596\n"
     ]
    }
   ],
   "source": [
    "inicio = default_timer()\n",
    "\n",
    "featuresdf_EMODB_40_test_7=extract_features_test_EMODB()\n",
    "\n",
    "featuresdf_EMODB_40_train_7=extract_features_train_EMODB()\n",
    "\n",
    "fin = default_timer()\n",
    "print((fin - inicio)/60)"
   ]
  },
  {
   "cell_type": "code",
   "execution_count": 16,
   "metadata": {},
   "outputs": [
    {
     "name": "stdout",
     "output_type": "stream",
     "text": [
      "Finished feature extraction from  161  files\n"
     ]
    },
    {
     "name": "stderr",
     "output_type": "stream",
     "text": [
      "C:\\ProgramData\\Anaconda3\\lib\\site-packages\\ipykernel_launcher.py:6: WavFileWarning: Chunk (non-data) not understood, skipping it.\n",
      "  \n"
     ]
    },
    {
     "name": "stdout",
     "output_type": "stream",
     "text": [
      "Finished feature extraction from  374  files\n",
      "2.5468800149999953\n"
     ]
    }
   ],
   "source": [
    "inicio = default_timer()\n",
    "\n",
    "featuresdf_EMODB_50_test_7=extract_features_test_EMODB()\n",
    "\n",
    "featuresdf_EMODB_50_train_7=extract_features_train_EMODB()\n",
    "\n",
    "fin = default_timer()\n",
    "print((fin - inicio)/60)"
   ]
  },
  {
   "cell_type": "code",
   "execution_count": 18,
   "metadata": {},
   "outputs": [
    {
     "name": "stdout",
     "output_type": "stream",
     "text": [
      "Finished feature extraction from  161  files\n"
     ]
    },
    {
     "name": "stderr",
     "output_type": "stream",
     "text": [
      "C:\\ProgramData\\Anaconda3\\lib\\site-packages\\ipykernel_launcher.py:6: WavFileWarning: Chunk (non-data) not understood, skipping it.\n",
      "  \n"
     ]
    },
    {
     "name": "stdout",
     "output_type": "stream",
     "text": [
      "Finished feature extraction from  374  files\n",
      "2.7546756999999995\n"
     ]
    }
   ],
   "source": [
    "inicio = default_timer()\n",
    "\n",
    "featuresdf_EMODB_60_test_7=extract_features_test_EMODB()\n",
    "\n",
    "featuresdf_EMODB_60_train_7=extract_features_train_EMODB()\n",
    "\n",
    "fin = default_timer()\n",
    "print((fin - inicio)/60)"
   ]
  },
  {
   "cell_type": "code",
   "execution_count": 20,
   "metadata": {},
   "outputs": [
    {
     "name": "stdout",
     "output_type": "stream",
     "text": [
      "Finished feature extraction from  161  files\n"
     ]
    },
    {
     "name": "stderr",
     "output_type": "stream",
     "text": [
      "C:\\ProgramData\\Anaconda3\\lib\\site-packages\\ipykernel_launcher.py:6: WavFileWarning: Chunk (non-data) not understood, skipping it.\n",
      "  \n"
     ]
    },
    {
     "name": "stdout",
     "output_type": "stream",
     "text": [
      "Finished feature extraction from  374  files\n",
      "2.821026809999997\n"
     ]
    }
   ],
   "source": [
    "inicio = default_timer()\n",
    "\n",
    "featuresdf_EMODB_70_test_7=extract_features_test_EMODB()\n",
    "\n",
    "featuresdf_EMODB_70_train_7=extract_features_train_EMODB()\n",
    "\n",
    "fin = default_timer()\n",
    "print((fin - inicio)/60)"
   ]
  },
  {
   "cell_type": "code",
   "execution_count": 22,
   "metadata": {},
   "outputs": [
    {
     "name": "stdout",
     "output_type": "stream",
     "text": [
      "Finished feature extraction from  161  files\n"
     ]
    },
    {
     "name": "stderr",
     "output_type": "stream",
     "text": [
      "C:\\ProgramData\\Anaconda3\\lib\\site-packages\\ipykernel_launcher.py:6: WavFileWarning: Chunk (non-data) not understood, skipping it.\n",
      "  \n"
     ]
    },
    {
     "name": "stdout",
     "output_type": "stream",
     "text": [
      "Finished feature extraction from  374  files\n",
      "2.6750064116666636\n"
     ]
    }
   ],
   "source": [
    "inicio = default_timer()\n",
    "\n",
    "featuresdf_EMODB_80_test_7=extract_features_test_EMODB()\n",
    "\n",
    "featuresdf_EMODB_80_train_7=extract_features_train_EMODB()\n",
    "\n",
    "fin = default_timer()\n",
    "print((fin - inicio)/60)"
   ]
  },
  {
   "cell_type": "code",
   "execution_count": 24,
   "metadata": {},
   "outputs": [
    {
     "name": "stdout",
     "output_type": "stream",
     "text": [
      "Finished feature extraction from  161  files\n"
     ]
    },
    {
     "name": "stderr",
     "output_type": "stream",
     "text": [
      "C:\\ProgramData\\Anaconda3\\lib\\site-packages\\ipykernel_launcher.py:6: WavFileWarning: Chunk (non-data) not understood, skipping it.\n",
      "  \n"
     ]
    },
    {
     "name": "stdout",
     "output_type": "stream",
     "text": [
      "Finished feature extraction from  374  files\n",
      "3.604306948333321\n"
     ]
    }
   ],
   "source": [
    "inicio = default_timer()\n",
    "\n",
    "featuresdf_EMODB_90_test_7=extract_features_test_EMODB()\n",
    "\n",
    "featuresdf_EMODB_90_train_7=extract_features_train_EMODB()\n",
    "\n",
    "fin = default_timer()\n",
    "print((fin - inicio)/60)"
   ]
  },
  {
   "cell_type": "code",
   "execution_count": 26,
   "metadata": {},
   "outputs": [
    {
     "name": "stdout",
     "output_type": "stream",
     "text": [
      "Finished feature extraction from  161  files\n"
     ]
    },
    {
     "name": "stderr",
     "output_type": "stream",
     "text": [
      "C:\\ProgramData\\Anaconda3\\lib\\site-packages\\ipykernel_launcher.py:6: WavFileWarning: Chunk (non-data) not understood, skipping it.\n",
      "  \n"
     ]
    },
    {
     "name": "stdout",
     "output_type": "stream",
     "text": [
      "Finished feature extraction from  374  files\n",
      "3.5792809749999983\n"
     ]
    }
   ],
   "source": [
    "inicio = default_timer()\n",
    "\n",
    "featuresdf_EMODB_100_test_7=extract_features_test_EMODB()\n",
    "\n",
    "featuresdf_EMODB_100_train_7=extract_features_train_EMODB()\n",
    "\n",
    "fin = default_timer()\n",
    "print((fin - inicio)/60)"
   ]
  },
  {
   "cell_type": "code",
   "execution_count": 27,
   "metadata": {},
   "outputs": [
    {
     "name": "stdout",
     "output_type": "stream",
     "text": [
      "Stored 'featuresdf_EMODB_10_test_7' (DataFrame)\n",
      "Stored 'featuresdf_EMODB_10_train_7' (DataFrame)\n",
      "Stored 'featuresdf_EMODB_20_test_7' (DataFrame)\n",
      "Stored 'featuresdf_EMODB_20_train_7' (DataFrame)\n",
      "Stored 'featuresdf_EMODB_30_test_7' (DataFrame)\n",
      "Stored 'featuresdf_EMODB_30_train_7' (DataFrame)\n",
      "Stored 'featuresdf_EMODB_40_test_7' (DataFrame)\n",
      "Stored 'featuresdf_EMODB_40_train_7' (DataFrame)\n",
      "Stored 'featuresdf_EMODB_50_test_7' (DataFrame)\n",
      "Stored 'featuresdf_EMODB_50_train_7' (DataFrame)\n",
      "Stored 'featuresdf_EMODB_60_test_7' (DataFrame)\n",
      "Stored 'featuresdf_EMODB_60_train_7' (DataFrame)\n",
      "Stored 'featuresdf_EMODB_70_test_7' (DataFrame)\n",
      "Stored 'featuresdf_EMODB_70_train_7' (DataFrame)\n",
      "Stored 'featuresdf_EMODB_80_test_7' (DataFrame)\n",
      "Stored 'featuresdf_EMODB_80_train_7' (DataFrame)\n",
      "Stored 'featuresdf_EMODB_90_test_7' (DataFrame)\n",
      "Stored 'featuresdf_EMODB_90_train_7' (DataFrame)\n",
      "Stored 'featuresdf_EMODB_100_test_7' (DataFrame)\n",
      "Stored 'featuresdf_EMODB_100_train_7' (DataFrame)\n"
     ]
    }
   ],
   "source": [
    "%store featuresdf_EMODB_10_test_7\n",
    "%store featuresdf_EMODB_10_train_7\n",
    "%store featuresdf_EMODB_20_test_7\n",
    "%store featuresdf_EMODB_20_train_7\n",
    "%store featuresdf_EMODB_30_test_7\n",
    "%store featuresdf_EMODB_30_train_7\n",
    "%store featuresdf_EMODB_40_test_7\n",
    "%store featuresdf_EMODB_40_train_7\n",
    "%store featuresdf_EMODB_50_test_7\n",
    "%store featuresdf_EMODB_50_train_7\n",
    "%store featuresdf_EMODB_60_test_7\n",
    "%store featuresdf_EMODB_60_train_7\n",
    "%store featuresdf_EMODB_70_test_7\n",
    "%store featuresdf_EMODB_70_train_7\n",
    "%store featuresdf_EMODB_80_test_7\n",
    "%store featuresdf_EMODB_80_train_7\n",
    "%store featuresdf_EMODB_90_test_7\n",
    "%store featuresdf_EMODB_90_train_7\n",
    "%store featuresdf_EMODB_100_test_7\n",
    "%store featuresdf_EMODB_100_train_7"
   ]
  },
  {
   "cell_type": "code",
   "execution_count": 29,
   "metadata": {},
   "outputs": [
    {
     "name": "stdout",
     "output_type": "stream",
     "text": [
      "Finished feature extraction from  161  files\n"
     ]
    },
    {
     "name": "stderr",
     "output_type": "stream",
     "text": [
      "C:\\ProgramData\\Anaconda3\\lib\\site-packages\\ipykernel_launcher.py:6: WavFileWarning: Chunk (non-data) not understood, skipping it.\n",
      "  \n"
     ]
    },
    {
     "name": "stdout",
     "output_type": "stream",
     "text": [
      "Finished feature extraction from  374  files\n",
      "5.355591991666643\n"
     ]
    }
   ],
   "source": [
    "inicio = default_timer()\n",
    "\n",
    "featuresdf_EMODB_10_test_8=extract_features_test_EMODB()\n",
    "\n",
    "featuresdf_EMODB_10_train_8=extract_features_train_EMODB()\n",
    "\n",
    "fin = default_timer()\n",
    "print((fin - inicio)/60)"
   ]
  },
  {
   "cell_type": "code",
   "execution_count": 31,
   "metadata": {},
   "outputs": [
    {
     "name": "stdout",
     "output_type": "stream",
     "text": [
      "Finished feature extraction from  161  files\n"
     ]
    },
    {
     "name": "stderr",
     "output_type": "stream",
     "text": [
      "C:\\ProgramData\\Anaconda3\\lib\\site-packages\\ipykernel_launcher.py:6: WavFileWarning: Chunk (non-data) not understood, skipping it.\n",
      "  \n"
     ]
    },
    {
     "name": "stdout",
     "output_type": "stream",
     "text": [
      "Finished feature extraction from  374  files\n",
      "3.8077006849999937\n"
     ]
    }
   ],
   "source": [
    "inicio = default_timer()\n",
    "\n",
    "featuresdf_EMODB_20_test_8=extract_features_test_EMODB()\n",
    "\n",
    "featuresdf_EMODB_20_train_8=extract_features_train_EMODB()\n",
    "\n",
    "fin = default_timer()\n",
    "print((fin - inicio)/60)"
   ]
  },
  {
   "cell_type": "code",
   "execution_count": 33,
   "metadata": {},
   "outputs": [
    {
     "name": "stdout",
     "output_type": "stream",
     "text": [
      "Finished feature extraction from  161  files\n"
     ]
    },
    {
     "name": "stderr",
     "output_type": "stream",
     "text": [
      "C:\\ProgramData\\Anaconda3\\lib\\site-packages\\ipykernel_launcher.py:6: WavFileWarning: Chunk (non-data) not understood, skipping it.\n",
      "  \n"
     ]
    },
    {
     "name": "stdout",
     "output_type": "stream",
     "text": [
      "Finished feature extraction from  374  files\n",
      "3.7885526483333405\n"
     ]
    }
   ],
   "source": [
    "inicio = default_timer()\n",
    "\n",
    "featuresdf_EMODB_30_test_8=extract_features_test_EMODB()\n",
    "\n",
    "featuresdf_EMODB_30_train_8=extract_features_train_EMODB()\n",
    "\n",
    "fin = default_timer()\n",
    "print((fin - inicio)/60)"
   ]
  },
  {
   "cell_type": "code",
   "execution_count": 35,
   "metadata": {},
   "outputs": [
    {
     "name": "stdout",
     "output_type": "stream",
     "text": [
      "Finished feature extraction from  161  files\n"
     ]
    },
    {
     "name": "stderr",
     "output_type": "stream",
     "text": [
      "C:\\ProgramData\\Anaconda3\\lib\\site-packages\\ipykernel_launcher.py:6: WavFileWarning: Chunk (non-data) not understood, skipping it.\n",
      "  \n"
     ]
    },
    {
     "name": "stdout",
     "output_type": "stream",
     "text": [
      "Finished feature extraction from  374  files\n",
      "3.62427636333332\n"
     ]
    }
   ],
   "source": [
    "inicio = default_timer()\n",
    "\n",
    "featuresdf_EMODB_40_test_8=extract_features_test_EMODB()\n",
    "\n",
    "featuresdf_EMODB_40_train_8=extract_features_train_EMODB()\n",
    "\n",
    "fin = default_timer()\n",
    "print((fin - inicio)/60)"
   ]
  },
  {
   "cell_type": "code",
   "execution_count": 37,
   "metadata": {},
   "outputs": [
    {
     "name": "stdout",
     "output_type": "stream",
     "text": [
      "Finished feature extraction from  161  files\n"
     ]
    },
    {
     "name": "stderr",
     "output_type": "stream",
     "text": [
      "C:\\ProgramData\\Anaconda3\\lib\\site-packages\\ipykernel_launcher.py:6: WavFileWarning: Chunk (non-data) not understood, skipping it.\n",
      "  \n"
     ]
    },
    {
     "name": "stdout",
     "output_type": "stream",
     "text": [
      "Finished feature extraction from  374  files\n",
      "3.738856126666663\n"
     ]
    }
   ],
   "source": [
    "inicio = default_timer()\n",
    "\n",
    "featuresdf_EMODB_50_test_8=extract_features_test_EMODB()\n",
    "\n",
    "featuresdf_EMODB_50_train_8=extract_features_train_EMODB()\n",
    "\n",
    "fin = default_timer()\n",
    "print((fin - inicio)/60)"
   ]
  },
  {
   "cell_type": "code",
   "execution_count": 39,
   "metadata": {},
   "outputs": [
    {
     "name": "stdout",
     "output_type": "stream",
     "text": [
      "Finished feature extraction from  161  files\n"
     ]
    },
    {
     "name": "stderr",
     "output_type": "stream",
     "text": [
      "C:\\ProgramData\\Anaconda3\\lib\\site-packages\\ipykernel_launcher.py:6: WavFileWarning: Chunk (non-data) not understood, skipping it.\n",
      "  \n"
     ]
    },
    {
     "name": "stdout",
     "output_type": "stream",
     "text": [
      "Finished feature extraction from  374  files\n",
      "3.4445743433333518\n"
     ]
    }
   ],
   "source": [
    "inicio = default_timer()\n",
    "\n",
    "featuresdf_EMODB_60_test_8=extract_features_test_EMODB()\n",
    "\n",
    "featuresdf_EMODB_60_train_8=extract_features_train_EMODB()\n",
    "\n",
    "fin = default_timer()\n",
    "print((fin - inicio)/60)"
   ]
  },
  {
   "cell_type": "code",
   "execution_count": 41,
   "metadata": {},
   "outputs": [
    {
     "name": "stdout",
     "output_type": "stream",
     "text": [
      "Finished feature extraction from  161  files\n"
     ]
    },
    {
     "name": "stderr",
     "output_type": "stream",
     "text": [
      "C:\\ProgramData\\Anaconda3\\lib\\site-packages\\ipykernel_launcher.py:6: WavFileWarning: Chunk (non-data) not understood, skipping it.\n",
      "  \n"
     ]
    },
    {
     "name": "stdout",
     "output_type": "stream",
     "text": [
      "Finished feature extraction from  374  files\n",
      "3.103730328333313\n"
     ]
    }
   ],
   "source": [
    "inicio = default_timer()\n",
    "\n",
    "featuresdf_EMODB_70_test_8=extract_features_test_EMODB()\n",
    "\n",
    "featuresdf_EMODB_70_train_8=extract_features_train_EMODB()\n",
    "\n",
    "fin = default_timer()\n",
    "print((fin - inicio)/60)"
   ]
  },
  {
   "cell_type": "code",
   "execution_count": 43,
   "metadata": {},
   "outputs": [
    {
     "name": "stdout",
     "output_type": "stream",
     "text": [
      "Finished feature extraction from  161  files\n"
     ]
    },
    {
     "name": "stderr",
     "output_type": "stream",
     "text": [
      "C:\\ProgramData\\Anaconda3\\lib\\site-packages\\ipykernel_launcher.py:6: WavFileWarning: Chunk (non-data) not understood, skipping it.\n",
      "  \n"
     ]
    },
    {
     "name": "stdout",
     "output_type": "stream",
     "text": [
      "Finished feature extraction from  374  files\n",
      "3.1275761366666606\n"
     ]
    }
   ],
   "source": [
    "inicio = default_timer()\n",
    "\n",
    "featuresdf_EMODB_80_test_8=extract_features_test_EMODB()\n",
    "\n",
    "featuresdf_EMODB_80_train_8=extract_features_train_EMODB()\n",
    "\n",
    "fin = default_timer()\n",
    "print((fin - inicio)/60)"
   ]
  },
  {
   "cell_type": "code",
   "execution_count": 45,
   "metadata": {},
   "outputs": [
    {
     "name": "stdout",
     "output_type": "stream",
     "text": [
      "Finished feature extraction from  161  files\n"
     ]
    },
    {
     "name": "stderr",
     "output_type": "stream",
     "text": [
      "C:\\ProgramData\\Anaconda3\\lib\\site-packages\\ipykernel_launcher.py:6: WavFileWarning: Chunk (non-data) not understood, skipping it.\n",
      "  \n"
     ]
    },
    {
     "name": "stdout",
     "output_type": "stream",
     "text": [
      "Finished feature extraction from  374  files\n",
      "3.835310523333343\n"
     ]
    }
   ],
   "source": [
    "inicio = default_timer()\n",
    "\n",
    "featuresdf_EMODB_90_test_8=extract_features_test_EMODB()\n",
    "\n",
    "featuresdf_EMODB_90_train_8=extract_features_train_EMODB()\n",
    "\n",
    "fin = default_timer()\n",
    "print((fin - inicio)/60)"
   ]
  },
  {
   "cell_type": "code",
   "execution_count": 47,
   "metadata": {},
   "outputs": [
    {
     "name": "stdout",
     "output_type": "stream",
     "text": [
      "Finished feature extraction from  161  files\n"
     ]
    },
    {
     "name": "stderr",
     "output_type": "stream",
     "text": [
      "C:\\ProgramData\\Anaconda3\\lib\\site-packages\\ipykernel_launcher.py:6: WavFileWarning: Chunk (non-data) not understood, skipping it.\n",
      "  \n"
     ]
    },
    {
     "name": "stdout",
     "output_type": "stream",
     "text": [
      "Finished feature extraction from  374  files\n",
      "4.0004535900000215\n"
     ]
    }
   ],
   "source": [
    "inicio = default_timer()\n",
    "\n",
    "featuresdf_EMODB_100_test_8=extract_features_test_EMODB()\n",
    "\n",
    "featuresdf_EMODB_100_train_8=extract_features_train_EMODB()\n",
    "\n",
    "fin = default_timer()\n",
    "print((fin - inicio)/60)"
   ]
  },
  {
   "cell_type": "code",
   "execution_count": 48,
   "metadata": {
    "scrolled": true
   },
   "outputs": [
    {
     "name": "stdout",
     "output_type": "stream",
     "text": [
      "Stored 'featuresdf_EMODB_10_test_8' (DataFrame)\n",
      "Stored 'featuresdf_EMODB_10_train_8' (DataFrame)\n",
      "Stored 'featuresdf_EMODB_20_test_8' (DataFrame)\n",
      "Stored 'featuresdf_EMODB_20_train_8' (DataFrame)\n",
      "Stored 'featuresdf_EMODB_30_test_8' (DataFrame)\n",
      "Stored 'featuresdf_EMODB_30_train_8' (DataFrame)\n",
      "Stored 'featuresdf_EMODB_40_test_8' (DataFrame)\n",
      "Stored 'featuresdf_EMODB_40_train_8' (DataFrame)\n",
      "Stored 'featuresdf_EMODB_50_test_8' (DataFrame)\n",
      "Stored 'featuresdf_EMODB_50_train_8' (DataFrame)\n",
      "Stored 'featuresdf_EMODB_60_test_8' (DataFrame)\n",
      "Stored 'featuresdf_EMODB_60_train_8' (DataFrame)\n",
      "Stored 'featuresdf_EMODB_70_test_8' (DataFrame)\n",
      "Stored 'featuresdf_EMODB_70_train_8' (DataFrame)\n",
      "Stored 'featuresdf_EMODB_80_test_8' (DataFrame)\n",
      "Stored 'featuresdf_EMODB_80_train_8' (DataFrame)\n",
      "Stored 'featuresdf_EMODB_90_test_8' (DataFrame)\n",
      "Stored 'featuresdf_EMODB_90_train_8' (DataFrame)\n",
      "Stored 'featuresdf_EMODB_100_test_8' (DataFrame)\n",
      "Stored 'featuresdf_EMODB_100_train_8' (DataFrame)\n"
     ]
    }
   ],
   "source": [
    "%store featuresdf_EMODB_10_test_8\n",
    "%store featuresdf_EMODB_10_train_8\n",
    "%store featuresdf_EMODB_20_test_8\n",
    "%store featuresdf_EMODB_20_train_8\n",
    "%store featuresdf_EMODB_30_test_8\n",
    "%store featuresdf_EMODB_30_train_8\n",
    "%store featuresdf_EMODB_40_test_8\n",
    "%store featuresdf_EMODB_40_train_8\n",
    "%store featuresdf_EMODB_50_test_8\n",
    "%store featuresdf_EMODB_50_train_8\n",
    "%store featuresdf_EMODB_60_test_8\n",
    "%store featuresdf_EMODB_60_train_8\n",
    "%store featuresdf_EMODB_70_test_8\n",
    "%store featuresdf_EMODB_70_train_8\n",
    "%store featuresdf_EMODB_80_test_8\n",
    "%store featuresdf_EMODB_80_train_8\n",
    "%store featuresdf_EMODB_90_test_8\n",
    "%store featuresdf_EMODB_90_train_8\n",
    "%store featuresdf_EMODB_100_test_8\n",
    "%store featuresdf_EMODB_100_train_8"
   ]
  },
  {
   "cell_type": "code",
   "execution_count": 5,
   "metadata": {},
   "outputs": [],
   "source": [
    "class mel_freq_ceps_coef:\n",
    "    def __init__(self,file_name):\n",
    "        try:    \n",
    "            #Lee archivo de audio\n",
    "            self.fs, self.signal = rd.read(file_name)\n",
    "            #self.signal = volumen * self.signal\n",
    "            #Frecuencia máxima\n",
    "            self.f_max = self.fs/2.0\n",
    "            #Constante de preénfasis\n",
    "            self.preemphasis = 0.97\n",
    "            #Tamaño de frame en segundos\n",
    "            self.frame=0.03\n",
    "            #Porcentaje de traslape\n",
    "            self.overlap = 50        \n",
    "            #Tipo de ventana\n",
    "            self.window = 2\n",
    "            #Frecuencia mínima\n",
    "            self.f_min = 0\n",
    "            #número de filtros en el banco\n",
    "            self.n_filters = 22#escala de bark 22.05KHz\n",
    "            #Número de coeficientes mfcc\n",
    "            self.n_mfcc = 24\n",
    "            #Normalización\n",
    "            self.norm = 1\n",
    "            #RASTA análisis\n",
    "            self.rasta = 0\n",
    "            self.audio = self.signal/32767\n",
    "            self.audio_length = len(self.signal)\n",
    "            self.frame_size = np.fix(self.frame*self.fs)\n",
    "            self.overlap_size = np.fix(self.frame_size - self.frame_size*(self.overlap/100.0))\n",
    "            self.n_frames = self.__Frames()\n",
    "            self.audio_avg = self.__Stereo()\n",
    "            self.half_n = np.fix(self.frame_size/2.0)\n",
    "            self.window_data = self.__Window()\n",
    "            self.freqs = self.__Freqs()\n",
    "            self.mel_freqs = self.__Mel_Freqs()\n",
    "            self.mel_filter_bank = self.__Mel_Filter()\n",
    "            self.coef, self.nl, self.frame, self.acorr, self.m = self.__MFCC_Coef()\n",
    "            self.coef = self.coef[:,0:self.nl]\n",
    "            self.mfccsscalade = np.mean(self.coef.T, axis=0)\n",
    "        except Exception as e:\n",
    "            print(\"Error encoutered while parsing file: \", file_name)\n",
    "            return None\n",
    "        #np.savetxt(\"A51.txt\", np.column_stack(self.coef[:,0:self.nl]),  delimiter=\",\", fmt=\"%f\")\n",
    "#np.savetxt('myfile.txt', np.c_[x,y,z])     \n",
    "    #Convierte señales estereofónicas a monoaurales\n",
    "    def __Stereo(self):\n",
    "        n_channel = len(np.shape(self.audio))\n",
    "        if n_channel > 1:\n",
    "            temp_1 = self.audio[:,0]\n",
    "            temp_2 = self.audio[:,1]\n",
    "            avg = (temp_1 + temp_2)/2\n",
    "        else:\n",
    "            avg = self.audio\n",
    "       \n",
    "        #Aplica filtro de preénfasis\n",
    "        if self.preemphasis != 0.0:\n",
    "            Avg = np.zeros(len(avg))    \n",
    "            Avg[0] = avg[0]\n",
    "            for n in range(1,len(avg)):\n",
    "                Avg[n] = avg[n] - self.preemphasis*avg[n-1]\n",
    "            return Avg\n",
    "        else:\n",
    "            return avg\n",
    "            \n",
    "    #Determina número de frames para analizar\n",
    "    def __Frames(self):\n",
    "        i = 0\n",
    "        j = 0\n",
    "        while(j < self.audio_length):\n",
    "            j = i*self.overlap_size + self.frame_size\n",
    "            i = i + 1\n",
    "        return i - 1\n",
    "    \n",
    "    #Aplica ventana (Hann, Hamming, Box) a frame de la señal\n",
    "    def __Window(self):\n",
    "        n = np.arange(-self.half_n,self.half_n)\n",
    "        if len(n) != self.frame_size:\n",
    "            n = np.arange(-self.half_n,self.half_n+1)\n",
    "        \n",
    "        #Ventana Box\n",
    "        if self.window == 0:\n",
    "            W = np.ones(len(n))\n",
    "        \n",
    "        #Ventana Hamming\n",
    "        if self.window == 1:\n",
    "            a = 0.53836\n",
    "            b = 0.46164\n",
    "            W = np.array([])\n",
    "            for i in n:\n",
    "                W =np.append(W, a + b*math.cos((2*math.pi*i)/(self.frame_size - 1.0))) \n",
    "        \n",
    "        #Ventana Hann\n",
    "        if self.window == 2:\n",
    "            a = 0.5\n",
    "            b = 0.5\n",
    "            W = np.array([])\n",
    "            for i in n:\n",
    "                W = np.append(W, a + b*math.cos((2*math.pi*i)/(self.frame_size - 1.0)))        \n",
    "        return W\n",
    "    \n",
    "    #Calcula frecuencias en Hertz\n",
    "    def __Freqs(self):\n",
    "        n = np.arange(0,self.half_n)\n",
    "        f = np.array([])\n",
    "        for i in n:\n",
    "            f = np.append(f,(i*self.fs)/self.frame_size)\n",
    "        return f\n",
    "    \n",
    "    #Calcula frecuencias en escala de Mel\n",
    "    def __Mel_Freqs(self):\n",
    "        n = np.arange(0,self.half_n)\n",
    "        f = np.array([])\n",
    "        for i in n:\n",
    "            f = np.append(f,2595*np.log10(self.freqs[int(i)]/700+1))\n",
    "        return f\n",
    "    \n",
    "    #Genera banco de filtros triangulares \n",
    "    def __Mel_Filter(self):\n",
    "        try:\n",
    "            phi_min = 2595*math.log10(self.f_min/700+1)\n",
    "            phi_max = 2595*math.log10(self.f_max/700+1)\n",
    "            dphi = (phi_max - phi_min)/(self.n_filters+1)\n",
    "            fc = np.zeros(self.n_filters+2)\n",
    "            fc[0] = self.f_min\n",
    "            for i in range(1,len(fc)):\n",
    "                phic = (i-1)*dphi\n",
    "                fc[i-1] = 700*(math.pow(10,(phic + phi_min)/2595)-1)\n",
    "            fc[self.n_filters+1] = self.f_max\n",
    "            Hkm = np.zeros((int(self.half_n),self.n_filters))\n",
    "            n = np.arange(0,self.half_n)\n",
    "            for i in range(1,self.n_filters+1):\n",
    "                for k in n:\n",
    "                    kk = int(k)\n",
    "                    if self.freqs[kk] < fc[i-1]:\n",
    "                        Hkm[kk,i-1] = 0\n",
    "                    if (self.freqs[kk] >= fc[i-1]) and (self.freqs[kk] < fc[i]):\n",
    "                        Hkm[kk,i-1] = (self.freqs[kk] - fc[i-1])/(fc[i] - fc[i-1])\n",
    "                    if (self.freqs[kk] >= fc[i]) and (self.freqs[kk] < fc[i+1]):\n",
    "                        Hkm[kk,i-1] = (self.freqs[kk] - fc[i+1])/(fc[i] - fc[i+1])\n",
    "                    if self.freqs[kk] >= fc[i+1]:\n",
    "                        Hkm[kk,i-1] = 0\n",
    "            return Hkm\n",
    "        except Exception as e:\n",
    "            print(\"Error encoutered while parsing file: \", file_name)\n",
    "            return None    \n",
    "    #Determina coeficientes cepstrales de frecuencia de mel    \n",
    "    def __MFCC_Coef(self):\n",
    "        try:\n",
    "            frame = np.zeros(int(self.frame_size))\n",
    "            self.energy = np.zeros((int(self.half_n),self.n_frames))\n",
    "            self.cepstrum = np.zeros((self.n_filters,self.n_frames))\n",
    "            Xm = np.zeros(self.n_filters)\n",
    "            mfcc = np.zeros(self.n_mfcc) \n",
    "            wi = np.zeros(2*self.n_mfcc)\n",
    "            MFCC = np.zeros((self.n_mfcc,self.n_frames))\n",
    "\n",
    "            #Pesos para el proceso de liftering\n",
    "            for i in range(0,2*self.n_mfcc):\n",
    "                wi[i] = 1 + self.n_mfcc*np.sin(math.pi*i/(2*self.n_mfcc-1))\n",
    "\n",
    "            #Coeficientes del filtro RASTA\n",
    "            numer = np.arange(-2,3)\n",
    "            numer = -numer/np.sum(numer*numer)\n",
    "            denom = np.array([1,-0.98])\n",
    "\n",
    "            l = 0\n",
    "            #Análisis de frames\n",
    "            for i in range(0,int(self.n_frames)):\n",
    "                #Extrae frame de la señal\n",
    "                frame = self.audio_avg[i*int(self.overlap_size):i*int(self.overlap_size)+int(self.frame_size)]\n",
    "\n",
    "                #función de autocorrelación\n",
    "                acorr = np.correlate(frame,frame,mode='full')\n",
    "                m = np.amax(acorr[20:len(acorr)])\n",
    "\n",
    "                if m > 0.1:\n",
    "\n",
    "                    #Multiplica frame por ventana\n",
    "                    frame = frame*self.window_data\n",
    "                    #Extrae espectro de potencia \n",
    "                    P = np.abs(fourier.fft(frame))\n",
    "                    #Determina espectrograma de la señal\n",
    "                    self.energy[:,l] = 10*np.log10(P[0:int(self.half_n)]) \n",
    "\n",
    "                    for j in range(0,self.n_filters):\n",
    "                        #Multiplica espectro de potencia por filtros triangulares\n",
    "                        Ps = P[0:int(self.half_n)]*self.mel_filter_bank[:,j]\n",
    "                        #Aplica el proceso RASTA a cada banda de frecuencia\n",
    "                        if self.rasta == 1:\n",
    "                            Ps = np.log(1+Ps)\n",
    "                            Ps = sg.lfilter(numer,denom, Ps)\n",
    "                            Ps = np.exp(Ps)-1\n",
    "                        Xm[j] = np.log(np.sum(Ps))\n",
    "                    #Determina cepstrum de la señal\n",
    "                    self.cepstrum[:,l] = Xm\n",
    "\n",
    "                    #Aplica transformada coseno\n",
    "                    for j in range(1,self.n_mfcc+1):\n",
    "                        suma = 0\n",
    "                        for k in range(1,self.n_filters+1):\n",
    "                            suma = suma + Xm[k-1]*np.cos(math.pi*j*(k-(1/2))/self.n_filters)\n",
    "                        mfcc[j-1] = suma \n",
    "                    #Aplica proceso de liftering\n",
    "                    mfcc = mfcc*wi[0:self.n_mfcc]\n",
    "                    #Genera matriz de coeficientes mfcc\n",
    "                    MFCC[:,l] = mfcc\n",
    "                    l = l + 1\n",
    "\n",
    "\n",
    "            #Normaliza matriz de coeficientes mfcc\n",
    "            if self.norm == 1:\n",
    "                '''\n",
    "                for i in range(0,self.n_mfcc):\n",
    "                    MFCC[i,:] = (MFCC[i,:]-np.mean(MFCC[i,:]))/np.std(MFCC[i,:]) \n",
    "                '''\n",
    "                MFCC = (MFCC-np.mean(MFCC))/np.std(MFCC) \n",
    "                \n",
    "            return MFCC, l, frame, acorr, m\n",
    "        except Exception as e:\n",
    "            print(\"Error encoutered while parsing file: \", file_name)\n",
    "            return None "
   ]
  },
  {
   "cell_type": "code",
   "execution_count": 4,
   "metadata": {},
   "outputs": [],
   "source": [
    "def extract_features_train_EMODB():\n",
    "    \n",
    "    try:\n",
    "        # Set the path to the full EMODB dataset\n",
    "\n",
    "        fulldatasetpath = r'C:\\Users\\SACKRAY7\\Desktop\\Uni\\8vo\\TESIS\\retomando la tesis 23-06-2020\\Udacity-ML-Capstone-master\\Udacity-ML-Capstone-master\\EMODB - testSize 0.3\\audio'\n",
    "\n",
    "        metadata = pd.read_csv(r'C:\\Users\\SACKRAY7\\Desktop\\Uni\\8vo\\TESIS\\retomando la tesis 23-06-2020\\Udacity-ML-Capstone-master\\Udacity-ML-Capstone-master\\UrbanSound Dataset sample\\metadata\\EMODB4 - testSize 0.3.csv')\n",
    "\n",
    "        features = []\n",
    "\n",
    "        # Iterate through each sound file and extract the features \n",
    "        for index, row in metadata.iterrows():\n",
    "\n",
    "            file_name = os.path.join(os.path.abspath(fulldatasetpath),str(row[\"fold\"])+'/',str(row[\"slice_file_name\"]))\n",
    "\n",
    "            class_label = row[\"class_name\"]\n",
    "            if row[\"if\"] == \"train\" :\n",
    "                data = mel_freq_ceps_coef(file_name)\n",
    "                features.append([data.mfccsscalade, class_label])\n",
    "\n",
    "        # Convert into a Panda dataframe \n",
    "        featuresdf = pd.DataFrame(features, columns=['feature','class_label'])\n",
    "\n",
    "        print('Finished feature extraction from ', len(featuresdf), ' files') \n",
    "    except Exception as e:\n",
    "        print(\"Error encoutered while parsing file: \", file_name)\n",
    "        return None\n",
    "\n",
    "    return featuresdf"
   ]
  },
  {
   "cell_type": "code",
   "execution_count": 3,
   "metadata": {},
   "outputs": [],
   "source": [
    "def extract_features_test_EMODB():\n",
    "    \n",
    "    try:\n",
    "        # Set the path to the full EMODB dataset\n",
    "        fulldatasetpath = r'C:\\Users\\SACKRAY7\\Desktop\\Uni\\8vo\\TESIS\\retomando la tesis 23-06-2020\\Udacity-ML-Capstone-master\\Udacity-ML-Capstone-master\\EMODB - testSize 0.3\\audio'\n",
    "\n",
    "        metadata = pd.read_csv(r'C:\\Users\\SACKRAY7\\Desktop\\Uni\\8vo\\TESIS\\retomando la tesis 23-06-2020\\Udacity-ML-Capstone-master\\Udacity-ML-Capstone-master\\UrbanSound Dataset sample\\metadata\\EMODB4 - testSize 0.3.csv')\n",
    "\n",
    "\n",
    "        features = []\n",
    "\n",
    "        # Iterate through each sound file and extract the features \n",
    "        for index, row in metadata.iterrows():\n",
    "\n",
    "            file_name = os.path.join(os.path.abspath(fulldatasetpath),str(row[\"fold\"])+'/',str(row[\"slice_file_name\"]))\n",
    "\n",
    "            class_label = row[\"class_name\"]\n",
    "            if row[\"if\"] == \"test\" :\n",
    "                data = mel_freq_ceps_coef(file_name)\n",
    "                features.append([data.mfccsscalade, class_label])\n",
    "\n",
    "        # Convert into a Panda dataframe \n",
    "        featuresdf = pd.DataFrame(features, columns=['feature','class_label'])\n",
    "\n",
    "        print('Finished feature extraction from ', len(featuresdf), ' files') \n",
    "    except Exception as e:\n",
    "        print(\"Error encoutered while parsing file: \", file_name)\n",
    "        return None\n",
    "\n",
    "    return featuresdf"
   ]
  },
  {
   "cell_type": "code",
   "execution_count": 2,
   "metadata": {},
   "outputs": [],
   "source": [
    "import scipy.io.wavfile as rd\n",
    "import scipy.fftpack as fourier\n",
    "import scipy.signal as sg\n",
    "import numpy as np\n",
    "import math \n",
    "\n",
    "import pandas as pd\n",
    "import os\n",
    "\n",
    "from timeit import default_timer"
   ]
  },
  {
   "cell_type": "code",
   "execution_count": null,
   "metadata": {},
   "outputs": [],
   "source": [
    "#import librosa\n",
    "#import matplotlib.pyplot as plt\n",
    "\n"
   ]
  }
 ],
 "metadata": {
  "kernelspec": {
   "display_name": "Python 3",
   "language": "python",
   "name": "python3"
  },
  "language_info": {
   "codemirror_mode": {
    "name": "ipython",
    "version": 3
   },
   "file_extension": ".py",
   "mimetype": "text/x-python",
   "name": "python",
   "nbconvert_exporter": "python",
   "pygments_lexer": "ipython3",
   "version": "3.7.4"
  }
 },
 "nbformat": 4,
 "nbformat_minor": 4
}
