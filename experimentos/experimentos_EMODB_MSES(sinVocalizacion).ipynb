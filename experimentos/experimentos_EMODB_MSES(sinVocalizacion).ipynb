{
 "cells": [
  {
   "cell_type": "markdown",
   "metadata": {},
   "source": [
    "## EMODB Experimento 1 \n",
    "\n",
    "### Cantidad de coeficientes 12, 24, 36, 48, Usando ventana tipo 2, sin preénfasis, ancho de band completo (fs/2), tamaño de frame de 30ms y traslape de 50\n",
    "\n",
    "### Window=2  preénfasis=0 f_max = fs/2  frame=0.03 overlap=50\n"
   ]
  },
  {
   "cell_type": "markdown",
   "metadata": {},
   "source": [
    "# MSES_0"
   ]
  },
  {
   "cell_type": "code",
   "execution_count": 6,
   "metadata": {},
   "outputs": [
    {
     "name": "stdout",
     "output_type": "stream",
     "text": [
      "Finished feature extraction from  161  files\n"
     ]
    },
    {
     "name": "stderr",
     "output_type": "stream",
     "text": [
      "C:\\ProgramData\\Anaconda3\\lib\\site-packages\\ipykernel_launcher.py:43: WavFileWarning: Chunk (non-data) not understood, skipping it.\n"
     ]
    },
    {
     "name": "stdout",
     "output_type": "stream",
     "text": [
      "Finished feature extraction from  374  files\n",
      "8.12015779\n"
     ]
    }
   ],
   "source": [
    "inicio = default_timer()\n",
    "\n",
    "featuresdf_EMODB_12_test_09=extract_features_test_EMODB()\n",
    "\n",
    "featuresdf_EMODB_12_train_09=extract_features_train_EMODB()\n",
    "\n",
    "fin = default_timer()\n",
    "print((fin - inicio)/60) "
   ]
  },
  {
   "cell_type": "code",
   "execution_count": 8,
   "metadata": {},
   "outputs": [
    {
     "name": "stdout",
     "output_type": "stream",
     "text": [
      "Finished feature extraction from  161  files\n"
     ]
    },
    {
     "name": "stderr",
     "output_type": "stream",
     "text": [
      "C:\\ProgramData\\Anaconda3\\lib\\site-packages\\ipykernel_launcher.py:43: WavFileWarning: Chunk (non-data) not understood, skipping it.\n"
     ]
    },
    {
     "name": "stdout",
     "output_type": "stream",
     "text": [
      "Finished feature extraction from  374  files\n",
      "10.20816863\n"
     ]
    }
   ],
   "source": [
    "inicio = default_timer()\n",
    "\n",
    "featuresdf_EMODB_24_test_09=extract_features_test_EMODB()\n",
    "\n",
    "featuresdf_EMODB_24_train_09=extract_features_train_EMODB()\n",
    "\n",
    "fin = default_timer()\n",
    "print((fin - inicio)/60)"
   ]
  },
  {
   "cell_type": "code",
   "execution_count": 10,
   "metadata": {},
   "outputs": [
    {
     "name": "stdout",
     "output_type": "stream",
     "text": [
      "Finished feature extraction from  161  files\n"
     ]
    },
    {
     "name": "stderr",
     "output_type": "stream",
     "text": [
      "C:\\ProgramData\\Anaconda3\\lib\\site-packages\\ipykernel_launcher.py:43: WavFileWarning: Chunk (non-data) not understood, skipping it.\n"
     ]
    },
    {
     "name": "stdout",
     "output_type": "stream",
     "text": [
      "Finished feature extraction from  374  files\n",
      "12.542903970000005\n"
     ]
    }
   ],
   "source": [
    "inicio = default_timer()\n",
    "\n",
    "featuresdf_EMODB_36_test_09=extract_features_test_EMODB()\n",
    "\n",
    "featuresdf_EMODB_36_train_09=extract_features_train_EMODB()\n",
    "\n",
    "fin = default_timer()\n",
    "print((fin - inicio)/60)"
   ]
  },
  {
   "cell_type": "code",
   "execution_count": 12,
   "metadata": {},
   "outputs": [
    {
     "name": "stdout",
     "output_type": "stream",
     "text": [
      "Finished feature extraction from  161  files\n"
     ]
    },
    {
     "name": "stderr",
     "output_type": "stream",
     "text": [
      "C:\\ProgramData\\Anaconda3\\lib\\site-packages\\ipykernel_launcher.py:43: WavFileWarning: Chunk (non-data) not understood, skipping it.\n"
     ]
    },
    {
     "name": "stdout",
     "output_type": "stream",
     "text": [
      "Finished feature extraction from  374  files\n",
      "13.047416490000009\n"
     ]
    }
   ],
   "source": [
    "inicio = default_timer()\n",
    "\n",
    "featuresdf_EMODB_48_test_09=extract_features_test_EMODB()\n",
    "\n",
    "featuresdf_EMODB_48_train_09=extract_features_train_EMODB()\n",
    "\n",
    "fin = default_timer()\n",
    "print((fin - inicio)/60)"
   ]
  },
  {
   "cell_type": "code",
   "execution_count": 13,
   "metadata": {},
   "outputs": [
    {
     "name": "stdout",
     "output_type": "stream",
     "text": [
      "Stored 'featuresdf_EMODB_12_test_09' (DataFrame)\n",
      "Stored 'featuresdf_EMODB_12_train_09' (DataFrame)\n",
      "Stored 'featuresdf_EMODB_24_test_09' (DataFrame)\n",
      "Stored 'featuresdf_EMODB_24_train_09' (DataFrame)\n",
      "Stored 'featuresdf_EMODB_36_test_09' (DataFrame)\n",
      "Stored 'featuresdf_EMODB_36_train_09' (DataFrame)\n",
      "Stored 'featuresdf_EMODB_48_test_09' (DataFrame)\n",
      "Stored 'featuresdf_EMODB_48_train_09' (DataFrame)\n"
     ]
    }
   ],
   "source": [
    "%store featuresdf_EMODB_12_test_09\n",
    "%store featuresdf_EMODB_12_train_09\n",
    "%store featuresdf_EMODB_24_test_09\n",
    "%store featuresdf_EMODB_24_train_09\n",
    "%store featuresdf_EMODB_36_test_09\n",
    "%store featuresdf_EMODB_36_train_09\n",
    "%store featuresdf_EMODB_48_test_09\n",
    "%store featuresdf_EMODB_48_train_09"
   ]
  },
  {
   "cell_type": "markdown",
   "metadata": {},
   "source": [
    "# RASTA-MFCC"
   ]
  },
  {
   "cell_type": "code",
   "execution_count": 15,
   "metadata": {},
   "outputs": [
    {
     "name": "stdout",
     "output_type": "stream",
     "text": [
      "Finished feature extraction from  161  files\n"
     ]
    },
    {
     "name": "stderr",
     "output_type": "stream",
     "text": [
      "C:\\ProgramData\\Anaconda3\\lib\\site-packages\\ipykernel_launcher.py:43: WavFileWarning: Chunk (non-data) not understood, skipping it.\n"
     ]
    },
    {
     "name": "stdout",
     "output_type": "stream",
     "text": [
      "Finished feature extraction from  374  files\n",
      "13.448570643333339\n"
     ]
    }
   ],
   "source": [
    "inicio = default_timer()\n",
    "\n",
    "featuresdf_EMODB_12_test_010=extract_features_test_EMODB()\n",
    "\n",
    "featuresdf_EMODB_12_train_010=extract_features_train_EMODB()\n",
    "\n",
    "fin = default_timer()\n",
    "print((fin - inicio)/60)  "
   ]
  },
  {
   "cell_type": "code",
   "execution_count": 17,
   "metadata": {},
   "outputs": [
    {
     "name": "stdout",
     "output_type": "stream",
     "text": [
      "Finished feature extraction from  161  files\n"
     ]
    },
    {
     "name": "stderr",
     "output_type": "stream",
     "text": [
      "C:\\ProgramData\\Anaconda3\\lib\\site-packages\\ipykernel_launcher.py:43: WavFileWarning: Chunk (non-data) not understood, skipping it.\n"
     ]
    },
    {
     "name": "stdout",
     "output_type": "stream",
     "text": [
      "Finished feature extraction from  374  files\n",
      "13.544743666666667\n"
     ]
    }
   ],
   "source": [
    "inicio = default_timer()\n",
    "\n",
    "featuresdf_EMODB_24_test_010=extract_features_test_EMODB()\n",
    "\n",
    "featuresdf_EMODB_24_train_010=extract_features_train_EMODB()\n",
    "\n",
    "fin = default_timer()\n",
    "print((fin - inicio)/60) "
   ]
  },
  {
   "cell_type": "code",
   "execution_count": 19,
   "metadata": {},
   "outputs": [
    {
     "name": "stdout",
     "output_type": "stream",
     "text": [
      "Finished feature extraction from  161  files\n"
     ]
    },
    {
     "name": "stderr",
     "output_type": "stream",
     "text": [
      "C:\\ProgramData\\Anaconda3\\lib\\site-packages\\ipykernel_launcher.py:43: WavFileWarning: Chunk (non-data) not understood, skipping it.\n"
     ]
    },
    {
     "name": "stdout",
     "output_type": "stream",
     "text": [
      "Finished feature extraction from  374  files\n",
      "11.813252096666671\n"
     ]
    }
   ],
   "source": [
    "inicio = default_timer()\n",
    "\n",
    "featuresdf_EMODB_36_test_010=extract_features_test_EMODB()\n",
    "\n",
    "featuresdf_EMODB_36_train_010=extract_features_train_EMODB()\n",
    "\n",
    "fin = default_timer()\n",
    "print((fin - inicio)/60) "
   ]
  },
  {
   "cell_type": "code",
   "execution_count": 21,
   "metadata": {},
   "outputs": [
    {
     "name": "stdout",
     "output_type": "stream",
     "text": [
      "Finished feature extraction from  161  files\n"
     ]
    },
    {
     "name": "stderr",
     "output_type": "stream",
     "text": [
      "C:\\ProgramData\\Anaconda3\\lib\\site-packages\\ipykernel_launcher.py:43: WavFileWarning: Chunk (non-data) not understood, skipping it.\n"
     ]
    },
    {
     "name": "stdout",
     "output_type": "stream",
     "text": [
      "Finished feature extraction from  374  files\n",
      "12.829628948333326\n"
     ]
    }
   ],
   "source": [
    "inicio = default_timer()\n",
    "\n",
    "featuresdf_EMODB_48_test_010=extract_features_test_EMODB()\n",
    "\n",
    "featuresdf_EMODB_48_train_010=extract_features_train_EMODB()\n",
    "\n",
    "fin = default_timer()\n",
    "print((fin - inicio)/60) "
   ]
  },
  {
   "cell_type": "code",
   "execution_count": 22,
   "metadata": {},
   "outputs": [
    {
     "name": "stdout",
     "output_type": "stream",
     "text": [
      "Stored 'featuresdf_EMODB_12_test_010' (DataFrame)\n",
      "Stored 'featuresdf_EMODB_12_train_010' (DataFrame)\n",
      "Stored 'featuresdf_EMODB_24_test_010' (DataFrame)\n",
      "Stored 'featuresdf_EMODB_24_train_010' (DataFrame)\n",
      "Stored 'featuresdf_EMODB_36_test_010' (DataFrame)\n",
      "Stored 'featuresdf_EMODB_36_train_010' (DataFrame)\n",
      "Stored 'featuresdf_EMODB_48_test_010' (DataFrame)\n",
      "Stored 'featuresdf_EMODB_48_train_010' (DataFrame)\n"
     ]
    }
   ],
   "source": [
    "%store featuresdf_EMODB_12_test_010\n",
    "%store featuresdf_EMODB_12_train_010\n",
    "%store featuresdf_EMODB_24_test_010\n",
    "%store featuresdf_EMODB_24_train_010\n",
    "%store featuresdf_EMODB_36_test_010\n",
    "%store featuresdf_EMODB_36_train_010\n",
    "%store featuresdf_EMODB_48_test_010\n",
    "%store featuresdf_EMODB_48_train_010"
   ]
  },
  {
   "cell_type": "markdown",
   "metadata": {},
   "source": [
    "## EMODB Experimento 1.5\n",
    "\n",
    "### Cantidad de coeficientes 12, 24, 36, 48, Usando ventana tipo 2, Con preénfasis 0.97, ancho de band completo (fs/2), tamaño de frame de 30ms y traslape de 50\n",
    "\n",
    "### Window=2 preénfasis=0.97 f_max = fs/2 frame=0.03 overlap=50"
   ]
  },
  {
   "cell_type": "markdown",
   "metadata": {},
   "source": [
    "# MSES_0"
   ]
  },
  {
   "cell_type": "code",
   "execution_count": 24,
   "metadata": {},
   "outputs": [
    {
     "name": "stdout",
     "output_type": "stream",
     "text": [
      "Finished feature extraction from  161  files\n"
     ]
    },
    {
     "name": "stderr",
     "output_type": "stream",
     "text": [
      "C:\\ProgramData\\Anaconda3\\lib\\site-packages\\ipykernel_launcher.py:43: WavFileWarning: Chunk (non-data) not understood, skipping it.\n"
     ]
    },
    {
     "name": "stdout",
     "output_type": "stream",
     "text": [
      "Finished feature extraction from  374  files\n",
      "8.644147158333332\n"
     ]
    }
   ],
   "source": [
    "inicio = default_timer()\n",
    "\n",
    "featuresdf_EMODB_12_test_011=extract_features_test_EMODB()\n",
    "\n",
    "featuresdf_EMODB_12_train_011=extract_features_train_EMODB()\n",
    "\n",
    "fin = default_timer()\n",
    "print((fin - inicio)/60) "
   ]
  },
  {
   "cell_type": "code",
   "execution_count": 26,
   "metadata": {},
   "outputs": [
    {
     "name": "stdout",
     "output_type": "stream",
     "text": [
      "Finished feature extraction from  161  files\n"
     ]
    },
    {
     "name": "stderr",
     "output_type": "stream",
     "text": [
      "C:\\ProgramData\\Anaconda3\\lib\\site-packages\\ipykernel_launcher.py:43: WavFileWarning: Chunk (non-data) not understood, skipping it.\n"
     ]
    },
    {
     "name": "stdout",
     "output_type": "stream",
     "text": [
      "Finished feature extraction from  374  files\n",
      "11.657962485000008\n"
     ]
    }
   ],
   "source": [
    "inicio = default_timer()\n",
    "\n",
    "featuresdf_EMODB_24_test_011=extract_features_test_EMODB()\n",
    "\n",
    "featuresdf_EMODB_24_train_011=extract_features_train_EMODB()\n",
    "\n",
    "fin = default_timer()\n",
    "print((fin - inicio)/60)  "
   ]
  },
  {
   "cell_type": "code",
   "execution_count": 28,
   "metadata": {},
   "outputs": [
    {
     "name": "stdout",
     "output_type": "stream",
     "text": [
      "Finished feature extraction from  161  files\n"
     ]
    },
    {
     "name": "stderr",
     "output_type": "stream",
     "text": [
      "C:\\ProgramData\\Anaconda3\\lib\\site-packages\\ipykernel_launcher.py:43: WavFileWarning: Chunk (non-data) not understood, skipping it.\n"
     ]
    },
    {
     "name": "stdout",
     "output_type": "stream",
     "text": [
      "Finished feature extraction from  374  files\n",
      "10.150373281666695\n"
     ]
    }
   ],
   "source": [
    "inicio = default_timer()\n",
    "\n",
    "featuresdf_EMODB_36_test_011=extract_features_test_EMODB()\n",
    "\n",
    "featuresdf_EMODB_36_train_011=extract_features_train_EMODB()\n",
    "\n",
    "fin = default_timer()\n",
    "print((fin - inicio)/60) "
   ]
  },
  {
   "cell_type": "code",
   "execution_count": 30,
   "metadata": {},
   "outputs": [
    {
     "name": "stdout",
     "output_type": "stream",
     "text": [
      "Finished feature extraction from  161  files\n"
     ]
    },
    {
     "name": "stderr",
     "output_type": "stream",
     "text": [
      "C:\\ProgramData\\Anaconda3\\lib\\site-packages\\ipykernel_launcher.py:43: WavFileWarning: Chunk (non-data) not understood, skipping it.\n"
     ]
    },
    {
     "name": "stdout",
     "output_type": "stream",
     "text": [
      "Finished feature extraction from  374  files\n",
      "11.888708381666644\n"
     ]
    }
   ],
   "source": [
    "inicio = default_timer()\n",
    "\n",
    "featuresdf_EMODB_48_test_011=extract_features_test_EMODB()\n",
    "\n",
    "featuresdf_EMODB_48_train_011=extract_features_train_EMODB()\n",
    "\n",
    "fin = default_timer()\n",
    "print((fin - inicio)/60) "
   ]
  },
  {
   "cell_type": "code",
   "execution_count": 31,
   "metadata": {},
   "outputs": [
    {
     "name": "stdout",
     "output_type": "stream",
     "text": [
      "Stored 'featuresdf_EMODB_12_test_011' (DataFrame)\n",
      "Stored 'featuresdf_EMODB_12_train_011' (DataFrame)\n",
      "Stored 'featuresdf_EMODB_24_test_011' (DataFrame)\n",
      "Stored 'featuresdf_EMODB_24_train_011' (DataFrame)\n",
      "Stored 'featuresdf_EMODB_36_test_011' (DataFrame)\n",
      "Stored 'featuresdf_EMODB_36_train_011' (DataFrame)\n",
      "Stored 'featuresdf_EMODB_48_test_011' (DataFrame)\n",
      "Stored 'featuresdf_EMODB_48_train_011' (DataFrame)\n"
     ]
    }
   ],
   "source": [
    "%store featuresdf_EMODB_12_test_011\n",
    "%store featuresdf_EMODB_12_train_011\n",
    "%store featuresdf_EMODB_24_test_011\n",
    "%store featuresdf_EMODB_24_train_011\n",
    "%store featuresdf_EMODB_36_test_011\n",
    "%store featuresdf_EMODB_36_train_011\n",
    "%store featuresdf_EMODB_48_test_011\n",
    "%store featuresdf_EMODB_48_train_011"
   ]
  },
  {
   "cell_type": "markdown",
   "metadata": {},
   "source": [
    "# RASTA-MFCC"
   ]
  },
  {
   "cell_type": "code",
   "execution_count": 33,
   "metadata": {},
   "outputs": [
    {
     "name": "stdout",
     "output_type": "stream",
     "text": [
      "Finished feature extraction from  161  files\n"
     ]
    },
    {
     "name": "stderr",
     "output_type": "stream",
     "text": [
      "C:\\ProgramData\\Anaconda3\\lib\\site-packages\\ipykernel_launcher.py:43: WavFileWarning: Chunk (non-data) not understood, skipping it.\n"
     ]
    },
    {
     "name": "stdout",
     "output_type": "stream",
     "text": [
      "Finished feature extraction from  374  files\n",
      "12.32496326666666\n"
     ]
    }
   ],
   "source": [
    "inicio = default_timer()\n",
    "\n",
    "featuresdf_EMODB_12_test_012=extract_features_test_EMODB()\n",
    "\n",
    "featuresdf_EMODB_12_train_012=extract_features_train_EMODB()\n",
    "\n",
    "fin = default_timer()\n",
    "print((fin - inicio)/60) "
   ]
  },
  {
   "cell_type": "code",
   "execution_count": 35,
   "metadata": {},
   "outputs": [
    {
     "name": "stdout",
     "output_type": "stream",
     "text": [
      "Finished feature extraction from  161  files\n"
     ]
    },
    {
     "name": "stderr",
     "output_type": "stream",
     "text": [
      "C:\\ProgramData\\Anaconda3\\lib\\site-packages\\ipykernel_launcher.py:43: WavFileWarning: Chunk (non-data) not understood, skipping it.\n"
     ]
    },
    {
     "name": "stdout",
     "output_type": "stream",
     "text": [
      "Finished feature extraction from  374  files\n",
      "16.320267610000034\n"
     ]
    }
   ],
   "source": [
    "inicio = default_timer()\n",
    "\n",
    "featuresdf_EMODB_24_test_012=extract_features_test_EMODB()\n",
    "\n",
    "featuresdf_EMODB_24_train_012=extract_features_train_EMODB()\n",
    "\n",
    "fin = default_timer()\n",
    "print((fin - inicio)/60) "
   ]
  },
  {
   "cell_type": "code",
   "execution_count": 37,
   "metadata": {},
   "outputs": [
    {
     "name": "stdout",
     "output_type": "stream",
     "text": [
      "Finished feature extraction from  161  files\n"
     ]
    },
    {
     "name": "stderr",
     "output_type": "stream",
     "text": [
      "C:\\ProgramData\\Anaconda3\\lib\\site-packages\\ipykernel_launcher.py:43: WavFileWarning: Chunk (non-data) not understood, skipping it.\n"
     ]
    },
    {
     "name": "stdout",
     "output_type": "stream",
     "text": [
      "Finished feature extraction from  374  files\n",
      "14.466487868333328\n"
     ]
    }
   ],
   "source": [
    "inicio = default_timer()\n",
    "\n",
    "featuresdf_EMODB_36_test_012=extract_features_test_EMODB()\n",
    "\n",
    "featuresdf_EMODB_36_train_012=extract_features_train_EMODB()\n",
    "\n",
    "fin = default_timer()\n",
    "print((fin - inicio)/60) "
   ]
  },
  {
   "cell_type": "code",
   "execution_count": 39,
   "metadata": {},
   "outputs": [
    {
     "name": "stdout",
     "output_type": "stream",
     "text": [
      "Finished feature extraction from  161  files\n"
     ]
    },
    {
     "name": "stderr",
     "output_type": "stream",
     "text": [
      "C:\\ProgramData\\Anaconda3\\lib\\site-packages\\ipykernel_launcher.py:43: WavFileWarning: Chunk (non-data) not understood, skipping it.\n"
     ]
    },
    {
     "name": "stdout",
     "output_type": "stream",
     "text": [
      "Finished feature extraction from  374  files\n",
      "15.281211341666676\n"
     ]
    }
   ],
   "source": [
    "inicio = default_timer()\n",
    "\n",
    "featuresdf_EMODB_48_test_012=extract_features_test_EMODB()\n",
    "\n",
    "featuresdf_EMODB_48_train_012=extract_features_train_EMODB()\n",
    "\n",
    "fin = default_timer()\n",
    "print((fin - inicio)/60) "
   ]
  },
  {
   "cell_type": "code",
   "execution_count": 40,
   "metadata": {},
   "outputs": [
    {
     "name": "stdout",
     "output_type": "stream",
     "text": [
      "Stored 'featuresdf_EMODB_12_test_012' (DataFrame)\n",
      "Stored 'featuresdf_EMODB_12_train_012' (DataFrame)\n",
      "Stored 'featuresdf_EMODB_24_test_012' (DataFrame)\n",
      "Stored 'featuresdf_EMODB_24_train_012' (DataFrame)\n",
      "Stored 'featuresdf_EMODB_36_test_012' (DataFrame)\n",
      "Stored 'featuresdf_EMODB_36_train_012' (DataFrame)\n",
      "Stored 'featuresdf_EMODB_48_test_012' (DataFrame)\n",
      "Stored 'featuresdf_EMODB_48_train_012' (DataFrame)\n"
     ]
    }
   ],
   "source": [
    "%store featuresdf_EMODB_12_test_012\n",
    "%store featuresdf_EMODB_12_train_012\n",
    "%store featuresdf_EMODB_24_test_012\n",
    "%store featuresdf_EMODB_24_train_012\n",
    "%store featuresdf_EMODB_36_test_012\n",
    "%store featuresdf_EMODB_36_train_012\n",
    "%store featuresdf_EMODB_48_test_012\n",
    "%store featuresdf_EMODB_48_train_012"
   ]
  },
  {
   "cell_type": "markdown",
   "metadata": {},
   "source": [
    "## EMODB Experimento 2\n",
    "\n",
    "### Cantidad de coeficientes el mejor resultado de los dos experimentos anteriores, Usando ventana tipo 2, sin y con preénfasis, ancho de banda completo (fs/2), tamaño de frame desde 10ms hasta 100 ms y traslape de 50%\n",
    "\n",
    "### n_coef=24  Window=2  preénfasis=0.0 f_max = fs/2  frame=10-100 overlap=50\n",
    "\n",
    "## MFCC"
   ]
  },
  {
   "cell_type": "code",
   "execution_count": 7,
   "metadata": {
    "collapsed": true
   },
   "outputs": [
    {
     "name": "stderr",
     "output_type": "stream",
     "text": [
      "C:\\ProgramData\\Anaconda3\\lib\\site-packages\\ipykernel_launcher.py:246: RuntimeWarning: invalid value encountered in true_divide\n"
     ]
    },
    {
     "ename": "KeyboardInterrupt",
     "evalue": "",
     "output_type": "error",
     "traceback": [
      "\u001b[1;31m---------------------------------------------------------------------------\u001b[0m",
      "\u001b[1;31mKeyboardInterrupt\u001b[0m                         Traceback (most recent call last)",
      "\u001b[1;32m<ipython-input-7-5c602f7f4ca8>\u001b[0m in \u001b[0;36m<module>\u001b[1;34m\u001b[0m\n\u001b[0;32m      1\u001b[0m \u001b[0minicio\u001b[0m \u001b[1;33m=\u001b[0m \u001b[0mdefault_timer\u001b[0m\u001b[1;33m(\u001b[0m\u001b[1;33m)\u001b[0m\u001b[1;33m\u001b[0m\u001b[1;33m\u001b[0m\u001b[0m\n\u001b[0;32m      2\u001b[0m \u001b[1;33m\u001b[0m\u001b[0m\n\u001b[1;32m----> 3\u001b[1;33m \u001b[0mfeaturesdf_EMODB_10_test_13\u001b[0m\u001b[1;33m=\u001b[0m\u001b[0mextract_features_test_EMODB\u001b[0m\u001b[1;33m(\u001b[0m\u001b[1;33m)\u001b[0m\u001b[1;33m\u001b[0m\u001b[1;33m\u001b[0m\u001b[0m\n\u001b[0m\u001b[0;32m      4\u001b[0m \u001b[1;33m\u001b[0m\u001b[0m\n\u001b[0;32m      5\u001b[0m \u001b[0mfeaturesdf_EMODB_10_train_13\u001b[0m\u001b[1;33m=\u001b[0m\u001b[0mextract_features_train_EMODB\u001b[0m\u001b[1;33m(\u001b[0m\u001b[1;33m)\u001b[0m\u001b[1;33m\u001b[0m\u001b[1;33m\u001b[0m\u001b[0m\n",
      "\u001b[1;32m<ipython-input-5-a1823a7e80da>\u001b[0m in \u001b[0;36mextract_features_test_EMODB\u001b[1;34m()\u001b[0m\n\u001b[0;32m     17\u001b[0m             \u001b[0mclass_label\u001b[0m \u001b[1;33m=\u001b[0m \u001b[0mrow\u001b[0m\u001b[1;33m[\u001b[0m\u001b[1;34m\"class_name\"\u001b[0m\u001b[1;33m]\u001b[0m\u001b[1;33m\u001b[0m\u001b[1;33m\u001b[0m\u001b[0m\n\u001b[0;32m     18\u001b[0m             \u001b[1;32mif\u001b[0m \u001b[0mrow\u001b[0m\u001b[1;33m[\u001b[0m\u001b[1;34m\"if\"\u001b[0m\u001b[1;33m]\u001b[0m \u001b[1;33m==\u001b[0m \u001b[1;34m\"test\"\u001b[0m \u001b[1;33m:\u001b[0m\u001b[1;33m\u001b[0m\u001b[1;33m\u001b[0m\u001b[0m\n\u001b[1;32m---> 19\u001b[1;33m                 \u001b[0mdata\u001b[0m \u001b[1;33m=\u001b[0m \u001b[0mmult_spect_ent_coef_corr\u001b[0m\u001b[1;33m(\u001b[0m\u001b[0mfile_name\u001b[0m\u001b[1;33m)\u001b[0m\u001b[1;33m\u001b[0m\u001b[1;33m\u001b[0m\u001b[0m\n\u001b[0m\u001b[0;32m     20\u001b[0m                 \u001b[0mfeatures\u001b[0m\u001b[1;33m.\u001b[0m\u001b[0mappend\u001b[0m\u001b[1;33m(\u001b[0m\u001b[1;33m[\u001b[0m\u001b[0mdata\u001b[0m\u001b[1;33m.\u001b[0m\u001b[0mmsesscalade\u001b[0m\u001b[1;33m,\u001b[0m \u001b[0mclass_label\u001b[0m\u001b[1;33m]\u001b[0m\u001b[1;33m)\u001b[0m\u001b[1;33m\u001b[0m\u001b[1;33m\u001b[0m\u001b[0m\n\u001b[0;32m     21\u001b[0m \u001b[1;33m\u001b[0m\u001b[0m\n",
      "\u001b[1;32m<ipython-input-1-de479944a84c>\u001b[0m in \u001b[0;36m__init__\u001b[1;34m(self, filename)\u001b[0m\n\u001b[0;32m     58\u001b[0m         \u001b[0mself\u001b[0m\u001b[1;33m.\u001b[0m\u001b[0mmel_freqs\u001b[0m \u001b[1;33m=\u001b[0m \u001b[0mself\u001b[0m\u001b[1;33m.\u001b[0m\u001b[0m__Mel_Freqs\u001b[0m\u001b[1;33m(\u001b[0m\u001b[1;33m)\u001b[0m\u001b[1;33m\u001b[0m\u001b[1;33m\u001b[0m\u001b[0m\n\u001b[0;32m     59\u001b[0m         \u001b[0mself\u001b[0m\u001b[1;33m.\u001b[0m\u001b[0mmel_filter_bank\u001b[0m \u001b[1;33m=\u001b[0m \u001b[0mself\u001b[0m\u001b[1;33m.\u001b[0m\u001b[0m__Mel_Filter\u001b[0m\u001b[1;33m(\u001b[0m\u001b[1;33m)\u001b[0m\u001b[1;33m\u001b[0m\u001b[1;33m\u001b[0m\u001b[0m\n\u001b[1;32m---> 60\u001b[1;33m         \u001b[0mself\u001b[0m\u001b[1;33m.\u001b[0m\u001b[0mcoef\u001b[0m\u001b[1;33m,\u001b[0m \u001b[0mself\u001b[0m\u001b[1;33m.\u001b[0m\u001b[0mnl\u001b[0m \u001b[1;33m=\u001b[0m \u001b[0mself\u001b[0m\u001b[1;33m.\u001b[0m\u001b[0m__MSES_Coef\u001b[0m\u001b[1;33m(\u001b[0m\u001b[1;33m)\u001b[0m\u001b[1;33m\u001b[0m\u001b[1;33m\u001b[0m\u001b[0m\n\u001b[0m\u001b[0;32m     61\u001b[0m         \u001b[0mself\u001b[0m\u001b[1;33m.\u001b[0m\u001b[0mmsesscalade\u001b[0m \u001b[1;33m=\u001b[0m \u001b[0mnp\u001b[0m\u001b[1;33m.\u001b[0m\u001b[0mmean\u001b[0m\u001b[1;33m(\u001b[0m\u001b[0mself\u001b[0m\u001b[1;33m.\u001b[0m\u001b[0mcoef\u001b[0m\u001b[1;33m.\u001b[0m\u001b[0mT\u001b[0m\u001b[1;33m,\u001b[0m \u001b[0maxis\u001b[0m\u001b[1;33m=\u001b[0m\u001b[1;36m0\u001b[0m\u001b[1;33m)\u001b[0m\u001b[1;33m\u001b[0m\u001b[1;33m\u001b[0m\u001b[0m\n\u001b[0;32m     62\u001b[0m         \u001b[1;31m#np.savetxt(\"mfcc_features.txt\", self.coef[:,0:self.nl],  delimiter=\",\", fmt=\"%f\")\u001b[0m\u001b[1;33m\u001b[0m\u001b[1;33m\u001b[0m\u001b[1;33m\u001b[0m\u001b[0m\n",
      "\u001b[1;32m<ipython-input-1-de479944a84c>\u001b[0m in \u001b[0;36m__MSES_Coef\u001b[1;34m(self)\u001b[0m\n\u001b[0;32m    244\u001b[0m                     \u001b[0msum_band\u001b[0m \u001b[1;33m=\u001b[0m \u001b[0mbands\u001b[0m\u001b[1;33m.\u001b[0m\u001b[0msum\u001b[0m\u001b[1;33m(\u001b[0m\u001b[1;36m1\u001b[0m\u001b[1;33m)\u001b[0m\u001b[1;33m\u001b[0m\u001b[1;33m\u001b[0m\u001b[0m\n\u001b[0;32m    245\u001b[0m                     \u001b[1;32mfor\u001b[0m \u001b[0mj\u001b[0m \u001b[1;32min\u001b[0m \u001b[0mrange\u001b[0m\u001b[1;33m(\u001b[0m\u001b[1;36m0\u001b[0m\u001b[1;33m,\u001b[0m\u001b[0mself\u001b[0m\u001b[1;33m.\u001b[0m\u001b[0mn_filters\u001b[0m\u001b[1;33m)\u001b[0m\u001b[1;33m:\u001b[0m\u001b[1;33m\u001b[0m\u001b[1;33m\u001b[0m\u001b[0m\n\u001b[1;32m--> 246\u001b[1;33m                         \u001b[0mpdf\u001b[0m\u001b[1;33m[\u001b[0m\u001b[0mj\u001b[0m\u001b[1;33m,\u001b[0m\u001b[1;33m:\u001b[0m\u001b[1;33m]\u001b[0m \u001b[1;33m=\u001b[0m \u001b[0mbands\u001b[0m\u001b[1;33m[\u001b[0m\u001b[0mj\u001b[0m\u001b[1;33m,\u001b[0m\u001b[1;33m:\u001b[0m\u001b[1;33m]\u001b[0m\u001b[1;33m/\u001b[0m\u001b[0msum_band\u001b[0m\u001b[1;33m[\u001b[0m\u001b[0mj\u001b[0m\u001b[1;33m]\u001b[0m\u001b[1;33m\u001b[0m\u001b[1;33m\u001b[0m\u001b[0m\n\u001b[0m\u001b[0;32m    247\u001b[0m                         \u001b[0msuma\u001b[0m \u001b[1;33m=\u001b[0m \u001b[1;36m0\u001b[0m\u001b[1;33m\u001b[0m\u001b[1;33m\u001b[0m\u001b[0m\n\u001b[0;32m    248\u001b[0m                         \u001b[1;32mfor\u001b[0m \u001b[0mk\u001b[0m \u001b[1;32min\u001b[0m \u001b[0mrange\u001b[0m\u001b[1;33m(\u001b[0m\u001b[1;36m0\u001b[0m\u001b[1;33m,\u001b[0m\u001b[0mint\u001b[0m\u001b[1;33m(\u001b[0m\u001b[0mself\u001b[0m\u001b[1;33m.\u001b[0m\u001b[0mhalf_n\u001b[0m\u001b[1;33m)\u001b[0m\u001b[1;33m)\u001b[0m\u001b[1;33m:\u001b[0m\u001b[1;33m\u001b[0m\u001b[1;33m\u001b[0m\u001b[0m\n",
      "\u001b[1;31mKeyboardInterrupt\u001b[0m: "
     ]
    }
   ],
   "source": [
    "inicio = default_timer()\n",
    "\n",
    "featuresdf_EMODB_10_test_013=extract_features_test_EMODB()\n",
    "\n",
    "featuresdf_EMODB_10_train_013=extract_features_train_EMODB()\n",
    "\n",
    "fin = default_timer()\n",
    "print((fin - inicio)/60) "
   ]
  },
  {
   "cell_type": "code",
   "execution_count": 9,
   "metadata": {},
   "outputs": [
    {
     "name": "stdout",
     "output_type": "stream",
     "text": [
      "Finished feature extraction from  161  files\n"
     ]
    },
    {
     "name": "stderr",
     "output_type": "stream",
     "text": [
      "C:\\ProgramData\\Anaconda3\\lib\\site-packages\\ipykernel_launcher.py:43: WavFileWarning: Chunk (non-data) not understood, skipping it.\n"
     ]
    },
    {
     "name": "stdout",
     "output_type": "stream",
     "text": [
      "Finished feature extraction from  374  files\n",
      "9.525928946666665\n"
     ]
    }
   ],
   "source": [
    "inicio = default_timer()\n",
    "\n",
    "featuresdf_EMODB_20_test_013=extract_features_test_EMODB()\n",
    "\n",
    "featuresdf_EMODB_20_train_013=extract_features_train_EMODB()\n",
    "\n",
    "fin = default_timer()\n",
    "print((fin - inicio)/60) "
   ]
  },
  {
   "cell_type": "code",
   "execution_count": 11,
   "metadata": {},
   "outputs": [
    {
     "name": "stdout",
     "output_type": "stream",
     "text": [
      "Finished feature extraction from  161  files\n"
     ]
    },
    {
     "name": "stderr",
     "output_type": "stream",
     "text": [
      "C:\\ProgramData\\Anaconda3\\lib\\site-packages\\ipykernel_launcher.py:43: WavFileWarning: Chunk (non-data) not understood, skipping it.\n"
     ]
    },
    {
     "name": "stdout",
     "output_type": "stream",
     "text": [
      "Finished feature extraction from  374  files\n",
      "8.120267111666665\n"
     ]
    }
   ],
   "source": [
    "inicio = default_timer()\n",
    "\n",
    "featuresdf_EMODB_30_test_013=extract_features_test_EMODB()\n",
    "\n",
    "featuresdf_EMODB_30_train_013=extract_features_train_EMODB()\n",
    "\n",
    "fin = default_timer()\n",
    "print((fin - inicio)/60) "
   ]
  },
  {
   "cell_type": "code",
   "execution_count": 13,
   "metadata": {},
   "outputs": [
    {
     "name": "stdout",
     "output_type": "stream",
     "text": [
      "Finished feature extraction from  161  files\n"
     ]
    },
    {
     "name": "stderr",
     "output_type": "stream",
     "text": [
      "C:\\ProgramData\\Anaconda3\\lib\\site-packages\\ipykernel_launcher.py:43: WavFileWarning: Chunk (non-data) not understood, skipping it.\n"
     ]
    },
    {
     "name": "stdout",
     "output_type": "stream",
     "text": [
      "Finished feature extraction from  374  files\n",
      "7.687795858333334\n"
     ]
    }
   ],
   "source": [
    "inicio = default_timer()\n",
    "\n",
    "featuresdf_EMODB_40_test_013=extract_features_test_EMODB()\n",
    "\n",
    "featuresdf_EMODB_40_train_013=extract_features_train_EMODB()\n",
    "\n",
    "fin = default_timer()\n",
    "print((fin - inicio)/60) "
   ]
  },
  {
   "cell_type": "code",
   "execution_count": 15,
   "metadata": {},
   "outputs": [
    {
     "name": "stdout",
     "output_type": "stream",
     "text": [
      "Finished feature extraction from  161  files\n"
     ]
    },
    {
     "name": "stderr",
     "output_type": "stream",
     "text": [
      "C:\\ProgramData\\Anaconda3\\lib\\site-packages\\ipykernel_launcher.py:43: WavFileWarning: Chunk (non-data) not understood, skipping it.\n"
     ]
    },
    {
     "name": "stdout",
     "output_type": "stream",
     "text": [
      "Finished feature extraction from  374  files\n",
      "7.189996629999996\n"
     ]
    }
   ],
   "source": [
    "inicio = default_timer()\n",
    "\n",
    "featuresdf_EMODB_50_test_013=extract_features_test_EMODB()\n",
    "\n",
    "featuresdf_EMODB_50_train_013=extract_features_train_EMODB()\n",
    "\n",
    "fin = default_timer()\n",
    "print((fin - inicio)/60) "
   ]
  },
  {
   "cell_type": "code",
   "execution_count": 17,
   "metadata": {},
   "outputs": [
    {
     "name": "stdout",
     "output_type": "stream",
     "text": [
      "Finished feature extraction from  161  files\n"
     ]
    },
    {
     "name": "stderr",
     "output_type": "stream",
     "text": [
      "C:\\ProgramData\\Anaconda3\\lib\\site-packages\\ipykernel_launcher.py:43: WavFileWarning: Chunk (non-data) not understood, skipping it.\n"
     ]
    },
    {
     "name": "stdout",
     "output_type": "stream",
     "text": [
      "Finished feature extraction from  374  files\n",
      "7.36118864\n"
     ]
    }
   ],
   "source": [
    "inicio = default_timer()\n",
    "\n",
    "featuresdf_EMODB_60_test_013=extract_features_test_EMODB()\n",
    "\n",
    "featuresdf_EMODB_60_train_013=extract_features_train_EMODB()\n",
    "\n",
    "fin = default_timer()\n",
    "print((fin - inicio)/60) "
   ]
  },
  {
   "cell_type": "code",
   "execution_count": 19,
   "metadata": {},
   "outputs": [
    {
     "name": "stdout",
     "output_type": "stream",
     "text": [
      "Finished feature extraction from  161  files\n"
     ]
    },
    {
     "name": "stderr",
     "output_type": "stream",
     "text": [
      "C:\\ProgramData\\Anaconda3\\lib\\site-packages\\ipykernel_launcher.py:43: WavFileWarning: Chunk (non-data) not understood, skipping it.\n"
     ]
    },
    {
     "name": "stdout",
     "output_type": "stream",
     "text": [
      "Finished feature extraction from  374  files\n",
      "7.5311541533333335\n"
     ]
    }
   ],
   "source": [
    "inicio = default_timer()\n",
    "\n",
    "featuresdf_EMODB_70_test_013=extract_features_test_EMODB()\n",
    "\n",
    "featuresdf_EMODB_70_train_013=extract_features_train_EMODB()\n",
    "\n",
    "fin = default_timer()\n",
    "print((fin - inicio)/60) "
   ]
  },
  {
   "cell_type": "code",
   "execution_count": 21,
   "metadata": {},
   "outputs": [
    {
     "name": "stdout",
     "output_type": "stream",
     "text": [
      "Finished feature extraction from  161  files\n"
     ]
    },
    {
     "name": "stderr",
     "output_type": "stream",
     "text": [
      "C:\\ProgramData\\Anaconda3\\lib\\site-packages\\ipykernel_launcher.py:43: WavFileWarning: Chunk (non-data) not understood, skipping it.\n"
     ]
    },
    {
     "name": "stdout",
     "output_type": "stream",
     "text": [
      "Finished feature extraction from  374  files\n",
      "7.856029018333341\n"
     ]
    }
   ],
   "source": [
    "inicio = default_timer()\n",
    "\n",
    "featuresdf_EMODB_80_test_013=extract_features_test_EMODB()\n",
    "\n",
    "featuresdf_EMODB_80_train_013=extract_features_train_EMODB()\n",
    "\n",
    "fin = default_timer()\n",
    "print((fin - inicio)/60) "
   ]
  },
  {
   "cell_type": "code",
   "execution_count": 23,
   "metadata": {},
   "outputs": [
    {
     "name": "stdout",
     "output_type": "stream",
     "text": [
      "Finished feature extraction from  161  files\n"
     ]
    },
    {
     "name": "stderr",
     "output_type": "stream",
     "text": [
      "C:\\ProgramData\\Anaconda3\\lib\\site-packages\\ipykernel_launcher.py:43: WavFileWarning: Chunk (non-data) not understood, skipping it.\n"
     ]
    },
    {
     "name": "stdout",
     "output_type": "stream",
     "text": [
      "Finished feature extraction from  374  files\n",
      "7.336965390000008\n"
     ]
    }
   ],
   "source": [
    "inicio = default_timer()\n",
    "\n",
    "featuresdf_EMODB_90_test_013=extract_features_test_EMODB()\n",
    "\n",
    "featuresdf_EMODB_90_train_013=extract_features_train_EMODB()\n",
    "\n",
    "fin = default_timer()\n",
    "print((fin - inicio)/60) "
   ]
  },
  {
   "cell_type": "code",
   "execution_count": 25,
   "metadata": {},
   "outputs": [
    {
     "name": "stdout",
     "output_type": "stream",
     "text": [
      "Finished feature extraction from  161  files\n"
     ]
    },
    {
     "name": "stderr",
     "output_type": "stream",
     "text": [
      "C:\\ProgramData\\Anaconda3\\lib\\site-packages\\ipykernel_launcher.py:43: WavFileWarning: Chunk (non-data) not understood, skipping it.\n"
     ]
    },
    {
     "name": "stdout",
     "output_type": "stream",
     "text": [
      "Finished feature extraction from  374  files\n",
      "7.308453851666672\n"
     ]
    }
   ],
   "source": [
    "inicio = default_timer()\n",
    "\n",
    "featuresdf_EMODB_100_test_013=extract_features_test_EMODB()\n",
    "\n",
    "featuresdf_EMODB_100_train_013=extract_features_train_EMODB()\n",
    "\n",
    "fin = default_timer()\n",
    "print((fin - inicio)/60) "
   ]
  },
  {
   "cell_type": "code",
   "execution_count": 26,
   "metadata": {},
   "outputs": [
    {
     "name": "stdout",
     "output_type": "stream",
     "text": [
      "Stored 'featuresdf_EMODB_20_test_013' (DataFrame)\n",
      "Stored 'featuresdf_EMODB_20_train_013' (DataFrame)\n",
      "Stored 'featuresdf_EMODB_30_test_013' (DataFrame)\n",
      "Stored 'featuresdf_EMODB_30_train_013' (DataFrame)\n",
      "Stored 'featuresdf_EMODB_40_test_013' (DataFrame)\n",
      "Stored 'featuresdf_EMODB_40_train_013' (DataFrame)\n",
      "Stored 'featuresdf_EMODB_50_test_013' (DataFrame)\n",
      "Stored 'featuresdf_EMODB_50_train_013' (DataFrame)\n",
      "Stored 'featuresdf_EMODB_60_test_013' (DataFrame)\n",
      "Stored 'featuresdf_EMODB_60_train_013' (DataFrame)\n",
      "Stored 'featuresdf_EMODB_70_test_013' (DataFrame)\n",
      "Stored 'featuresdf_EMODB_70_train_013' (DataFrame)\n",
      "Stored 'featuresdf_EMODB_80_test_013' (DataFrame)\n",
      "Stored 'featuresdf_EMODB_80_train_013' (DataFrame)\n",
      "Stored 'featuresdf_EMODB_90_test_013' (DataFrame)\n",
      "Stored 'featuresdf_EMODB_90_train_013' (DataFrame)\n",
      "Stored 'featuresdf_EMODB_100_test_013' (DataFrame)\n",
      "Stored 'featuresdf_EMODB_100_train_013' (DataFrame)\n"
     ]
    }
   ],
   "source": [
    "#%store featuresdf_EMODB_10_test_013\n",
    "#%store featuresdf_EMODB_10_train_013\n",
    "%store featuresdf_EMODB_20_test_013\n",
    "%store featuresdf_EMODB_20_train_013\n",
    "%store featuresdf_EMODB_30_test_013\n",
    "%store featuresdf_EMODB_30_train_013\n",
    "%store featuresdf_EMODB_40_test_013\n",
    "%store featuresdf_EMODB_40_train_013\n",
    "%store featuresdf_EMODB_50_test_013\n",
    "%store featuresdf_EMODB_50_train_013\n",
    "%store featuresdf_EMODB_60_test_013\n",
    "%store featuresdf_EMODB_60_train_013\n",
    "%store featuresdf_EMODB_70_test_013\n",
    "%store featuresdf_EMODB_70_train_013\n",
    "%store featuresdf_EMODB_80_test_013\n",
    "%store featuresdf_EMODB_80_train_013\n",
    "%store featuresdf_EMODB_90_test_013\n",
    "%store featuresdf_EMODB_90_train_013\n",
    "%store featuresdf_EMODB_100_test_013\n",
    "%store featuresdf_EMODB_100_train_013"
   ]
  },
  {
   "cell_type": "code",
   "execution_count": 29,
   "metadata": {},
   "outputs": [
    {
     "name": "stdout",
     "output_type": "stream",
     "text": [
      "Finished feature extraction from  161  files\n"
     ]
    },
    {
     "name": "stderr",
     "output_type": "stream",
     "text": [
      "C:\\ProgramData\\Anaconda3\\lib\\site-packages\\ipykernel_launcher.py:43: WavFileWarning: Chunk (non-data) not understood, skipping it.\n"
     ]
    },
    {
     "name": "stdout",
     "output_type": "stream",
     "text": [
      "Finished feature extraction from  374  files\n",
      "17.38042119499998\n"
     ]
    }
   ],
   "source": [
    "inicio = default_timer()\n",
    "\n",
    "featuresdf_EMODB_10_test_014=extract_features_test_EMODB()\n",
    "\n",
    "featuresdf_EMODB_10_train_014=extract_features_train_EMODB()\n",
    "\n",
    "fin = default_timer()\n",
    "print((fin - inicio)/60) "
   ]
  },
  {
   "cell_type": "code",
   "execution_count": 32,
   "metadata": {
    "scrolled": true
   },
   "outputs": [
    {
     "name": "stdout",
     "output_type": "stream",
     "text": [
      "Finished feature extraction from  161  files\n"
     ]
    },
    {
     "name": "stderr",
     "output_type": "stream",
     "text": [
      "C:\\ProgramData\\Anaconda3\\lib\\site-packages\\ipykernel_launcher.py:43: WavFileWarning: Chunk (non-data) not understood, skipping it.\n"
     ]
    },
    {
     "name": "stdout",
     "output_type": "stream",
     "text": [
      "Finished feature extraction from  374  files\n",
      "14.70596830166669\n"
     ]
    }
   ],
   "source": [
    "inicio = default_timer()\n",
    "\n",
    "featuresdf_EMODB_20_test_014=extract_features_test_EMODB()\n",
    "\n",
    "featuresdf_EMODB_20_train_014=extract_features_train_EMODB()\n",
    "\n",
    "fin = default_timer()\n",
    "print((fin - inicio)/60) "
   ]
  },
  {
   "cell_type": "code",
   "execution_count": 34,
   "metadata": {},
   "outputs": [
    {
     "name": "stdout",
     "output_type": "stream",
     "text": [
      "Finished feature extraction from  161  files\n"
     ]
    },
    {
     "name": "stderr",
     "output_type": "stream",
     "text": [
      "C:\\ProgramData\\Anaconda3\\lib\\site-packages\\ipykernel_launcher.py:43: WavFileWarning: Chunk (non-data) not understood, skipping it.\n"
     ]
    },
    {
     "name": "stdout",
     "output_type": "stream",
     "text": [
      "Finished feature extraction from  374  files\n",
      "12.546758411666664\n"
     ]
    }
   ],
   "source": [
    "inicio = default_timer()\n",
    "\n",
    "featuresdf_EMODB_30_test_014=extract_features_test_EMODB()\n",
    "\n",
    "featuresdf_EMODB_30_train_014=extract_features_train_EMODB()\n",
    "\n",
    "fin = default_timer()\n",
    "print((fin - inicio)/60) "
   ]
  },
  {
   "cell_type": "code",
   "execution_count": 36,
   "metadata": {},
   "outputs": [
    {
     "name": "stdout",
     "output_type": "stream",
     "text": [
      "Finished feature extraction from  161  files\n"
     ]
    },
    {
     "name": "stderr",
     "output_type": "stream",
     "text": [
      "C:\\ProgramData\\Anaconda3\\lib\\site-packages\\ipykernel_launcher.py:43: WavFileWarning: Chunk (non-data) not understood, skipping it.\n"
     ]
    },
    {
     "name": "stdout",
     "output_type": "stream",
     "text": [
      "Finished feature extraction from  374  files\n",
      "11.636737324999983\n"
     ]
    }
   ],
   "source": [
    "inicio = default_timer()\n",
    "\n",
    "featuresdf_EMODB_40_test_014=extract_features_test_EMODB()\n",
    "\n",
    "featuresdf_EMODB_40_train_014=extract_features_train_EMODB()\n",
    "\n",
    "fin = default_timer()\n",
    "print((fin - inicio)/60) "
   ]
  },
  {
   "cell_type": "code",
   "execution_count": 38,
   "metadata": {},
   "outputs": [
    {
     "name": "stdout",
     "output_type": "stream",
     "text": [
      "Finished feature extraction from  161  files\n"
     ]
    },
    {
     "name": "stderr",
     "output_type": "stream",
     "text": [
      "C:\\ProgramData\\Anaconda3\\lib\\site-packages\\ipykernel_launcher.py:43: WavFileWarning: Chunk (non-data) not understood, skipping it.\n"
     ]
    },
    {
     "name": "stdout",
     "output_type": "stream",
     "text": [
      "Finished feature extraction from  374  files\n",
      "10.71051407833332\n"
     ]
    }
   ],
   "source": [
    "inicio = default_timer()\n",
    "\n",
    "featuresdf_EMODB_50_test_014=extract_features_test_EMODB()\n",
    "\n",
    "featuresdf_EMODB_50_train_014=extract_features_train_EMODB()\n",
    "\n",
    "fin = default_timer()\n",
    "print((fin - inicio)/60) "
   ]
  },
  {
   "cell_type": "code",
   "execution_count": 40,
   "metadata": {},
   "outputs": [
    {
     "name": "stdout",
     "output_type": "stream",
     "text": [
      "Finished feature extraction from  161  files\n"
     ]
    },
    {
     "name": "stderr",
     "output_type": "stream",
     "text": [
      "C:\\ProgramData\\Anaconda3\\lib\\site-packages\\ipykernel_launcher.py:43: WavFileWarning: Chunk (non-data) not understood, skipping it.\n"
     ]
    },
    {
     "name": "stdout",
     "output_type": "stream",
     "text": [
      "Finished feature extraction from  374  files\n",
      "10.154943253333355\n"
     ]
    }
   ],
   "source": [
    "inicio = default_timer()\n",
    "\n",
    "featuresdf_EMODB_60_test_014=extract_features_test_EMODB()\n",
    "\n",
    "featuresdf_EMODB_60_train_014=extract_features_train_EMODB()\n",
    "\n",
    "fin = default_timer()\n",
    "print((fin - inicio)/60) "
   ]
  },
  {
   "cell_type": "code",
   "execution_count": 42,
   "metadata": {},
   "outputs": [
    {
     "name": "stdout",
     "output_type": "stream",
     "text": [
      "Finished feature extraction from  161  files\n"
     ]
    },
    {
     "name": "stderr",
     "output_type": "stream",
     "text": [
      "C:\\ProgramData\\Anaconda3\\lib\\site-packages\\ipykernel_launcher.py:43: WavFileWarning: Chunk (non-data) not understood, skipping it.\n"
     ]
    },
    {
     "name": "stdout",
     "output_type": "stream",
     "text": [
      "Finished feature extraction from  374  files\n",
      "11.073293399999995\n"
     ]
    }
   ],
   "source": [
    "inicio = default_timer()\n",
    "\n",
    "featuresdf_EMODB_70_test_014=extract_features_test_EMODB()\n",
    "\n",
    "featuresdf_EMODB_70_train_014=extract_features_train_EMODB()\n",
    "\n",
    "fin = default_timer()\n",
    "print((fin - inicio)/60) "
   ]
  },
  {
   "cell_type": "code",
   "execution_count": 44,
   "metadata": {},
   "outputs": [
    {
     "name": "stdout",
     "output_type": "stream",
     "text": [
      "Finished feature extraction from  161  files\n"
     ]
    },
    {
     "name": "stderr",
     "output_type": "stream",
     "text": [
      "C:\\ProgramData\\Anaconda3\\lib\\site-packages\\ipykernel_launcher.py:43: WavFileWarning: Chunk (non-data) not understood, skipping it.\n"
     ]
    },
    {
     "name": "stdout",
     "output_type": "stream",
     "text": [
      "Finished feature extraction from  374  files\n",
      "9.840040446666686\n"
     ]
    }
   ],
   "source": [
    "inicio = default_timer()\n",
    "\n",
    "featuresdf_EMODB_80_test_014=extract_features_test_EMODB()\n",
    "\n",
    "featuresdf_EMODB_80_train_014=extract_features_train_EMODB()\n",
    "\n",
    "fin = default_timer()\n",
    "print((fin - inicio)/60) "
   ]
  },
  {
   "cell_type": "code",
   "execution_count": 46,
   "metadata": {},
   "outputs": [
    {
     "name": "stdout",
     "output_type": "stream",
     "text": [
      "Finished feature extraction from  161  files\n"
     ]
    },
    {
     "name": "stderr",
     "output_type": "stream",
     "text": [
      "C:\\ProgramData\\Anaconda3\\lib\\site-packages\\ipykernel_launcher.py:43: WavFileWarning: Chunk (non-data) not understood, skipping it.\n"
     ]
    },
    {
     "name": "stdout",
     "output_type": "stream",
     "text": [
      "Finished feature extraction from  374  files\n",
      "10.435138731666665\n"
     ]
    }
   ],
   "source": [
    "inicio = default_timer()\n",
    "\n",
    "featuresdf_EMODB_90_test_014=extract_features_test_EMODB()\n",
    "\n",
    "featuresdf_EMODB_90_train_014=extract_features_train_EMODB()\n",
    "\n",
    "fin = default_timer()\n",
    "print((fin - inicio)/60) "
   ]
  },
  {
   "cell_type": "code",
   "execution_count": 48,
   "metadata": {},
   "outputs": [
    {
     "name": "stdout",
     "output_type": "stream",
     "text": [
      "Finished feature extraction from  161  files\n"
     ]
    },
    {
     "name": "stderr",
     "output_type": "stream",
     "text": [
      "C:\\ProgramData\\Anaconda3\\lib\\site-packages\\ipykernel_launcher.py:43: WavFileWarning: Chunk (non-data) not understood, skipping it.\n"
     ]
    },
    {
     "name": "stdout",
     "output_type": "stream",
     "text": [
      "Finished feature extraction from  374  files\n",
      "9.688671823333303\n"
     ]
    }
   ],
   "source": [
    "inicio = default_timer()\n",
    "\n",
    "featuresdf_EMODB_100_test_014=extract_features_test_EMODB()\n",
    "\n",
    "featuresdf_EMODB_100_train_014=extract_features_train_EMODB()\n",
    "\n",
    "fin = default_timer()\n",
    "print((fin - inicio)/60) "
   ]
  },
  {
   "cell_type": "code",
   "execution_count": 49,
   "metadata": {},
   "outputs": [
    {
     "name": "stdout",
     "output_type": "stream",
     "text": [
      "Stored 'featuresdf_EMODB_10_test_014' (DataFrame)\n",
      "Stored 'featuresdf_EMODB_10_train_014' (DataFrame)\n",
      "Stored 'featuresdf_EMODB_20_test_014' (DataFrame)\n",
      "Stored 'featuresdf_EMODB_20_train_014' (DataFrame)\n",
      "Stored 'featuresdf_EMODB_30_test_014' (DataFrame)\n",
      "Stored 'featuresdf_EMODB_30_train_014' (DataFrame)\n",
      "Stored 'featuresdf_EMODB_40_test_014' (DataFrame)\n",
      "Stored 'featuresdf_EMODB_40_train_014' (DataFrame)\n",
      "Stored 'featuresdf_EMODB_50_test_014' (DataFrame)\n",
      "Stored 'featuresdf_EMODB_50_train_014' (DataFrame)\n",
      "Stored 'featuresdf_EMODB_60_test_014' (DataFrame)\n",
      "Stored 'featuresdf_EMODB_60_train_014' (DataFrame)\n",
      "Stored 'featuresdf_EMODB_70_test_014' (DataFrame)\n",
      "Stored 'featuresdf_EMODB_70_train_014' (DataFrame)\n",
      "Stored 'featuresdf_EMODB_80_test_014' (DataFrame)\n",
      "Stored 'featuresdf_EMODB_80_train_014' (DataFrame)\n",
      "Stored 'featuresdf_EMODB_90_test_014' (DataFrame)\n",
      "Stored 'featuresdf_EMODB_90_train_014' (DataFrame)\n",
      "Stored 'featuresdf_EMODB_100_test_014' (DataFrame)\n",
      "Stored 'featuresdf_EMODB_100_train_014' (DataFrame)\n"
     ]
    }
   ],
   "source": [
    "%store featuresdf_EMODB_10_test_014\n",
    "%store featuresdf_EMODB_10_train_014\n",
    "%store featuresdf_EMODB_20_test_014\n",
    "%store featuresdf_EMODB_20_train_014\n",
    "%store featuresdf_EMODB_30_test_014\n",
    "%store featuresdf_EMODB_30_train_014\n",
    "%store featuresdf_EMODB_40_test_014\n",
    "%store featuresdf_EMODB_40_train_014\n",
    "%store featuresdf_EMODB_50_test_014\n",
    "%store featuresdf_EMODB_50_train_014\n",
    "%store featuresdf_EMODB_60_test_014\n",
    "%store featuresdf_EMODB_60_train_014\n",
    "%store featuresdf_EMODB_70_test_014\n",
    "%store featuresdf_EMODB_70_train_014\n",
    "%store featuresdf_EMODB_80_test_014\n",
    "%store featuresdf_EMODB_80_train_014\n",
    "%store featuresdf_EMODB_90_test_014\n",
    "%store featuresdf_EMODB_90_train_014\n",
    "%store featuresdf_EMODB_100_test_014\n",
    "%store featuresdf_EMODB_100_train_014"
   ]
  },
  {
   "cell_type": "code",
   "execution_count": 52,
   "metadata": {
    "collapsed": true
   },
   "outputs": [
    {
     "name": "stderr",
     "output_type": "stream",
     "text": [
      "C:\\ProgramData\\Anaconda3\\lib\\site-packages\\ipykernel_launcher.py:246: RuntimeWarning: invalid value encountered in true_divide\n"
     ]
    },
    {
     "ename": "KeyboardInterrupt",
     "evalue": "",
     "output_type": "error",
     "traceback": [
      "\u001b[1;31m---------------------------------------------------------------------------\u001b[0m",
      "\u001b[1;31mKeyboardInterrupt\u001b[0m                         Traceback (most recent call last)",
      "\u001b[1;32m<ipython-input-52-6d9363ef06f9>\u001b[0m in \u001b[0;36m<module>\u001b[1;34m\u001b[0m\n\u001b[0;32m      1\u001b[0m \u001b[0minicio\u001b[0m \u001b[1;33m=\u001b[0m \u001b[0mdefault_timer\u001b[0m\u001b[1;33m(\u001b[0m\u001b[1;33m)\u001b[0m\u001b[1;33m\u001b[0m\u001b[1;33m\u001b[0m\u001b[0m\n\u001b[0;32m      2\u001b[0m \u001b[1;33m\u001b[0m\u001b[0m\n\u001b[1;32m----> 3\u001b[1;33m \u001b[0mfeaturesdf_EMODB_10_test_015\u001b[0m\u001b[1;33m=\u001b[0m\u001b[0mextract_features_test_EMODB\u001b[0m\u001b[1;33m(\u001b[0m\u001b[1;33m)\u001b[0m\u001b[1;33m\u001b[0m\u001b[1;33m\u001b[0m\u001b[0m\n\u001b[0m\u001b[0;32m      4\u001b[0m \u001b[1;33m\u001b[0m\u001b[0m\n\u001b[0;32m      5\u001b[0m \u001b[0mfeaturesdf_EMODB_10_train_015\u001b[0m\u001b[1;33m=\u001b[0m\u001b[0mextract_features_train_EMODB\u001b[0m\u001b[1;33m(\u001b[0m\u001b[1;33m)\u001b[0m\u001b[1;33m\u001b[0m\u001b[1;33m\u001b[0m\u001b[0m\n",
      "\u001b[1;32m<ipython-input-7-a1823a7e80da>\u001b[0m in \u001b[0;36mextract_features_test_EMODB\u001b[1;34m()\u001b[0m\n\u001b[0;32m     17\u001b[0m             \u001b[0mclass_label\u001b[0m \u001b[1;33m=\u001b[0m \u001b[0mrow\u001b[0m\u001b[1;33m[\u001b[0m\u001b[1;34m\"class_name\"\u001b[0m\u001b[1;33m]\u001b[0m\u001b[1;33m\u001b[0m\u001b[1;33m\u001b[0m\u001b[0m\n\u001b[0;32m     18\u001b[0m             \u001b[1;32mif\u001b[0m \u001b[0mrow\u001b[0m\u001b[1;33m[\u001b[0m\u001b[1;34m\"if\"\u001b[0m\u001b[1;33m]\u001b[0m \u001b[1;33m==\u001b[0m \u001b[1;34m\"test\"\u001b[0m \u001b[1;33m:\u001b[0m\u001b[1;33m\u001b[0m\u001b[1;33m\u001b[0m\u001b[0m\n\u001b[1;32m---> 19\u001b[1;33m                 \u001b[0mdata\u001b[0m \u001b[1;33m=\u001b[0m \u001b[0mmult_spect_ent_coef_corr\u001b[0m\u001b[1;33m(\u001b[0m\u001b[0mfile_name\u001b[0m\u001b[1;33m)\u001b[0m\u001b[1;33m\u001b[0m\u001b[1;33m\u001b[0m\u001b[0m\n\u001b[0m\u001b[0;32m     20\u001b[0m                 \u001b[0mfeatures\u001b[0m\u001b[1;33m.\u001b[0m\u001b[0mappend\u001b[0m\u001b[1;33m(\u001b[0m\u001b[1;33m[\u001b[0m\u001b[0mdata\u001b[0m\u001b[1;33m.\u001b[0m\u001b[0mmsesscalade\u001b[0m\u001b[1;33m,\u001b[0m \u001b[0mclass_label\u001b[0m\u001b[1;33m]\u001b[0m\u001b[1;33m)\u001b[0m\u001b[1;33m\u001b[0m\u001b[1;33m\u001b[0m\u001b[0m\n\u001b[0;32m     21\u001b[0m \u001b[1;33m\u001b[0m\u001b[0m\n",
      "\u001b[1;32m<ipython-input-50-e1c528011f7d>\u001b[0m in \u001b[0;36m__init__\u001b[1;34m(self, filename)\u001b[0m\n\u001b[0;32m     58\u001b[0m         \u001b[0mself\u001b[0m\u001b[1;33m.\u001b[0m\u001b[0mmel_freqs\u001b[0m \u001b[1;33m=\u001b[0m \u001b[0mself\u001b[0m\u001b[1;33m.\u001b[0m\u001b[0m__Mel_Freqs\u001b[0m\u001b[1;33m(\u001b[0m\u001b[1;33m)\u001b[0m\u001b[1;33m\u001b[0m\u001b[1;33m\u001b[0m\u001b[0m\n\u001b[0;32m     59\u001b[0m         \u001b[0mself\u001b[0m\u001b[1;33m.\u001b[0m\u001b[0mmel_filter_bank\u001b[0m \u001b[1;33m=\u001b[0m \u001b[0mself\u001b[0m\u001b[1;33m.\u001b[0m\u001b[0m__Mel_Filter\u001b[0m\u001b[1;33m(\u001b[0m\u001b[1;33m)\u001b[0m\u001b[1;33m\u001b[0m\u001b[1;33m\u001b[0m\u001b[0m\n\u001b[1;32m---> 60\u001b[1;33m         \u001b[0mself\u001b[0m\u001b[1;33m.\u001b[0m\u001b[0mcoef\u001b[0m\u001b[1;33m,\u001b[0m \u001b[0mself\u001b[0m\u001b[1;33m.\u001b[0m\u001b[0mnl\u001b[0m \u001b[1;33m=\u001b[0m \u001b[0mself\u001b[0m\u001b[1;33m.\u001b[0m\u001b[0m__MSES_Coef\u001b[0m\u001b[1;33m(\u001b[0m\u001b[1;33m)\u001b[0m\u001b[1;33m\u001b[0m\u001b[1;33m\u001b[0m\u001b[0m\n\u001b[0m\u001b[0;32m     61\u001b[0m         \u001b[0mself\u001b[0m\u001b[1;33m.\u001b[0m\u001b[0mmsesscalade\u001b[0m \u001b[1;33m=\u001b[0m \u001b[0mnp\u001b[0m\u001b[1;33m.\u001b[0m\u001b[0mmean\u001b[0m\u001b[1;33m(\u001b[0m\u001b[0mself\u001b[0m\u001b[1;33m.\u001b[0m\u001b[0mcoef\u001b[0m\u001b[1;33m.\u001b[0m\u001b[0mT\u001b[0m\u001b[1;33m,\u001b[0m \u001b[0maxis\u001b[0m\u001b[1;33m=\u001b[0m\u001b[1;36m0\u001b[0m\u001b[1;33m)\u001b[0m\u001b[1;33m\u001b[0m\u001b[1;33m\u001b[0m\u001b[0m\n\u001b[0;32m     62\u001b[0m         \u001b[1;31m#np.savetxt(\"mfcc_features.txt\", self.coef[:,0:self.nl],  delimiter=\",\", fmt=\"%f\")\u001b[0m\u001b[1;33m\u001b[0m\u001b[1;33m\u001b[0m\u001b[1;33m\u001b[0m\u001b[0m\n",
      "\u001b[1;32m<ipython-input-50-e1c528011f7d>\u001b[0m in \u001b[0;36m__MSES_Coef\u001b[1;34m(self)\u001b[0m\n\u001b[0;32m    244\u001b[0m                     \u001b[0msum_band\u001b[0m \u001b[1;33m=\u001b[0m \u001b[0mbands\u001b[0m\u001b[1;33m.\u001b[0m\u001b[0msum\u001b[0m\u001b[1;33m(\u001b[0m\u001b[1;36m1\u001b[0m\u001b[1;33m)\u001b[0m\u001b[1;33m\u001b[0m\u001b[1;33m\u001b[0m\u001b[0m\n\u001b[0;32m    245\u001b[0m                     \u001b[1;32mfor\u001b[0m \u001b[0mj\u001b[0m \u001b[1;32min\u001b[0m \u001b[0mrange\u001b[0m\u001b[1;33m(\u001b[0m\u001b[1;36m0\u001b[0m\u001b[1;33m,\u001b[0m\u001b[0mself\u001b[0m\u001b[1;33m.\u001b[0m\u001b[0mn_filters\u001b[0m\u001b[1;33m)\u001b[0m\u001b[1;33m:\u001b[0m\u001b[1;33m\u001b[0m\u001b[1;33m\u001b[0m\u001b[0m\n\u001b[1;32m--> 246\u001b[1;33m                         \u001b[0mpdf\u001b[0m\u001b[1;33m[\u001b[0m\u001b[0mj\u001b[0m\u001b[1;33m,\u001b[0m\u001b[1;33m:\u001b[0m\u001b[1;33m]\u001b[0m \u001b[1;33m=\u001b[0m \u001b[0mbands\u001b[0m\u001b[1;33m[\u001b[0m\u001b[0mj\u001b[0m\u001b[1;33m,\u001b[0m\u001b[1;33m:\u001b[0m\u001b[1;33m]\u001b[0m\u001b[1;33m/\u001b[0m\u001b[0msum_band\u001b[0m\u001b[1;33m[\u001b[0m\u001b[0mj\u001b[0m\u001b[1;33m]\u001b[0m\u001b[1;33m\u001b[0m\u001b[1;33m\u001b[0m\u001b[0m\n\u001b[0m\u001b[0;32m    247\u001b[0m                         \u001b[0msuma\u001b[0m \u001b[1;33m=\u001b[0m \u001b[1;36m0\u001b[0m\u001b[1;33m\u001b[0m\u001b[1;33m\u001b[0m\u001b[0m\n\u001b[0;32m    248\u001b[0m                         \u001b[1;32mfor\u001b[0m \u001b[0mk\u001b[0m \u001b[1;32min\u001b[0m \u001b[0mrange\u001b[0m\u001b[1;33m(\u001b[0m\u001b[1;36m0\u001b[0m\u001b[1;33m,\u001b[0m\u001b[0mint\u001b[0m\u001b[1;33m(\u001b[0m\u001b[0mself\u001b[0m\u001b[1;33m.\u001b[0m\u001b[0mhalf_n\u001b[0m\u001b[1;33m)\u001b[0m\u001b[1;33m)\u001b[0m\u001b[1;33m:\u001b[0m\u001b[1;33m\u001b[0m\u001b[1;33m\u001b[0m\u001b[0m\n",
      "\u001b[1;31mKeyboardInterrupt\u001b[0m: "
     ]
    }
   ],
   "source": [
    "inicio = default_timer()\n",
    "\n",
    "featuresdf_EMODB_10_test_015=extract_features_test_EMODB()\n",
    "\n",
    "featuresdf_EMODB_10_train_015=extract_features_train_EMODB()\n",
    "\n",
    "fin = default_timer()\n",
    "print((fin - inicio)/60)"
   ]
  },
  {
   "cell_type": "code",
   "execution_count": 54,
   "metadata": {},
   "outputs": [
    {
     "name": "stdout",
     "output_type": "stream",
     "text": [
      "Finished feature extraction from  161  files\n"
     ]
    },
    {
     "name": "stderr",
     "output_type": "stream",
     "text": [
      "C:\\ProgramData\\Anaconda3\\lib\\site-packages\\ipykernel_launcher.py:43: WavFileWarning: Chunk (non-data) not understood, skipping it.\n"
     ]
    },
    {
     "name": "stdout",
     "output_type": "stream",
     "text": [
      "Finished feature extraction from  374  files\n",
      "11.300452323333351\n"
     ]
    }
   ],
   "source": [
    "inicio = default_timer()\n",
    "\n",
    "featuresdf_EMODB_20_test_015=extract_features_test_EMODB()\n",
    "\n",
    "featuresdf_EMODB_20_train_015=extract_features_train_EMODB()\n",
    "\n",
    "fin = default_timer()\n",
    "print((fin - inicio)/60)"
   ]
  },
  {
   "cell_type": "code",
   "execution_count": 56,
   "metadata": {},
   "outputs": [
    {
     "name": "stdout",
     "output_type": "stream",
     "text": [
      "Finished feature extraction from  161  files\n"
     ]
    },
    {
     "name": "stderr",
     "output_type": "stream",
     "text": [
      "C:\\ProgramData\\Anaconda3\\lib\\site-packages\\ipykernel_launcher.py:43: WavFileWarning: Chunk (non-data) not understood, skipping it.\n"
     ]
    },
    {
     "name": "stdout",
     "output_type": "stream",
     "text": [
      "Finished feature extraction from  374  files\n",
      "10.251674705000005\n"
     ]
    }
   ],
   "source": [
    "inicio = default_timer()\n",
    "\n",
    "featuresdf_EMODB_30_test_015=extract_features_test_EMODB()\n",
    "\n",
    "featuresdf_EMODB_30_train_015=extract_features_train_EMODB()\n",
    "\n",
    "fin = default_timer()\n",
    "print((fin - inicio)/60)"
   ]
  },
  {
   "cell_type": "code",
   "execution_count": 58,
   "metadata": {},
   "outputs": [
    {
     "name": "stdout",
     "output_type": "stream",
     "text": [
      "Finished feature extraction from  161  files\n"
     ]
    },
    {
     "name": "stderr",
     "output_type": "stream",
     "text": [
      "C:\\ProgramData\\Anaconda3\\lib\\site-packages\\ipykernel_launcher.py:43: WavFileWarning: Chunk (non-data) not understood, skipping it.\n"
     ]
    },
    {
     "name": "stdout",
     "output_type": "stream",
     "text": [
      "Finished feature extraction from  374  files\n",
      "8.970603655000014\n"
     ]
    }
   ],
   "source": [
    "inicio = default_timer()\n",
    "\n",
    "featuresdf_EMODB_40_test_015=extract_features_test_EMODB()\n",
    "\n",
    "featuresdf_EMODB_40_train_015=extract_features_train_EMODB()\n",
    "\n",
    "fin = default_timer()\n",
    "print((fin - inicio)/60)"
   ]
  },
  {
   "cell_type": "code",
   "execution_count": 60,
   "metadata": {},
   "outputs": [
    {
     "name": "stdout",
     "output_type": "stream",
     "text": [
      "Finished feature extraction from  161  files\n"
     ]
    },
    {
     "name": "stderr",
     "output_type": "stream",
     "text": [
      "C:\\ProgramData\\Anaconda3\\lib\\site-packages\\ipykernel_launcher.py:43: WavFileWarning: Chunk (non-data) not understood, skipping it.\n"
     ]
    },
    {
     "name": "stdout",
     "output_type": "stream",
     "text": [
      "Finished feature extraction from  374  files\n",
      "7.712276791666712\n"
     ]
    }
   ],
   "source": [
    "inicio = default_timer()\n",
    "\n",
    "featuresdf_EMODB_50_test_015=extract_features_test_EMODB()\n",
    "\n",
    "featuresdf_EMODB_50_train_015=extract_features_train_EMODB()\n",
    "\n",
    "fin = default_timer()\n",
    "print((fin - inicio)/60)"
   ]
  },
  {
   "cell_type": "code",
   "execution_count": 62,
   "metadata": {},
   "outputs": [
    {
     "name": "stdout",
     "output_type": "stream",
     "text": [
      "Finished feature extraction from  161  files\n"
     ]
    },
    {
     "name": "stderr",
     "output_type": "stream",
     "text": [
      "C:\\ProgramData\\Anaconda3\\lib\\site-packages\\ipykernel_launcher.py:43: WavFileWarning: Chunk (non-data) not understood, skipping it.\n"
     ]
    },
    {
     "name": "stdout",
     "output_type": "stream",
     "text": [
      "Finished feature extraction from  374  files\n",
      "7.723662666666678\n"
     ]
    }
   ],
   "source": [
    "inicio = default_timer()\n",
    "\n",
    "featuresdf_EMODB_60_test_015=extract_features_test_EMODB()\n",
    "\n",
    "featuresdf_EMODB_60_train_015=extract_features_train_EMODB()\n",
    "\n",
    "fin = default_timer()\n",
    "print((fin - inicio)/60)"
   ]
  },
  {
   "cell_type": "code",
   "execution_count": 64,
   "metadata": {},
   "outputs": [
    {
     "name": "stdout",
     "output_type": "stream",
     "text": [
      "Finished feature extraction from  161  files\n"
     ]
    },
    {
     "name": "stderr",
     "output_type": "stream",
     "text": [
      "C:\\ProgramData\\Anaconda3\\lib\\site-packages\\ipykernel_launcher.py:43: WavFileWarning: Chunk (non-data) not understood, skipping it.\n"
     ]
    },
    {
     "name": "stdout",
     "output_type": "stream",
     "text": [
      "Finished feature extraction from  374  files\n",
      "7.761090785000003\n"
     ]
    }
   ],
   "source": [
    "inicio = default_timer()\n",
    "\n",
    "featuresdf_EMODB_70_test_015=extract_features_test_EMODB()\n",
    "\n",
    "featuresdf_EMODB_70_train_015=extract_features_train_EMODB()\n",
    "\n",
    "fin = default_timer()\n",
    "print((fin - inicio)/60)"
   ]
  },
  {
   "cell_type": "code",
   "execution_count": 7,
   "metadata": {},
   "outputs": [
    {
     "name": "stdout",
     "output_type": "stream",
     "text": [
      "Finished feature extraction from  161  files\n"
     ]
    },
    {
     "name": "stderr",
     "output_type": "stream",
     "text": [
      "C:\\ProgramData\\Anaconda3\\lib\\site-packages\\ipykernel_launcher.py:43: WavFileWarning: Chunk (non-data) not understood, skipping it.\n"
     ]
    },
    {
     "name": "stdout",
     "output_type": "stream",
     "text": [
      "Finished feature extraction from  374  files\n",
      "9.333913453333333\n"
     ]
    }
   ],
   "source": [
    "inicio = default_timer()\n",
    "\n",
    "featuresdf_EMODB_80_test_015=extract_features_test_EMODB()\n",
    "\n",
    "featuresdf_EMODB_80_train_015=extract_features_train_EMODB()\n",
    "\n",
    "fin = default_timer()\n",
    "print((fin - inicio)/60)"
   ]
  },
  {
   "cell_type": "code",
   "execution_count": 9,
   "metadata": {},
   "outputs": [
    {
     "name": "stdout",
     "output_type": "stream",
     "text": [
      "Finished feature extraction from  161  files\n"
     ]
    },
    {
     "name": "stderr",
     "output_type": "stream",
     "text": [
      "C:\\ProgramData\\Anaconda3\\lib\\site-packages\\ipykernel_launcher.py:43: WavFileWarning: Chunk (non-data) not understood, skipping it.\n"
     ]
    },
    {
     "name": "stdout",
     "output_type": "stream",
     "text": [
      "Finished feature extraction from  374  files\n",
      "9.22588232\n"
     ]
    }
   ],
   "source": [
    "inicio = default_timer()\n",
    "\n",
    "featuresdf_EMODB_90_test_015=extract_features_test_EMODB()\n",
    "\n",
    "featuresdf_EMODB_90_train_015=extract_features_train_EMODB()\n",
    "\n",
    "fin = default_timer()\n",
    "print((fin - inicio)/60)"
   ]
  },
  {
   "cell_type": "code",
   "execution_count": 11,
   "metadata": {},
   "outputs": [
    {
     "name": "stdout",
     "output_type": "stream",
     "text": [
      "Finished feature extraction from  161  files\n"
     ]
    },
    {
     "name": "stderr",
     "output_type": "stream",
     "text": [
      "C:\\ProgramData\\Anaconda3\\lib\\site-packages\\ipykernel_launcher.py:43: WavFileWarning: Chunk (non-data) not understood, skipping it.\n"
     ]
    },
    {
     "name": "stdout",
     "output_type": "stream",
     "text": [
      "Finished feature extraction from  374  files\n",
      "7.67571006666667\n"
     ]
    }
   ],
   "source": [
    "inicio = default_timer()\n",
    "\n",
    "featuresdf_EMODB_100_test_015=extract_features_test_EMODB()\n",
    "\n",
    "featuresdf_EMODB_100_train_015=extract_features_train_EMODB()\n",
    "\n",
    "fin = default_timer()\n",
    "print((fin - inicio)/60)"
   ]
  },
  {
   "cell_type": "code",
   "execution_count": 12,
   "metadata": {},
   "outputs": [
    {
     "name": "stdout",
     "output_type": "stream",
     "text": [
      "Stored 'featuresdf_EMODB_80_test_015' (DataFrame)\n",
      "Stored 'featuresdf_EMODB_80_train_015' (DataFrame)\n",
      "Stored 'featuresdf_EMODB_90_test_015' (DataFrame)\n",
      "Stored 'featuresdf_EMODB_90_train_015' (DataFrame)\n",
      "Stored 'featuresdf_EMODB_100_test_015' (DataFrame)\n",
      "Stored 'featuresdf_EMODB_100_train_015' (DataFrame)\n"
     ]
    }
   ],
   "source": [
    "'''\n",
    "%store featuresdf_EMODB_10_test_015\n",
    "%store featuresdf_EMODB_10_train_015\n",
    "%store featuresdf_EMODB_20_test_015\n",
    "%store featuresdf_EMODB_20_train_015\n",
    "%store featuresdf_EMODB_30_test_015\n",
    "%store featuresdf_EMODB_30_train_015\n",
    "%store featuresdf_EMODB_40_test_015\n",
    "%store featuresdf_EMODB_40_train_015\n",
    "%store featuresdf_EMODB_50_test_015\n",
    "%store featuresdf_EMODB_50_train_015\n",
    "%store featuresdf_EMODB_60_test_015\n",
    "%store featuresdf_EMODB_60_train_015\n",
    "%store featuresdf_EMODB_70_test_015\n",
    "%store featuresdf_EMODB_70_train_015\n",
    "'''\n",
    "%store featuresdf_EMODB_80_test_015\n",
    "%store featuresdf_EMODB_80_train_015\n",
    "%store featuresdf_EMODB_90_test_015\n",
    "%store featuresdf_EMODB_90_train_015\n",
    "%store featuresdf_EMODB_100_test_015\n",
    "%store featuresdf_EMODB_100_train_015"
   ]
  },
  {
   "cell_type": "code",
   "execution_count": 14,
   "metadata": {},
   "outputs": [
    {
     "name": "stdout",
     "output_type": "stream",
     "text": [
      "Finished feature extraction from  161  files\n"
     ]
    },
    {
     "name": "stderr",
     "output_type": "stream",
     "text": [
      "C:\\ProgramData\\Anaconda3\\lib\\site-packages\\ipykernel_launcher.py:43: WavFileWarning: Chunk (non-data) not understood, skipping it.\n"
     ]
    },
    {
     "name": "stdout",
     "output_type": "stream",
     "text": [
      "Finished feature extraction from  374  files\n",
      "17.75124199\n"
     ]
    }
   ],
   "source": [
    "inicio = default_timer()\n",
    "\n",
    "featuresdf_EMODB_10_test_016=extract_features_test_EMODB()\n",
    "\n",
    "featuresdf_EMODB_10_train_016=extract_features_train_EMODB()\n",
    "\n",
    "fin = default_timer()\n",
    "print((fin - inicio)/60)"
   ]
  },
  {
   "cell_type": "code",
   "execution_count": 16,
   "metadata": {},
   "outputs": [
    {
     "name": "stdout",
     "output_type": "stream",
     "text": [
      "Finished feature extraction from  161  files\n"
     ]
    },
    {
     "name": "stderr",
     "output_type": "stream",
     "text": [
      "C:\\ProgramData\\Anaconda3\\lib\\site-packages\\ipykernel_launcher.py:43: WavFileWarning: Chunk (non-data) not understood, skipping it.\n"
     ]
    },
    {
     "name": "stdout",
     "output_type": "stream",
     "text": [
      "Finished feature extraction from  374  files\n",
      "13.411131556666653\n"
     ]
    }
   ],
   "source": [
    "inicio = default_timer()\n",
    "\n",
    "featuresdf_EMODB_20_test_016=extract_features_test_EMODB()\n",
    "\n",
    "featuresdf_EMODB_20_train_016=extract_features_train_EMODB()\n",
    "\n",
    "fin = default_timer()\n",
    "print((fin - inicio)/60)"
   ]
  },
  {
   "cell_type": "code",
   "execution_count": 18,
   "metadata": {},
   "outputs": [
    {
     "name": "stdout",
     "output_type": "stream",
     "text": [
      "Finished feature extraction from  161  files\n"
     ]
    },
    {
     "name": "stderr",
     "output_type": "stream",
     "text": [
      "C:\\ProgramData\\Anaconda3\\lib\\site-packages\\ipykernel_launcher.py:43: WavFileWarning: Chunk (non-data) not understood, skipping it.\n"
     ]
    },
    {
     "name": "stdout",
     "output_type": "stream",
     "text": [
      "Finished feature extraction from  374  files\n",
      "11.11817623500001\n"
     ]
    }
   ],
   "source": [
    "inicio = default_timer()\n",
    "\n",
    "featuresdf_EMODB_30_test_016=extract_features_test_EMODB()\n",
    "\n",
    "featuresdf_EMODB_30_train_016=extract_features_train_EMODB()\n",
    "\n",
    "fin = default_timer()\n",
    "print((fin - inicio)/60)"
   ]
  },
  {
   "cell_type": "code",
   "execution_count": 20,
   "metadata": {},
   "outputs": [
    {
     "name": "stdout",
     "output_type": "stream",
     "text": [
      "Finished feature extraction from  161  files\n"
     ]
    },
    {
     "name": "stderr",
     "output_type": "stream",
     "text": [
      "C:\\ProgramData\\Anaconda3\\lib\\site-packages\\ipykernel_launcher.py:43: WavFileWarning: Chunk (non-data) not understood, skipping it.\n"
     ]
    },
    {
     "name": "stdout",
     "output_type": "stream",
     "text": [
      "Finished feature extraction from  374  files\n",
      "11.696617203333336\n"
     ]
    }
   ],
   "source": [
    "inicio = default_timer()\n",
    "\n",
    "featuresdf_EMODB_40_test_016=extract_features_test_EMODB()\n",
    "\n",
    "featuresdf_EMODB_40_train_016=extract_features_train_EMODB()\n",
    "\n",
    "fin = default_timer()\n",
    "print((fin - inicio)/60)"
   ]
  },
  {
   "cell_type": "code",
   "execution_count": 22,
   "metadata": {},
   "outputs": [
    {
     "name": "stdout",
     "output_type": "stream",
     "text": [
      "Finished feature extraction from  161  files\n"
     ]
    },
    {
     "name": "stderr",
     "output_type": "stream",
     "text": [
      "C:\\ProgramData\\Anaconda3\\lib\\site-packages\\ipykernel_launcher.py:43: WavFileWarning: Chunk (non-data) not understood, skipping it.\n"
     ]
    },
    {
     "name": "stdout",
     "output_type": "stream",
     "text": [
      "Finished feature extraction from  374  files\n",
      "10.723072003333346\n"
     ]
    }
   ],
   "source": [
    "inicio = default_timer()\n",
    "\n",
    "featuresdf_EMODB_50_test_016=extract_features_test_EMODB()\n",
    "\n",
    "featuresdf_EMODB_50_train_016=extract_features_train_EMODB()\n",
    "\n",
    "fin = default_timer()\n",
    "print((fin - inicio)/60)"
   ]
  },
  {
   "cell_type": "code",
   "execution_count": 24,
   "metadata": {},
   "outputs": [
    {
     "name": "stdout",
     "output_type": "stream",
     "text": [
      "Finished feature extraction from  161  files\n"
     ]
    },
    {
     "name": "stderr",
     "output_type": "stream",
     "text": [
      "C:\\ProgramData\\Anaconda3\\lib\\site-packages\\ipykernel_launcher.py:43: WavFileWarning: Chunk (non-data) not understood, skipping it.\n"
     ]
    },
    {
     "name": "stdout",
     "output_type": "stream",
     "text": [
      "Finished feature extraction from  374  files\n",
      "13.15565386833332\n"
     ]
    }
   ],
   "source": [
    "inicio = default_timer()\n",
    "\n",
    "featuresdf_EMODB_60_test_016=extract_features_test_EMODB()\n",
    "\n",
    "featuresdf_EMODB_60_train_016=extract_features_train_EMODB()\n",
    "\n",
    "fin = default_timer()\n",
    "print((fin - inicio)/60)"
   ]
  },
  {
   "cell_type": "code",
   "execution_count": 26,
   "metadata": {},
   "outputs": [
    {
     "name": "stdout",
     "output_type": "stream",
     "text": [
      "Finished feature extraction from  161  files\n"
     ]
    },
    {
     "name": "stderr",
     "output_type": "stream",
     "text": [
      "C:\\ProgramData\\Anaconda3\\lib\\site-packages\\ipykernel_launcher.py:43: WavFileWarning: Chunk (non-data) not understood, skipping it.\n"
     ]
    },
    {
     "name": "stdout",
     "output_type": "stream",
     "text": [
      "Finished feature extraction from  374  files\n",
      "11.226318938333346\n"
     ]
    }
   ],
   "source": [
    "inicio = default_timer()\n",
    "\n",
    "featuresdf_EMODB_70_test_016=extract_features_test_EMODB()\n",
    "\n",
    "featuresdf_EMODB_70_train_016=extract_features_train_EMODB()\n",
    "\n",
    "fin = default_timer()\n",
    "print((fin - inicio)/60)"
   ]
  },
  {
   "cell_type": "code",
   "execution_count": 28,
   "metadata": {},
   "outputs": [
    {
     "name": "stdout",
     "output_type": "stream",
     "text": [
      "Finished feature extraction from  161  files\n"
     ]
    },
    {
     "name": "stderr",
     "output_type": "stream",
     "text": [
      "C:\\ProgramData\\Anaconda3\\lib\\site-packages\\ipykernel_launcher.py:43: WavFileWarning: Chunk (non-data) not understood, skipping it.\n"
     ]
    },
    {
     "name": "stdout",
     "output_type": "stream",
     "text": [
      "Finished feature extraction from  374  files\n",
      "10.473854315000002\n"
     ]
    }
   ],
   "source": [
    "inicio = default_timer()\n",
    "\n",
    "featuresdf_EMODB_80_test_016=extract_features_test_EMODB()\n",
    "\n",
    "featuresdf_EMODB_80_train_016=extract_features_train_EMODB()\n",
    "\n",
    "fin = default_timer()\n",
    "print((fin - inicio)/60)"
   ]
  },
  {
   "cell_type": "code",
   "execution_count": 30,
   "metadata": {},
   "outputs": [
    {
     "name": "stdout",
     "output_type": "stream",
     "text": [
      "Finished feature extraction from  161  files\n"
     ]
    },
    {
     "name": "stderr",
     "output_type": "stream",
     "text": [
      "C:\\ProgramData\\Anaconda3\\lib\\site-packages\\ipykernel_launcher.py:43: WavFileWarning: Chunk (non-data) not understood, skipping it.\n"
     ]
    },
    {
     "name": "stdout",
     "output_type": "stream",
     "text": [
      "Finished feature extraction from  374  files\n",
      "10.415223575000043\n"
     ]
    }
   ],
   "source": [
    "inicio = default_timer()\n",
    "\n",
    "featuresdf_EMODB_90_test_016=extract_features_test_EMODB()\n",
    "\n",
    "featuresdf_EMODB_90_train_016=extract_features_train_EMODB()\n",
    "\n",
    "fin = default_timer()\n",
    "print((fin - inicio)/60)"
   ]
  },
  {
   "cell_type": "code",
   "execution_count": 32,
   "metadata": {},
   "outputs": [
    {
     "name": "stdout",
     "output_type": "stream",
     "text": [
      "Finished feature extraction from  161  files\n"
     ]
    },
    {
     "name": "stderr",
     "output_type": "stream",
     "text": [
      "C:\\ProgramData\\Anaconda3\\lib\\site-packages\\ipykernel_launcher.py:43: WavFileWarning: Chunk (non-data) not understood, skipping it.\n"
     ]
    },
    {
     "name": "stdout",
     "output_type": "stream",
     "text": [
      "Finished feature extraction from  374  files\n",
      "11.052870753333325\n"
     ]
    }
   ],
   "source": [
    "inicio = default_timer()\n",
    "\n",
    "featuresdf_EMODB_100_test_016=extract_features_test_EMODB()\n",
    "\n",
    "featuresdf_EMODB_100_train_016=extract_features_train_EMODB()\n",
    "\n",
    "fin = default_timer()\n",
    "print((fin - inicio)/60)"
   ]
  },
  {
   "cell_type": "code",
   "execution_count": 33,
   "metadata": {},
   "outputs": [
    {
     "name": "stdout",
     "output_type": "stream",
     "text": [
      "Stored 'featuresdf_EMODB_10_test_016' (DataFrame)\n",
      "Stored 'featuresdf_EMODB_10_train_016' (DataFrame)\n",
      "Stored 'featuresdf_EMODB_20_test_016' (DataFrame)\n",
      "Stored 'featuresdf_EMODB_20_train_016' (DataFrame)\n",
      "Stored 'featuresdf_EMODB_30_test_016' (DataFrame)\n",
      "Stored 'featuresdf_EMODB_30_train_016' (DataFrame)\n",
      "Stored 'featuresdf_EMODB_40_test_016' (DataFrame)\n",
      "Stored 'featuresdf_EMODB_40_train_016' (DataFrame)\n",
      "Stored 'featuresdf_EMODB_50_test_016' (DataFrame)\n",
      "Stored 'featuresdf_EMODB_50_train_016' (DataFrame)\n",
      "Stored 'featuresdf_EMODB_60_test_016' (DataFrame)\n",
      "Stored 'featuresdf_EMODB_60_train_016' (DataFrame)\n",
      "Stored 'featuresdf_EMODB_70_test_016' (DataFrame)\n",
      "Stored 'featuresdf_EMODB_70_train_016' (DataFrame)\n",
      "Stored 'featuresdf_EMODB_80_test_016' (DataFrame)\n",
      "Stored 'featuresdf_EMODB_80_train_016' (DataFrame)\n",
      "Stored 'featuresdf_EMODB_90_test_016' (DataFrame)\n",
      "Stored 'featuresdf_EMODB_90_train_016' (DataFrame)\n",
      "Stored 'featuresdf_EMODB_100_test_016' (DataFrame)\n",
      "Stored 'featuresdf_EMODB_100_train_016' (DataFrame)\n"
     ]
    }
   ],
   "source": [
    "%store featuresdf_EMODB_10_test_016\n",
    "%store featuresdf_EMODB_10_train_016\n",
    "%store featuresdf_EMODB_20_test_016\n",
    "%store featuresdf_EMODB_20_train_016\n",
    "%store featuresdf_EMODB_30_test_016\n",
    "%store featuresdf_EMODB_30_train_016\n",
    "%store featuresdf_EMODB_40_test_016\n",
    "%store featuresdf_EMODB_40_train_016\n",
    "%store featuresdf_EMODB_50_test_016\n",
    "%store featuresdf_EMODB_50_train_016\n",
    "%store featuresdf_EMODB_60_test_016\n",
    "%store featuresdf_EMODB_60_train_016\n",
    "%store featuresdf_EMODB_70_test_016\n",
    "%store featuresdf_EMODB_70_train_016\n",
    "%store featuresdf_EMODB_80_test_016\n",
    "%store featuresdf_EMODB_80_train_016\n",
    "%store featuresdf_EMODB_90_test_016\n",
    "%store featuresdf_EMODB_90_train_016\n",
    "%store featuresdf_EMODB_100_test_016\n",
    "%store featuresdf_EMODB_100_train_016"
   ]
  },
  {
   "cell_type": "code",
   "execution_count": 31,
   "metadata": {},
   "outputs": [],
   "source": [
    "# -*- coding: utf-8 -*-\n",
    "\"\"\"\n",
    "Programa para extraer las firmas de audio de archivos contenidos en un directorio\n",
    "Created on Mon Jul 27 12:56:21 2020\n",
    "@author: alain\n",
    "\"\"\"\n",
    "\n",
    "import os\n",
    "import matplotlib.pyplot as plt\n",
    "import scipy.io.wavfile as rd\n",
    "import scipy.fftpack as fourier\n",
    "import scipy.signal as sg\n",
    "import numpy as np\n",
    "import math \n",
    "import csv\n",
    "\n",
    "\n",
    "###############################################################################\n",
    "\n",
    "###############################################################################\n",
    "class mult_spect_ent_coef_corr:\n",
    "    def __init__(self,filename):\n",
    "        #---------------------------CONFIGURACIÓN DEL EXPERIMENTO----------------------------\n",
    "        #Tamaño de frame en segundos\n",
    "        frame = 0.1\n",
    "        #Porcentaje de traslape\n",
    "        overlap = 50\n",
    "        #Constante de preénfasis\n",
    "        self.preemphasis = 0.97\n",
    "        #Tipo de ventana\n",
    "        self.window = 2\n",
    "        #Frecuencia mínima\n",
    "        self.f_min = 0\n",
    "        #número de filtros en el banco\n",
    "        self.n_filters = 22\n",
    "        #Número de coeficientes mfcc\n",
    "        self.n_mses = 24\n",
    "        #Normalización\n",
    "        self.norm = 1\n",
    "        #Tipo de Análisis\n",
    "        self.type_ent = 1\n",
    "        #Lee archivo de audio\n",
    "        self.fs, signal = rd.read(filename)\n",
    "        #Volumen\n",
    "        #signal = signal * volumen\n",
    "        #Frecuencia máxima\n",
    "        self.f_max = self.fs/2.0\n",
    "        \n",
    "        self.audio = signal/32767\n",
    "        self.audio_length = len(signal)\n",
    "        self.frame_size = np.fix(frame*self.fs)\n",
    "        self.overlap_size = np.fix(self.frame_size - self.frame_size*(overlap/100.0))\n",
    "        self.n_frames = self.__Frames()\n",
    "        self.audio_avg = self.__Stereo()\n",
    "        self.half_n = np.fix(self.frame_size/2.0)\n",
    "        self.window_data = self.__Window()\n",
    "        self.freqs = self.__Freqs()\n",
    "        self.mel_freqs = self.__Mel_Freqs()\n",
    "        self.mel_filter_bank = self.__Mel_Filter()\n",
    "        self.coef, self.nl = self.__MSES_Coef()\n",
    "        self.msesscalade = np.mean(self.coef.T, axis=0)\n",
    "        #np.savetxt(\"mfcc_features.txt\", self.coef[:,0:self.nl],  delimiter=\",\", fmt=\"%f\")\n",
    "    \n",
    "    #Convierte señales estereofónicas a monoaurales\n",
    "    def __Stereo(self):\n",
    "        n_channel = len(np.shape(self.audio))\n",
    "        if n_channel > 1:\n",
    "            temp_1 = self.audio[:,0]\n",
    "            temp_2 = self.audio[:,1]\n",
    "            avg = (temp_1 + temp_2)/2\n",
    "        else:\n",
    "            avg = self.audio\n",
    "       \n",
    "        #Aplica filtro de preénfasis\n",
    "        if self.preemphasis != 0.0:\n",
    "            Avg = np.zeros(len(avg))    \n",
    "            Avg[0] = avg[0]\n",
    "            for n in range(1,len(avg)):\n",
    "                Avg[n] = avg[n] - self.preemphasis*avg[n-1]\n",
    "            return Avg\n",
    "        else:\n",
    "            return avg\n",
    "            \n",
    "    #Determina número de frames para analizar\n",
    "    def __Frames(self):\n",
    "        i = 0\n",
    "        j = 0\n",
    "        while(j < self.audio_length):\n",
    "            j = i*self.overlap_size + self.frame_size\n",
    "            i = i + 1\n",
    "        return i - 1\n",
    "    \n",
    "    #Aplica ventana (Hann, Hamming, Box) a frame de la señal\n",
    "    def __Window(self):\n",
    "        n = np.arange(-self.half_n,self.half_n)\n",
    "        if len(n) != self.frame_size:\n",
    "            n = np.arange(-self.half_n,self.half_n+1)\n",
    "        \n",
    "        #Ventana Box\n",
    "        if self.window == 0:\n",
    "            W = np.ones(len(n))\n",
    "        \n",
    "        #Ventana Hamming\n",
    "        if self.window == 1:\n",
    "            a = 0.53836\n",
    "            b = 0.46164\n",
    "            W = np.array([])\n",
    "            for i in n:\n",
    "                W =np.append(W, a + b*math.cos((2*math.pi*i)/(self.frame_size - 1.0))) \n",
    "        \n",
    "        #Ventana Hann\n",
    "        if self.window == 2:\n",
    "            a = 0.5\n",
    "            b = 0.5\n",
    "            W = np.array([])\n",
    "            for i in n:\n",
    "                W = np.append(W, a + b*math.cos((2*math.pi*i)/(self.frame_size - 1.0)))        \n",
    "        return W\n",
    "    \n",
    "    #Calcula frecuencias en Hertz\n",
    "    def __Freqs(self):\n",
    "        n = np.arange(0,self.half_n)\n",
    "        f = np.array([])\n",
    "        for i in n:\n",
    "            f = np.append(f,(i*self.fs)/self.frame_size)\n",
    "        return f\n",
    "    \n",
    "    #Calcula frecuencias en escala de Mel\n",
    "    def __Mel_Freqs(self):\n",
    "        n = np.arange(0,self.half_n)\n",
    "        f = np.array([])\n",
    "        for i in n:\n",
    "            f = np.append(f,2595*np.log10(self.freqs[int(i)]/700+1))\n",
    "        return f\n",
    "    \n",
    "    #Genera banco de filtros triangulares \n",
    "    def __Mel_Filter(self):\n",
    "        Hkm = np.zeros((int(self.half_n),self.n_filters))\n",
    "        if self.type_ent == 0:\n",
    "            t_bin = int(np.round(int(self.half_n)/self.n_filters))\n",
    "            for i in range(0,self.n_filters):\n",
    "                j = i*t_bin\n",
    "                if i == self.n_filters-1:\n",
    "                    k = int(self.half_n)\n",
    "                else:\n",
    "                    k = i*t_bin + t_bin\n",
    "                \n",
    "                Hkm[j:k,i] = 1\n",
    "        \n",
    "        if self.type_ent == 1:\n",
    "            phi_min = 2595*math.log10(self.f_min/700+1)\n",
    "            phi_max = 2595*math.log10(self.f_max/700+1)\n",
    "            dphi = (phi_max - phi_min)/(self.n_filters+1)\n",
    "            fc = np.zeros(self.n_filters+2)\n",
    "            fc[0] = self.f_min\n",
    "            for i in range(1,len(fc)):\n",
    "                phic = (i-1)*dphi\n",
    "                fc[i-1] = 700*(math.pow(10,(phic + phi_min)/2595)-1)\n",
    "            fc[self.n_filters+1] = self.f_max\n",
    "            n = np.arange(0,self.half_n)\n",
    "            for i in range(1,self.n_filters+1):\n",
    "                for k in n:\n",
    "                    kk = int(k)\n",
    "                    if self.freqs[kk] < fc[i-1]:\n",
    "                        Hkm[kk,i-1] = 0\n",
    "                    if (self.freqs[kk] >= fc[i-1]) and (self.freqs[kk] < fc[i]):\n",
    "                        Hkm[kk,i-1] = (self.freqs[kk] - fc[i-1])/(fc[i] - fc[i-1])\n",
    "                    if (self.freqs[kk] >= fc[i]) and (self.freqs[kk] < fc[i+1]):\n",
    "                        Hkm[kk,i-1] = (self.freqs[kk] - fc[i+1])/(fc[i] - fc[i+1])\n",
    "                    if self.freqs[kk] >= fc[i+1]:\n",
    "                        Hkm[kk,i-1] = 0\n",
    "        return Hkm\n",
    "    \n",
    "    #Determina coeficientes de entropia    \n",
    "    def __MSES_Coef(self):\n",
    "        frame = np.zeros(int(self.frame_size))\n",
    "        self.energy = np.zeros((int(self.half_n),self.n_frames))\n",
    "        self.entropygram = np.zeros((self.n_filters,self.n_frames))\n",
    "        Xm = np.zeros(self.n_filters)\n",
    "        mses = np.zeros(self.n_mses) \n",
    "        wi = np.zeros(2*self.n_mses)\n",
    "        MSES = np.zeros((self.n_mses,self.n_frames))\n",
    "        band_real = np.zeros((self.n_filters,int(self.half_n)))\n",
    "        band_imag = np.zeros((self.n_filters,int(self.half_n))) \n",
    "        bands = np.zeros((self.n_filters,int(self.half_n)))   \n",
    "        pdf = np.zeros((self.n_filters,int(self.half_n)))  \n",
    "        \n",
    "        #Pesos para el proceso de liftering\n",
    "        for i in range(0,2*self.n_mses):\n",
    "            wi[i] = 1 + self.n_mses*np.sin(math.pi*i/(2*self.n_mses-1))\n",
    "            \n",
    "\n",
    "        \n",
    "        l = 0\n",
    "        #Análisis de frames\n",
    "        for i in range(0,int(self.n_frames)):\n",
    "            #Extrae frame de la señal\n",
    "            frame = self.audio_avg[i*int(self.overlap_size):i*int(self.overlap_size)+int(self.frame_size)]\n",
    "            \n",
    "            \n",
    "            #función de autocorrelación\n",
    "            acorr = np.correlate(frame,frame,mode='full')\n",
    "            m = np.amax(acorr[20:len(acorr)])\n",
    "            \n",
    "            #if m > 0.1:\n",
    "            if np.sum(frame)!=0:\n",
    "            \n",
    "\n",
    "                #Multiplica frame por ventana\n",
    "                frame = frame*self.window_data\n",
    "                #Extrae espectro de potencia \n",
    "                FFT = fourier.fft(frame)\n",
    "                P = np.abs(FFT)\n",
    "                #Determina espectrograma de la señal\n",
    "                self.energy[:,l] = 10*np.log10(P[0:int(self.half_n)]) \n",
    "                \n",
    "                #Separa parte real e imaginaria\n",
    "                if self.type_ent == 1:\n",
    "                    real = np.real(FFT)\n",
    "                    imag = np.imag(FFT)\n",
    "                        \n",
    "                \n",
    "                for j in range(0,self.n_filters):\n",
    "                    #Multiplica espectro de potencia por filtros triangulares\n",
    "                    if self.type_ent == 1:\n",
    "                        Ps_real = real[0:int(self.half_n)]*self.mel_filter_bank[:,j]\n",
    "                        Ps_imag = imag[0:int(self.half_n)]*self.mel_filter_bank[:,j]\n",
    "                    \n",
    "                    if self.type_ent == 0:\n",
    "                        Ps = P[0:int(self.half_n)]*self.mel_filter_bank[:,j]\n",
    "                    \n",
    "                    \n",
    "                    \n",
    "                    #Separa componentes espectrales por bandas\n",
    "                    if self.type_ent == 1:\n",
    "                        band_real[j,:] = Ps_real\n",
    "                        band_imag[j,:] = Ps_imag\n",
    "                    \n",
    "                    if self.type_ent == 0:\n",
    "                        bands[j,:] = Ps\n",
    "    \n",
    "                #Selecciona tipo de cómputo de entropía            \n",
    "                if self.type_ent == 0:\n",
    "                    sum_band = bands.sum(1)\n",
    "                    for j in range(0,self.n_filters):\n",
    "                        pdf[j,:] = bands[j,:]/sum_band[j]\n",
    "                        suma = 0\n",
    "                        for k in range(0,int(self.half_n)):\n",
    "                            if pdf[j,k] != 0:\n",
    "                                suma = suma + pdf[j,k]*np.log(pdf[j,k])\n",
    "                        Xm[j] = -suma\n",
    "                \n",
    "                if self.type_ent == 1:\n",
    "                    #Cuenta elementos por banda de frecuencia\n",
    "                    rows_count = (band_real != 0).sum(1)\n",
    "                    #Obtiene medias por bandas\n",
    "                    Mean_real = band_real.sum(1) / rows_count\n",
    "                    Mean_imag = band_imag.sum(1) / rows_count\n",
    "                    #Determina varianza, covarianza y entropía    \n",
    "                    for j in range(0,self.n_filters):\n",
    "                        suma_r = 0\n",
    "                        suma_i = 0\n",
    "                        suma = 0\n",
    "                        for k in range(0,int(self.half_n)):\n",
    "                            if band_real[j,k] != 0 and band_imag[j,k] != 0:\n",
    "                                suma_r = suma_r + (band_real[j,k]-Mean_real[j])*(band_real[j,k]-Mean_real[j])\n",
    "                                suma_i = suma_i + (band_imag[j,k]-Mean_imag[j])*(band_imag[j,k]-Mean_imag[j])\n",
    "                                suma = suma + (band_real[j,k]-Mean_real[j])*(band_imag[j,k]-Mean_imag[j])\n",
    "                        var_real = suma_r/rows_count[j]\n",
    "                        var_imag = suma_i/rows_count[j]\n",
    "                        cova = suma/rows_count[j]\n",
    "                                        \n",
    "                        Det = (var_real*var_imag) - (cova*cova)\n",
    "                        \n",
    "                        if Det <= 0:\n",
    "                            Det = 0\n",
    "                        else:\n",
    "                            Det = np.log(Det)\n",
    "                        Xm[j] = np.log(2*math.pi*np.exp(1)) + Det/2.0    \n",
    "                         \n",
    "                    \n",
    "                #Determina entropigrama de la señal\n",
    "                self.entropygram[:,l] = Xm\n",
    "                \n",
    "                #Aplica transformada coseno\n",
    "                for j in range(1,self.n_mses+1):\n",
    "                    suma = 0\n",
    "                    for k in range(1,self.n_filters+1):\n",
    "                        suma = suma + Xm[k-1]*np.cos(math.pi*j*(k-(1/2))/self.n_filters)\n",
    "                    mses[j-1] = suma \n",
    "                #Aplica proceso de liftering\n",
    "                mses = mses*wi[0:self.n_mses]\n",
    "                #Genera matriz de coeficientes mses\n",
    "                MSES[:,l] = mses\n",
    "                l = l + 1\n",
    "        \n",
    "        #Normaliza matriz de coeficientes mses\n",
    "        if self.norm == 1:            \n",
    "            MSES = (MSES - np.mean(MSES))/np.std(MSES)\n",
    "        return MSES,l"
   ]
  },
  {
   "cell_type": "code",
   "execution_count": 2,
   "metadata": {},
   "outputs": [],
   "source": [
    "def extract_features_train_EMODB():\n",
    "    \n",
    "    try:\n",
    "        # Set the path to the full EMODB dataset\n",
    "\n",
    "        fulldatasetpath = r'C:\\Users\\SACKRAY7\\Desktop\\Uni\\8vo\\TESIS\\retomando la tesis 23-06-2020\\Udacity-ML-Capstone-master\\Udacity-ML-Capstone-master\\EMODB - testSize 0.3\\audio'\n",
    "\n",
    "        metadata = pd.read_csv(r'C:\\Users\\SACKRAY7\\Desktop\\Uni\\8vo\\TESIS\\retomando la tesis 23-06-2020\\Udacity-ML-Capstone-master\\Udacity-ML-Capstone-master\\UrbanSound Dataset sample\\metadata\\EMODB4 - testSize 0.3.csv')\n",
    "\n",
    "        features = []\n",
    "\n",
    "        # Iterate through each sound file and extract the features \n",
    "        for index, row in metadata.iterrows():\n",
    "\n",
    "            file_name = os.path.join(os.path.abspath(fulldatasetpath),str(row[\"fold\"])+'/',str(row[\"slice_file_name\"]))\n",
    "\n",
    "            class_label = row[\"class_name\"]\n",
    "            if row[\"if\"] == \"train\" :\n",
    "                data = mult_spect_ent_coef_corr(file_name)\n",
    "                features.append([data.msesscalade, class_label])\n",
    "\n",
    "        # Convert into a Panda dataframe \n",
    "        featuresdf = pd.DataFrame(features, columns=['feature','class_label'])\n",
    "\n",
    "        print('Finished feature extraction from ', len(featuresdf), ' files') \n",
    "    except Exception as e:\n",
    "        print(\"Error encoutered while parsing file: \", file_name)\n",
    "        return None\n",
    "\n",
    "    return featuresdf"
   ]
  },
  {
   "cell_type": "code",
   "execution_count": 3,
   "metadata": {},
   "outputs": [],
   "source": [
    "def extract_features_test_EMODB():\n",
    "    \n",
    "    try:\n",
    "        # Set the path to the full EMODB dataset\n",
    "\n",
    "        fulldatasetpath = r'C:\\Users\\SACKRAY7\\Desktop\\Uni\\8vo\\TESIS\\retomando la tesis 23-06-2020\\Udacity-ML-Capstone-master\\Udacity-ML-Capstone-master\\EMODB - testSize 0.3\\audio'\n",
    "\n",
    "        metadata = pd.read_csv(r'C:\\Users\\SACKRAY7\\Desktop\\Uni\\8vo\\TESIS\\retomando la tesis 23-06-2020\\Udacity-ML-Capstone-master\\Udacity-ML-Capstone-master\\UrbanSound Dataset sample\\metadata\\EMODB4 - testSize 0.3.csv')\n",
    "\n",
    "        features = []\n",
    "\n",
    "        # Iterate through each sound file and extract the features \n",
    "        for index, row in metadata.iterrows():\n",
    "\n",
    "            file_name = os.path.join(os.path.abspath(fulldatasetpath),str(row[\"fold\"])+'/',str(row[\"slice_file_name\"]))\n",
    "\n",
    "            class_label = row[\"class_name\"]\n",
    "            if row[\"if\"] == \"test\" :\n",
    "                data = mult_spect_ent_coef_corr(file_name)\n",
    "                features.append([data.msesscalade, class_label])\n",
    "\n",
    "        # Convert into a Panda dataframe \n",
    "        featuresdf = pd.DataFrame(features, columns=['feature','class_label'])\n",
    "\n",
    "        print('Finished feature extraction from ', len(featuresdf), ' files') \n",
    "    except Exception as e:\n",
    "        print(\"Error encoutered while parsing file: \", file_name)\n",
    "        return None\n",
    "\n",
    "    return featuresdf"
   ]
  },
  {
   "cell_type": "code",
   "execution_count": 5,
   "metadata": {},
   "outputs": [],
   "source": [
    "import matplotlib.pyplot as plt\n",
    "import scipy.io.wavfile as rd\n",
    "import scipy.fftpack as fourier\n",
    "import scipy.signal as sg\n",
    "import numpy as np\n",
    "import math \n",
    "\n",
    "import pandas as pd\n",
    "import os\n",
    "import librosa\n",
    "from timeit import default_timer"
   ]
  }
 ],
 "metadata": {
  "kernelspec": {
   "display_name": "Python 3",
   "language": "python",
   "name": "python3"
  },
  "language_info": {
   "codemirror_mode": {
    "name": "ipython",
    "version": 3
   },
   "file_extension": ".py",
   "mimetype": "text/x-python",
   "name": "python",
   "nbconvert_exporter": "python",
   "pygments_lexer": "ipython3",
   "version": "3.7.4"
  }
 },
 "nbformat": 4,
 "nbformat_minor": 4
}
