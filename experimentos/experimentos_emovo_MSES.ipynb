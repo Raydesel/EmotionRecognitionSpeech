{
 "cells": [
  {
   "cell_type": "markdown",
   "metadata": {},
   "source": [
    "## emovo Experimento 1 \n",
    "\n",
    "### Cantidad de coeficientes 12, 24, 36, 48, Usando ventana tipo 2, sin preénfasis, ancho de band completo (fs/2), tamaño de frame de 30ms y traslape de 50\n",
    "\n",
    "### Window=2  preénfasis=0 f_max = fs/2  frame=0.03 overlap=50\n"
   ]
  },
  {
   "cell_type": "markdown",
   "metadata": {},
   "source": [
    "# MFCC"
   ]
  },
  {
   "cell_type": "code",
   "execution_count": 8,
   "metadata": {},
   "outputs": [
    {
     "name": "stdout",
     "output_type": "stream",
     "text": [
      "Finished feature extraction from  175  files\n",
      "Finished feature extraction from  413  files\n",
      "17.075284795\n"
     ]
    }
   ],
   "source": [
    "inicio = default_timer()\n",
    "\n",
    "featuresdf_12_test_01=extract_features_test_emovo()#pau-f3-d1, tri-m1-d2, tri-f3-d1, tri-f3-d2, tri-f3-l3, tri-f3-l4, tri-f3-n3, tri-f3-n5 audio que generaba error\n",
    "\n",
    "featuresdf_12_train_01=extract_features_train_emovo()\n",
    "\n",
    "fin = default_timer()\n",
    "print((fin - inicio)/60) "
   ]
  },
  {
   "cell_type": "code",
   "execution_count": 7,
   "metadata": {},
   "outputs": [
    {
     "name": "stdout",
     "output_type": "stream",
     "text": [
      "Finished feature extraction from  175  files\n",
      "Finished feature extraction from  413  files\n",
      "15.861984166666662\n"
     ]
    }
   ],
   "source": [
    "inicio = default_timer()\n",
    "\n",
    "featuresdf_24_test_01=extract_features_test_emovo()#pau-f3-d1, tri-m1-d2, tri-f3-d1, tri-f3-d2, tri-f3-l3, tri-f3-l4, tri-f3-n3, tri-f3-n5 audio que generaba error\n",
    "\n",
    "featuresdf_24_train_01=extract_features_train_emovo()\n",
    "\n",
    "fin = default_timer()\n",
    "print((fin - inicio)/60) "
   ]
  },
  {
   "cell_type": "code",
   "execution_count": 14,
   "metadata": {},
   "outputs": [
    {
     "name": "stdout",
     "output_type": "stream",
     "text": [
      "Finished feature extraction from  175  files\n",
      "Finished feature extraction from  413  files\n",
      "15.703095628333358\n"
     ]
    }
   ],
   "source": [
    "inicio = default_timer()\n",
    "\n",
    "featuresdf_36_test_01=extract_features_test_emovo()#pau-f3-d1, tri-m1-d2, tri-f3-d1, tri-f3-d2, tri-f3-l3, tri-f3-l4, tri-f3-n3, tri-f3-n5 audio que generaba error\n",
    "\n",
    "featuresdf_36_train_01=extract_features_train_emovo() \n",
    "\n",
    "fin = default_timer()\n",
    "print((fin - inicio)/60)"
   ]
  },
  {
   "cell_type": "code",
   "execution_count": 16,
   "metadata": {},
   "outputs": [
    {
     "name": "stdout",
     "output_type": "stream",
     "text": [
      "Finished feature extraction from  175  files\n",
      "Finished feature extraction from  413  files\n",
      "16.14283802333333\n"
     ]
    }
   ],
   "source": [
    "inicio = default_timer()\n",
    "\n",
    "featuresdf_48_test_01=extract_features_test_emovo()#pau-f3-d1, tri-m1-d2, tri-f3-d1, tri-f3-d2, tri-f3-l3, tri-f3-l4, tri-f3-n3, tri-f3-n5 audio que generaba error\n",
    "\n",
    "featuresdf_48_train_01=extract_features_train_emovo()\n",
    "\n",
    "fin = default_timer()\n",
    "print((fin - inicio)/60) "
   ]
  },
  {
   "cell_type": "code",
   "execution_count": 18,
   "metadata": {},
   "outputs": [
    {
     "name": "stdout",
     "output_type": "stream",
     "text": [
      "Stored 'featuresdf_24_test_01' (DataFrame)\n",
      "Stored 'featuresdf_24_train_01' (DataFrame)\n",
      "Stored 'featuresdf_36_test_01' (DataFrame)\n",
      "Stored 'featuresdf_36_train_01' (DataFrame)\n",
      "Stored 'featuresdf_48_test_01' (DataFrame)\n",
      "Stored 'featuresdf_48_train_01' (DataFrame)\n"
     ]
    }
   ],
   "source": [
    "%store featuresdf_12_test_01\n",
    "%store featuresdf_12_train_01\n",
    "%store featuresdf_24_test_01\n",
    "%store featuresdf_24_train_01\n",
    "%store featuresdf_36_test_01\n",
    "%store featuresdf_36_train_01\n",
    "%store featuresdf_48_test_01\n",
    "%store featuresdf_48_train_01"
   ]
  },
  {
   "cell_type": "markdown",
   "metadata": {},
   "source": [
    "# RASTA-MFCC"
   ]
  },
  {
   "cell_type": "code",
   "execution_count": 12,
   "metadata": {},
   "outputs": [
    {
     "name": "stdout",
     "output_type": "stream",
     "text": [
      "Finished feature extraction from  175  files\n",
      "Finished feature extraction from  413  files\n",
      "22.843120219999992\n"
     ]
    }
   ],
   "source": [
    "inicio = default_timer()\n",
    "\n",
    "featuresdf_12_test_02=extract_features_test_emovo()\n",
    "\n",
    "featuresdf_12_train_02=extract_features_train_emovo()\n",
    "\n",
    "fin = default_timer()\n",
    "print((fin - inicio)/60)"
   ]
  },
  {
   "cell_type": "code",
   "execution_count": 24,
   "metadata": {},
   "outputs": [
    {
     "name": "stdout",
     "output_type": "stream",
     "text": [
      "Finished feature extraction from  175  files\n",
      "Finished feature extraction from  413  files\n",
      "22.287805959999968\n"
     ]
    }
   ],
   "source": [
    "inicio = default_timer()\n",
    "\n",
    "featuresdf_24_test_02=extract_features_test_emovo()\n",
    "\n",
    "featuresdf_24_train_02=extract_features_train_emovo()\n",
    "\n",
    "fin = default_timer()\n",
    "print((fin - inicio)/60)"
   ]
  },
  {
   "cell_type": "code",
   "execution_count": 26,
   "metadata": {},
   "outputs": [
    {
     "name": "stdout",
     "output_type": "stream",
     "text": [
      "Finished feature extraction from  175  files\n",
      "Finished feature extraction from  413  files\n",
      "22.775837245\n"
     ]
    }
   ],
   "source": [
    "inicio = default_timer()\n",
    "\n",
    "featuresdf_36_test_02=extract_features_test_emovo()\n",
    "\n",
    "featuresdf_36_train_02=extract_features_train_emovo()\n",
    "\n",
    "fin = default_timer()\n",
    "print((fin - inicio)/60)"
   ]
  },
  {
   "cell_type": "code",
   "execution_count": 28,
   "metadata": {},
   "outputs": [
    {
     "name": "stdout",
     "output_type": "stream",
     "text": [
      "Finished feature extraction from  175  files\n",
      "Finished feature extraction from  413  files\n",
      "23.994564545000017\n"
     ]
    }
   ],
   "source": [
    "inicio = default_timer()\n",
    "\n",
    "featuresdf_48_test_02=extract_features_test_emovo()\n",
    "\n",
    "featuresdf_48_train_02=extract_features_train_emovo()\n",
    "\n",
    "fin = default_timer()\n",
    "print((fin - inicio)/60)"
   ]
  },
  {
   "cell_type": "code",
   "execution_count": 30,
   "metadata": {},
   "outputs": [
    {
     "name": "stdout",
     "output_type": "stream",
     "text": [
      "Stored 'featuresdf_24_test_02' (DataFrame)\n",
      "Stored 'featuresdf_24_train_02' (DataFrame)\n",
      "Stored 'featuresdf_36_test_02' (DataFrame)\n",
      "Stored 'featuresdf_36_train_02' (DataFrame)\n",
      "Stored 'featuresdf_48_test_02' (DataFrame)\n",
      "Stored 'featuresdf_48_train_02' (DataFrame)\n"
     ]
    }
   ],
   "source": [
    "%store featuresdf_12_test_02\n",
    "%store featuresdf_12_train_02\n",
    "%store featuresdf_24_test_02\n",
    "%store featuresdf_24_train_02\n",
    "%store featuresdf_36_test_02\n",
    "%store featuresdf_36_train_02\n",
    "%store featuresdf_48_test_02\n",
    "%store featuresdf_48_train_02"
   ]
  },
  {
   "cell_type": "markdown",
   "metadata": {},
   "source": [
    "## emovo Experimento 1.5\n",
    "\n",
    "### Cantidad de coeficientes 12, 24, 36, 48, Usando ventana tipo 2, Con preénfasis 0.97, ancho de band completo (fs/2), tamaño de frame de 30ms y traslape de 50\n",
    "\n",
    "### Window=2 preénfasis=0.97 f_max = fs/2 frame=0.03 overlap=50"
   ]
  },
  {
   "cell_type": "markdown",
   "metadata": {},
   "source": [
    "# MFCC"
   ]
  },
  {
   "cell_type": "code",
   "execution_count": 37,
   "metadata": {},
   "outputs": [
    {
     "name": "stdout",
     "output_type": "stream",
     "text": [
      "Finished feature extraction from  175  files\n",
      "Finished feature extraction from  413  files\n",
      "14.724349878333365\n"
     ]
    }
   ],
   "source": [
    "inicio = default_timer()\n",
    "\n",
    "featuresdf_12_test_03=extract_features_test_emovo()\n",
    "\n",
    "featuresdf_12_train_03=extract_features_train_emovo()\n",
    "\n",
    "fin = default_timer()\n",
    "print((fin - inicio)/60)"
   ]
  },
  {
   "cell_type": "code",
   "execution_count": 40,
   "metadata": {},
   "outputs": [
    {
     "name": "stdout",
     "output_type": "stream",
     "text": [
      "Finished feature extraction from  175  files\n",
      "Finished feature extraction from  413  files\n",
      "16.308452958333326\n"
     ]
    }
   ],
   "source": [
    "inicio = default_timer()\n",
    "\n",
    "featuresdf_24_test_03=extract_features_test_emovo()\n",
    "\n",
    "featuresdf_24_train_03=extract_features_train_emovo()\n",
    "\n",
    "fin = default_timer()\n",
    "print((fin - inicio)/60) "
   ]
  },
  {
   "cell_type": "code",
   "execution_count": 42,
   "metadata": {},
   "outputs": [
    {
     "name": "stdout",
     "output_type": "stream",
     "text": [
      "Finished feature extraction from  175  files\n",
      "Finished feature extraction from  413  files\n",
      "16.304162684999998\n"
     ]
    }
   ],
   "source": [
    "inicio = default_timer()\n",
    "\n",
    "featuresdf_36_test_03=extract_features_test_emovo()\n",
    "\n",
    "featuresdf_36_train_03=extract_features_train_emovo()\n",
    "\n",
    "fin = default_timer()\n",
    "print((fin - inicio)/60) "
   ]
  },
  {
   "cell_type": "code",
   "execution_count": 45,
   "metadata": {},
   "outputs": [
    {
     "name": "stdout",
     "output_type": "stream",
     "text": [
      "Finished feature extraction from  175  files\n",
      "Finished feature extraction from  413  files\n",
      "16.120993006666687\n"
     ]
    }
   ],
   "source": [
    "inicio = default_timer()\n",
    "\n",
    "featuresdf_48_test_03=extract_features_test_emovo()\n",
    "\n",
    "featuresdf_48_train_03=extract_features_train_emovo()\n",
    "\n",
    "fin = default_timer()\n",
    "print((fin - inicio)/60) "
   ]
  },
  {
   "cell_type": "code",
   "execution_count": 46,
   "metadata": {},
   "outputs": [
    {
     "name": "stdout",
     "output_type": "stream",
     "text": [
      "Stored 'featuresdf_12_test_03' (DataFrame)\n",
      "Stored 'featuresdf_12_train_03' (DataFrame)\n",
      "Stored 'featuresdf_24_test_03' (DataFrame)\n",
      "Stored 'featuresdf_24_train_03' (DataFrame)\n",
      "Stored 'featuresdf_36_test_03' (DataFrame)\n",
      "Stored 'featuresdf_36_train_03' (DataFrame)\n",
      "Stored 'featuresdf_48_test_03' (DataFrame)\n",
      "Stored 'featuresdf_48_train_03' (DataFrame)\n"
     ]
    }
   ],
   "source": [
    "%store featuresdf_12_test_03\n",
    "%store featuresdf_12_train_03\n",
    "%store featuresdf_24_test_03\n",
    "%store featuresdf_24_train_03\n",
    "%store featuresdf_36_test_03\n",
    "%store featuresdf_36_train_03\n",
    "%store featuresdf_48_test_03\n",
    "%store featuresdf_48_train_03"
   ]
  },
  {
   "cell_type": "markdown",
   "metadata": {},
   "source": [
    "# RASTA-MFCC"
   ]
  },
  {
   "cell_type": "code",
   "execution_count": 49,
   "metadata": {},
   "outputs": [
    {
     "name": "stdout",
     "output_type": "stream",
     "text": [
      "Finished feature extraction from  175  files\n",
      "Finished feature extraction from  413  files\n",
      "20.052521035\n"
     ]
    }
   ],
   "source": [
    "inicio = default_timer()\n",
    "\n",
    "featuresdf_12_test_04=extract_features_test_emovo()\n",
    "\n",
    "featuresdf_12_train_04=extract_features_train_emovo()\n",
    "\n",
    "fin = default_timer()\n",
    "print((fin - inicio)/60) "
   ]
  },
  {
   "cell_type": "code",
   "execution_count": 51,
   "metadata": {},
   "outputs": [
    {
     "name": "stdout",
     "output_type": "stream",
     "text": [
      "Finished feature extraction from  175  files\n",
      "Finished feature extraction from  413  files\n",
      "43.981547815000035\n"
     ]
    }
   ],
   "source": [
    "iinicio = default_timer()\n",
    "\n",
    "featuresdf_24_test_04=extract_features_test_emovo()\n",
    "\n",
    "featuresdf_24_train_04=extract_features_train_emovo()\n",
    "\n",
    "fin = default_timer()\n",
    "print((fin - inicio)/60) "
   ]
  },
  {
   "cell_type": "code",
   "execution_count": 53,
   "metadata": {},
   "outputs": [
    {
     "name": "stdout",
     "output_type": "stream",
     "text": [
      "Finished feature extraction from  175  files\n",
      "Finished feature extraction from  413  files\n",
      "23.939163993333327\n"
     ]
    }
   ],
   "source": [
    "inicio = default_timer()\n",
    "\n",
    "featuresdf_36_test_04=extract_features_test_emovo()\n",
    "\n",
    "featuresdf_36_train_04=extract_features_train_emovo()\n",
    "\n",
    "fin = default_timer()\n",
    "print((fin - inicio)/60)"
   ]
  },
  {
   "cell_type": "code",
   "execution_count": 56,
   "metadata": {},
   "outputs": [
    {
     "name": "stdout",
     "output_type": "stream",
     "text": [
      "Finished feature extraction from  175  files\n",
      "Finished feature extraction from  413  files\n",
      "19.65535836333329\n"
     ]
    }
   ],
   "source": [
    "inicio = default_timer()\n",
    "\n",
    "featuresdf_48_test_04=extract_features_test_emovo()\n",
    "\n",
    "featuresdf_48_train_04=extract_features_train_emovo()\n",
    "\n",
    "fin = default_timer()\n",
    "print((fin - inicio)/60) "
   ]
  },
  {
   "cell_type": "code",
   "execution_count": 58,
   "metadata": {},
   "outputs": [
    {
     "name": "stdout",
     "output_type": "stream",
     "text": [
      "Stored 'featuresdf_12_test_04' (DataFrame)\n",
      "Stored 'featuresdf_12_train_04' (DataFrame)\n",
      "Stored 'featuresdf_24_test_04' (DataFrame)\n",
      "Stored 'featuresdf_24_train_04' (DataFrame)\n",
      "Stored 'featuresdf_36_test_04' (DataFrame)\n",
      "Stored 'featuresdf_36_train_04' (DataFrame)\n",
      "Stored 'featuresdf_48_test_04' (DataFrame)\n",
      "Stored 'featuresdf_48_train_04' (DataFrame)\n"
     ]
    }
   ],
   "source": [
    "%store featuresdf_12_test_04\n",
    "%store featuresdf_12_train_04\n",
    "%store featuresdf_24_test_04\n",
    "%store featuresdf_24_train_04\n",
    "%store featuresdf_36_test_04\n",
    "%store featuresdf_36_train_04\n",
    "%store featuresdf_48_test_04\n",
    "%store featuresdf_48_train_04"
   ]
  },
  {
   "cell_type": "markdown",
   "metadata": {},
   "source": [
    "## emovo Experimento 2\n",
    "\n",
    "### Cantidad de coeficientes el mejor resultado de los dos experimentos anteriores, Usando ventana tipo 2, sin y con preénfasis, ancho de banda completo (fs/2), tamaño de frame desde 10ms hasta 100 ms y traslape de 50%\n",
    "\n",
    "### n_coef=24  Window=2  preénfasis=0.0 f_max = fs/2  frame=10-100 overlap=50\n",
    "\n",
    "## MFCC"
   ]
  },
  {
   "cell_type": "code",
   "execution_count": 8,
   "metadata": {},
   "outputs": [
    {
     "name": "stdout",
     "output_type": "stream",
     "text": [
      "Finished feature extraction from  175  files\n",
      "Finished feature extraction from  413  files\n",
      "15.325920569999997\n"
     ]
    }
   ],
   "source": [
    "inicio = default_timer()\n",
    "\n",
    "featuresdf_10_test_05=extract_features_test_emovo()\n",
    "\n",
    "featuresdf_10_train_05=extract_features_train_emovo()\n",
    "\n",
    "fin = default_timer()\n",
    "print((fin - inicio)/60) "
   ]
  },
  {
   "cell_type": "code",
   "execution_count": 10,
   "metadata": {},
   "outputs": [
    {
     "name": "stdout",
     "output_type": "stream",
     "text": [
      "Finished feature extraction from  175  files\n",
      "Finished feature extraction from  413  files\n",
      "14.484245719999997\n"
     ]
    }
   ],
   "source": [
    "inicio = default_timer()\n",
    "\n",
    "featuresdf_20_test_05=extract_features_test_emovo()\n",
    "\n",
    "featuresdf_20_train_05=extract_features_train_emovo()\n",
    "\n",
    "fin = default_timer()\n",
    "print((fin - inicio)/60) "
   ]
  },
  {
   "cell_type": "code",
   "execution_count": 12,
   "metadata": {},
   "outputs": [
    {
     "name": "stdout",
     "output_type": "stream",
     "text": [
      "Finished feature extraction from  175  files\n",
      "Finished feature extraction from  413  files\n",
      "19.22821428166667\n"
     ]
    }
   ],
   "source": [
    "inicio = default_timer()\n",
    "\n",
    "featuresdf_30_test_05=extract_features_test_emovo()\n",
    "\n",
    "featuresdf_30_train_05=extract_features_train_emovo()\n",
    "\n",
    "fin = default_timer()\n",
    "print((fin - inicio)/60)"
   ]
  },
  {
   "cell_type": "code",
   "execution_count": 14,
   "metadata": {},
   "outputs": [
    {
     "name": "stdout",
     "output_type": "stream",
     "text": [
      "Finished feature extraction from  175  files\n",
      "Finished feature extraction from  413  files\n",
      "19.850904926666665\n"
     ]
    }
   ],
   "source": [
    "inicio = default_timer()\n",
    "\n",
    "featuresdf_40_test_05=extract_features_test_emovo()\n",
    "\n",
    "featuresdf_40_train_05=extract_features_train_emovo()\n",
    "\n",
    "fin = default_timer()\n",
    "print((fin - inicio)/60)"
   ]
  },
  {
   "cell_type": "code",
   "execution_count": 7,
   "metadata": {},
   "outputs": [
    {
     "name": "stdout",
     "output_type": "stream",
     "text": [
      "Finished feature extraction from  175  files\n",
      "Finished feature extraction from  413  files\n",
      "17.008114286666665\n"
     ]
    }
   ],
   "source": [
    "inicio = default_timer()\n",
    "\n",
    "featuresdf_50_test_05=extract_features_test_emovo()\n",
    "\n",
    "featuresdf_50_train_05=extract_features_train_emovo()\n",
    "\n",
    "fin = default_timer()\n",
    "print((fin - inicio)/60)"
   ]
  },
  {
   "cell_type": "code",
   "execution_count": 9,
   "metadata": {},
   "outputs": [
    {
     "name": "stdout",
     "output_type": "stream",
     "text": [
      "Finished feature extraction from  175  files\n",
      "Finished feature extraction from  413  files\n",
      "17.234926318333336\n"
     ]
    }
   ],
   "source": [
    "inicio = default_timer()\n",
    "\n",
    "featuresdf_60_test_05=extract_features_test_emovo()\n",
    "\n",
    "featuresdf_60_train_05=extract_features_train_emovo()\n",
    "\n",
    "fin = default_timer()\n",
    "print((fin - inicio)/60)"
   ]
  },
  {
   "cell_type": "code",
   "execution_count": 11,
   "metadata": {},
   "outputs": [
    {
     "name": "stdout",
     "output_type": "stream",
     "text": [
      "Finished feature extraction from  175  files\n",
      "Finished feature extraction from  413  files\n",
      "18.58067653666666\n"
     ]
    }
   ],
   "source": [
    "inicio = default_timer()\n",
    "\n",
    "featuresdf_70_test_05=extract_features_test_emovo()\n",
    "\n",
    "featuresdf_70_train_05=extract_features_train_emovo()\n",
    "\n",
    "fin = default_timer()\n",
    "print((fin - inicio)/60)"
   ]
  },
  {
   "cell_type": "code",
   "execution_count": 13,
   "metadata": {},
   "outputs": [
    {
     "name": "stdout",
     "output_type": "stream",
     "text": [
      "Finished feature extraction from  175  files\n",
      "Finished feature extraction from  413  files\n",
      "18.47702103833332\n"
     ]
    }
   ],
   "source": [
    "inicio = default_timer()\n",
    "\n",
    "featuresdf_80_test_05=extract_features_test_emovo()\n",
    "\n",
    "featuresdf_80_train_05=extract_features_train_emovo()\n",
    "\n",
    "fin = default_timer()\n",
    "print((fin - inicio)/60)"
   ]
  },
  {
   "cell_type": "code",
   "execution_count": 15,
   "metadata": {},
   "outputs": [
    {
     "name": "stdout",
     "output_type": "stream",
     "text": [
      "Finished feature extraction from  175  files\n",
      "Finished feature extraction from  413  files\n",
      "28.032194361666658\n"
     ]
    }
   ],
   "source": [
    "inicio = default_timer()\n",
    "\n",
    "featuresdf_90_test_05=extract_features_test_emovo()\n",
    "\n",
    "featuresdf_90_train_05=extract_features_train_emovo()\n",
    "\n",
    "fin = default_timer()\n",
    "print((fin - inicio)/60)"
   ]
  },
  {
   "cell_type": "code",
   "execution_count": 17,
   "metadata": {},
   "outputs": [
    {
     "name": "stdout",
     "output_type": "stream",
     "text": [
      "Finished feature extraction from  175  files\n",
      "Finished feature extraction from  413  files\n",
      "26.751847693333335\n"
     ]
    }
   ],
   "source": [
    "inicio = default_timer()\n",
    "\n",
    "featuresdf_100_test_05=extract_features_test_emovo()\n",
    "\n",
    "featuresdf_100_train_05=extract_features_train_emovo()\n",
    "\n",
    "fin = default_timer()\n",
    "print((fin - inicio)/60)"
   ]
  },
  {
   "cell_type": "code",
   "execution_count": 19,
   "metadata": {},
   "outputs": [
    {
     "name": "stdout",
     "output_type": "stream",
     "text": [
      "Stored 'featuresdf_50_test_05' (DataFrame)\n",
      "Stored 'featuresdf_50_train_05' (DataFrame)\n",
      "Stored 'featuresdf_60_test_05' (DataFrame)\n",
      "Stored 'featuresdf_60_train_05' (DataFrame)\n",
      "Stored 'featuresdf_70_test_05' (DataFrame)\n",
      "Stored 'featuresdf_70_train_05' (DataFrame)\n",
      "Stored 'featuresdf_80_test_05' (DataFrame)\n",
      "Stored 'featuresdf_80_train_05' (DataFrame)\n",
      "Stored 'featuresdf_90_test_05' (DataFrame)\n",
      "Stored 'featuresdf_90_train_05' (DataFrame)\n",
      "Stored 'featuresdf_100_test_05' (DataFrame)\n",
      "Stored 'featuresdf_100_train_05' (DataFrame)\n"
     ]
    }
   ],
   "source": [
    "%store featuresdf_10_test_05\n",
    "%store featuresdf_10_train_05\n",
    "%store featuresdf_20_test_05\n",
    "%store featuresdf_20_train_05\n",
    "%store featuresdf_30_test_05\n",
    "%store featuresdf_30_train_05\n",
    "%store featuresdf_40_test_05\n",
    "%store featuresdf_40_train_05\n",
    "%store featuresdf_50_test_05\n",
    "%store featuresdf_50_train_05\n",
    "%store featuresdf_60_test_05\n",
    "%store featuresdf_60_train_05\n",
    "%store featuresdf_70_test_05\n",
    "%store featuresdf_70_train_05\n",
    "%store featuresdf_80_test_05\n",
    "%store featuresdf_80_train_05\n",
    "%store featuresdf_90_test_05\n",
    "%store featuresdf_90_train_05\n",
    "%store featuresdf_100_test_05\n",
    "%store featuresdf_100_train_05"
   ]
  },
  {
   "cell_type": "markdown",
   "metadata": {},
   "source": [
    "## RASTA-MFCC"
   ]
  },
  {
   "cell_type": "code",
   "execution_count": 21,
   "metadata": {},
   "outputs": [
    {
     "name": "stdout",
     "output_type": "stream",
     "text": [
      "Finished feature extraction from  175  files\n",
      "Finished feature extraction from  413  files\n",
      "19.23294135666665\n"
     ]
    }
   ],
   "source": [
    "inicio = default_timer()\n",
    "\n",
    "featuresdf_10_test_06=extract_features_test_emovo()\n",
    "\n",
    "featuresdf_10_train_06=extract_features_train_emovo()\n",
    "\n",
    "fin = default_timer()\n",
    "print((fin - inicio)/60) "
   ]
  },
  {
   "cell_type": "code",
   "execution_count": 23,
   "metadata": {},
   "outputs": [
    {
     "name": "stdout",
     "output_type": "stream",
     "text": [
      "Finished feature extraction from  175  files\n",
      "Finished feature extraction from  413  files\n",
      "20.64489346999999\n"
     ]
    }
   ],
   "source": [
    "inicio = default_timer()\n",
    "\n",
    "featuresdf_20_test_06=extract_features_test_emovo()\n",
    "\n",
    "featuresdf_20_train_06=extract_features_train_emovo()\n",
    "\n",
    "fin = default_timer()\n",
    "print((fin - inicio)/60)"
   ]
  },
  {
   "cell_type": "code",
   "execution_count": 25,
   "metadata": {},
   "outputs": [
    {
     "name": "stdout",
     "output_type": "stream",
     "text": [
      "Finished feature extraction from  175  files\n",
      "Finished feature extraction from  413  files\n",
      "21.36701134833335\n"
     ]
    }
   ],
   "source": [
    "inicio = default_timer()\n",
    "\n",
    "featuresdf_30_test_06=extract_features_test_emovo()\n",
    "\n",
    "featuresdf_30_train_06=extract_features_train_emovo()\n",
    "\n",
    "fin = default_timer()\n",
    "print((fin - inicio)/60)"
   ]
  },
  {
   "cell_type": "code",
   "execution_count": 27,
   "metadata": {},
   "outputs": [
    {
     "name": "stdout",
     "output_type": "stream",
     "text": [
      "Finished feature extraction from  175  files\n",
      "Finished feature extraction from  413  files\n",
      "22.21102424833334\n"
     ]
    }
   ],
   "source": [
    "inicio = default_timer()\n",
    "\n",
    "featuresdf_40_test_06=extract_features_test_emovo()\n",
    "\n",
    "featuresdf_40_train_06=extract_features_train_emovo()\n",
    "\n",
    "fin = default_timer()\n",
    "print((fin - inicio)/60)"
   ]
  },
  {
   "cell_type": "code",
   "execution_count": 29,
   "metadata": {},
   "outputs": [
    {
     "name": "stdout",
     "output_type": "stream",
     "text": [
      "Finished feature extraction from  175  files\n",
      "Finished feature extraction from  413  files\n",
      "25.703760644999967\n"
     ]
    }
   ],
   "source": [
    "inicio = default_timer()\n",
    "\n",
    "featuresdf_50_test_06=extract_features_test_emovo()\n",
    "\n",
    "featuresdf_50_train_06=extract_features_train_emovo()\n",
    "\n",
    "fin = default_timer()\n",
    "print((fin - inicio)/60)"
   ]
  },
  {
   "cell_type": "code",
   "execution_count": 31,
   "metadata": {},
   "outputs": [
    {
     "name": "stdout",
     "output_type": "stream",
     "text": [
      "Finished feature extraction from  175  files\n",
      "Finished feature extraction from  413  files\n",
      "26.20685944166671\n"
     ]
    }
   ],
   "source": [
    "inicio = default_timer()\n",
    "\n",
    "featuresdf_60_test_06=extract_features_test_emovo()\n",
    "\n",
    "featuresdf_60_train_06=extract_features_train_emovo()\n",
    "\n",
    "fin = default_timer()\n",
    "print((fin - inicio)/60)"
   ]
  },
  {
   "cell_type": "code",
   "execution_count": 33,
   "metadata": {},
   "outputs": [
    {
     "name": "stdout",
     "output_type": "stream",
     "text": [
      "Finished feature extraction from  175  files\n",
      "Finished feature extraction from  413  files\n",
      "27.88833357166665\n"
     ]
    }
   ],
   "source": [
    "inicio = default_timer()\n",
    "\n",
    "featuresdf_70_test_06=extract_features_test_emovo()\n",
    "\n",
    "featuresdf_70_train_06=extract_features_train_emovo()\n",
    "\n",
    "fin = default_timer()\n",
    "print((fin - inicio)/60)"
   ]
  },
  {
   "cell_type": "code",
   "execution_count": 35,
   "metadata": {},
   "outputs": [
    {
     "name": "stdout",
     "output_type": "stream",
     "text": [
      "Finished feature extraction from  175  files\n",
      "Finished feature extraction from  413  files\n",
      "24.384426990000005\n"
     ]
    }
   ],
   "source": [
    "inicio = default_timer()\n",
    "\n",
    "featuresdf_80_test_06=extract_features_test_emovo()\n",
    "\n",
    "featuresdf_80_train_06=extract_features_train_emovo()\n",
    "\n",
    "fin = default_timer()\n",
    "print((fin - inicio)/60)"
   ]
  },
  {
   "cell_type": "code",
   "execution_count": 37,
   "metadata": {},
   "outputs": [
    {
     "name": "stdout",
     "output_type": "stream",
     "text": [
      "Finished feature extraction from  175  files\n",
      "Finished feature extraction from  413  files\n",
      "40.94635582500002\n"
     ]
    }
   ],
   "source": [
    "inicio = default_timer()\n",
    "\n",
    "featuresdf_90_test_06=extract_features_test_emovo()\n",
    "\n",
    "featuresdf_90_train_06=extract_features_train_emovo()\n",
    "\n",
    "fin = default_timer()\n",
    "print((fin - inicio)/60)"
   ]
  },
  {
   "cell_type": "code",
   "execution_count": 39,
   "metadata": {},
   "outputs": [
    {
     "name": "stdout",
     "output_type": "stream",
     "text": [
      "Finished feature extraction from  175  files\n",
      "Finished feature extraction from  413  files\n",
      "40.15473073\n"
     ]
    }
   ],
   "source": [
    "inicio = default_timer()\n",
    "\n",
    "featuresdf_100_test_06=extract_features_test_emovo()\n",
    "\n",
    "featuresdf_100_train_06=extract_features_train_emovo()\n",
    "\n",
    "fin = default_timer()\n",
    "print((fin - inicio)/60)"
   ]
  },
  {
   "cell_type": "code",
   "execution_count": 40,
   "metadata": {},
   "outputs": [
    {
     "name": "stdout",
     "output_type": "stream",
     "text": [
      "Stored 'featuresdf_10_test_06' (DataFrame)\n",
      "Stored 'featuresdf_10_train_06' (DataFrame)\n",
      "Stored 'featuresdf_20_test_06' (DataFrame)\n",
      "Stored 'featuresdf_20_train_06' (DataFrame)\n",
      "Stored 'featuresdf_30_test_06' (DataFrame)\n",
      "Stored 'featuresdf_30_train_06' (DataFrame)\n",
      "Stored 'featuresdf_40_test_06' (DataFrame)\n",
      "Stored 'featuresdf_40_train_06' (DataFrame)\n",
      "Stored 'featuresdf_50_test_06' (DataFrame)\n",
      "Stored 'featuresdf_50_train_06' (DataFrame)\n",
      "Stored 'featuresdf_60_test_06' (DataFrame)\n",
      "Stored 'featuresdf_60_train_06' (DataFrame)\n",
      "Stored 'featuresdf_70_test_06' (DataFrame)\n",
      "Stored 'featuresdf_70_train_06' (DataFrame)\n",
      "Stored 'featuresdf_80_test_06' (DataFrame)\n",
      "Stored 'featuresdf_80_train_06' (DataFrame)\n",
      "Stored 'featuresdf_90_test_06' (DataFrame)\n",
      "Stored 'featuresdf_90_train_06' (DataFrame)\n",
      "Stored 'featuresdf_100_test_06' (DataFrame)\n",
      "Stored 'featuresdf_100_train_06' (DataFrame)\n"
     ]
    }
   ],
   "source": [
    "%store featuresdf_10_test_06\n",
    "%store featuresdf_10_train_06\n",
    "%store featuresdf_20_test_06\n",
    "%store featuresdf_20_train_06\n",
    "%store featuresdf_30_test_06\n",
    "%store featuresdf_30_train_06\n",
    "%store featuresdf_40_test_06\n",
    "%store featuresdf_40_train_06\n",
    "%store featuresdf_50_test_06\n",
    "%store featuresdf_50_train_06\n",
    "%store featuresdf_60_test_06\n",
    "%store featuresdf_60_train_06\n",
    "%store featuresdf_70_test_06\n",
    "%store featuresdf_70_train_06\n",
    "%store featuresdf_80_test_06\n",
    "%store featuresdf_80_train_06\n",
    "%store featuresdf_90_test_06\n",
    "%store featuresdf_90_train_06\n",
    "%store featuresdf_100_test_06\n",
    "%store featuresdf_100_train_06"
   ]
  },
  {
   "cell_type": "code",
   "execution_count": 42,
   "metadata": {},
   "outputs": [
    {
     "name": "stdout",
     "output_type": "stream",
     "text": [
      "Finished feature extraction from  175  files\n",
      "Finished feature extraction from  413  files\n",
      "14.44429600166665\n"
     ]
    }
   ],
   "source": [
    "inicio = default_timer()\n",
    "\n",
    "featuresdf_10_test_07=extract_features_test_emovo()\n",
    "\n",
    "featuresdf_10_train_07=extract_features_train_emovo()\n",
    "\n",
    "fin = default_timer()\n",
    "print((fin - inicio)/60)"
   ]
  },
  {
   "cell_type": "code",
   "execution_count": 44,
   "metadata": {},
   "outputs": [
    {
     "name": "stdout",
     "output_type": "stream",
     "text": [
      "Finished feature extraction from  175  files\n",
      "Finished feature extraction from  413  files\n",
      "15.418229381666666\n"
     ]
    }
   ],
   "source": [
    "inicio = default_timer()\n",
    "\n",
    "featuresdf_20_test_07=extract_features_test_emovo()\n",
    "\n",
    "featuresdf_20_train_07=extract_features_train_emovo()\n",
    "\n",
    "fin = default_timer()\n",
    "print((fin - inicio)/60)"
   ]
  },
  {
   "cell_type": "code",
   "execution_count": 49,
   "metadata": {},
   "outputs": [
    {
     "name": "stdout",
     "output_type": "stream",
     "text": [
      "Finished feature extraction from  175  files\n",
      "Finished feature extraction from  413  files\n",
      "19.114210598333315\n"
     ]
    }
   ],
   "source": [
    "inicio = default_timer()\n",
    "\n",
    "featuresdf_30_test_07=extract_features_test_emovo()\n",
    "\n",
    "featuresdf_30_train_07=extract_features_train_emovo()\n",
    "\n",
    "fin = default_timer()\n",
    "print((fin - inicio)/60)"
   ]
  },
  {
   "cell_type": "code",
   "execution_count": 51,
   "metadata": {},
   "outputs": [
    {
     "name": "stdout",
     "output_type": "stream",
     "text": [
      "Finished feature extraction from  175  files\n",
      "Finished feature extraction from  413  files\n",
      "15.285606038333329\n"
     ]
    }
   ],
   "source": [
    "inicio = default_timer()\n",
    "\n",
    "featuresdf_40_test_07=extract_features_test_emovo()\n",
    "\n",
    "featuresdf_40_train_07=extract_features_train_emovo()\n",
    "\n",
    "fin = default_timer()\n",
    "print((fin - inicio)/60)"
   ]
  },
  {
   "cell_type": "code",
   "execution_count": 54,
   "metadata": {},
   "outputs": [
    {
     "name": "stdout",
     "output_type": "stream",
     "text": [
      "Finished feature extraction from  175  files\n",
      "Finished feature extraction from  413  files\n",
      "18.762335278333314\n"
     ]
    }
   ],
   "source": [
    "inicio = default_timer()\n",
    "\n",
    "featuresdf_50_test_07=extract_features_test_emovo()\n",
    "\n",
    "featuresdf_50_train_07=extract_features_train_emovo()\n",
    "\n",
    "fin = default_timer()\n",
    "print((fin - inicio)/60)"
   ]
  },
  {
   "cell_type": "code",
   "execution_count": 57,
   "metadata": {},
   "outputs": [
    {
     "name": "stdout",
     "output_type": "stream",
     "text": [
      "Finished feature extraction from  175  files\n",
      "Finished feature extraction from  413  files\n",
      "17.352633295\n"
     ]
    }
   ],
   "source": [
    "inicio = default_timer()\n",
    "\n",
    "featuresdf_60_test_07=extract_features_test_emovo()\n",
    "\n",
    "featuresdf_60_train_07=extract_features_train_emovo()\n",
    "\n",
    "fin = default_timer()\n",
    "print((fin - inicio)/60)"
   ]
  },
  {
   "cell_type": "code",
   "execution_count": 59,
   "metadata": {},
   "outputs": [
    {
     "name": "stdout",
     "output_type": "stream",
     "text": [
      "Finished feature extraction from  175  files\n",
      "Finished feature extraction from  413  files\n",
      "17.285385181666665\n"
     ]
    }
   ],
   "source": [
    "inicio = default_timer()\n",
    "\n",
    "featuresdf_70_test_07=extract_features_test_emovo()\n",
    "\n",
    "featuresdf_70_train_07=extract_features_train_emovo()\n",
    "\n",
    "fin = default_timer()\n",
    "print((fin - inicio)/60)"
   ]
  },
  {
   "cell_type": "code",
   "execution_count": 61,
   "metadata": {},
   "outputs": [
    {
     "name": "stdout",
     "output_type": "stream",
     "text": [
      "Finished feature extraction from  175  files\n",
      "Finished feature extraction from  413  files\n",
      "17.904685573333214\n"
     ]
    }
   ],
   "source": [
    "inicio = default_timer()\n",
    "\n",
    "featuresdf_80_test_07=extract_features_test_emovo()\n",
    "\n",
    "featuresdf_80_train_07=extract_features_train_emovo()\n",
    "\n",
    "fin = default_timer()\n",
    "print((fin - inicio)/60)"
   ]
  },
  {
   "cell_type": "code",
   "execution_count": 63,
   "metadata": {},
   "outputs": [
    {
     "name": "stdout",
     "output_type": "stream",
     "text": [
      "Finished feature extraction from  175  files\n",
      "Finished feature extraction from  413  files\n",
      "28.25694673333334\n"
     ]
    }
   ],
   "source": [
    "inicio = default_timer()\n",
    "\n",
    "featuresdf_90_test_07=extract_features_test_emovo()\n",
    "\n",
    "featuresdf_90_train_07=extract_features_train_emovo()\n",
    "\n",
    "fin = default_timer()\n",
    "print((fin - inicio)/60)"
   ]
  },
  {
   "cell_type": "code",
   "execution_count": 10,
   "metadata": {},
   "outputs": [
    {
     "name": "stdout",
     "output_type": "stream",
     "text": [
      "Finished feature extraction from  175  files\n",
      "Finished feature extraction from  413  files\n",
      "35.02477726166667\n"
     ]
    }
   ],
   "source": [
    "inicio = default_timer()\n",
    "\n",
    "featuresdf_100_test_07=extract_features_test_emovo()\n",
    "\n",
    "featuresdf_100_train_07=extract_features_train_emovo()\n",
    "\n",
    "fin = default_timer()\n",
    "print((fin - inicio)/60)"
   ]
  },
  {
   "cell_type": "code",
   "execution_count": 11,
   "metadata": {},
   "outputs": [
    {
     "name": "stdout",
     "output_type": "stream",
     "text": [
      "Stored 'featuresdf_100_test_07' (DataFrame)\n",
      "Stored 'featuresdf_100_train_07' (DataFrame)\n"
     ]
    }
   ],
   "source": [
    "%store featuresdf_10_test_07\n",
    "%store featuresdf_10_train_07\n",
    "%store featuresdf_20_test_07\n",
    "%store featuresdf_20_train_07\n",
    "%store featuresdf_30_test_07\n",
    "%store featuresdf_30_train_07\n",
    "%store featuresdf_40_test_07\n",
    "%store featuresdf_40_train_07\n",
    "%store featuresdf_50_test_07\n",
    "%store featuresdf_50_train_07\n",
    "%store featuresdf_60_test_07\n",
    "%store featuresdf_60_train_07\n",
    "%store featuresdf_70_test_07\n",
    "%store featuresdf_70_train_07\n",
    "%store featuresdf_80_test_07\n",
    "%store featuresdf_80_train_07\n",
    "%store featuresdf_90_test_07\n",
    "%store featuresdf_90_train_07\n",
    "%store featuresdf_100_test_07\n",
    "%store featuresdf_100_train_07"
   ]
  },
  {
   "cell_type": "code",
   "execution_count": 13,
   "metadata": {},
   "outputs": [
    {
     "name": "stdout",
     "output_type": "stream",
     "text": [
      "Finished feature extraction from  175  files\n",
      "Finished feature extraction from  413  files\n",
      "18.54616923\n"
     ]
    }
   ],
   "source": [
    "inicio = default_timer()\n",
    "\n",
    "featuresdf_10_test_08=extract_features_test_emovo()\n",
    "\n",
    "featuresdf_10_train_08=extract_features_train_emovo()\n",
    "\n",
    "fin = default_timer()\n",
    "print((fin - inicio)/60)"
   ]
  },
  {
   "cell_type": "code",
   "execution_count": 15,
   "metadata": {},
   "outputs": [
    {
     "name": "stdout",
     "output_type": "stream",
     "text": [
      "Finished feature extraction from  175  files\n",
      "Finished feature extraction from  413  files\n",
      "18.60766235333334\n"
     ]
    }
   ],
   "source": [
    "inicio = default_timer()\n",
    "\n",
    "featuresdf_20_test_08=extract_features_test_emovo()\n",
    "\n",
    "featuresdf_20_train_08=extract_features_train_emovo()\n",
    "\n",
    "fin = default_timer()\n",
    "print((fin - inicio)/60)"
   ]
  },
  {
   "cell_type": "code",
   "execution_count": 17,
   "metadata": {},
   "outputs": [
    {
     "name": "stdout",
     "output_type": "stream",
     "text": [
      "Finished feature extraction from  175  files\n",
      "Finished feature extraction from  413  files\n",
      "22.002561511666652\n"
     ]
    }
   ],
   "source": [
    "inicio = default_timer()\n",
    "\n",
    "featuresdf_30_test_08=extract_features_test_emovo()\n",
    "\n",
    "featuresdf_30_train_08=extract_features_train_emovo()\n",
    "\n",
    "fin = default_timer()\n",
    "print((fin - inicio)/60)"
   ]
  },
  {
   "cell_type": "code",
   "execution_count": 19,
   "metadata": {},
   "outputs": [
    {
     "name": "stdout",
     "output_type": "stream",
     "text": [
      "Finished feature extraction from  175  files\n",
      "Finished feature extraction from  413  files\n",
      "35.436201936666656\n"
     ]
    }
   ],
   "source": [
    "inicio = default_timer()\n",
    "\n",
    "featuresdf_40_test_08=extract_features_test_emovo()\n",
    "\n",
    "featuresdf_40_train_08=extract_features_train_emovo()\n",
    "\n",
    "fin = default_timer()\n",
    "print((fin - inicio)/60)"
   ]
  },
  {
   "cell_type": "code",
   "execution_count": 21,
   "metadata": {},
   "outputs": [
    {
     "name": "stdout",
     "output_type": "stream",
     "text": [
      "Finished feature extraction from  175  files\n",
      "Finished feature extraction from  413  files\n",
      "31.955575906666674\n"
     ]
    }
   ],
   "source": [
    "inicio = default_timer()\n",
    "\n",
    "featuresdf_50_test_08=extract_features_test_emovo()\n",
    "\n",
    "featuresdf_50_train_08=extract_features_train_emovo()\n",
    "\n",
    "fin = default_timer()\n",
    "print((fin - inicio)/60)"
   ]
  },
  {
   "cell_type": "code",
   "execution_count": 23,
   "metadata": {},
   "outputs": [
    {
     "name": "stdout",
     "output_type": "stream",
     "text": [
      "Finished feature extraction from  175  files\n",
      "Finished feature extraction from  413  files\n",
      "33.24326526833335\n"
     ]
    }
   ],
   "source": [
    "inicio = default_timer()\n",
    "\n",
    "featuresdf_60_test_08=extract_features_test_emovo()\n",
    "\n",
    "featuresdf_60_train_08=extract_features_train_emovo()\n",
    "\n",
    "fin = default_timer()\n",
    "print((fin - inicio)/60)"
   ]
  },
  {
   "cell_type": "code",
   "execution_count": 25,
   "metadata": {},
   "outputs": [
    {
     "name": "stdout",
     "output_type": "stream",
     "text": [
      "Finished feature extraction from  175  files\n",
      "Finished feature extraction from  413  files\n",
      "26.039452621666715\n"
     ]
    }
   ],
   "source": [
    "inicio = default_timer()\n",
    "\n",
    "featuresdf_70_test_08=extract_features_test_emovo()\n",
    "\n",
    "featuresdf_70_train_08=extract_features_train_emovo()\n",
    "\n",
    "fin = default_timer()\n",
    "print((fin - inicio)/60)"
   ]
  },
  {
   "cell_type": "code",
   "execution_count": 27,
   "metadata": {},
   "outputs": [
    {
     "name": "stdout",
     "output_type": "stream",
     "text": [
      "Finished feature extraction from  175  files\n",
      "Finished feature extraction from  413  files\n",
      "34.50342988666671\n"
     ]
    }
   ],
   "source": [
    "inicio = default_timer()\n",
    "\n",
    "featuresdf_80_test_08=extract_features_test_emovo()\n",
    "\n",
    "featuresdf_80_train_08=extract_features_train_emovo()\n",
    "\n",
    "fin = default_timer()\n",
    "print((fin - inicio)/60)"
   ]
  },
  {
   "cell_type": "code",
   "execution_count": 29,
   "metadata": {},
   "outputs": [
    {
     "name": "stdout",
     "output_type": "stream",
     "text": [
      "Finished feature extraction from  175  files\n",
      "Finished feature extraction from  413  files\n",
      "53.48853696499997\n"
     ]
    }
   ],
   "source": [
    "inicio = default_timer()\n",
    "\n",
    "featuresdf_90_test_08=extract_features_test_emovo()\n",
    "\n",
    "featuresdf_90_train_08=extract_features_train_emovo()\n",
    "\n",
    "fin = default_timer()\n",
    "print((fin - inicio)/60)"
   ]
  },
  {
   "cell_type": "code",
   "execution_count": 31,
   "metadata": {},
   "outputs": [
    {
     "name": "stdout",
     "output_type": "stream",
     "text": [
      "Finished feature extraction from  175  files\n",
      "Finished feature extraction from  413  files\n",
      "47.68294191666664\n"
     ]
    }
   ],
   "source": [
    "inicio = default_timer()\n",
    "\n",
    "featuresdf_100_test_08=extract_features_test_emovo()\n",
    "\n",
    "featuresdf_100_train_08=extract_features_train_emovo()\n",
    "\n",
    "fin = default_timer()\n",
    "print((fin - inicio)/60)"
   ]
  },
  {
   "cell_type": "code",
   "execution_count": 32,
   "metadata": {},
   "outputs": [
    {
     "name": "stdout",
     "output_type": "stream",
     "text": [
      "Stored 'featuresdf_10_test_08' (DataFrame)\n",
      "Stored 'featuresdf_10_train_08' (DataFrame)\n",
      "Stored 'featuresdf_20_test_08' (DataFrame)\n",
      "Stored 'featuresdf_20_train_08' (DataFrame)\n",
      "Stored 'featuresdf_30_test_08' (DataFrame)\n",
      "Stored 'featuresdf_30_train_08' (DataFrame)\n",
      "Stored 'featuresdf_40_test_08' (DataFrame)\n",
      "Stored 'featuresdf_40_train_08' (DataFrame)\n",
      "Stored 'featuresdf_50_test_08' (DataFrame)\n",
      "Stored 'featuresdf_50_train_08' (DataFrame)\n",
      "Stored 'featuresdf_60_test_08' (DataFrame)\n",
      "Stored 'featuresdf_60_train_08' (DataFrame)\n",
      "Stored 'featuresdf_70_test_08' (DataFrame)\n",
      "Stored 'featuresdf_70_train_08' (DataFrame)\n",
      "Stored 'featuresdf_80_test_08' (DataFrame)\n",
      "Stored 'featuresdf_80_train_08' (DataFrame)\n",
      "Stored 'featuresdf_90_test_08' (DataFrame)\n",
      "Stored 'featuresdf_90_train_08' (DataFrame)\n",
      "Stored 'featuresdf_100_test_08' (DataFrame)\n",
      "Stored 'featuresdf_100_train_08' (DataFrame)\n"
     ]
    }
   ],
   "source": [
    "%store featuresdf_10_test_08\n",
    "%store featuresdf_10_train_08\n",
    "%store featuresdf_20_test_08\n",
    "%store featuresdf_20_train_08\n",
    "%store featuresdf_30_test_08\n",
    "%store featuresdf_30_train_08\n",
    "%store featuresdf_40_test_08\n",
    "%store featuresdf_40_train_08\n",
    "%store featuresdf_50_test_08\n",
    "%store featuresdf_50_train_08\n",
    "%store featuresdf_60_test_08\n",
    "%store featuresdf_60_train_08\n",
    "%store featuresdf_70_test_08\n",
    "%store featuresdf_70_train_08\n",
    "%store featuresdf_80_test_08\n",
    "%store featuresdf_80_train_08\n",
    "%store featuresdf_90_test_08\n",
    "%store featuresdf_90_train_08\n",
    "%store featuresdf_100_test_08\n",
    "%store featuresdf_100_train_08"
   ]
  },
  {
   "cell_type": "code",
   "execution_count": 30,
   "metadata": {},
   "outputs": [],
   "source": [
    "# -*- coding: utf-8 -*-\n",
    "\"\"\"\n",
    "Programa para extraer las firmas de audio de archivos contenidos en un directorio\n",
    "Created on Mon Jul 27 12:56:21 2020\n",
    "@author: alain\n",
    "\"\"\"\n",
    "\n",
    "import os\n",
    "import matplotlib.pyplot as plt\n",
    "import scipy.io.wavfile as rd\n",
    "import scipy.fftpack as fourier\n",
    "import scipy.signal as sg\n",
    "import numpy as np\n",
    "import math \n",
    "import csv\n",
    "\n",
    "\n",
    "###############################################################################\n",
    "\n",
    "###############################################################################\n",
    "class mult_spect_ent_coef_corr:\n",
    "    def __init__(self,filename, volumen, volumen2):\n",
    "        #---------------------------CONFIGURACIÓN DEL EXPERIMENTO----------------------------\n",
    "        #Tamaño de frame en segundos\n",
    "        frame = 0.1\n",
    "        #Porcentaje de traslape\n",
    "        overlap = 50\n",
    "        #Constante de preénfasis\n",
    "        self.preemphasis = 0.97\n",
    "        #Tipo de ventana\n",
    "        self.window = 2\n",
    "        #Frecuencia mínima\n",
    "        self.f_min = 0\n",
    "        #número de filtros en el banco\n",
    "        self.n_filters = 22\n",
    "        #Número de coeficientes mfcc\n",
    "        self.n_mses = 24\n",
    "        #Normalización\n",
    "        self.norm = 1\n",
    "        #Tipo de Análisis\n",
    "        self.type_ent = 1\n",
    "        #Lee archivo de audio\n",
    "        self.fs, signal = rd.read(filename)\n",
    "        #Volumen\n",
    "        signal = signal * volumen\n",
    "        self.volumen2 = volumen2\n",
    "        #Frecuencia máxima\n",
    "        self.f_max = self.fs/2.0\n",
    "        \n",
    "        self.audio = signal/32767\n",
    "        self.audio_length = len(signal)\n",
    "        self.frame_size = np.fix(frame*self.fs)\n",
    "        self.overlap_size = np.fix(self.frame_size - self.frame_size*(overlap/100.0))\n",
    "        self.n_frames = self.__Frames()\n",
    "        self.audio_avg = self.__Stereo()\n",
    "        self.half_n = np.fix(self.frame_size/2.0)\n",
    "        self.window_data = self.__Window()\n",
    "        self.freqs = self.__Freqs()\n",
    "        self.mel_freqs = self.__Mel_Freqs()\n",
    "        self.mel_filter_bank = self.__Mel_Filter()\n",
    "        self.coef, self.nl = self.__MSES_Coef()\n",
    "        self.msesscalade = np.mean(self.coef.T, axis=0)\n",
    "        #np.savetxt(\"mfcc_features.txt\", self.coef[:,0:self.nl],  delimiter=\",\", fmt=\"%f\")\n",
    "    \n",
    "    #Convierte señales estereofónicas a monoaurales\n",
    "    def __Stereo(self):\n",
    "        n_channel = len(np.shape(self.audio))\n",
    "        if n_channel > 1:\n",
    "            temp_1 = self.audio[:,0]\n",
    "            temp_2 = self.audio[:,1]\n",
    "            avg = (temp_1 + temp_2)/2\n",
    "        else:\n",
    "            avg = self.audio\n",
    "       \n",
    "        #Aplica filtro de preénfasis\n",
    "        if self.preemphasis != 0.0:\n",
    "            Avg = np.zeros(len(avg))    \n",
    "            Avg[0] = avg[0]\n",
    "            for n in range(1,len(avg)):\n",
    "                Avg[n] = avg[n] - self.preemphasis*avg[n-1]\n",
    "            return Avg*self.volumen2\n",
    "        else:\n",
    "            return avg\n",
    "            \n",
    "    #Determina número de frames para analizar\n",
    "    def __Frames(self):\n",
    "        i = 0\n",
    "        j = 0\n",
    "        while(j < self.audio_length):\n",
    "            j = i*self.overlap_size + self.frame_size\n",
    "            i = i + 1\n",
    "        return i - 1\n",
    "    \n",
    "    #Aplica ventana (Hann, Hamming, Box) a frame de la señal\n",
    "    def __Window(self):\n",
    "        n = np.arange(-self.half_n,self.half_n)\n",
    "        if len(n) != self.frame_size:\n",
    "            n = np.arange(-self.half_n,self.half_n+1)\n",
    "        \n",
    "        #Ventana Box\n",
    "        if self.window == 0:\n",
    "            W = np.ones(len(n))\n",
    "        \n",
    "        #Ventana Hamming\n",
    "        if self.window == 1:\n",
    "            a = 0.53836\n",
    "            b = 0.46164\n",
    "            W = np.array([])\n",
    "            for i in n:\n",
    "                W =np.append(W, a + b*math.cos((2*math.pi*i)/(self.frame_size - 1.0))) \n",
    "        \n",
    "        #Ventana Hann\n",
    "        if self.window == 2:\n",
    "            a = 0.5\n",
    "            b = 0.5\n",
    "            W = np.array([])\n",
    "            for i in n:\n",
    "                W = np.append(W, a + b*math.cos((2*math.pi*i)/(self.frame_size - 1.0)))        \n",
    "        return W\n",
    "    \n",
    "    #Calcula frecuencias en Hertz\n",
    "    def __Freqs(self):\n",
    "        n = np.arange(0,self.half_n)\n",
    "        f = np.array([])\n",
    "        for i in n:\n",
    "            f = np.append(f,(i*self.fs)/self.frame_size)\n",
    "        return f\n",
    "    \n",
    "    #Calcula frecuencias en escala de Mel\n",
    "    def __Mel_Freqs(self):\n",
    "        n = np.arange(0,self.half_n)\n",
    "        f = np.array([])\n",
    "        for i in n:\n",
    "            f = np.append(f,2595*np.log10(self.freqs[int(i)]/700+1))\n",
    "        return f\n",
    "    \n",
    "    #Genera banco de filtros triangulares \n",
    "    def __Mel_Filter(self):\n",
    "        Hkm = np.zeros((int(self.half_n),self.n_filters))\n",
    "        if self.type_ent == 0:\n",
    "            t_bin = int(np.round(int(self.half_n)/self.n_filters))\n",
    "            for i in range(0,self.n_filters):\n",
    "                j = i*t_bin\n",
    "                if i == self.n_filters-1:\n",
    "                    k = int(self.half_n)\n",
    "                else:\n",
    "                    k = i*t_bin + t_bin\n",
    "                \n",
    "                Hkm[j:k,i] = 1\n",
    "        \n",
    "        if self.type_ent == 1:\n",
    "            phi_min = 2595*math.log10(self.f_min/700+1)\n",
    "            phi_max = 2595*math.log10(self.f_max/700+1)\n",
    "            dphi = (phi_max - phi_min)/(self.n_filters+1)\n",
    "            fc = np.zeros(self.n_filters+2)\n",
    "            fc[0] = self.f_min\n",
    "            for i in range(1,len(fc)):\n",
    "                phic = (i-1)*dphi\n",
    "                fc[i-1] = 700*(math.pow(10,(phic + phi_min)/2595)-1)\n",
    "            fc[self.n_filters+1] = self.f_max\n",
    "            n = np.arange(0,self.half_n)\n",
    "            for i in range(1,self.n_filters+1):\n",
    "                for k in n:\n",
    "                    kk = int(k)\n",
    "                    if self.freqs[kk] < fc[i-1]:\n",
    "                        Hkm[kk,i-1] = 0\n",
    "                    if (self.freqs[kk] >= fc[i-1]) and (self.freqs[kk] < fc[i]):\n",
    "                        Hkm[kk,i-1] = (self.freqs[kk] - fc[i-1])/(fc[i] - fc[i-1])\n",
    "                    if (self.freqs[kk] >= fc[i]) and (self.freqs[kk] < fc[i+1]):\n",
    "                        Hkm[kk,i-1] = (self.freqs[kk] - fc[i+1])/(fc[i] - fc[i+1])\n",
    "                    if self.freqs[kk] >= fc[i+1]:\n",
    "                        Hkm[kk,i-1] = 0\n",
    "        return Hkm\n",
    "    \n",
    "    #Determina coeficientes de entropia    \n",
    "    def __MSES_Coef(self):\n",
    "        frame = np.zeros(int(self.frame_size))\n",
    "        self.energy = np.zeros((int(self.half_n),self.n_frames))\n",
    "        self.entropygram = np.zeros((self.n_filters,self.n_frames))\n",
    "        Xm = np.zeros(self.n_filters)\n",
    "        mses = np.zeros(self.n_mses) \n",
    "        wi = np.zeros(2*self.n_mses)\n",
    "        MSES = np.zeros((self.n_mses,self.n_frames))\n",
    "        band_real = np.zeros((self.n_filters,int(self.half_n)))\n",
    "        band_imag = np.zeros((self.n_filters,int(self.half_n))) \n",
    "        bands = np.zeros((self.n_filters,int(self.half_n)))   \n",
    "        pdf = np.zeros((self.n_filters,int(self.half_n)))  \n",
    "        \n",
    "        #Pesos para el proceso de liftering\n",
    "        for i in range(0,2*self.n_mses):\n",
    "            wi[i] = 1 + self.n_mses*np.sin(math.pi*i/(2*self.n_mses-1))\n",
    "            \n",
    "\n",
    "        \n",
    "        l = 0\n",
    "        #Análisis de frames\n",
    "        for i in range(0,int(self.n_frames)):\n",
    "            #Extrae frame de la señal\n",
    "            frame = self.audio_avg[i*int(self.overlap_size):i*int(self.overlap_size)+int(self.frame_size)]\n",
    "            \n",
    "            \n",
    "            #función de autocorrelación\n",
    "            acorr = np.correlate(frame,frame,mode='full')\n",
    "            m = np.amax(acorr[20:len(acorr)])\n",
    "            \n",
    "            if m > 0.1:\n",
    "            \n",
    "            \n",
    "\n",
    "                #Multiplica frame por ventana\n",
    "                frame = frame*self.window_data\n",
    "                #Extrae espectro de potencia \n",
    "                FFT = fourier.fft(frame)\n",
    "                P = np.abs(FFT)\n",
    "                #Determina espectrograma de la señal\n",
    "                self.energy[:,l] = 10*np.log10(P[0:int(self.half_n)]) \n",
    "                \n",
    "                #Separa parte real e imaginaria\n",
    "                if self.type_ent == 1:\n",
    "                    real = np.real(FFT)\n",
    "                    imag = np.imag(FFT)\n",
    "                        \n",
    "                \n",
    "                for j in range(0,self.n_filters):\n",
    "                    #Multiplica espectro de potencia por filtros triangulares\n",
    "                    if self.type_ent == 1:\n",
    "                        Ps_real = real[0:int(self.half_n)]*self.mel_filter_bank[:,j]\n",
    "                        Ps_imag = imag[0:int(self.half_n)]*self.mel_filter_bank[:,j]\n",
    "                    \n",
    "                    if self.type_ent == 0:\n",
    "                        Ps = P[0:int(self.half_n)]*self.mel_filter_bank[:,j]\n",
    "                    \n",
    "                    \n",
    "                    \n",
    "                    #Separa componentes espectrales por bandas\n",
    "                    if self.type_ent == 1:\n",
    "                        band_real[j,:] = Ps_real\n",
    "                        band_imag[j,:] = Ps_imag\n",
    "                    \n",
    "                    if self.type_ent == 0:\n",
    "                        bands[j,:] = Ps\n",
    "    \n",
    "                #Selecciona tipo de cómputo de entropía            \n",
    "                if self.type_ent == 0:\n",
    "                    sum_band = bands.sum(1)\n",
    "                    for j in range(0,self.n_filters):\n",
    "                        pdf[j,:] = bands[j,:]/sum_band[j]\n",
    "                        suma = 0\n",
    "                        for k in range(0,int(self.half_n)):\n",
    "                            if pdf[j,k] != 0:\n",
    "                                suma = suma + pdf[j,k]*np.log(pdf[j,k])\n",
    "                        Xm[j] = -suma\n",
    "                \n",
    "                if self.type_ent == 1:\n",
    "                    #Cuenta elementos por banda de frecuencia\n",
    "                    rows_count = (band_real != 0).sum(1)\n",
    "                    #Obtiene medias por bandas\n",
    "                    Mean_real = band_real.sum(1) / rows_count\n",
    "                    Mean_imag = band_imag.sum(1) / rows_count\n",
    "                    #Determina varianza, covarianza y entropía    \n",
    "                    for j in range(0,self.n_filters):\n",
    "                        suma_r = 0\n",
    "                        suma_i = 0\n",
    "                        suma = 0\n",
    "                        for k in range(0,int(self.half_n)):\n",
    "                            if band_real[j,k] != 0 and band_imag[j,k] != 0:\n",
    "                                suma_r = suma_r + (band_real[j,k]-Mean_real[j])*(band_real[j,k]-Mean_real[j])\n",
    "                                suma_i = suma_i + (band_imag[j,k]-Mean_imag[j])*(band_imag[j,k]-Mean_imag[j])\n",
    "                                suma = suma + (band_real[j,k]-Mean_real[j])*(band_imag[j,k]-Mean_imag[j])\n",
    "                        var_real = suma_r/rows_count[j]\n",
    "                        var_imag = suma_i/rows_count[j]\n",
    "                        cova = suma/rows_count[j]\n",
    "                                        \n",
    "                        Det = (var_real*var_imag) - (cova*cova)\n",
    "                        \n",
    "                        if Det <= 0:\n",
    "                            Det = 0\n",
    "                        else:\n",
    "                            Det = np.log(Det)\n",
    "                        Xm[j] = np.log(2*math.pi*np.exp(1)) + Det/2.0    \n",
    "                         \n",
    "                    \n",
    "                #Determina entropigrama de la señal\n",
    "                self.entropygram[:,l] = Xm\n",
    "                \n",
    "                #Aplica transformada coseno\n",
    "                for j in range(1,self.n_mses+1):\n",
    "                    suma = 0\n",
    "                    for k in range(1,self.n_filters+1):\n",
    "                        suma = suma + Xm[k-1]*np.cos(math.pi*j*(k-(1/2))/self.n_filters)\n",
    "                    mses[j-1] = suma \n",
    "                #Aplica proceso de liftering\n",
    "                mses = mses*wi[0:self.n_mses]\n",
    "                #Genera matriz de coeficientes mses\n",
    "                MSES[:,l] = mses\n",
    "                l = l + 1\n",
    "        \n",
    "        #Normaliza matriz de coeficientes mses\n",
    "        if self.norm == 1:            \n",
    "            MSES = (MSES - np.mean(MSES))/np.std(MSES)\n",
    "        return MSES,l"
   ]
  },
  {
   "cell_type": "code",
   "execution_count": 6,
   "metadata": {},
   "outputs": [],
   "source": [
    "def extract_features_test_emovo():\n",
    "    \n",
    "    try:\n",
    "        fulldatasetpath = r'C:\\Users\\SACKRAY7\\Desktop\\Uni\\8vo\\TESIS\\retomando la tesis 23-06-2020\\Udacity-ML-Capstone-master\\Udacity-ML-Capstone-master\\emovo - testSize 0.3\\audio'\n",
    "\n",
    "        metadata = pd.read_csv(r'C:\\Users\\SACKRAY7\\Desktop\\Uni\\8vo\\TESIS\\retomando la tesis 23-06-2020\\Udacity-ML-Capstone-master\\Udacity-ML-Capstone-master\\UrbanSound Dataset sample\\metadata\\emovo2 - testSize 0.3.csv')\n",
    "\n",
    "        features_emovo = []\n",
    "\n",
    "        # Iterate through each sound file and extract the features \n",
    "        for index, row in metadata.iterrows():\n",
    "\n",
    "            file_name = os.path.join(os.path.abspath(fulldatasetpath),str(row[\"fold\"])+'/',str(row[\"slice_file_name\"]))\n",
    "\n",
    "            class_label = row[\"class_name\"]\n",
    "            volumen = row[\"volumen\"]\n",
    "            volumen2 = row[\"volumen2\"]\n",
    "            if row[\"if\"] == \"test\": \n",
    "                data = mult_spect_ent_coef_corr(file_name, volumen, volumen2)\n",
    "                features_emovo.append([data.msesscalade, class_label])\n",
    "\n",
    "        # Convert into a Panda dataframe \n",
    "        featuresdf_emovo = pd.DataFrame(features_emovo, columns=['feature','class_label'])\n",
    "\n",
    "        print('Finished feature extraction from ', len(featuresdf_emovo), ' files') \n",
    "\n",
    "    except Exception as e:\n",
    "        print(\"Error encoutered while parsing file: \", file_name)\n",
    "        return None\n",
    "\n",
    "    return featuresdf_emovo"
   ]
  },
  {
   "cell_type": "code",
   "execution_count": 7,
   "metadata": {},
   "outputs": [],
   "source": [
    "def extract_features_train_emovo():\n",
    "    \n",
    "    try:\n",
    "        fulldatasetpath = r'C:\\Users\\SACKRAY7\\Desktop\\Uni\\8vo\\TESIS\\retomando la tesis 23-06-2020\\Udacity-ML-Capstone-master\\Udacity-ML-Capstone-master\\emovo - testSize 0.3\\audio'\n",
    "\n",
    "        metadata = pd.read_csv(r'C:\\Users\\SACKRAY7\\Desktop\\Uni\\8vo\\TESIS\\retomando la tesis 23-06-2020\\Udacity-ML-Capstone-master\\Udacity-ML-Capstone-master\\UrbanSound Dataset sample\\metadata\\emovo2 - testSize 0.3.csv')\n",
    "\n",
    "        features_emovo = []\n",
    "\n",
    "        # Iterate through each sound file and extract the features \n",
    "        for index, row in metadata.iterrows():\n",
    "\n",
    "            file_name = os.path.join(os.path.abspath(fulldatasetpath),str(row[\"fold\"])+'/',str(row[\"slice_file_name\"]))\n",
    "\n",
    "            class_label = row[\"class_name\"]\n",
    "            volumen = row[\"volumen\"]\n",
    "            volumen2 = row[\"volumen2\"]\n",
    "            if row[\"if\"] == \"train\": \n",
    "                data = mult_spect_ent_coef_corr(file_name, volumen, volumen2)\n",
    "                features_emovo.append([data.msesscalade, class_label])\n",
    "\n",
    "        # Convert into a Panda dataframe \n",
    "        featuresdf_emovo = pd.DataFrame(features_emovo, columns=['feature','class_label'])\n",
    "\n",
    "        print('Finished feature extraction from ', len(featuresdf_emovo), ' files') \n",
    "\n",
    "    except Exception as e:\n",
    "        print(\"Error encoutered while parsing file: \", file_name)\n",
    "        return None\n",
    "\n",
    "    return featuresdf_emovo"
   ]
  },
  {
   "cell_type": "code",
   "execution_count": 9,
   "metadata": {},
   "outputs": [],
   "source": [
    "import matplotlib.pyplot as plt\n",
    "import scipy.io.wavfile as rd\n",
    "import scipy.fftpack as fourier\n",
    "import scipy.signal as sg\n",
    "import numpy as np\n",
    "import math \n",
    "\n",
    "import pandas as pd\n",
    "import os\n",
    "import librosa\n",
    "from timeit import default_timer"
   ]
  }
 ],
 "metadata": {
  "kernelspec": {
   "display_name": "Python 3",
   "language": "python",
   "name": "python3"
  },
  "language_info": {
   "codemirror_mode": {
    "name": "ipython",
    "version": 3
   },
   "file_extension": ".py",
   "mimetype": "text/x-python",
   "name": "python",
   "nbconvert_exporter": "python",
   "pygments_lexer": "ipython3",
   "version": "3.7.4"
  }
 },
 "nbformat": 4,
 "nbformat_minor": 4
}
