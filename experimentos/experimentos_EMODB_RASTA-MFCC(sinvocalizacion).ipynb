{
 "cells": [
  {
   "cell_type": "markdown",
   "metadata": {},
   "source": [
    "## EMODB Experimento 1 \n",
    "\n",
    "### Cantidad de coeficientes 12, 24, 36, 48, Usando ventana tipo 2, sin preénfasis, ancho de band completo (fs/2), tamaño de frame de 30ms y traslape de 50\n",
    "\n",
    "### Window=2  preénfasis=0 f_max = fs/2  frame=0.03 overlap=50\n"
   ]
  },
  {
   "cell_type": "markdown",
   "metadata": {},
   "source": [
    "# MFCC"
   ]
  },
  {
   "cell_type": "code",
   "execution_count": 11,
   "metadata": {},
   "outputs": [
    {
     "name": "stdout",
     "output_type": "stream",
     "text": [
      "Finished feature extraction from  161  files\n"
     ]
    },
    {
     "name": "stderr",
     "output_type": "stream",
     "text": [
      "C:\\ProgramData\\Anaconda3\\lib\\site-packages\\ipykernel_launcher.py:6: WavFileWarning: Chunk (non-data) not understood, skipping it.\n",
      "  \n"
     ]
    },
    {
     "name": "stdout",
     "output_type": "stream",
     "text": [
      "Finished feature extraction from  374  files\n",
      "2.4380848433333333\n"
     ]
    }
   ],
   "source": [
    "inicio = default_timer()\n",
    "\n",
    "featuresdf_EMODB_12_test_9=extract_features_test_EMODB()#pau-f3-d1, tri-m1-d2, tri-f3-d1, tri-f3-d2, tri-f3-l3, tri-f3-l4, tri-f3-n3, tri-f3-n5 audio que generaba error\n",
    "\n",
    "featuresdf_EMODB_12_train_9=extract_features_train_EMODB()\n",
    "\n",
    "fin = default_timer()\n",
    "print((fin - inicio)/60) "
   ]
  },
  {
   "cell_type": "code",
   "execution_count": 13,
   "metadata": {},
   "outputs": [
    {
     "name": "stdout",
     "output_type": "stream",
     "text": [
      "Finished feature extraction from  161  files\n"
     ]
    },
    {
     "name": "stderr",
     "output_type": "stream",
     "text": [
      "C:\\ProgramData\\Anaconda3\\lib\\site-packages\\ipykernel_launcher.py:6: WavFileWarning: Chunk (non-data) not understood, skipping it.\n",
      "  \n"
     ]
    },
    {
     "name": "stdout",
     "output_type": "stream",
     "text": [
      "Finished feature extraction from  374  files\n",
      "2.874954546666671\n"
     ]
    }
   ],
   "source": [
    "inicio = default_timer()\n",
    "\n",
    "featuresdf_EMODB_24_test_9=extract_features_test_EMODB()\n",
    "\n",
    "featuresdf_EMODB_24_train_9=extract_features_train_EMODB()\n",
    "\n",
    "fin = default_timer()\n",
    "print((fin - inicio)/60)"
   ]
  },
  {
   "cell_type": "code",
   "execution_count": 15,
   "metadata": {},
   "outputs": [
    {
     "name": "stdout",
     "output_type": "stream",
     "text": [
      "Finished feature extraction from  161  files\n"
     ]
    },
    {
     "name": "stderr",
     "output_type": "stream",
     "text": [
      "C:\\ProgramData\\Anaconda3\\lib\\site-packages\\ipykernel_launcher.py:6: WavFileWarning: Chunk (non-data) not understood, skipping it.\n",
      "  \n"
     ]
    },
    {
     "name": "stdout",
     "output_type": "stream",
     "text": [
      "Finished feature extraction from  374  files\n",
      "4.165283270000009\n"
     ]
    }
   ],
   "source": [
    "inicio = default_timer()\n",
    "\n",
    "featuresdf_EMODB_36_test_9=extract_features_test_EMODB()\n",
    "\n",
    "featuresdf_EMODB_36_train_9=extract_features_train_EMODB()\n",
    "\n",
    "fin = default_timer()\n",
    "print((fin - inicio)/60)"
   ]
  },
  {
   "cell_type": "code",
   "execution_count": 17,
   "metadata": {},
   "outputs": [
    {
     "name": "stdout",
     "output_type": "stream",
     "text": [
      "Finished feature extraction from  161  files\n"
     ]
    },
    {
     "name": "stderr",
     "output_type": "stream",
     "text": [
      "C:\\ProgramData\\Anaconda3\\lib\\site-packages\\ipykernel_launcher.py:6: WavFileWarning: Chunk (non-data) not understood, skipping it.\n",
      "  \n"
     ]
    },
    {
     "name": "stdout",
     "output_type": "stream",
     "text": [
      "Finished feature extraction from  374  files\n",
      "5.278704598333343\n"
     ]
    }
   ],
   "source": [
    "inicio = default_timer()\n",
    "\n",
    "featuresdf_EMODB_48_test_9=extract_features_test_EMODB()\n",
    "\n",
    "featuresdf_EMODB_48_train_9=extract_features_train_EMODB()\n",
    "\n",
    "fin = default_timer()\n",
    "print((fin - inicio)/60)"
   ]
  },
  {
   "cell_type": "code",
   "execution_count": 18,
   "metadata": {},
   "outputs": [
    {
     "name": "stdout",
     "output_type": "stream",
     "text": [
      "Stored 'featuresdf_EMODB_12_test_9' (DataFrame)\n",
      "Stored 'featuresdf_EMODB_12_train_9' (DataFrame)\n",
      "Stored 'featuresdf_EMODB_24_test_9' (DataFrame)\n",
      "Stored 'featuresdf_EMODB_24_train_9' (DataFrame)\n",
      "Stored 'featuresdf_EMODB_36_test_9' (DataFrame)\n",
      "Stored 'featuresdf_EMODB_36_train_9' (DataFrame)\n",
      "Stored 'featuresdf_EMODB_48_test_9' (DataFrame)\n",
      "Stored 'featuresdf_EMODB_48_train_9' (DataFrame)\n"
     ]
    }
   ],
   "source": [
    "%store featuresdf_EMODB_12_test_9\n",
    "%store featuresdf_EMODB_12_train_9\n",
    "%store featuresdf_EMODB_24_test_9\n",
    "%store featuresdf_EMODB_24_train_9\n",
    "%store featuresdf_EMODB_36_test_9\n",
    "%store featuresdf_EMODB_36_train_9\n",
    "%store featuresdf_EMODB_48_test_9\n",
    "%store featuresdf_EMODB_48_train_9"
   ]
  },
  {
   "cell_type": "markdown",
   "metadata": {},
   "source": [
    "# RASTA-MFCC"
   ]
  },
  {
   "cell_type": "code",
   "execution_count": 22,
   "metadata": {},
   "outputs": [
    {
     "name": "stdout",
     "output_type": "stream",
     "text": [
      "Finished feature extraction from  161  files\n"
     ]
    },
    {
     "name": "stderr",
     "output_type": "stream",
     "text": [
      "C:\\ProgramData\\Anaconda3\\lib\\site-packages\\ipykernel_launcher.py:6: WavFileWarning: Chunk (non-data) not understood, skipping it.\n",
      "  \n"
     ]
    },
    {
     "name": "stdout",
     "output_type": "stream",
     "text": [
      "Finished feature extraction from  374  files\n",
      "3.3218066466666794\n"
     ]
    }
   ],
   "source": [
    "inicio = default_timer()\n",
    "\n",
    "featuresdf_EMODB_12_test_10=extract_features_test_EMODB()\n",
    "\n",
    "featuresdf_EMODB_12_train_10=extract_features_train_EMODB()\n",
    "\n",
    "fin = default_timer()\n",
    "print((fin - inicio)/60)  "
   ]
  },
  {
   "cell_type": "code",
   "execution_count": 25,
   "metadata": {},
   "outputs": [
    {
     "name": "stdout",
     "output_type": "stream",
     "text": [
      "Finished feature extraction from  161  files\n"
     ]
    },
    {
     "name": "stderr",
     "output_type": "stream",
     "text": [
      "C:\\ProgramData\\Anaconda3\\lib\\site-packages\\ipykernel_launcher.py:6: WavFileWarning: Chunk (non-data) not understood, skipping it.\n",
      "  \n"
     ]
    },
    {
     "name": "stdout",
     "output_type": "stream",
     "text": [
      "Finished feature extraction from  374  files\n",
      "4.089123850000003\n"
     ]
    }
   ],
   "source": [
    "inicio = default_timer()\n",
    "\n",
    "featuresdf_EMODB_24_test_10=extract_features_test_EMODB()\n",
    "\n",
    "featuresdf_EMODB_24_train_10=extract_features_train_EMODB()\n",
    "\n",
    "fin = default_timer()\n",
    "print((fin - inicio)/60) "
   ]
  },
  {
   "cell_type": "code",
   "execution_count": 27,
   "metadata": {},
   "outputs": [
    {
     "name": "stdout",
     "output_type": "stream",
     "text": [
      "Finished feature extraction from  161  files\n"
     ]
    },
    {
     "name": "stderr",
     "output_type": "stream",
     "text": [
      "C:\\ProgramData\\Anaconda3\\lib\\site-packages\\ipykernel_launcher.py:6: WavFileWarning: Chunk (non-data) not understood, skipping it.\n",
      "  \n"
     ]
    },
    {
     "name": "stdout",
     "output_type": "stream",
     "text": [
      "Finished feature extraction from  374  files\n",
      "5.05880852333333\n"
     ]
    }
   ],
   "source": [
    "inicio = default_timer()\n",
    "\n",
    "featuresdf_EMODB_36_test_10=extract_features_test_EMODB()\n",
    "\n",
    "featuresdf_EMODB_36_train_10=extract_features_train_EMODB()\n",
    "\n",
    "fin = default_timer()\n",
    "print((fin - inicio)/60) "
   ]
  },
  {
   "cell_type": "code",
   "execution_count": 29,
   "metadata": {},
   "outputs": [
    {
     "name": "stdout",
     "output_type": "stream",
     "text": [
      "Finished feature extraction from  161  files\n"
     ]
    },
    {
     "name": "stderr",
     "output_type": "stream",
     "text": [
      "C:\\ProgramData\\Anaconda3\\lib\\site-packages\\ipykernel_launcher.py:6: WavFileWarning: Chunk (non-data) not understood, skipping it.\n",
      "  \n"
     ]
    },
    {
     "name": "stdout",
     "output_type": "stream",
     "text": [
      "Finished feature extraction from  374  files\n",
      "5.728001313333334\n"
     ]
    }
   ],
   "source": [
    "inicio = default_timer()\n",
    "\n",
    "featuresdf_EMODB_48_test_10=extract_features_test_EMODB()\n",
    "\n",
    "featuresdf_EMODB_48_train_10=extract_features_train_EMODB()\n",
    "\n",
    "fin = default_timer()\n",
    "print((fin - inicio)/60) "
   ]
  },
  {
   "cell_type": "code",
   "execution_count": 30,
   "metadata": {},
   "outputs": [
    {
     "name": "stdout",
     "output_type": "stream",
     "text": [
      "Stored 'featuresdf_EMODB_12_test_10' (DataFrame)\n",
      "Stored 'featuresdf_EMODB_12_train_10' (DataFrame)\n",
      "Stored 'featuresdf_EMODB_24_test_10' (DataFrame)\n",
      "Stored 'featuresdf_EMODB_24_train_10' (DataFrame)\n",
      "Stored 'featuresdf_EMODB_36_test_10' (DataFrame)\n",
      "Stored 'featuresdf_EMODB_36_train_10' (DataFrame)\n",
      "Stored 'featuresdf_EMODB_48_test_10' (DataFrame)\n",
      "Stored 'featuresdf_EMODB_48_train_10' (DataFrame)\n"
     ]
    }
   ],
   "source": [
    "%store featuresdf_EMODB_12_test_10\n",
    "%store featuresdf_EMODB_12_train_10\n",
    "%store featuresdf_EMODB_24_test_10\n",
    "%store featuresdf_EMODB_24_train_10\n",
    "%store featuresdf_EMODB_36_test_10\n",
    "%store featuresdf_EMODB_36_train_10\n",
    "%store featuresdf_EMODB_48_test_10\n",
    "%store featuresdf_EMODB_48_train_10"
   ]
  },
  {
   "cell_type": "markdown",
   "metadata": {},
   "source": [
    "## EMODB Experimento 1.5\n",
    "\n",
    "### Cantidad de coeficientes 12, 24, 36, 48, Usando ventana tipo 2, Con preénfasis 0.97, ancho de band completo (fs/2), tamaño de frame de 30ms y traslape de 50\n",
    "\n",
    "### Window=2 preénfasis=0.97 f_max = fs/2 frame=0.03 overlap=50"
   ]
  },
  {
   "cell_type": "markdown",
   "metadata": {},
   "source": [
    "# MFCC"
   ]
  },
  {
   "cell_type": "code",
   "execution_count": 32,
   "metadata": {},
   "outputs": [
    {
     "name": "stdout",
     "output_type": "stream",
     "text": [
      "Finished feature extraction from  161  files\n"
     ]
    },
    {
     "name": "stderr",
     "output_type": "stream",
     "text": [
      "C:\\ProgramData\\Anaconda3\\lib\\site-packages\\ipykernel_launcher.py:6: WavFileWarning: Chunk (non-data) not understood, skipping it.\n",
      "  \n"
     ]
    },
    {
     "name": "stdout",
     "output_type": "stream",
     "text": [
      "Finished feature extraction from  374  files\n",
      "3.0769506466666825\n"
     ]
    }
   ],
   "source": [
    "inicio = default_timer()\n",
    "\n",
    "featuresdf_EMODB_12_test_11=extract_features_test_EMODB()\n",
    "\n",
    "featuresdf_EMODB_12_train_11=extract_features_train_EMODB()\n",
    "\n",
    "fin = default_timer()\n",
    "print((fin - inicio)/60) "
   ]
  },
  {
   "cell_type": "code",
   "execution_count": 35,
   "metadata": {},
   "outputs": [
    {
     "name": "stdout",
     "output_type": "stream",
     "text": [
      "Finished feature extraction from  161  files\n"
     ]
    },
    {
     "name": "stderr",
     "output_type": "stream",
     "text": [
      "C:\\ProgramData\\Anaconda3\\lib\\site-packages\\ipykernel_launcher.py:6: WavFileWarning: Chunk (non-data) not understood, skipping it.\n",
      "  \n"
     ]
    },
    {
     "name": "stdout",
     "output_type": "stream",
     "text": [
      "Finished feature extraction from  374  files\n",
      "3.514996328333321\n"
     ]
    }
   ],
   "source": [
    "inicio = default_timer()\n",
    "\n",
    "featuresdf_EMODB_24_test_11=extract_features_test_EMODB()\n",
    "\n",
    "featuresdf_EMODB_24_train_11=extract_features_train_EMODB()\n",
    "\n",
    "fin = default_timer()\n",
    "print((fin - inicio)/60)  "
   ]
  },
  {
   "cell_type": "code",
   "execution_count": 37,
   "metadata": {},
   "outputs": [
    {
     "name": "stdout",
     "output_type": "stream",
     "text": [
      "Finished feature extraction from  161  files\n"
     ]
    },
    {
     "name": "stderr",
     "output_type": "stream",
     "text": [
      "C:\\ProgramData\\Anaconda3\\lib\\site-packages\\ipykernel_launcher.py:6: WavFileWarning: Chunk (non-data) not understood, skipping it.\n",
      "  \n"
     ]
    },
    {
     "name": "stdout",
     "output_type": "stream",
     "text": [
      "Finished feature extraction from  374  files\n",
      "4.10263620166667\n"
     ]
    }
   ],
   "source": [
    "inicio = default_timer()\n",
    "\n",
    "featuresdf_EMODB_36_test_11=extract_features_test_EMODB()\n",
    "\n",
    "featuresdf_EMODB_36_train_11=extract_features_train_EMODB()\n",
    "\n",
    "fin = default_timer()\n",
    "print((fin - inicio)/60) "
   ]
  },
  {
   "cell_type": "code",
   "execution_count": 40,
   "metadata": {},
   "outputs": [
    {
     "name": "stdout",
     "output_type": "stream",
     "text": [
      "Finished feature extraction from  161  files\n"
     ]
    },
    {
     "name": "stderr",
     "output_type": "stream",
     "text": [
      "C:\\ProgramData\\Anaconda3\\lib\\site-packages\\ipykernel_launcher.py:6: WavFileWarning: Chunk (non-data) not understood, skipping it.\n",
      "  \n"
     ]
    },
    {
     "name": "stdout",
     "output_type": "stream",
     "text": [
      "Finished feature extraction from  374  files\n",
      "5.042823533333346\n"
     ]
    }
   ],
   "source": [
    "inicio = default_timer()\n",
    "\n",
    "featuresdf_EMODB_48_test_11=extract_features_test_EMODB()\n",
    "\n",
    "featuresdf_EMODB_48_train_11=extract_features_train_EMODB()\n",
    "\n",
    "fin = default_timer()\n",
    "print((fin - inicio)/60) "
   ]
  },
  {
   "cell_type": "code",
   "execution_count": 41,
   "metadata": {},
   "outputs": [
    {
     "name": "stdout",
     "output_type": "stream",
     "text": [
      "Stored 'featuresdf_EMODB_12_test_11' (DataFrame)\n",
      "Stored 'featuresdf_EMODB_12_train_11' (DataFrame)\n",
      "Stored 'featuresdf_EMODB_24_test_11' (DataFrame)\n",
      "Stored 'featuresdf_EMODB_24_train_11' (DataFrame)\n",
      "Stored 'featuresdf_EMODB_36_test_11' (DataFrame)\n",
      "Stored 'featuresdf_EMODB_36_train_11' (DataFrame)\n",
      "Stored 'featuresdf_EMODB_48_test_11' (DataFrame)\n",
      "Stored 'featuresdf_EMODB_48_train_11' (DataFrame)\n"
     ]
    }
   ],
   "source": [
    "%store featuresdf_EMODB_12_test_11\n",
    "%store featuresdf_EMODB_12_train_11\n",
    "%store featuresdf_EMODB_24_test_11\n",
    "%store featuresdf_EMODB_24_train_11\n",
    "%store featuresdf_EMODB_36_test_11\n",
    "%store featuresdf_EMODB_36_train_11\n",
    "%store featuresdf_EMODB_48_test_11\n",
    "%store featuresdf_EMODB_48_train_11"
   ]
  },
  {
   "cell_type": "markdown",
   "metadata": {},
   "source": [
    "# RASTA-MFCC"
   ]
  },
  {
   "cell_type": "code",
   "execution_count": 43,
   "metadata": {},
   "outputs": [
    {
     "name": "stdout",
     "output_type": "stream",
     "text": [
      "Finished feature extraction from  161  files\n"
     ]
    },
    {
     "name": "stderr",
     "output_type": "stream",
     "text": [
      "C:\\ProgramData\\Anaconda3\\lib\\site-packages\\ipykernel_launcher.py:6: WavFileWarning: Chunk (non-data) not understood, skipping it.\n",
      "  \n"
     ]
    },
    {
     "name": "stdout",
     "output_type": "stream",
     "text": [
      "Finished feature extraction from  374  files\n",
      "3.094582618333334\n"
     ]
    }
   ],
   "source": [
    "inicio = default_timer()\n",
    "\n",
    "featuresdf_EMODB_12_test_12=extract_features_test_EMODB()\n",
    "\n",
    "featuresdf_EMODB_12_train_12=extract_features_train_EMODB()\n",
    "\n",
    "fin = default_timer()\n",
    "print((fin - inicio)/60) "
   ]
  },
  {
   "cell_type": "code",
   "execution_count": 45,
   "metadata": {},
   "outputs": [
    {
     "name": "stdout",
     "output_type": "stream",
     "text": [
      "Finished feature extraction from  161  files\n"
     ]
    },
    {
     "name": "stderr",
     "output_type": "stream",
     "text": [
      "C:\\ProgramData\\Anaconda3\\lib\\site-packages\\ipykernel_launcher.py:6: WavFileWarning: Chunk (non-data) not understood, skipping it.\n",
      "  \n"
     ]
    },
    {
     "name": "stdout",
     "output_type": "stream",
     "text": [
      "Finished feature extraction from  374  files\n",
      "4.047140279999985\n"
     ]
    }
   ],
   "source": [
    "inicio = default_timer()\n",
    "\n",
    "featuresdf_EMODB_24_test_12=extract_features_test_EMODB()\n",
    "\n",
    "featuresdf_EMODB_24_train_12=extract_features_train_EMODB()\n",
    "\n",
    "fin = default_timer()\n",
    "print((fin - inicio)/60) "
   ]
  },
  {
   "cell_type": "code",
   "execution_count": 47,
   "metadata": {},
   "outputs": [
    {
     "name": "stdout",
     "output_type": "stream",
     "text": [
      "Finished feature extraction from  161  files\n"
     ]
    },
    {
     "name": "stderr",
     "output_type": "stream",
     "text": [
      "C:\\ProgramData\\Anaconda3\\lib\\site-packages\\ipykernel_launcher.py:6: WavFileWarning: Chunk (non-data) not understood, skipping it.\n",
      "  \n"
     ]
    },
    {
     "name": "stdout",
     "output_type": "stream",
     "text": [
      "Finished feature extraction from  374  files\n",
      "4.86240552666665\n"
     ]
    }
   ],
   "source": [
    "inicio = default_timer()\n",
    "\n",
    "featuresdf_EMODB_36_test_12=extract_features_test_EMODB()\n",
    "\n",
    "featuresdf_EMODB_36_train_12=extract_features_train_EMODB()\n",
    "\n",
    "fin = default_timer()\n",
    "print((fin - inicio)/60) "
   ]
  },
  {
   "cell_type": "code",
   "execution_count": 49,
   "metadata": {},
   "outputs": [
    {
     "name": "stdout",
     "output_type": "stream",
     "text": [
      "Finished feature extraction from  161  files\n"
     ]
    },
    {
     "name": "stderr",
     "output_type": "stream",
     "text": [
      "C:\\ProgramData\\Anaconda3\\lib\\site-packages\\ipykernel_launcher.py:6: WavFileWarning: Chunk (non-data) not understood, skipping it.\n",
      "  \n"
     ]
    },
    {
     "name": "stdout",
     "output_type": "stream",
     "text": [
      "Finished feature extraction from  374  files\n",
      "6.205393068333342\n"
     ]
    }
   ],
   "source": [
    "inicio = default_timer()\n",
    "\n",
    "featuresdf_EMODB_48_test_12=extract_features_test_EMODB()\n",
    "\n",
    "featuresdf_EMODB_48_train_12=extract_features_train_EMODB()\n",
    "\n",
    "fin = default_timer()\n",
    "print((fin - inicio)/60) "
   ]
  },
  {
   "cell_type": "code",
   "execution_count": 50,
   "metadata": {},
   "outputs": [
    {
     "name": "stdout",
     "output_type": "stream",
     "text": [
      "Stored 'featuresdf_EMODB_12_test_12' (DataFrame)\n",
      "Stored 'featuresdf_EMODB_12_train_12' (DataFrame)\n",
      "Stored 'featuresdf_EMODB_24_test_12' (DataFrame)\n",
      "Stored 'featuresdf_EMODB_24_train_12' (DataFrame)\n",
      "Stored 'featuresdf_EMODB_36_test_12' (DataFrame)\n",
      "Stored 'featuresdf_EMODB_36_train_12' (DataFrame)\n",
      "Stored 'featuresdf_EMODB_48_test_12' (DataFrame)\n",
      "Stored 'featuresdf_EMODB_48_train_12' (DataFrame)\n"
     ]
    }
   ],
   "source": [
    "%store featuresdf_EMODB_12_test_12\n",
    "%store featuresdf_EMODB_12_train_12\n",
    "%store featuresdf_EMODB_24_test_12\n",
    "%store featuresdf_EMODB_24_train_12\n",
    "%store featuresdf_EMODB_36_test_12\n",
    "%store featuresdf_EMODB_36_train_12\n",
    "%store featuresdf_EMODB_48_test_12\n",
    "%store featuresdf_EMODB_48_train_12"
   ]
  },
  {
   "cell_type": "markdown",
   "metadata": {},
   "source": [
    "## EMODB Experimento 2\n",
    "\n",
    "### Cantidad de coeficientes el mejor resultado de los dos experimentos anteriores, Usando ventana tipo 2, sin y con preénfasis, ancho de banda completo (fs/2), tamaño de frame desde 10ms hasta 100 ms y traslape de 50%\n",
    "\n",
    "### n_coef=24  Window=2  preénfasis=0.0 f_max = fs/2  frame=10-100 overlap=50\n",
    "\n",
    "## MFCC"
   ]
  },
  {
   "cell_type": "code",
   "execution_count": 6,
   "metadata": {},
   "outputs": [
    {
     "name": "stdout",
     "output_type": "stream",
     "text": [
      "Finished feature extraction from  161  files\n"
     ]
    },
    {
     "name": "stderr",
     "output_type": "stream",
     "text": [
      "C:\\ProgramData\\Anaconda3\\lib\\site-packages\\ipykernel_launcher.py:6: WavFileWarning: Chunk (non-data) not understood, skipping it.\n",
      "  \n"
     ]
    },
    {
     "name": "stdout",
     "output_type": "stream",
     "text": [
      "Finished feature extraction from  374  files\n",
      "8.334193744999999\n"
     ]
    }
   ],
   "source": [
    "inicio = default_timer()\n",
    "\n",
    "featuresdf_EMODB_10_test_13=extract_features_test_EMODB()\n",
    "\n",
    "featuresdf_EMODB_10_train_13=extract_features_train_EMODB()\n",
    "\n",
    "fin = default_timer()\n",
    "print((fin - inicio)/60) "
   ]
  },
  {
   "cell_type": "code",
   "execution_count": 8,
   "metadata": {},
   "outputs": [
    {
     "name": "stdout",
     "output_type": "stream",
     "text": [
      "Finished feature extraction from  161  files\n"
     ]
    },
    {
     "name": "stderr",
     "output_type": "stream",
     "text": [
      "C:\\ProgramData\\Anaconda3\\lib\\site-packages\\ipykernel_launcher.py:6: WavFileWarning: Chunk (non-data) not understood, skipping it.\n",
      "  \n"
     ]
    },
    {
     "name": "stdout",
     "output_type": "stream",
     "text": [
      "Finished feature extraction from  374  files\n",
      "4.773697836666668\n"
     ]
    }
   ],
   "source": [
    "inicio = default_timer()\n",
    "\n",
    "featuresdf_EMODB_20_test_13=extract_features_test_EMODB()\n",
    "\n",
    "featuresdf_EMODB_20_train_13=extract_features_train_EMODB()\n",
    "\n",
    "fin = default_timer()\n",
    "print((fin - inicio)/60) "
   ]
  },
  {
   "cell_type": "code",
   "execution_count": 10,
   "metadata": {},
   "outputs": [
    {
     "name": "stdout",
     "output_type": "stream",
     "text": [
      "Finished feature extraction from  161  files\n"
     ]
    },
    {
     "name": "stderr",
     "output_type": "stream",
     "text": [
      "C:\\ProgramData\\Anaconda3\\lib\\site-packages\\ipykernel_launcher.py:6: WavFileWarning: Chunk (non-data) not understood, skipping it.\n",
      "  \n"
     ]
    },
    {
     "name": "stdout",
     "output_type": "stream",
     "text": [
      "Finished feature extraction from  374  files\n",
      "2.797177398333334\n"
     ]
    }
   ],
   "source": [
    "inicio = default_timer()\n",
    "\n",
    "featuresdf_EMODB_30_test_13=extract_features_test_EMODB()\n",
    "\n",
    "featuresdf_EMODB_30_train_13=extract_features_train_EMODB()\n",
    "\n",
    "fin = default_timer()\n",
    "print((fin - inicio)/60) "
   ]
  },
  {
   "cell_type": "code",
   "execution_count": 12,
   "metadata": {},
   "outputs": [
    {
     "name": "stdout",
     "output_type": "stream",
     "text": [
      "Finished feature extraction from  161  files\n"
     ]
    },
    {
     "name": "stderr",
     "output_type": "stream",
     "text": [
      "C:\\ProgramData\\Anaconda3\\lib\\site-packages\\ipykernel_launcher.py:6: WavFileWarning: Chunk (non-data) not understood, skipping it.\n",
      "  \n"
     ]
    },
    {
     "name": "stdout",
     "output_type": "stream",
     "text": [
      "Finished feature extraction from  374  files\n",
      "2.2909479850000025\n"
     ]
    }
   ],
   "source": [
    "inicio = default_timer()\n",
    "\n",
    "featuresdf_EMODB_40_test_13=extract_features_test_EMODB()\n",
    "\n",
    "featuresdf_EMODB_40_train_13=extract_features_train_EMODB()\n",
    "\n",
    "fin = default_timer()\n",
    "print((fin - inicio)/60) "
   ]
  },
  {
   "cell_type": "code",
   "execution_count": 14,
   "metadata": {},
   "outputs": [
    {
     "name": "stdout",
     "output_type": "stream",
     "text": [
      "Finished feature extraction from  161  files\n"
     ]
    },
    {
     "name": "stderr",
     "output_type": "stream",
     "text": [
      "C:\\ProgramData\\Anaconda3\\lib\\site-packages\\ipykernel_launcher.py:6: WavFileWarning: Chunk (non-data) not understood, skipping it.\n",
      "  \n"
     ]
    },
    {
     "name": "stdout",
     "output_type": "stream",
     "text": [
      "Finished feature extraction from  374  files\n",
      "2.4334985116666683\n"
     ]
    }
   ],
   "source": [
    "inicio = default_timer()\n",
    "\n",
    "featuresdf_EMODB_50_test_13=extract_features_test_EMODB()\n",
    "\n",
    "featuresdf_EMODB_50_train_13=extract_features_train_EMODB()\n",
    "\n",
    "fin = default_timer()\n",
    "print((fin - inicio)/60) "
   ]
  },
  {
   "cell_type": "code",
   "execution_count": 16,
   "metadata": {},
   "outputs": [
    {
     "name": "stdout",
     "output_type": "stream",
     "text": [
      "Finished feature extraction from  161  files\n"
     ]
    },
    {
     "name": "stderr",
     "output_type": "stream",
     "text": [
      "C:\\ProgramData\\Anaconda3\\lib\\site-packages\\ipykernel_launcher.py:6: WavFileWarning: Chunk (non-data) not understood, skipping it.\n",
      "  \n"
     ]
    },
    {
     "name": "stdout",
     "output_type": "stream",
     "text": [
      "Finished feature extraction from  374  files\n",
      "2.108460953333334\n"
     ]
    }
   ],
   "source": [
    "inicio = default_timer()\n",
    "\n",
    "featuresdf_EMODB_60_test_13=extract_features_test_EMODB()\n",
    "\n",
    "featuresdf_EMODB_60_train_13=extract_features_train_EMODB()\n",
    "\n",
    "fin = default_timer()\n",
    "print((fin - inicio)/60) "
   ]
  },
  {
   "cell_type": "code",
   "execution_count": 20,
   "metadata": {},
   "outputs": [
    {
     "name": "stdout",
     "output_type": "stream",
     "text": [
      "Finished feature extraction from  161  files\n"
     ]
    },
    {
     "name": "stderr",
     "output_type": "stream",
     "text": [
      "C:\\ProgramData\\Anaconda3\\lib\\site-packages\\ipykernel_launcher.py:6: WavFileWarning: Chunk (non-data) not understood, skipping it.\n",
      "  \n"
     ]
    },
    {
     "name": "stdout",
     "output_type": "stream",
     "text": [
      "Finished feature extraction from  374  files\n",
      "1.8654871050000035\n"
     ]
    }
   ],
   "source": [
    "inicio = default_timer()\n",
    "\n",
    "featuresdf_EMODB_70_test_13=extract_features_test_EMODB()\n",
    "\n",
    "featuresdf_EMODB_70_train_13=extract_features_train_EMODB()\n",
    "\n",
    "fin = default_timer()\n",
    "print((fin - inicio)/60) "
   ]
  },
  {
   "cell_type": "code",
   "execution_count": 22,
   "metadata": {},
   "outputs": [
    {
     "name": "stdout",
     "output_type": "stream",
     "text": [
      "Finished feature extraction from  161  files\n"
     ]
    },
    {
     "name": "stderr",
     "output_type": "stream",
     "text": [
      "C:\\ProgramData\\Anaconda3\\lib\\site-packages\\ipykernel_launcher.py:6: WavFileWarning: Chunk (non-data) not understood, skipping it.\n",
      "  \n"
     ]
    },
    {
     "name": "stdout",
     "output_type": "stream",
     "text": [
      "Finished feature extraction from  374  files\n",
      "1.8472603883333325\n"
     ]
    }
   ],
   "source": [
    "inicio = default_timer()\n",
    "\n",
    "featuresdf_EMODB_80_test_13=extract_features_test_EMODB()\n",
    "\n",
    "featuresdf_EMODB_80_train_13=extract_features_train_EMODB()\n",
    "\n",
    "fin = default_timer()\n",
    "print((fin - inicio)/60) "
   ]
  },
  {
   "cell_type": "code",
   "execution_count": 24,
   "metadata": {},
   "outputs": [
    {
     "name": "stdout",
     "output_type": "stream",
     "text": [
      "Finished feature extraction from  161  files\n"
     ]
    },
    {
     "name": "stderr",
     "output_type": "stream",
     "text": [
      "C:\\ProgramData\\Anaconda3\\lib\\site-packages\\ipykernel_launcher.py:6: WavFileWarning: Chunk (non-data) not understood, skipping it.\n",
      "  \n"
     ]
    },
    {
     "name": "stdout",
     "output_type": "stream",
     "text": [
      "Finished feature extraction from  374  files\n",
      "1.8246034849999964\n"
     ]
    }
   ],
   "source": [
    "inicio = default_timer()\n",
    "\n",
    "featuresdf_EMODB_90_test_13=extract_features_test_EMODB()\n",
    "\n",
    "featuresdf_EMODB_90_train_13=extract_features_train_EMODB()\n",
    "\n",
    "fin = default_timer()\n",
    "print((fin - inicio)/60) "
   ]
  },
  {
   "cell_type": "code",
   "execution_count": 26,
   "metadata": {},
   "outputs": [
    {
     "name": "stdout",
     "output_type": "stream",
     "text": [
      "Finished feature extraction from  161  files\n"
     ]
    },
    {
     "name": "stderr",
     "output_type": "stream",
     "text": [
      "C:\\ProgramData\\Anaconda3\\lib\\site-packages\\ipykernel_launcher.py:6: WavFileWarning: Chunk (non-data) not understood, skipping it.\n",
      "  \n"
     ]
    },
    {
     "name": "stdout",
     "output_type": "stream",
     "text": [
      "Finished feature extraction from  374  files\n",
      "1.8705555766666597\n"
     ]
    }
   ],
   "source": [
    "inicio = default_timer()\n",
    "\n",
    "featuresdf_EMODB_100_test_13=extract_features_test_EMODB()\n",
    "\n",
    "featuresdf_EMODB_100_train_13=extract_features_train_EMODB()\n",
    "\n",
    "fin = default_timer()\n",
    "print((fin - inicio)/60) "
   ]
  },
  {
   "cell_type": "code",
   "execution_count": 27,
   "metadata": {},
   "outputs": [
    {
     "name": "stdout",
     "output_type": "stream",
     "text": [
      "Stored 'featuresdf_EMODB_20_test_13' (DataFrame)\n",
      "Stored 'featuresdf_EMODB_20_train_13' (DataFrame)\n",
      "Stored 'featuresdf_EMODB_30_test_13' (DataFrame)\n",
      "Stored 'featuresdf_EMODB_30_train_13' (DataFrame)\n",
      "Stored 'featuresdf_EMODB_40_test_13' (DataFrame)\n",
      "Stored 'featuresdf_EMODB_40_train_13' (DataFrame)\n",
      "Stored 'featuresdf_EMODB_50_test_13' (DataFrame)\n",
      "Stored 'featuresdf_EMODB_50_train_13' (DataFrame)\n",
      "Stored 'featuresdf_EMODB_60_test_13' (DataFrame)\n",
      "Stored 'featuresdf_EMODB_60_train_13' (DataFrame)\n",
      "Stored 'featuresdf_EMODB_70_test_13' (DataFrame)\n",
      "Stored 'featuresdf_EMODB_70_train_13' (DataFrame)\n",
      "Stored 'featuresdf_EMODB_80_test_13' (DataFrame)\n",
      "Stored 'featuresdf_EMODB_80_train_13' (DataFrame)\n",
      "Stored 'featuresdf_EMODB_90_test_13' (DataFrame)\n",
      "Stored 'featuresdf_EMODB_90_train_13' (DataFrame)\n",
      "Stored 'featuresdf_EMODB_100_test_13' (DataFrame)\n",
      "Stored 'featuresdf_EMODB_100_train_13' (DataFrame)\n"
     ]
    }
   ],
   "source": [
    "#%store featuresdf_EMODB_10_test_13\n",
    "#%store featuresdf_EMODB_10_train_13\n",
    "%store featuresdf_EMODB_20_test_13\n",
    "%store featuresdf_EMODB_20_train_13\n",
    "%store featuresdf_EMODB_30_test_13\n",
    "%store featuresdf_EMODB_30_train_13\n",
    "%store featuresdf_EMODB_40_test_13\n",
    "%store featuresdf_EMODB_40_train_13\n",
    "%store featuresdf_EMODB_50_test_13\n",
    "%store featuresdf_EMODB_50_train_13\n",
    "%store featuresdf_EMODB_60_test_13\n",
    "%store featuresdf_EMODB_60_train_13\n",
    "%store featuresdf_EMODB_70_test_13\n",
    "%store featuresdf_EMODB_70_train_13\n",
    "%store featuresdf_EMODB_80_test_13\n",
    "%store featuresdf_EMODB_80_train_13\n",
    "%store featuresdf_EMODB_90_test_13\n",
    "%store featuresdf_EMODB_90_train_13\n",
    "%store featuresdf_EMODB_100_test_13\n",
    "%store featuresdf_EMODB_100_train_13"
   ]
  },
  {
   "cell_type": "markdown",
   "metadata": {},
   "source": [
    "## RASTA-MFCC"
   ]
  },
  {
   "cell_type": "code",
   "execution_count": 26,
   "metadata": {},
   "outputs": [
    {
     "name": "stdout",
     "output_type": "stream",
     "text": [
      "Finished feature extraction from  161  files\n"
     ]
    },
    {
     "name": "stderr",
     "output_type": "stream",
     "text": [
      "C:\\ProgramData\\Anaconda3\\lib\\site-packages\\ipykernel_launcher.py:6: WavFileWarning: Chunk (non-data) not understood, skipping it.\n",
      "  \n"
     ]
    },
    {
     "name": "stdout",
     "output_type": "stream",
     "text": [
      "Finished feature extraction from  374  files\n",
      "8.901517258333335\n"
     ]
    }
   ],
   "source": [
    "inicio = default_timer()\n",
    "\n",
    "featuresdf_EMODB_10_test_14=extract_features_test_EMODB()\n",
    "\n",
    "featuresdf_EMODB_10_train_14=extract_features_train_EMODB()\n",
    "\n",
    "fin = default_timer()\n",
    "print((fin - inicio)/60) "
   ]
  },
  {
   "cell_type": "code",
   "execution_count": 28,
   "metadata": {},
   "outputs": [
    {
     "name": "stdout",
     "output_type": "stream",
     "text": [
      "Finished feature extraction from  161  files\n"
     ]
    },
    {
     "name": "stderr",
     "output_type": "stream",
     "text": [
      "C:\\ProgramData\\Anaconda3\\lib\\site-packages\\ipykernel_launcher.py:6: WavFileWarning: Chunk (non-data) not understood, skipping it.\n",
      "  \n"
     ]
    },
    {
     "name": "stdout",
     "output_type": "stream",
     "text": [
      "Finished feature extraction from  374  files\n",
      "4.891956909999999\n"
     ]
    }
   ],
   "source": [
    "inicio = default_timer()\n",
    "\n",
    "featuresdf_EMODB_20_test_14=extract_features_test_EMODB()\n",
    "\n",
    "featuresdf_EMODB_20_train_14=extract_features_train_EMODB()\n",
    "\n",
    "fin = default_timer()\n",
    "print((fin - inicio)/60) "
   ]
  },
  {
   "cell_type": "code",
   "execution_count": 30,
   "metadata": {},
   "outputs": [
    {
     "name": "stdout",
     "output_type": "stream",
     "text": [
      "Finished feature extraction from  161  files\n"
     ]
    },
    {
     "name": "stderr",
     "output_type": "stream",
     "text": [
      "C:\\ProgramData\\Anaconda3\\lib\\site-packages\\ipykernel_launcher.py:6: WavFileWarning: Chunk (non-data) not understood, skipping it.\n",
      "  \n"
     ]
    },
    {
     "name": "stdout",
     "output_type": "stream",
     "text": [
      "Finished feature extraction from  374  files\n",
      "3.5892224949999973\n"
     ]
    }
   ],
   "source": [
    "inicio = default_timer()\n",
    "\n",
    "featuresdf_EMODB_30_test_14=extract_features_test_EMODB()\n",
    "\n",
    "featuresdf_EMODB_30_train_14=extract_features_train_EMODB()\n",
    "\n",
    "fin = default_timer()\n",
    "print((fin - inicio)/60) "
   ]
  },
  {
   "cell_type": "code",
   "execution_count": 38,
   "metadata": {},
   "outputs": [
    {
     "name": "stdout",
     "output_type": "stream",
     "text": [
      "Finished feature extraction from  161  files\n"
     ]
    },
    {
     "name": "stderr",
     "output_type": "stream",
     "text": [
      "C:\\ProgramData\\Anaconda3\\lib\\site-packages\\ipykernel_launcher.py:6: WavFileWarning: Chunk (non-data) not understood, skipping it.\n",
      "  \n"
     ]
    },
    {
     "name": "stdout",
     "output_type": "stream",
     "text": [
      "Finished feature extraction from  374  files\n",
      "3.003996958333331\n"
     ]
    }
   ],
   "source": [
    "inicio = default_timer()\n",
    "\n",
    "featuresdf_EMODB_40_test_14=extract_features_test_EMODB()\n",
    "\n",
    "featuresdf_EMODB_40_train_14=extract_features_train_EMODB()\n",
    "\n",
    "fin = default_timer()\n",
    "print((fin - inicio)/60) "
   ]
  },
  {
   "cell_type": "code",
   "execution_count": 40,
   "metadata": {},
   "outputs": [
    {
     "name": "stdout",
     "output_type": "stream",
     "text": [
      "Finished feature extraction from  161  files\n"
     ]
    },
    {
     "name": "stderr",
     "output_type": "stream",
     "text": [
      "C:\\ProgramData\\Anaconda3\\lib\\site-packages\\ipykernel_launcher.py:6: WavFileWarning: Chunk (non-data) not understood, skipping it.\n",
      "  \n"
     ]
    },
    {
     "name": "stdout",
     "output_type": "stream",
     "text": [
      "Finished feature extraction from  374  files\n",
      "2.557298298333323\n"
     ]
    }
   ],
   "source": [
    "inicio = default_timer()\n",
    "\n",
    "featuresdf_EMODB_50_test_14=extract_features_test_EMODB()\n",
    "\n",
    "featuresdf_EMODB_50_train_14=extract_features_train_EMODB()\n",
    "\n",
    "fin = default_timer()\n",
    "print((fin - inicio)/60) "
   ]
  },
  {
   "cell_type": "code",
   "execution_count": 42,
   "metadata": {},
   "outputs": [
    {
     "name": "stdout",
     "output_type": "stream",
     "text": [
      "Finished feature extraction from  161  files\n"
     ]
    },
    {
     "name": "stderr",
     "output_type": "stream",
     "text": [
      "C:\\ProgramData\\Anaconda3\\lib\\site-packages\\ipykernel_launcher.py:6: WavFileWarning: Chunk (non-data) not understood, skipping it.\n",
      "  \n"
     ]
    },
    {
     "name": "stdout",
     "output_type": "stream",
     "text": [
      "Finished feature extraction from  374  files\n",
      "2.700050754999999\n"
     ]
    }
   ],
   "source": [
    "inicio = default_timer()\n",
    "\n",
    "featuresdf_EMODB_60_test_14=extract_features_test_EMODB()\n",
    "\n",
    "featuresdf_EMODB_60_train_14=extract_features_train_EMODB()\n",
    "\n",
    "fin = default_timer()\n",
    "print((fin - inicio)/60) "
   ]
  },
  {
   "cell_type": "code",
   "execution_count": 44,
   "metadata": {},
   "outputs": [
    {
     "name": "stdout",
     "output_type": "stream",
     "text": [
      "Finished feature extraction from  161  files\n"
     ]
    },
    {
     "name": "stderr",
     "output_type": "stream",
     "text": [
      "C:\\ProgramData\\Anaconda3\\lib\\site-packages\\ipykernel_launcher.py:6: WavFileWarning: Chunk (non-data) not understood, skipping it.\n",
      "  \n"
     ]
    },
    {
     "name": "stdout",
     "output_type": "stream",
     "text": [
      "Finished feature extraction from  374  files\n",
      "2.6043292250000074\n"
     ]
    }
   ],
   "source": [
    "inicio = default_timer()\n",
    "\n",
    "featuresdf_EMODB_70_test_14=extract_features_test_EMODB()\n",
    "\n",
    "featuresdf_EMODB_70_train_14=extract_features_train_EMODB()\n",
    "\n",
    "fin = default_timer()\n",
    "print((fin - inicio)/60) "
   ]
  },
  {
   "cell_type": "code",
   "execution_count": 46,
   "metadata": {},
   "outputs": [
    {
     "name": "stdout",
     "output_type": "stream",
     "text": [
      "Finished feature extraction from  161  files\n"
     ]
    },
    {
     "name": "stderr",
     "output_type": "stream",
     "text": [
      "C:\\ProgramData\\Anaconda3\\lib\\site-packages\\ipykernel_launcher.py:6: WavFileWarning: Chunk (non-data) not understood, skipping it.\n",
      "  \n"
     ]
    },
    {
     "name": "stdout",
     "output_type": "stream",
     "text": [
      "Finished feature extraction from  374  files\n",
      "2.3122602533333367\n"
     ]
    }
   ],
   "source": [
    "inicio = default_timer()\n",
    "\n",
    "featuresdf_EMODB_80_test_14=extract_features_test_EMODB()\n",
    "\n",
    "featuresdf_EMODB_80_train_14=extract_features_train_EMODB()\n",
    "\n",
    "fin = default_timer()\n",
    "print((fin - inicio)/60) "
   ]
  },
  {
   "cell_type": "code",
   "execution_count": 48,
   "metadata": {},
   "outputs": [
    {
     "name": "stdout",
     "output_type": "stream",
     "text": [
      "Finished feature extraction from  161  files\n"
     ]
    },
    {
     "name": "stderr",
     "output_type": "stream",
     "text": [
      "C:\\ProgramData\\Anaconda3\\lib\\site-packages\\ipykernel_launcher.py:6: WavFileWarning: Chunk (non-data) not understood, skipping it.\n",
      "  \n"
     ]
    },
    {
     "name": "stdout",
     "output_type": "stream",
     "text": [
      "Finished feature extraction from  374  files\n",
      "2.2449761599999873\n"
     ]
    }
   ],
   "source": [
    "inicio = default_timer()\n",
    "\n",
    "featuresdf_EMODB_90_test_14=extract_features_test_EMODB()\n",
    "\n",
    "featuresdf_EMODB_90_train_14=extract_features_train_EMODB()\n",
    "\n",
    "fin = default_timer()\n",
    "print((fin - inicio)/60) "
   ]
  },
  {
   "cell_type": "code",
   "execution_count": 50,
   "metadata": {},
   "outputs": [
    {
     "name": "stdout",
     "output_type": "stream",
     "text": [
      "Finished feature extraction from  161  files\n"
     ]
    },
    {
     "name": "stderr",
     "output_type": "stream",
     "text": [
      "C:\\ProgramData\\Anaconda3\\lib\\site-packages\\ipykernel_launcher.py:6: WavFileWarning: Chunk (non-data) not understood, skipping it.\n",
      "  \n"
     ]
    },
    {
     "name": "stdout",
     "output_type": "stream",
     "text": [
      "Finished feature extraction from  374  files\n",
      "2.193291799999982\n"
     ]
    }
   ],
   "source": [
    "inicio = default_timer()\n",
    "\n",
    "featuresdf_EMODB_100_test_14=extract_features_test_EMODB()\n",
    "\n",
    "featuresdf_EMODB_100_train_14=extract_features_train_EMODB()\n",
    "\n",
    "fin = default_timer()\n",
    "print((fin - inicio)/60) "
   ]
  },
  {
   "cell_type": "code",
   "execution_count": 51,
   "metadata": {},
   "outputs": [
    {
     "name": "stdout",
     "output_type": "stream",
     "text": [
      "Stored 'featuresdf_EMODB_10_test_14' (DataFrame)\n",
      "Stored 'featuresdf_EMODB_10_train_14' (DataFrame)\n",
      "Stored 'featuresdf_EMODB_20_test_14' (DataFrame)\n",
      "Stored 'featuresdf_EMODB_20_train_14' (DataFrame)\n",
      "Stored 'featuresdf_EMODB_30_test_14' (DataFrame)\n",
      "Stored 'featuresdf_EMODB_30_train_14' (DataFrame)\n",
      "Stored 'featuresdf_EMODB_40_test_14' (DataFrame)\n",
      "Stored 'featuresdf_EMODB_40_train_14' (DataFrame)\n",
      "Stored 'featuresdf_EMODB_50_test_14' (DataFrame)\n",
      "Stored 'featuresdf_EMODB_50_train_14' (DataFrame)\n",
      "Stored 'featuresdf_EMODB_60_test_14' (DataFrame)\n",
      "Stored 'featuresdf_EMODB_60_train_14' (DataFrame)\n",
      "Stored 'featuresdf_EMODB_70_test_14' (DataFrame)\n",
      "Stored 'featuresdf_EMODB_70_train_14' (DataFrame)\n",
      "Stored 'featuresdf_EMODB_80_test_14' (DataFrame)\n",
      "Stored 'featuresdf_EMODB_80_train_14' (DataFrame)\n",
      "Stored 'featuresdf_EMODB_90_test_14' (DataFrame)\n",
      "Stored 'featuresdf_EMODB_90_train_14' (DataFrame)\n",
      "Stored 'featuresdf_EMODB_100_test_14' (DataFrame)\n",
      "Stored 'featuresdf_EMODB_100_train_14' (DataFrame)\n"
     ]
    }
   ],
   "source": [
    "%store featuresdf_EMODB_10_test_14\n",
    "%store featuresdf_EMODB_10_train_14\n",
    "%store featuresdf_EMODB_20_test_14\n",
    "%store featuresdf_EMODB_20_train_14\n",
    "%store featuresdf_EMODB_30_test_14\n",
    "%store featuresdf_EMODB_30_train_14\n",
    "%store featuresdf_EMODB_40_test_14\n",
    "%store featuresdf_EMODB_40_train_14\n",
    "%store featuresdf_EMODB_50_test_14\n",
    "%store featuresdf_EMODB_50_train_14\n",
    "%store featuresdf_EMODB_60_test_14\n",
    "%store featuresdf_EMODB_60_train_14\n",
    "%store featuresdf_EMODB_70_test_14\n",
    "%store featuresdf_EMODB_70_train_14\n",
    "%store featuresdf_EMODB_80_test_14\n",
    "%store featuresdf_EMODB_80_train_14\n",
    "%store featuresdf_EMODB_90_test_14\n",
    "%store featuresdf_EMODB_90_train_14\n",
    "%store featuresdf_EMODB_100_test_14\n",
    "%store featuresdf_EMODB_100_train_14"
   ]
  },
  {
   "cell_type": "code",
   "execution_count": 53,
   "metadata": {},
   "outputs": [
    {
     "name": "stdout",
     "output_type": "stream",
     "text": [
      "Finished feature extraction from  161  files\n"
     ]
    },
    {
     "name": "stderr",
     "output_type": "stream",
     "text": [
      "C:\\ProgramData\\Anaconda3\\lib\\site-packages\\ipykernel_launcher.py:6: WavFileWarning: Chunk (non-data) not understood, skipping it.\n",
      "  \n"
     ]
    },
    {
     "name": "stdout",
     "output_type": "stream",
     "text": [
      "Finished feature extraction from  374  files\n",
      "7.665723141666664\n"
     ]
    }
   ],
   "source": [
    "inicio = default_timer()\n",
    "\n",
    "featuresdf_EMODB_10_test_15=extract_features_test_EMODB()\n",
    "\n",
    "featuresdf_EMODB_10_train_15=extract_features_train_EMODB()\n",
    "\n",
    "fin = default_timer()\n",
    "print((fin - inicio)/60)"
   ]
  },
  {
   "cell_type": "code",
   "execution_count": 55,
   "metadata": {},
   "outputs": [
    {
     "name": "stdout",
     "output_type": "stream",
     "text": [
      "Finished feature extraction from  161  files\n"
     ]
    },
    {
     "name": "stderr",
     "output_type": "stream",
     "text": [
      "C:\\ProgramData\\Anaconda3\\lib\\site-packages\\ipykernel_launcher.py:6: WavFileWarning: Chunk (non-data) not understood, skipping it.\n",
      "  \n"
     ]
    },
    {
     "name": "stdout",
     "output_type": "stream",
     "text": [
      "Finished feature extraction from  374  files\n",
      "5.049107058333357\n"
     ]
    }
   ],
   "source": [
    "inicio = default_timer()\n",
    "\n",
    "featuresdf_EMODB_20_test_15=extract_features_test_EMODB()\n",
    "\n",
    "featuresdf_EMODB_20_train_15=extract_features_train_EMODB()\n",
    "\n",
    "fin = default_timer()\n",
    "print((fin - inicio)/60)"
   ]
  },
  {
   "cell_type": "code",
   "execution_count": 57,
   "metadata": {},
   "outputs": [
    {
     "name": "stdout",
     "output_type": "stream",
     "text": [
      "Finished feature extraction from  161  files\n"
     ]
    },
    {
     "name": "stderr",
     "output_type": "stream",
     "text": [
      "C:\\ProgramData\\Anaconda3\\lib\\site-packages\\ipykernel_launcher.py:6: WavFileWarning: Chunk (non-data) not understood, skipping it.\n",
      "  \n"
     ]
    },
    {
     "name": "stdout",
     "output_type": "stream",
     "text": [
      "Finished feature extraction from  374  files\n",
      "3.4780247966666744\n"
     ]
    }
   ],
   "source": [
    "inicio = default_timer()\n",
    "\n",
    "featuresdf_EMODB_30_test_15=extract_features_test_EMODB()\n",
    "\n",
    "featuresdf_EMODB_30_train_15=extract_features_train_EMODB()\n",
    "\n",
    "fin = default_timer()\n",
    "print((fin - inicio)/60)"
   ]
  },
  {
   "cell_type": "code",
   "execution_count": 59,
   "metadata": {},
   "outputs": [
    {
     "name": "stdout",
     "output_type": "stream",
     "text": [
      "Finished feature extraction from  161  files\n"
     ]
    },
    {
     "name": "stderr",
     "output_type": "stream",
     "text": [
      "C:\\ProgramData\\Anaconda3\\lib\\site-packages\\ipykernel_launcher.py:6: WavFileWarning: Chunk (non-data) not understood, skipping it.\n",
      "  \n"
     ]
    },
    {
     "name": "stdout",
     "output_type": "stream",
     "text": [
      "Finished feature extraction from  374  files\n",
      "3.0390268166666528\n"
     ]
    }
   ],
   "source": [
    "inicio = default_timer()\n",
    "\n",
    "featuresdf_EMODB_40_test_15=extract_features_test_EMODB()\n",
    "\n",
    "featuresdf_EMODB_40_train_15=extract_features_train_EMODB()\n",
    "\n",
    "fin = default_timer()\n",
    "print((fin - inicio)/60)"
   ]
  },
  {
   "cell_type": "code",
   "execution_count": 61,
   "metadata": {},
   "outputs": [
    {
     "name": "stdout",
     "output_type": "stream",
     "text": [
      "Finished feature extraction from  161  files\n"
     ]
    },
    {
     "name": "stderr",
     "output_type": "stream",
     "text": [
      "C:\\ProgramData\\Anaconda3\\lib\\site-packages\\ipykernel_launcher.py:6: WavFileWarning: Chunk (non-data) not understood, skipping it.\n",
      "  \n"
     ]
    },
    {
     "name": "stdout",
     "output_type": "stream",
     "text": [
      "Finished feature extraction from  374  files\n",
      "2.7062015733333284\n"
     ]
    }
   ],
   "source": [
    "inicio = default_timer()\n",
    "\n",
    "featuresdf_EMODB_50_test_15=extract_features_test_EMODB()\n",
    "\n",
    "featuresdf_EMODB_50_train_15=extract_features_train_EMODB()\n",
    "\n",
    "fin = default_timer()\n",
    "print((fin - inicio)/60)"
   ]
  },
  {
   "cell_type": "code",
   "execution_count": 63,
   "metadata": {},
   "outputs": [
    {
     "name": "stdout",
     "output_type": "stream",
     "text": [
      "Finished feature extraction from  161  files\n"
     ]
    },
    {
     "name": "stderr",
     "output_type": "stream",
     "text": [
      "C:\\ProgramData\\Anaconda3\\lib\\site-packages\\ipykernel_launcher.py:6: WavFileWarning: Chunk (non-data) not understood, skipping it.\n",
      "  \n"
     ]
    },
    {
     "name": "stdout",
     "output_type": "stream",
     "text": [
      "Finished feature extraction from  374  files\n",
      "2.5683296350000093\n"
     ]
    }
   ],
   "source": [
    "inicio = default_timer()\n",
    "\n",
    "featuresdf_EMODB_60_test_15=extract_features_test_EMODB()\n",
    "\n",
    "featuresdf_EMODB_60_train_15=extract_features_train_EMODB()\n",
    "\n",
    "fin = default_timer()\n",
    "print((fin - inicio)/60)"
   ]
  },
  {
   "cell_type": "code",
   "execution_count": 65,
   "metadata": {},
   "outputs": [
    {
     "name": "stdout",
     "output_type": "stream",
     "text": [
      "Finished feature extraction from  161  files\n"
     ]
    },
    {
     "name": "stderr",
     "output_type": "stream",
     "text": [
      "C:\\ProgramData\\Anaconda3\\lib\\site-packages\\ipykernel_launcher.py:6: WavFileWarning: Chunk (non-data) not understood, skipping it.\n",
      "  \n"
     ]
    },
    {
     "name": "stdout",
     "output_type": "stream",
     "text": [
      "Finished feature extraction from  374  files\n",
      "2.425182435000018\n"
     ]
    }
   ],
   "source": [
    "inicio = default_timer()\n",
    "\n",
    "featuresdf_EMODB_70_test_15=extract_features_test_EMODB()\n",
    "\n",
    "featuresdf_EMODB_70_train_15=extract_features_train_EMODB()\n",
    "\n",
    "fin = default_timer()\n",
    "print((fin - inicio)/60)"
   ]
  },
  {
   "cell_type": "code",
   "execution_count": 67,
   "metadata": {},
   "outputs": [
    {
     "name": "stdout",
     "output_type": "stream",
     "text": [
      "Finished feature extraction from  161  files\n"
     ]
    },
    {
     "name": "stderr",
     "output_type": "stream",
     "text": [
      "C:\\ProgramData\\Anaconda3\\lib\\site-packages\\ipykernel_launcher.py:6: WavFileWarning: Chunk (non-data) not understood, skipping it.\n",
      "  \n"
     ]
    },
    {
     "name": "stdout",
     "output_type": "stream",
     "text": [
      "Finished feature extraction from  374  files\n",
      "2.477509303333348\n"
     ]
    }
   ],
   "source": [
    "inicio = default_timer()\n",
    "\n",
    "featuresdf_EMODB_80_test_15=extract_features_test_EMODB()\n",
    "\n",
    "featuresdf_EMODB_80_train_15=extract_features_train_EMODB()\n",
    "\n",
    "fin = default_timer()\n",
    "print((fin - inicio)/60)"
   ]
  },
  {
   "cell_type": "code",
   "execution_count": 69,
   "metadata": {},
   "outputs": [
    {
     "name": "stdout",
     "output_type": "stream",
     "text": [
      "Finished feature extraction from  161  files\n"
     ]
    },
    {
     "name": "stderr",
     "output_type": "stream",
     "text": [
      "C:\\ProgramData\\Anaconda3\\lib\\site-packages\\ipykernel_launcher.py:6: WavFileWarning: Chunk (non-data) not understood, skipping it.\n",
      "  \n"
     ]
    },
    {
     "name": "stdout",
     "output_type": "stream",
     "text": [
      "Finished feature extraction from  374  files\n",
      "2.260317491666683\n"
     ]
    }
   ],
   "source": [
    "inicio = default_timer()\n",
    "\n",
    "featuresdf_EMODB_90_test_15=extract_features_test_EMODB()\n",
    "\n",
    "featuresdf_EMODB_90_train_15=extract_features_train_EMODB()\n",
    "\n",
    "fin = default_timer()\n",
    "print((fin - inicio)/60)"
   ]
  },
  {
   "cell_type": "code",
   "execution_count": 72,
   "metadata": {},
   "outputs": [
    {
     "name": "stdout",
     "output_type": "stream",
     "text": [
      "Finished feature extraction from  161  files\n"
     ]
    },
    {
     "name": "stderr",
     "output_type": "stream",
     "text": [
      "C:\\ProgramData\\Anaconda3\\lib\\site-packages\\ipykernel_launcher.py:6: WavFileWarning: Chunk (non-data) not understood, skipping it.\n",
      "  \n"
     ]
    },
    {
     "name": "stdout",
     "output_type": "stream",
     "text": [
      "Finished feature extraction from  374  files\n",
      "2.479416023333336\n"
     ]
    }
   ],
   "source": [
    "inicio = default_timer()\n",
    "\n",
    "featuresdf_EMODB_100_test_15=extract_features_test_EMODB()\n",
    "\n",
    "featuresdf_EMODB_100_train_15=extract_features_train_EMODB()\n",
    "\n",
    "fin = default_timer()\n",
    "print((fin - inicio)/60)"
   ]
  },
  {
   "cell_type": "code",
   "execution_count": 73,
   "metadata": {},
   "outputs": [
    {
     "name": "stdout",
     "output_type": "stream",
     "text": [
      "Stored 'featuresdf_EMODB_10_test_15' (DataFrame)\n",
      "Stored 'featuresdf_EMODB_10_train_15' (DataFrame)\n",
      "Stored 'featuresdf_EMODB_20_test_15' (DataFrame)\n",
      "Stored 'featuresdf_EMODB_20_train_15' (DataFrame)\n",
      "Stored 'featuresdf_EMODB_30_test_15' (DataFrame)\n",
      "Stored 'featuresdf_EMODB_30_train_15' (DataFrame)\n",
      "Stored 'featuresdf_EMODB_40_test_15' (DataFrame)\n",
      "Stored 'featuresdf_EMODB_40_train_15' (DataFrame)\n",
      "Stored 'featuresdf_EMODB_50_test_15' (DataFrame)\n",
      "Stored 'featuresdf_EMODB_50_train_15' (DataFrame)\n",
      "Stored 'featuresdf_EMODB_60_test_15' (DataFrame)\n",
      "Stored 'featuresdf_EMODB_60_train_15' (DataFrame)\n",
      "Stored 'featuresdf_EMODB_70_test_15' (DataFrame)\n",
      "Stored 'featuresdf_EMODB_70_train_15' (DataFrame)\n",
      "Stored 'featuresdf_EMODB_80_test_15' (DataFrame)\n",
      "Stored 'featuresdf_EMODB_80_train_15' (DataFrame)\n",
      "Stored 'featuresdf_EMODB_90_test_15' (DataFrame)\n",
      "Stored 'featuresdf_EMODB_90_train_15' (DataFrame)\n",
      "Stored 'featuresdf_EMODB_100_test_15' (DataFrame)\n",
      "Stored 'featuresdf_EMODB_100_train_15' (DataFrame)\n"
     ]
    }
   ],
   "source": [
    "%store featuresdf_EMODB_10_test_15\n",
    "%store featuresdf_EMODB_10_train_15\n",
    "%store featuresdf_EMODB_20_test_15\n",
    "%store featuresdf_EMODB_20_train_15\n",
    "%store featuresdf_EMODB_30_test_15\n",
    "%store featuresdf_EMODB_30_train_15\n",
    "%store featuresdf_EMODB_40_test_15\n",
    "%store featuresdf_EMODB_40_train_15\n",
    "%store featuresdf_EMODB_50_test_15\n",
    "%store featuresdf_EMODB_50_train_15\n",
    "%store featuresdf_EMODB_60_test_15\n",
    "%store featuresdf_EMODB_60_train_15\n",
    "%store featuresdf_EMODB_70_test_15\n",
    "%store featuresdf_EMODB_70_train_15\n",
    "%store featuresdf_EMODB_80_test_15\n",
    "%store featuresdf_EMODB_80_train_15\n",
    "%store featuresdf_EMODB_90_test_15\n",
    "%store featuresdf_EMODB_90_train_15\n",
    "%store featuresdf_EMODB_100_test_15\n",
    "%store featuresdf_EMODB_100_train_15"
   ]
  },
  {
   "cell_type": "code",
   "execution_count": 76,
   "metadata": {},
   "outputs": [
    {
     "name": "stdout",
     "output_type": "stream",
     "text": [
      "Finished feature extraction from  161  files\n"
     ]
    },
    {
     "name": "stderr",
     "output_type": "stream",
     "text": [
      "C:\\ProgramData\\Anaconda3\\lib\\site-packages\\ipykernel_launcher.py:6: WavFileWarning: Chunk (non-data) not understood, skipping it.\n",
      "  \n"
     ]
    },
    {
     "name": "stdout",
     "output_type": "stream",
     "text": [
      "Finished feature extraction from  374  files\n",
      "10.551366508333377\n"
     ]
    }
   ],
   "source": [
    "inicio = default_timer()\n",
    "\n",
    "featuresdf_EMODB_10_test_16=extract_features_test_EMODB()\n",
    "\n",
    "featuresdf_EMODB_10_train_16=extract_features_train_EMODB()\n",
    "\n",
    "fin = default_timer()\n",
    "print((fin - inicio)/60)"
   ]
  },
  {
   "cell_type": "code",
   "execution_count": 78,
   "metadata": {},
   "outputs": [
    {
     "name": "stdout",
     "output_type": "stream",
     "text": [
      "Finished feature extraction from  161  files\n"
     ]
    },
    {
     "name": "stderr",
     "output_type": "stream",
     "text": [
      "C:\\ProgramData\\Anaconda3\\lib\\site-packages\\ipykernel_launcher.py:6: WavFileWarning: Chunk (non-data) not understood, skipping it.\n",
      "  \n"
     ]
    },
    {
     "name": "stdout",
     "output_type": "stream",
     "text": [
      "Finished feature extraction from  374  files\n",
      "6.048578831666661\n"
     ]
    }
   ],
   "source": [
    "inicio = default_timer()\n",
    "\n",
    "featuresdf_EMODB_20_test_16=extract_features_test_EMODB()\n",
    "\n",
    "featuresdf_EMODB_20_train_16=extract_features_train_EMODB()\n",
    "\n",
    "fin = default_timer()\n",
    "print((fin - inicio)/60)"
   ]
  },
  {
   "cell_type": "code",
   "execution_count": 80,
   "metadata": {},
   "outputs": [
    {
     "name": "stdout",
     "output_type": "stream",
     "text": [
      "Finished feature extraction from  161  files\n"
     ]
    },
    {
     "name": "stderr",
     "output_type": "stream",
     "text": [
      "C:\\ProgramData\\Anaconda3\\lib\\site-packages\\ipykernel_launcher.py:6: WavFileWarning: Chunk (non-data) not understood, skipping it.\n",
      "  \n"
     ]
    },
    {
     "name": "stdout",
     "output_type": "stream",
     "text": [
      "Finished feature extraction from  374  files\n",
      "4.51085130833338\n"
     ]
    }
   ],
   "source": [
    "inicio = default_timer()\n",
    "\n",
    "featuresdf_EMODB_30_test_16=extract_features_test_EMODB()\n",
    "\n",
    "featuresdf_EMODB_30_train_16=extract_features_train_EMODB()\n",
    "\n",
    "fin = default_timer()\n",
    "print((fin - inicio)/60)"
   ]
  },
  {
   "cell_type": "code",
   "execution_count": 82,
   "metadata": {},
   "outputs": [
    {
     "name": "stdout",
     "output_type": "stream",
     "text": [
      "Finished feature extraction from  161  files\n"
     ]
    },
    {
     "name": "stderr",
     "output_type": "stream",
     "text": [
      "C:\\ProgramData\\Anaconda3\\lib\\site-packages\\ipykernel_launcher.py:6: WavFileWarning: Chunk (non-data) not understood, skipping it.\n",
      "  \n"
     ]
    },
    {
     "name": "stdout",
     "output_type": "stream",
     "text": [
      "Finished feature extraction from  374  files\n",
      "3.7413009599999594\n"
     ]
    }
   ],
   "source": [
    "inicio = default_timer()\n",
    "\n",
    "featuresdf_EMODB_40_test_16=extract_features_test_EMODB()\n",
    "\n",
    "featuresdf_EMODB_40_train_16=extract_features_train_EMODB()\n",
    "\n",
    "fin = default_timer()\n",
    "print((fin - inicio)/60)"
   ]
  },
  {
   "cell_type": "code",
   "execution_count": 84,
   "metadata": {},
   "outputs": [
    {
     "name": "stdout",
     "output_type": "stream",
     "text": [
      "Finished feature extraction from  161  files\n"
     ]
    },
    {
     "name": "stderr",
     "output_type": "stream",
     "text": [
      "C:\\ProgramData\\Anaconda3\\lib\\site-packages\\ipykernel_launcher.py:6: WavFileWarning: Chunk (non-data) not understood, skipping it.\n",
      "  \n"
     ]
    },
    {
     "name": "stdout",
     "output_type": "stream",
     "text": [
      "Finished feature extraction from  374  files\n",
      "3.403781340000023\n"
     ]
    }
   ],
   "source": [
    "inicio = default_timer()\n",
    "\n",
    "featuresdf_EMODB_50_test_16=extract_features_test_EMODB()\n",
    "\n",
    "featuresdf_EMODB_50_train_16=extract_features_train_EMODB()\n",
    "\n",
    "fin = default_timer()\n",
    "print((fin - inicio)/60)"
   ]
  },
  {
   "cell_type": "code",
   "execution_count": 86,
   "metadata": {},
   "outputs": [
    {
     "name": "stdout",
     "output_type": "stream",
     "text": [
      "Finished feature extraction from  161  files\n"
     ]
    },
    {
     "name": "stderr",
     "output_type": "stream",
     "text": [
      "C:\\ProgramData\\Anaconda3\\lib\\site-packages\\ipykernel_launcher.py:6: WavFileWarning: Chunk (non-data) not understood, skipping it.\n",
      "  \n"
     ]
    },
    {
     "name": "stdout",
     "output_type": "stream",
     "text": [
      "Finished feature extraction from  374  files\n",
      "3.163851326666615\n"
     ]
    }
   ],
   "source": [
    "inicio = default_timer()\n",
    "\n",
    "featuresdf_EMODB_60_test_16=extract_features_test_EMODB()\n",
    "\n",
    "featuresdf_EMODB_60_train_16=extract_features_train_EMODB()\n",
    "\n",
    "fin = default_timer()\n",
    "print((fin - inicio)/60)"
   ]
  },
  {
   "cell_type": "code",
   "execution_count": 88,
   "metadata": {},
   "outputs": [
    {
     "name": "stdout",
     "output_type": "stream",
     "text": [
      "Finished feature extraction from  161  files\n"
     ]
    },
    {
     "name": "stderr",
     "output_type": "stream",
     "text": [
      "C:\\ProgramData\\Anaconda3\\lib\\site-packages\\ipykernel_launcher.py:6: WavFileWarning: Chunk (non-data) not understood, skipping it.\n",
      "  \n"
     ]
    },
    {
     "name": "stdout",
     "output_type": "stream",
     "text": [
      "Finished feature extraction from  374  files\n",
      "3.15464139166664\n"
     ]
    }
   ],
   "source": [
    "inicio = default_timer()\n",
    "\n",
    "featuresdf_EMODB_70_test_16=extract_features_test_EMODB()\n",
    "\n",
    "featuresdf_EMODB_70_train_16=extract_features_train_EMODB()\n",
    "\n",
    "fin = default_timer()\n",
    "print((fin - inicio)/60)"
   ]
  },
  {
   "cell_type": "code",
   "execution_count": 90,
   "metadata": {},
   "outputs": [
    {
     "name": "stdout",
     "output_type": "stream",
     "text": [
      "Finished feature extraction from  161  files\n"
     ]
    },
    {
     "name": "stderr",
     "output_type": "stream",
     "text": [
      "C:\\ProgramData\\Anaconda3\\lib\\site-packages\\ipykernel_launcher.py:6: WavFileWarning: Chunk (non-data) not understood, skipping it.\n",
      "  \n"
     ]
    },
    {
     "name": "stdout",
     "output_type": "stream",
     "text": [
      "Finished feature extraction from  374  files\n",
      "3.1201802183333105\n"
     ]
    }
   ],
   "source": [
    "inicio = default_timer()\n",
    "\n",
    "featuresdf_EMODB_80_test_16=extract_features_test_EMODB()\n",
    "\n",
    "featuresdf_EMODB_80_train_16=extract_features_train_EMODB()\n",
    "\n",
    "fin = default_timer()\n",
    "print((fin - inicio)/60)"
   ]
  },
  {
   "cell_type": "code",
   "execution_count": 92,
   "metadata": {},
   "outputs": [
    {
     "name": "stdout",
     "output_type": "stream",
     "text": [
      "Finished feature extraction from  161  files\n"
     ]
    },
    {
     "name": "stderr",
     "output_type": "stream",
     "text": [
      "C:\\ProgramData\\Anaconda3\\lib\\site-packages\\ipykernel_launcher.py:6: WavFileWarning: Chunk (non-data) not understood, skipping it.\n",
      "  \n"
     ]
    },
    {
     "name": "stdout",
     "output_type": "stream",
     "text": [
      "Finished feature extraction from  374  files\n",
      "2.9573795916666614\n"
     ]
    }
   ],
   "source": [
    "inicio = default_timer()\n",
    "\n",
    "featuresdf_EMODB_90_test_16=extract_features_test_EMODB()\n",
    "\n",
    "featuresdf_EMODB_90_train_16=extract_features_train_EMODB()\n",
    "\n",
    "fin = default_timer()\n",
    "print((fin - inicio)/60)"
   ]
  },
  {
   "cell_type": "code",
   "execution_count": 94,
   "metadata": {},
   "outputs": [
    {
     "name": "stdout",
     "output_type": "stream",
     "text": [
      "Finished feature extraction from  161  files\n"
     ]
    },
    {
     "name": "stderr",
     "output_type": "stream",
     "text": [
      "C:\\ProgramData\\Anaconda3\\lib\\site-packages\\ipykernel_launcher.py:6: WavFileWarning: Chunk (non-data) not understood, skipping it.\n",
      "  \n"
     ]
    },
    {
     "name": "stdout",
     "output_type": "stream",
     "text": [
      "Finished feature extraction from  374  files\n",
      "2.959531233333352\n"
     ]
    }
   ],
   "source": [
    "inicio = default_timer()\n",
    "\n",
    "featuresdf_EMODB_100_test_16=extract_features_test_EMODB()\n",
    "\n",
    "featuresdf_EMODB_100_train_16=extract_features_train_EMODB()\n",
    "\n",
    "fin = default_timer()\n",
    "print((fin - inicio)/60)"
   ]
  },
  {
   "cell_type": "code",
   "execution_count": 95,
   "metadata": {},
   "outputs": [
    {
     "name": "stdout",
     "output_type": "stream",
     "text": [
      "Stored 'featuresdf_EMODB_10_test_16' (DataFrame)\n",
      "Stored 'featuresdf_EMODB_10_train_16' (DataFrame)\n",
      "Stored 'featuresdf_EMODB_20_test_16' (DataFrame)\n",
      "Stored 'featuresdf_EMODB_20_train_16' (DataFrame)\n",
      "Stored 'featuresdf_EMODB_30_test_16' (DataFrame)\n",
      "Stored 'featuresdf_EMODB_30_train_16' (DataFrame)\n",
      "Stored 'featuresdf_EMODB_40_test_16' (DataFrame)\n",
      "Stored 'featuresdf_EMODB_40_train_16' (DataFrame)\n",
      "Stored 'featuresdf_EMODB_50_test_16' (DataFrame)\n",
      "Stored 'featuresdf_EMODB_50_train_16' (DataFrame)\n",
      "Stored 'featuresdf_EMODB_60_test_16' (DataFrame)\n",
      "Stored 'featuresdf_EMODB_60_train_16' (DataFrame)\n",
      "Stored 'featuresdf_EMODB_70_test_16' (DataFrame)\n",
      "Stored 'featuresdf_EMODB_70_train_16' (DataFrame)\n",
      "Stored 'featuresdf_EMODB_80_test_16' (DataFrame)\n",
      "Stored 'featuresdf_EMODB_80_train_16' (DataFrame)\n",
      "Stored 'featuresdf_EMODB_90_test_16' (DataFrame)\n",
      "Stored 'featuresdf_EMODB_90_train_16' (DataFrame)\n",
      "Stored 'featuresdf_EMODB_100_test_16' (DataFrame)\n",
      "Stored 'featuresdf_EMODB_100_train_16' (DataFrame)\n"
     ]
    }
   ],
   "source": [
    "%store featuresdf_EMODB_10_test_16\n",
    "%store featuresdf_EMODB_10_train_16\n",
    "%store featuresdf_EMODB_20_test_16\n",
    "%store featuresdf_EMODB_20_train_16\n",
    "%store featuresdf_EMODB_30_test_16\n",
    "%store featuresdf_EMODB_30_train_16\n",
    "%store featuresdf_EMODB_40_test_16\n",
    "%store featuresdf_EMODB_40_train_16\n",
    "%store featuresdf_EMODB_50_test_16\n",
    "%store featuresdf_EMODB_50_train_16\n",
    "%store featuresdf_EMODB_60_test_16\n",
    "%store featuresdf_EMODB_60_train_16\n",
    "%store featuresdf_EMODB_70_test_16\n",
    "%store featuresdf_EMODB_70_train_16\n",
    "%store featuresdf_EMODB_80_test_16\n",
    "%store featuresdf_EMODB_80_train_16\n",
    "%store featuresdf_EMODB_90_test_16\n",
    "%store featuresdf_EMODB_90_train_16\n",
    "%store featuresdf_EMODB_100_test_16\n",
    "%store featuresdf_EMODB_100_train_16"
   ]
  },
  {
   "cell_type": "code",
   "execution_count": 25,
   "metadata": {},
   "outputs": [],
   "source": [
    "class mel_freq_ceps_coef:\n",
    "    def __init__(self,file_name):\n",
    "        try:    \n",
    "            #Lee archivo de audio\n",
    "            #self.signal, self.fs = librosa.load(file_name)\n",
    "            self.fs, self.signal = rd.read(file_name)\n",
    "            #self.signal = volumen * self.signal\n",
    "            #Frecuencia máxima\n",
    "            self.f_max = self.fs/2.0\n",
    "            #Constante de preénfasis\n",
    "            self.preemphasis = 0.0\n",
    "            #Tamaño de frame en segundos\n",
    "            self.frame=0.1\n",
    "            #Porcentaje de traslape\n",
    "            self.overlap = 50        \n",
    "            #Tipo de ventana\n",
    "            self.window = 2\n",
    "            #Frecuencia mínima\n",
    "            self.f_min = 0\n",
    "            #número de filtros en el banco\n",
    "            self.n_filters = 22#escala de bark 22.05KHz\n",
    "            #Número de coeficientes mfcc\n",
    "            self.n_mfcc = 24\n",
    "            #Normalización\n",
    "            self.norm = 1\n",
    "            #RASTA análisis\n",
    "            self.rasta = 0\n",
    "            self.audio = self.signal/32767\n",
    "            self.audio_length = len(self.signal)\n",
    "            self.frame_size = np.fix(self.frame*self.fs)\n",
    "            self.overlap_size = np.fix(self.frame_size - self.frame_size*(self.overlap/100.0))\n",
    "            self.n_frames = self.__Frames()\n",
    "            self.audio_avg = self.__Stereo()\n",
    "            self.half_n = np.fix(self.frame_size/2.0)\n",
    "            self.window_data = self.__Window()\n",
    "            self.freqs = self.__Freqs()\n",
    "            self.mel_freqs = self.__Mel_Freqs()\n",
    "            self.mel_filter_bank = self.__Mel_Filter()\n",
    "            self.coef, self.nl = self.__MFCC_Coef()\n",
    "            self.coef = self.coef[:,0:self.nl]\n",
    "            self.mfccsscalade = np.mean(self.coef.T, axis=0)\n",
    "        except Exception as e:\n",
    "            print(\"Error encoutered while parsing file: \", file_name)\n",
    "            return None\n",
    "        #np.savetxt(\"A51.txt\", np.column_stack(self.coef[:,0:self.nl]),  delimiter=\",\", fmt=\"%f\")\n",
    "#np.savetxt('myfile.txt', np.c_[x,y,z])     \n",
    "    #Convierte señales estereofónicas a monoaurales\n",
    "    def __Stereo(self):\n",
    "        n_channel = len(np.shape(self.audio))\n",
    "        if n_channel > 1:\n",
    "            temp_1 = self.audio[:,0]\n",
    "            temp_2 = self.audio[:,1]\n",
    "            avg = (temp_1 + temp_2)/2\n",
    "        else:\n",
    "            avg = self.audio\n",
    "       \n",
    "        #Aplica filtro de preénfasis\n",
    "        if self.preemphasis != 0.0:\n",
    "            Avg = np.zeros(len(avg))    \n",
    "            Avg[0] = avg[0]\n",
    "            for n in range(1,len(avg)):\n",
    "                if np.sum(avg)\n",
    "                Avg[n] = avg[n] - self.preemphasis*avg[n-1]\n",
    "            return Avg\n",
    "        else:\n",
    "            return avg\n",
    "            \n",
    "    #Determina número de frames para analizar\n",
    "    def __Frames(self):\n",
    "        i = 0\n",
    "        j = 0\n",
    "        while(j < self.audio_length):\n",
    "            j = i*self.overlap_size + self.frame_size\n",
    "            i = i + 1\n",
    "        return i - 1\n",
    "    \n",
    "    #Aplica ventana (Hann, Hamming, Box) a frame de la señal\n",
    "    def __Window(self):\n",
    "        n = np.arange(-self.half_n,self.half_n)\n",
    "        if len(n) != self.frame_size:\n",
    "            n = np.arange(-self.half_n,self.half_n+1)\n",
    "        \n",
    "        #Ventana Box\n",
    "        if self.window == 0:\n",
    "            W = np.ones(len(n))\n",
    "        \n",
    "        #Ventana Hamming\n",
    "        if self.window == 1:\n",
    "            a = 0.53836\n",
    "            b = 0.46164\n",
    "            W = np.array([])\n",
    "            for i in n:\n",
    "                W =np.append(W, a + b*math.cos((2*math.pi*i)/(self.frame_size - 1.0))) \n",
    "        \n",
    "        #Ventana Hann\n",
    "        if self.window == 2:\n",
    "            a = 0.5\n",
    "            b = 0.5\n",
    "            W = np.array([])\n",
    "            for i in n:\n",
    "                W = np.append(W, a + b*math.cos((2*math.pi*i)/(self.frame_size - 1.0)))        \n",
    "        return W\n",
    "    \n",
    "    #Calcula frecuencias en Hertz\n",
    "    def __Freqs(self):\n",
    "        n = np.arange(0,self.half_n)\n",
    "        f = np.array([])\n",
    "        for i in n:\n",
    "            f = np.append(f,(i*self.fs)/self.frame_size)\n",
    "        return f\n",
    "    \n",
    "    #Calcula frecuencias en escala de Mel\n",
    "    def __Mel_Freqs(self):\n",
    "        n = np.arange(0,self.half_n)\n",
    "        f = np.array([])\n",
    "        for i in n:\n",
    "            f = np.append(f,2595*np.log10(self.freqs[int(i)]/700+1))\n",
    "        return f\n",
    "    \n",
    "    #Genera banco de filtros triangulares \n",
    "    def __Mel_Filter(self):\n",
    "        try:\n",
    "            phi_min = 2595*math.log10(self.f_min/700+1)\n",
    "            phi_max = 2595*math.log10(self.f_max/700+1)\n",
    "            dphi = (phi_max - phi_min)/(self.n_filters+1)\n",
    "            fc = np.zeros(self.n_filters+2)\n",
    "            fc[0] = self.f_min\n",
    "            for i in range(1,len(fc)):\n",
    "                phic = (i-1)*dphi\n",
    "                fc[i-1] = 700*(math.pow(10,(phic + phi_min)/2595)-1)\n",
    "            fc[self.n_filters+1] = self.f_max\n",
    "            Hkm = np.zeros((int(self.half_n),self.n_filters))\n",
    "            n = np.arange(0,self.half_n)\n",
    "            for i in range(1,self.n_filters+1):\n",
    "                for k in n:\n",
    "                    kk = int(k)\n",
    "                    if self.freqs[kk] < fc[i-1]:\n",
    "                        Hkm[kk,i-1] = 0\n",
    "                    if (self.freqs[kk] >= fc[i-1]) and (self.freqs[kk] < fc[i]):\n",
    "                        Hkm[kk,i-1] = (self.freqs[kk] - fc[i-1])/(fc[i] - fc[i-1])\n",
    "                    if (self.freqs[kk] >= fc[i]) and (self.freqs[kk] < fc[i+1]):\n",
    "                        Hkm[kk,i-1] = (self.freqs[kk] - fc[i+1])/(fc[i] - fc[i+1])\n",
    "                    if self.freqs[kk] >= fc[i+1]:\n",
    "                        Hkm[kk,i-1] = 0\n",
    "            return Hkm\n",
    "        except Exception as e:\n",
    "            print(\"Error encoutered while parsing file: \", file_name)\n",
    "            return None    \n",
    "    #Determina coeficientes cepstrales de frecuencia de mel    \n",
    "    def __MFCC_Coef(self):\n",
    "        try:\n",
    "            frame = np.zeros(int(self.frame_size))\n",
    "            self.energy = np.zeros((int(self.half_n),self.n_frames))\n",
    "            self.cepstrum = np.zeros((self.n_filters,self.n_frames))\n",
    "            Xm = np.zeros(self.n_filters)\n",
    "            mfcc = np.zeros(self.n_mfcc) \n",
    "            wi = np.zeros(2*self.n_mfcc)\n",
    "            MFCC = np.zeros((self.n_mfcc,self.n_frames))\n",
    "\n",
    "            #Pesos para el proceso de liftering\n",
    "            for i in range(0,2*self.n_mfcc):\n",
    "                wi[i] = 1 + self.n_mfcc*np.sin(math.pi*i/(2*self.n_mfcc-1))\n",
    "\n",
    "            #Coeficientes del filtro RASTA\n",
    "            numer = np.arange(-2,3)\n",
    "            numer = -numer/np.sum(numer*numer)\n",
    "            denom = np.array([1,-0.98])\n",
    "\n",
    "            l = 0\n",
    "            #Análisis de frames\n",
    "            for i in range(0,int(self.n_frames)):\n",
    "                #Extrae frame de la señal\n",
    "                frame = self.audio_avg[i*int(self.overlap_size):i*int(self.overlap_size)+int(self.frame_size)]\n",
    "\n",
    "                #función de autocorrelación\n",
    "                acorr = np.correlate(frame,frame,mode='full')\n",
    "                m = np.amax(acorr[20:len(acorr)])\n",
    "\n",
    "                #if m > 0.1:\n",
    "                if np.sum(frame)!=0:\n",
    "                    #Multiplica frame por ventana\n",
    "                    frame = frame*self.window_data\n",
    "                    #Extrae espectro de potencia \n",
    "                    P = np.abs(fourier.fft(frame))\n",
    "                    #Determina espectrograma de la señal\n",
    "                    self.energy[:,l] = 10*np.log10(P[0:int(self.half_n)]) \n",
    "\n",
    "                    for j in range(0,self.n_filters):\n",
    "                        #Multiplica espectro de potencia por filtros triangulares\n",
    "                        Ps = P[0:int(self.half_n)]*self.mel_filter_bank[:,j]\n",
    "                        #Aplica el proceso RASTA a cada banda de frecuencia\n",
    "                        if self.rasta == 1:\n",
    "                            Ps = np.log(1+Ps)\n",
    "                            Ps = sg.lfilter(numer,denom, Ps)\n",
    "                            Ps = np.exp(Ps)-1\n",
    "                        Xm[j] = np.log(np.sum(Ps))\n",
    "                    #Determina cepstrum de la señal\n",
    "                    self.cepstrum[:,l] = Xm\n",
    "\n",
    "                    #Aplica transformada coseno\n",
    "                    for j in range(1,self.n_mfcc+1):\n",
    "                        suma = 0\n",
    "                        for k in range(1,self.n_filters+1):\n",
    "                            suma = suma + Xm[k-1]*np.cos(math.pi*j*(k-(1/2))/self.n_filters)\n",
    "                        mfcc[j-1] = suma \n",
    "                    #Aplica proceso de liftering\n",
    "                    mfcc = mfcc*wi[0:self.n_mfcc]\n",
    "                    #Genera matriz de coeficientes mfcc\n",
    "                    MFCC[:,l] = mfcc\n",
    "                    l = l + 1\n",
    "\n",
    "\n",
    "            #Normaliza matriz de coeficientes mfcc\n",
    "            if self.norm == 1:\n",
    "                '''\n",
    "                for i in range(0,self.n_mfcc):\n",
    "                    MFCC[i,:] = (MFCC[i,:]-np.mean(MFCC[i,:]))/np.std(MFCC[i,:]) \n",
    "                '''\n",
    "                MFCC = (MFCC-np.mean(MFCC))/np.std(MFCC) \n",
    "                \n",
    "            return MFCC, l\n",
    "        except Exception as e:\n",
    "            print(\"Error encoutered while parsing file: \", file_name)\n",
    "            return None "
   ]
  },
  {
   "cell_type": "code",
   "execution_count": 5,
   "metadata": {},
   "outputs": [],
   "source": [
    "def extract_features_train_EMODB():\n",
    "    \n",
    "    try:\n",
    "        # Set the path to the full EMODB dataset\n",
    "\n",
    "        fulldatasetpath = r'C:\\Users\\SACKRAY7\\Desktop\\Uni\\8vo\\TESIS\\retomando la tesis 23-06-2020\\Udacity-ML-Capstone-master\\Udacity-ML-Capstone-master\\EMODB - testSize 0.3\\audio'\n",
    "\n",
    "        metadata = pd.read_csv(r'C:\\Users\\SACKRAY7\\Desktop\\Uni\\8vo\\TESIS\\retomando la tesis 23-06-2020\\Udacity-ML-Capstone-master\\Udacity-ML-Capstone-master\\UrbanSound Dataset sample\\metadata\\EMODB4 - testSize 0.3.csv')\n",
    "\n",
    "        features = []\n",
    "\n",
    "        # Iterate through each sound file and extract the features \n",
    "        for index, row in metadata.iterrows():\n",
    "\n",
    "            file_name = os.path.join(os.path.abspath(fulldatasetpath),str(row[\"fold\"])+'/',str(row[\"slice_file_name\"]))\n",
    "\n",
    "            class_label = row[\"class_name\"]\n",
    "            if row[\"if\"] == \"train\" :\n",
    "                data = mel_freq_ceps_coef(file_name)\n",
    "                features.append([data.mfccsscalade, class_label])\n",
    "\n",
    "        # Convert into a Panda dataframe \n",
    "        featuresdf = pd.DataFrame(features, columns=['feature','class_label'])\n",
    "\n",
    "        print('Finished feature extraction from ', len(featuresdf), ' files') \n",
    "    except Exception as e:\n",
    "        print(\"Error encoutered while parsing file: \", file_name)\n",
    "        return None\n",
    "\n",
    "    return featuresdf"
   ]
  },
  {
   "cell_type": "code",
   "execution_count": 6,
   "metadata": {},
   "outputs": [],
   "source": [
    "def extract_features_test_EMODB():\n",
    "    \n",
    "    try:\n",
    "        # Set the path to the full EMODB dataset\n",
    "\n",
    "        fulldatasetpath = r'C:\\Users\\SACKRAY7\\Desktop\\Uni\\8vo\\TESIS\\retomando la tesis 23-06-2020\\Udacity-ML-Capstone-master\\Udacity-ML-Capstone-master\\EMODB - testSize 0.3\\audio'\n",
    "\n",
    "        metadata = pd.read_csv(r'C:\\Users\\SACKRAY7\\Desktop\\Uni\\8vo\\TESIS\\retomando la tesis 23-06-2020\\Udacity-ML-Capstone-master\\Udacity-ML-Capstone-master\\UrbanSound Dataset sample\\metadata\\EMODB4 - testSize 0.3.csv')\n",
    "\n",
    "        features = []\n",
    "\n",
    "        # Iterate through each sound file and extract the features \n",
    "        for index, row in metadata.iterrows():\n",
    "\n",
    "            file_name = os.path.join(os.path.abspath(fulldatasetpath),str(row[\"fold\"])+'/',str(row[\"slice_file_name\"]))\n",
    "\n",
    "            class_label = row[\"class_name\"]\n",
    "            if row[\"if\"] == \"test\" :\n",
    "                data = mel_freq_ceps_coef(file_name)\n",
    "                features.append([data.mfccsscalade, class_label])\n",
    "\n",
    "        # Convert into a Panda dataframe \n",
    "        featuresdf = pd.DataFrame(features, columns=['feature','class_label'])\n",
    "\n",
    "        print('Finished feature extraction from ', len(featuresdf), ' files') \n",
    "    except Exception as e:\n",
    "        print(\"Error encoutered while parsing file: \", file_name)\n",
    "        return None\n",
    "\n",
    "    return featuresdf"
   ]
  },
  {
   "cell_type": "code",
   "execution_count": 7,
   "metadata": {},
   "outputs": [
    {
     "name": "stderr",
     "output_type": "stream",
     "text": [
      "C:\\ProgramData\\Anaconda3\\lib\\site-packages\\librosa\\util\\decorators.py:9: NumbaDeprecationWarning: \u001b[1mAn import was requested from a module that has moved location.\n",
      "Import requested from: 'numba.decorators', please update to use 'numba.core.decorators' or pin to Numba version 0.48.0. This alias will not be present in Numba version 0.50.0.\u001b[0m\n",
      "  from numba.decorators import jit as optional_jit\n",
      "C:\\ProgramData\\Anaconda3\\lib\\site-packages\\librosa\\util\\decorators.py:9: NumbaDeprecationWarning: \u001b[1mAn import was requested from a module that has moved location.\n",
      "Import of 'jit' requested from: 'numba.decorators', please update to use 'numba.core.decorators' or pin to Numba version 0.48.0. This alias will not be present in Numba version 0.50.0.\u001b[0m\n",
      "  from numba.decorators import jit as optional_jit\n"
     ]
    }
   ],
   "source": [
    "import matplotlib.pyplot as plt\n",
    "import scipy.io.wavfile as rd\n",
    "import scipy.fftpack as fourier\n",
    "import scipy.signal as sg\n",
    "import numpy as np\n",
    "import math \n",
    "\n",
    "import pandas as pd\n",
    "import os\n",
    "import librosa\n",
    "from timeit import default_timer"
   ]
  }
 ],
 "metadata": {
  "kernelspec": {
   "display_name": "Python 3",
   "language": "python",
   "name": "python3"
  },
  "language_info": {
   "codemirror_mode": {
    "name": "ipython",
    "version": 3
   },
   "file_extension": ".py",
   "mimetype": "text/x-python",
   "name": "python",
   "nbconvert_exporter": "python",
   "pygments_lexer": "ipython3",
   "version": "3.7.4"
  }
 },
 "nbformat": 4,
 "nbformat_minor": 4
}
